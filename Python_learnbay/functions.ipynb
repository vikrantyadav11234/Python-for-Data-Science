{
 "cells": [
  {
   "cell_type": "markdown",
   "id": "9c71050e",
   "metadata": {},
   "source": [
    "# continue\n",
    "* the continue keyword is use to end the current itereation and execute the next one\n",
    "\n",
    "# Break\n",
    "* break keyword is use to break out of the map"
   ]
  },
  {
   "cell_type": "code",
   "execution_count": 2,
   "id": "cb930a98",
   "metadata": {},
   "outputs": [
    {
     "name": "stdout",
     "output_type": "stream",
     "text": [
      "1\n",
      "2\n",
      "3\n",
      "4\n",
      "6\n",
      "87\n"
     ]
    }
   ],
   "source": [
    "lst=[1,2,3,4,5,6,87]\n",
    "for i in lst:\n",
    "    if i==5:\n",
    "        continue\n",
    "    print(i)"
   ]
  },
  {
   "cell_type": "code",
   "execution_count": 3,
   "id": "79a01c36",
   "metadata": {},
   "outputs": [
    {
     "name": "stdout",
     "output_type": "stream",
     "text": [
      "vikrant\n",
      "sheetal\n",
      "surya\n",
      "opyadav\n",
      "age\n"
     ]
    }
   ],
   "source": [
    "lst_1=[\"vikrant\",\"sheetal\",\"shivam\",\"surya\",\"opyadav\",\"age\"]\n",
    "for i in lst_1:\n",
    "    if i==\"shivam\":\n",
    "        continue\n",
    "    print(i)"
   ]
  },
  {
   "cell_type": "code",
   "execution_count": 6,
   "id": "d06a0d1c",
   "metadata": {},
   "outputs": [
    {
     "name": "stdout",
     "output_type": "stream",
     "text": [
      "1\n",
      "2\n",
      "3\n",
      "4\n",
      "Done\n"
     ]
    }
   ],
   "source": [
    "# Break\n",
    "lst=[1,2,3,4,5,6,87]\n",
    "for i in lst:\n",
    "    if i==5:\n",
    "        break\n",
    "    print(i)\n",
    "print(\"Done\")\n"
   ]
  },
  {
   "cell_type": "code",
   "execution_count": 5,
   "id": "dc32d8d8",
   "metadata": {},
   "outputs": [
    {
     "name": "stdout",
     "output_type": "stream",
     "text": [
      "vikrant\n",
      "sheetal\n"
     ]
    }
   ],
   "source": [
    "lst_1=[\"vikrant\",\"sheetal\",\"shivam\",\"surya\",\"opyadav\",\"age\"]\n",
    "for i in lst_1:\n",
    "    if i==\"shivam\":\n",
    "        break\n",
    "    print(i)\n"
   ]
  },
  {
   "cell_type": "code",
   "execution_count": 7,
   "id": "e28e3256",
   "metadata": {},
   "outputs": [
    {
     "name": "stdout",
     "output_type": "stream",
     "text": [
      "1\n",
      "2\n",
      "3\n",
      "4\n",
      "5\n",
      "6\n",
      "87\n",
      "Done\n"
     ]
    }
   ],
   "source": [
    "#pass\n",
    "# \n",
    "lst=[1,2,3,4,5,6,87]\n",
    "for i in lst:\n",
    "    if i==5:\n",
    "        pass\n",
    "    print(i)\n",
    "print(\"Done\")"
   ]
  },
  {
   "cell_type": "code",
   "execution_count": 11,
   "id": "5238199c",
   "metadata": {},
   "outputs": [
    {
     "name": "stdout",
     "output_type": "stream",
     "text": [
      "fun1\n",
      "the files are a\n",
      "fun2\n",
      "the files are b\n",
      "the files are c\n",
      "fun4\n",
      "the files are d\n",
      "the files are e\n",
      "the files are f\n"
     ]
    }
   ],
   "source": [
    "lst_1=[\"a\",\"b\",\"c\",\"d\",\"e\",\"f\"]\n",
    "for i in lst_1:\n",
    "    if i==\"a\":\n",
    "        print(\"fun1\")\n",
    "    if i==\"b\":\n",
    "        print(\"fun2\")\n",
    "    if i==\"c\":\n",
    "        pass\n",
    "    if i==\"d\":\n",
    "        print(\"fun4\")\n",
    "    print(f\"the files are {i}\")"
   ]
  },
  {
   "cell_type": "code",
   "execution_count": 12,
   "id": "c5925088",
   "metadata": {},
   "outputs": [
    {
     "name": "stdout",
     "output_type": "stream",
     "text": [
      "fun1\n",
      "the files are a\n",
      "fun2\n",
      "the files are b\n",
      "fun4\n",
      "the files are d\n",
      "the files are e\n",
      "the files are f\n"
     ]
    }
   ],
   "source": [
    "lst_1=[\"a\",\"b\",\"c\",\"d\",\"e\",\"f\"]\n",
    "for i in lst_1:\n",
    "    if i==\"a\":\n",
    "        print(\"fun1\")\n",
    "    if i==\"b\":\n",
    "        print(\"fun2\")\n",
    "    if i==\"c\":\n",
    "        continue\n",
    "    if i==\"d\":\n",
    "        print(\"fun4\")\n",
    "    print(f\"the files are {i}\")"
   ]
  },
  {
   "cell_type": "code",
   "execution_count": 1,
   "id": "71f814f0",
   "metadata": {},
   "outputs": [
    {
     "name": "stdout",
     "output_type": "stream",
     "text": [
      "fun1\n",
      "fun2\n",
      "hello life\n",
      "the files are f\n"
     ]
    }
   ],
   "source": [
    "lst_1=[\"a\",\"b\",\"c\",\"d\",\"e\",\"f\"]\n",
    "for i in lst_1:\n",
    "    if i==\"a\":\n",
    "        print(\"fun1\")\n",
    "    if i==\"b\":\n",
    "        print(\"fun2\")\n",
    "    if i==\"c\":\n",
    "        print('hello life')\n",
    "#         pass\n",
    "        continue\n",
    "        print(\"hello world\")\n",
    "        \n",
    "    if i==\"d\":\n",
    "#         pass\n",
    "        continue\n",
    "        print(\"fun4\")\n",
    "        \n",
    "        \n",
    "print(f\"the files are {i}\")"
   ]
  },
  {
   "cell_type": "code",
   "execution_count": 24,
   "id": "82291ce6",
   "metadata": {},
   "outputs": [
    {
     "name": "stdout",
     "output_type": "stream",
     "text": [
      "[1, 3, 5, 7, 9]\n",
      "[2, 4, 6, 8, 10]\n"
     ]
    }
   ],
   "source": [
    "lst=[1,2,3,4,5,6,7,8,9,10]\n",
    "even=[]\n",
    "odd=[]\n",
    "for i in lst:\n",
    "    if i%2==0:\n",
    "#         continue\n",
    "#         break\n",
    "#         pass\n",
    "        even.append(i)\n",
    "    if i%2!=0:\n",
    "        odd.append(i)\n",
    "print(odd)\n",
    "print(even)\n",
    "        "
   ]
  },
  {
   "cell_type": "markdown",
   "id": "aeaa4b8e",
   "metadata": {},
   "source": [
    "# Functions\n"
   ]
  },
  {
   "cell_type": "code",
   "execution_count": 25,
   "id": "7606e706",
   "metadata": {},
   "outputs": [
    {
     "name": "stdout",
     "output_type": "stream",
     "text": [
      "No\n",
      "22\n",
      "No\n"
     ]
    }
   ],
   "source": [
    "# Task 1\n",
    "str_1=\"abc\"\n",
    "if str_1==str_1[::-1]:\n",
    "    print(\"yes\")\n",
    "else:\n",
    "    print(\"No\")\n",
    "\n",
    "# Task 2\n",
    "num1=2\n",
    "num2=20\n",
    "print(num1+num2)\n",
    "\n",
    "# Task 3\n",
    "str_1=\"xyz\"\n",
    "if str_1==str_1[::-1]:\n",
    "    print(\"yes\")\n",
    "else:\n",
    "    print(\"No\")\n"
   ]
  },
  {
   "cell_type": "code",
   "execution_count": 26,
   "id": "7e0b49ca",
   "metadata": {},
   "outputs": [
    {
     "ename": "SyntaxError",
     "evalue": "invalid syntax (1167060258.py, line 2)",
     "output_type": "error",
     "traceback": [
      "\u001b[1;36m  Cell \u001b[1;32mIn[26], line 2\u001b[1;36m\u001b[0m\n\u001b[1;33m    * code should be understandable\u001b[0m\n\u001b[1;37m           ^\u001b[0m\n\u001b[1;31mSyntaxError\u001b[0m\u001b[1;31m:\u001b[0m invalid syntax\n"
     ]
    }
   ],
   "source": [
    "#best practices is \n",
    "* code should be understandable\n",
    "* code should be written in as many fewer lines as possible"
   ]
  },
  {
   "cell_type": "markdown",
   "id": "3ebac89e",
   "metadata": {},
   "source": [
    "* Function follows DRY principle\n",
    "\n",
    "-Function definition - Defining a function \n",
    "-Function call- when we execute that function\n",
    "\n",
    "\n",
    "# Sytntex:\n",
    "    1. function ddefinition\n",
    "      - def function_name(parameter):\n",
    "            statements1\n",
    "            statement2\n",
    "            return\n",
    "  # things are optional are-\n",
    "         1. parameters\n",
    "         2. return-----> if return is not given by default it is none\n",
    "    - function call\n",
    "     function_name(argument)\n",
    "    \n",
    "# note- if parameter is given then u will have to give argument"
   ]
  },
  {
   "cell_type": "code",
   "execution_count": 27,
   "id": "ba41e9b9",
   "metadata": {},
   "outputs": [],
   "source": [
    "#create a function of two numbers\n",
    "#function definition\n",
    "def sum_1():\n",
    "    print(10+20)"
   ]
  },
  {
   "cell_type": "code",
   "execution_count": 29,
   "id": "3b2e7bcb",
   "metadata": {},
   "outputs": [
    {
     "name": "stdout",
     "output_type": "stream",
     "text": [
      "30\n",
      "30\n",
      "30\n",
      "30\n"
     ]
    }
   ],
   "source": [
    "#function call\n",
    "sum_1()\n",
    "sum_1()\n",
    "sum_1()\n",
    "sum_1()\n"
   ]
  },
  {
   "cell_type": "code",
   "execution_count": 30,
   "id": "e99ec68e",
   "metadata": {},
   "outputs": [
    {
     "name": "stdout",
     "output_type": "stream",
     "text": [
      "11\n"
     ]
    }
   ],
   "source": [
    "def sum_1(a,b):\n",
    "    print(a+b)\n",
    "sum_1(5,6)\n"
   ]
  },
  {
   "cell_type": "code",
   "execution_count": 2,
   "id": "925e1c5e",
   "metadata": {},
   "outputs": [
    {
     "name": "stdout",
     "output_type": "stream",
     "text": [
      "No\n",
      "yes\n",
      "yes\n",
      "None\n"
     ]
    }
   ],
   "source": [
    "def palindrom(a):\n",
    "    '''This function use to print if \n",
    "    it is a palinderom or not.'''\n",
    "    if a==a[::-1]:\n",
    "        print(\"yes\")\n",
    "    else:\n",
    "        print(\"No\")\n",
    "str_1=\"xyz\"\n",
    "palindrom(str_1)\n",
    "b=\"aba\"\n",
    "palindrom(b)\n",
    "print(palindrom('amma')) #it will return none"
   ]
  },
  {
   "cell_type": "code",
   "execution_count": 40,
   "id": "f16cb35c",
   "metadata": {
    "scrolled": true
   },
   "outputs": [
    {
     "name": "stdout",
     "output_type": "stream",
     "text": [
      "['ArithmeticError', 'AssertionError', 'AttributeError', 'BaseException', 'BlockingIOError', 'BrokenPipeError', 'BufferError', 'BytesWarning', 'ChildProcessError', 'ConnectionAbortedError', 'ConnectionError', 'ConnectionRefusedError', 'ConnectionResetError', 'DeprecationWarning', 'EOFError', 'Ellipsis', 'EncodingWarning', 'EnvironmentError', 'Exception', 'False', 'FileExistsError', 'FileNotFoundError', 'FloatingPointError', 'FutureWarning', 'GeneratorExit', 'IOError', 'ImportError', 'ImportWarning', 'IndentationError', 'IndexError', 'InterruptedError', 'IsADirectoryError', 'KeyError', 'KeyboardInterrupt', 'LookupError', 'MemoryError', 'ModuleNotFoundError', 'NameError', 'None', 'NotADirectoryError', 'NotImplemented', 'NotImplementedError', 'OSError', 'OverflowError', 'PendingDeprecationWarning', 'PermissionError', 'ProcessLookupError', 'RecursionError', 'ReferenceError', 'ResourceWarning', 'RuntimeError', 'RuntimeWarning', 'StopAsyncIteration', 'StopIteration', 'SyntaxError', 'SyntaxWarning', 'SystemError', 'SystemExit', 'TabError', 'TimeoutError', 'True', 'TypeError', 'UnboundLocalError', 'UnicodeDecodeError', 'UnicodeEncodeError', 'UnicodeError', 'UnicodeTranslateError', 'UnicodeWarning', 'UserWarning', 'ValueError', 'Warning', 'WindowsError', 'ZeroDivisionError', '__IPYTHON__', '__build_class__', '__debug__', '__doc__', '__import__', '__loader__', '__name__', '__package__', '__spec__', 'abs', 'aiter', 'all', 'anext', 'any', 'ascii', 'bin', 'bool', 'breakpoint', 'bytearray', 'bytes', 'callable', 'chr', 'classmethod', 'compile', 'complex', 'copyright', 'credits', 'delattr', 'dict', 'dir', 'display', 'divmod', 'enumerate', 'eval', 'exec', 'execfile', 'filter', 'float', 'format', 'frozenset', 'get_ipython', 'getattr', 'globals', 'hasattr', 'hash', 'help', 'hex', 'id', 'input', 'int', 'isinstance', 'issubclass', 'iter', 'len', 'license', 'list', 'locals', 'map', 'max', 'memoryview', 'min', 'next', 'object', 'oct', 'open', 'ord', 'pow', 'print', 'property', 'range', 'repr', 'reversed', 'round', 'runfile', 'set', 'setattr', 'slice', 'sorted', 'staticmethod', 'str', 'sum', 'super', 'tuple', 'type', 'vars', 'zip']\n"
     ]
    }
   ],
   "source": [
    "print(dir(__builtins__))"
   ]
  },
  {
   "cell_type": "code",
   "execution_count": null,
   "id": "04bbf058",
   "metadata": {},
   "outputs": [],
   "source": [
    "len()"
   ]
  },
  {
   "cell_type": "markdown",
   "id": "82a699b9",
   "metadata": {},
   "source": [
    "# Types of arguments\n",
    "\n",
    "* Three types of arguments\n",
    "  1. Positional arguments\n",
    "    * the order is important and number of arguments should match with \n",
    "     the no of parameters."
   ]
  },
  {
   "cell_type": "code",
   "execution_count": 4,
   "id": "1b3f8a54",
   "metadata": {},
   "outputs": [
    {
     "name": "stdout",
     "output_type": "stream",
     "text": [
      "[2, 4, 6, 8, 10]\n",
      "[1, 3, 5, 7, 9]\n"
     ]
    }
   ],
   "source": [
    "even=[]\n",
    "odd=[]\n",
    "\n",
    "def even_odd(a):\n",
    "    if a%2==0:\n",
    "        even.append(a)\n",
    "    if a%2!=0:\n",
    "        odd.append(a)\n",
    "lst=[1,2,3,4,5,6,7,8,9,10]\n",
    "for a in lst:\n",
    "    even_odd(a)\n",
    "print(even)\n",
    "print(odd)\n",
    "\n",
    "        \n",
    "        \n",
    "    \n",
    "\n",
    "\n",
    "# lst=[1,2,3,4,5,6,7,8,9,10]\n",
    "# even=[]\n",
    "# odd=[]\n",
    "# for i in lst:\n",
    "#     if i%2==0:\n",
    "#         even.append(i)\n",
    "#     if i%2!=0:\n",
    "#         odd.append(i)\n",
    "# print(odd)\n",
    "# print(even)"
   ]
  },
  {
   "cell_type": "code",
   "execution_count": 9,
   "id": "4edea922",
   "metadata": {},
   "outputs": [
    {
     "name": "stdout",
     "output_type": "stream",
     "text": [
      "The name os the employee is 11\n",
      "The salary of the  employee is python\n",
      "The age of the employee is 1000\n"
     ]
    }
   ],
   "source": [
    "#the no of arguments should match\n",
    "def emp_info(emp_name,emp_salary,emp_age):\n",
    "    print(\"The name os the employee is\", emp_name)\n",
    "    print(\"The salary of the  employee is\", emp_salary)\n",
    "    print(\"The age of the employee is\", emp_age)\n",
    "    \n",
    "    \n",
    "emp_info('python', 1000, 23) #the order is important. \n",
    "# emp_info(11, 'python', 1000) "
   ]
  },
  {
   "cell_type": "code",
   "execution_count": 13,
   "id": "a8026c9a",
   "metadata": {},
   "outputs": [
    {
     "name": "stdout",
     "output_type": "stream",
     "text": [
      "The name os the employee is python\n",
      "The salary of the  employee is 1000\n",
      "The age of the employee is 23\n",
      "The location of the employee is mumbai\n"
     ]
    }
   ],
   "source": [
    "# 2. Default arguments\n",
    "def emp_info(emp_name,emp_salary,emp_age,emp_location=\"banglore\"):\n",
    "    print(\"The name os the employee is\", emp_name)\n",
    "    print(\"The salary of the  employee is\", emp_salary)\n",
    "    print(\"The age of the employee is\", emp_age)\n",
    "    print(\"The location of the employee is\", emp_location)\n",
    "    \n",
    "# emp_info('python', 1000, 23)\n",
    "# emp_info('python', 1000, 23, 'mumbai')\n",
    "emp_info('python', 1000, 23,emp_location= 'mumbai')"
   ]
  },
  {
   "cell_type": "code",
   "execution_count": 16,
   "id": "d9434f61",
   "metadata": {},
   "outputs": [
    {
     "name": "stdout",
     "output_type": "stream",
     "text": [
      "The name os the employee is python\n",
      "The salary of the  employee is 1000\n",
      "The age of the employee is 23\n",
      "The location of the employee is mumbai\n",
      "The pin of the employee is 99\n"
     ]
    }
   ],
   "source": [
    "#you have to give the positional argumentas first then default arguments.\n",
    "def emp_info(emp_name,emp_salary,emp_age,emp_location=\"banglore\",emp_pin=999):\n",
    "    print(\"The name os the employee is\", emp_name)\n",
    "    print(\"The salary of the  employee is\", emp_salary)\n",
    "    print(\"The age of the employee is\", emp_age)\n",
    "    print(\"The location of the employee is\", emp_location)\n",
    "    print(\"The pin of the employee is\", emp_pin)\n",
    "# emp_info('python', 1000, 23)\n",
    "# emp_info('python', 1000, 23, 'mumbai')\n",
    "emp_info('python', 1000, 23,emp_location= 'mumbai',emp_pin=99)"
   ]
  },
  {
   "cell_type": "code",
   "execution_count": 19,
   "id": "1e4f998a",
   "metadata": {},
   "outputs": [
    {
     "name": "stdout",
     "output_type": "stream",
     "text": [
      "[2, 4, 54, 56, 78]\n",
      "[1, 3, 5, 67]\n"
     ]
    }
   ],
   "source": [
    "lst=[1,2,3,4,54,56,5,67,78]\n",
    "def odd_even(a):\n",
    "    even=[i for i in a if i%2==0]  #list comprehension\n",
    "    odd=[i for i in a if i%2!=0]\n",
    "    print(even)\n",
    "    print(odd)\n",
    "    \n",
    "odd_even(lst)"
   ]
  },
  {
   "cell_type": "code",
   "execution_count": 23,
   "id": "6c57c69d",
   "metadata": {},
   "outputs": [
    {
     "name": "stdout",
     "output_type": "stream",
     "text": [
      "enter the Number:4,5,6,7,8,9,1,2,\n",
      "[4, 6, 8, 2]\n",
      "[5, 7, 9, 1]\n"
     ]
    }
   ],
   "source": [
    "def even_odd():\n",
    "    b=eval(input(\"enter the Number:\"))\n",
    "    even=[]\n",
    "    odd=[]\n",
    "    for i in b:\n",
    "        if i%2==0:\n",
    "            even.append(i)\n",
    "        if i%2!=0:\n",
    "            odd.append(i)\n",
    "    print(even)\n",
    "    print(odd)\n",
    "even_odd()"
   ]
  },
  {
   "cell_type": "code",
   "execution_count": 26,
   "id": "5c56622d",
   "metadata": {},
   "outputs": [
    {
     "name": "stdout",
     "output_type": "stream",
     "text": [
      "('abc', 'xyz', 2, 34, 56)\n"
     ]
    }
   ],
   "source": [
    "#variable\n",
    "# *arg - takes variable length positional args and store the value in tuple\n",
    "# **keywordargs-kwargs-it takes variable length keywords args and store the value in a dict\n",
    "\n",
    "\n",
    "def emp_info(*args): # can be passed n no of arguments\n",
    "    print(args)\n",
    "#     print(kwargs)\n",
    "\n",
    "emp_info(\"abc\",\"xyz\",2,34,56) # stored in tuple"
   ]
  },
  {
   "cell_type": "code",
   "execution_count": 27,
   "id": "3e89a62c",
   "metadata": {},
   "outputs": [
    {
     "name": "stdout",
     "output_type": "stream",
     "text": [
      "('abc', 'xyz')\n",
      "{'name': 'python', 'age': 23}\n"
     ]
    }
   ],
   "source": [
    "def emp_info(*args, **kwargs): \n",
    "    print(args)\n",
    "    print(kwargs)\n",
    "\n",
    "emp_info(\"abc\",\"xyz\",name=\"python\",age=23) \n",
    "# ('abc', 'xyz') --argument---tuple\n",
    "# {'name': 'python', 'age': 23}--keyword argument---dict"
   ]
  },
  {
   "cell_type": "code",
   "execution_count": null,
   "id": "7dbacdc6",
   "metadata": {},
   "outputs": [],
   "source": [
    "# Global and local variables\n",
    "\n"
   ]
  },
  {
   "cell_type": "code",
   "execution_count": 40,
   "id": "d92859d5",
   "metadata": {},
   "outputs": [
    {
     "name": "stdout",
     "output_type": "stream",
     "text": [
      "30\n",
      "30\n",
      "None\n"
     ]
    }
   ],
   "source": [
    "x=10\n",
    "y=20\n",
    "\n",
    "def sum_1(a,b):\n",
    "    c=a+b\n",
    "    d=x+y\n",
    "    print(c)\n",
    "    print(d)\n",
    "    return c\n",
    "    \n",
    "d=sum_1(10,20)\n",
    "print(x)\n",
    "print(y)\n",
    "# print(a)\n",
    "# print(b)\n",
    "# print(c)\n",
    "print(d)"
   ]
  },
  {
   "cell_type": "code",
   "execution_count": 32,
   "id": "321846f6",
   "metadata": {},
   "outputs": [
    {
     "name": "stdout",
     "output_type": "stream",
     "text": [
      "pan approved\n"
     ]
    }
   ],
   "source": [
    "def submit_pan(pan):\n",
    "    if len(pan)==10:\n",
    "        print(\"pan approved\")\n",
    "    else:\n",
    "        print(\"Please enter correct pan num.\")\n",
    "a=str(1254638791)\n",
    "submit_pan(a)"
   ]
  },
  {
   "cell_type": "code",
   "execution_count": 33,
   "id": "e0f50e45",
   "metadata": {},
   "outputs": [
    {
     "name": "stdout",
     "output_type": "stream",
     "text": [
      "Please enter correct pan num.\n"
     ]
    }
   ],
   "source": [
    "def submit_pan(pan):\n",
    "    if len(str(pan))==10:\n",
    "        print(\"pan approved\")\n",
    "    else:\n",
    "        print(\"Please enter correct pan num.\")\n",
    "\n",
    "submit_pan(\"absvfkega\")"
   ]
  },
  {
   "cell_type": "markdown",
   "id": "c7359232",
   "metadata": {},
   "source": [
    "# Return statement\n",
    "* it is optional\n",
    "* if the return is not used by user by default it will return None\n",
    "* Data type of this type of will be an integer\n",
    "* if it is used by the user the default data type will be the data type\n",
    "  of return\n",
    "* You can return anything\n",
    "\n"
   ]
  },
  {
   "cell_type": "code",
   "execution_count": 121,
   "id": "ecc4d866",
   "metadata": {},
   "outputs": [
    {
     "data": {
      "text/plain": [
       "'prime'"
      ]
     },
     "execution_count": 121,
     "metadata": {},
     "output_type": "execute_result"
    }
   ],
   "source": [
    "# Write a function which tells if the no is prime or not\n",
    "\n",
    "\n",
    "def prime(a):\n",
    "    for i in range(2,a):\n",
    "        if a%i==0:\n",
    "            return \"not prime\"\n",
    "            break\n",
    "        else:\n",
    "            return \"prime\" \n",
    "prime(7)"
   ]
  },
  {
   "cell_type": "code",
   "execution_count": 122,
   "id": "fe4208b8",
   "metadata": {},
   "outputs": [
    {
     "name": "stdout",
     "output_type": "stream",
     "text": [
      "1\n",
      "2\n",
      "3\n",
      "4\n",
      "5\n",
      "6\n",
      "7\n",
      "8\n",
      "completed\n"
     ]
    }
   ],
   "source": [
    "# else in for loop\n",
    "\n",
    "a=[1,2,3,4,5,6,7,8]\n",
    "for i in a:\n",
    "    print(i)\n",
    "else:\n",
    "    print(\"completed\")"
   ]
  },
  {
   "cell_type": "code",
   "execution_count": 130,
   "id": "e80b2e9b",
   "metadata": {},
   "outputs": [
    {
     "data": {
      "text/plain": [
       "'not prime'"
      ]
     },
     "execution_count": 130,
     "metadata": {},
     "output_type": "execute_result"
    }
   ],
   "source": [
    "#else in for loop\n",
    "\n",
    "def prime(a):\n",
    "    for i in range(2,a):\n",
    "        if a%i==0:\n",
    "            return \"not prime\"\n",
    "        \n",
    "    else:\n",
    "        print(\"prime\")\n",
    "            \n",
    "#         else:\n",
    "#             return \"prime\" \n",
    "prime(9)"
   ]
  },
  {
   "cell_type": "code",
   "execution_count": 132,
   "id": "8c2b9b6b",
   "metadata": {},
   "outputs": [
    {
     "name": "stdout",
     "output_type": "stream",
     "text": [
      "[2, 4, 6, 8, 10]\n",
      "[1, 3, 5, 7, 9]\n"
     ]
    }
   ],
   "source": [
    "# write a function to return an even list of numbers from a list\n",
    "\n",
    "lst=[1,2,3,4,5,6,7,8,9,10]\n",
    "def even_odd(a):\n",
    "    even=[i for i in a if i%2==0]  #list comprehension\n",
    "    odd=[i for i in a if i%2!=0]\n",
    "even_odd(lst)\n",
    "print(even)\n",
    "print(odd)\n",
    "    "
   ]
  },
  {
   "cell_type": "code",
   "execution_count": 133,
   "id": "2c6e99d6",
   "metadata": {},
   "outputs": [
    {
     "data": {
      "text/plain": [
       "3628800"
      ]
     },
     "execution_count": 133,
     "metadata": {},
     "output_type": "execute_result"
    }
   ],
   "source": [
    "# Recursive fuunctions-\n",
    "# factorial(n)= n*(n-1)\n",
    "# factorial(n)=n*factorial(n-1)\n",
    "def fact(num):\n",
    "    if num==0:\n",
    "        return 1\n",
    "    else:\n",
    "        return num*fact(num-1)\n",
    "fact(10)"
   ]
  },
  {
   "cell_type": "markdown",
   "id": "9bf7859c",
   "metadata": {},
   "source": [
    "# Anonymous function(function without a name)\n",
    "  * \n",
    "    lambda args: expression #it can have multiple arguments but it can only have one expression\n",
    "### Note: lambda can take n number of arguments but only one expression"
   ]
  },
  {
   "cell_type": "code",
   "execution_count": 135,
   "id": "381df818",
   "metadata": {},
   "outputs": [
    {
     "data": {
      "text/plain": [
       "15"
      ]
     },
     "execution_count": 135,
     "metadata": {},
     "output_type": "execute_result"
    }
   ],
   "source": [
    "# first method\n",
    "def add(a):\n",
    "    return a+10\n",
    "add(5)"
   ]
  },
  {
   "cell_type": "code",
   "execution_count": 7,
   "id": "7d1b5c72",
   "metadata": {},
   "outputs": [
    {
     "data": {
      "text/plain": [
       "15"
      ]
     },
     "execution_count": 7,
     "metadata": {},
     "output_type": "execute_result"
    }
   ],
   "source": [
    "# lambda method \n",
    "var= lambda a,b: a+10\n",
    "var(5,8)  \n",
    "# '''if we take n number of arguments i have to pass all the arguments\n",
    "#               in function call''' \n",
    "# print(b)"
   ]
  },
  {
   "cell_type": "code",
   "execution_count": 144,
   "id": "2648431a",
   "metadata": {},
   "outputs": [
    {
     "name": "stdout",
     "output_type": "stream",
     "text": [
      "18\n"
     ]
    }
   ],
   "source": [
    "# lambda with function call\n",
    "\n",
    "var=(lambda a,b: a+10)(8,8) #function call in the same line\n",
    "print(var)"
   ]
  },
  {
   "cell_type": "code",
   "execution_count": 145,
   "id": "5ce2512b",
   "metadata": {},
   "outputs": [
    {
     "data": {
      "text/plain": [
       "'odd'"
      ]
     },
     "execution_count": 145,
     "metadata": {},
     "output_type": "execute_result"
    }
   ],
   "source": [
    "#\n",
    "\n",
    "var=lambda x: 'even' if x%2==0 else 'odd'\n",
    "# return even if x%2==0 else return odd\n",
    "var(55)\n",
    "\n",
    "# if x%2==0:\n",
    "#     return even\n",
    "# else:\n",
    "#     return odd"
   ]
  },
  {
   "cell_type": "code",
   "execution_count": 147,
   "id": "f06e5ccf",
   "metadata": {},
   "outputs": [
    {
     "name": "stdout",
     "output_type": "stream",
     "text": [
      "odd\n"
     ]
    }
   ],
   "source": [
    "var=(lambda x: 'even' if x%2==0 else 'odd')(55)\n",
    "print(var)"
   ]
  },
  {
   "cell_type": "code",
   "execution_count": 149,
   "id": "a23927c9",
   "metadata": {},
   "outputs": [
    {
     "name": "stdout",
     "output_type": "stream",
     "text": [
      "Enter a number: 89\n",
      "odd\n"
     ]
    }
   ],
   "source": [
    "var=lambda x: 'even' if x%2==0 else 'odd'\n",
    "x=int(input(\"Enter a number: \"))\n",
    "print(var(x))"
   ]
  },
  {
   "cell_type": "code",
   "execution_count": 162,
   "id": "c02aceee",
   "metadata": {},
   "outputs": [
    {
     "name": "stdout",
     "output_type": "stream",
     "text": [
      "[73.4, 93.2, 95.0, 132.8, 172.4, 154.4]\n"
     ]
    }
   ],
   "source": [
    "temp_cel=[23,34,35,56,78,68]\n",
    "temp_far= (lambda T:[((9/5)*T)+32 for T in temp_cel])(temp_cel)\n",
    "print(temp_far)\n"
   ]
  },
  {
   "cell_type": "code",
   "execution_count": 3,
   "id": "32395f84",
   "metadata": {},
   "outputs": [
    {
     "name": "stdout",
     "output_type": "stream",
     "text": [
      "['2015', '2014', '2016', '2018', '2019']\n",
      "['07', '05', '07', '07', '08']\n",
      "['31', '31', '03', '31', '31']\n"
     ]
    }
   ],
   "source": [
    "# 2 lambda function\n",
    "date= ['2015-07-31','2014-05-31','2016-07-03','2018-07-31','2019-08-31']\n",
    "\n",
    "year= (lambda x:[t[0:4] for t in date])(date)\n",
    "\n",
    "month=(lambda x:[t[5:7] for t in date])(date)\n",
    "\n",
    "day=(lambda x:[t[8:] for t in date])(date)\n",
    "\n",
    "\n",
    "print(year)\n",
    "print(month)\n",
    "print(day)"
   ]
  },
  {
   "cell_type": "code",
   "execution_count": 35,
   "id": "ce9b3856",
   "metadata": {},
   "outputs": [
    {
     "name": "stdout",
     "output_type": "stream",
     "text": [
      "['2015', '2014', '2016', '2018', '2019'] ['07', '05', '07', '07', '08'] ['31', '31', '03', '31', '31']\n"
     ]
    }
   ],
   "source": [
    "\n",
    "x= ['2015-07-31','2014-05-31','2016-07-03','2018-07-31','2019-08-31']\n",
    "\n",
    "for i in x:\n",
    "    year=i[0:4]\n",
    "    month=i[5:7]\n",
    "    day=i[8:]\n",
    "    \n",
    "print(Year,Month,Day)"
   ]
  },
  {
   "cell_type": "code",
   "execution_count": 34,
   "id": "74d4c22a",
   "metadata": {},
   "outputs": [
    {
     "name": "stdout",
     "output_type": "stream",
     "text": [
      "['2015', '2014', '2016', '2018', '2019'] ['07', '05', '07', '07', '08'] ['31', '31', '03', '31', '31']\n"
     ]
    }
   ],
   "source": [
    "\n",
    "y= ['2015-07-31','2014-05-31','2016-07-03','2018-07-31','2019-08-31']\n",
    "\n",
    "for i in y:\n",
    "    year=i[0:4]\n",
    "    month=i[5:7]\n",
    "    day=i[8:]\n",
    "    \n",
    "print(Year,Month,Day)"
   ]
  },
  {
   "cell_type": "code",
   "execution_count": 40,
   "id": "80ea870b",
   "metadata": {},
   "outputs": [
    {
     "name": "stdout",
     "output_type": "stream",
     "text": [
      "<class 'list'>\n"
     ]
    }
   ],
   "source": [
    "#tuple packing\n",
    "num=[2,3,4,5,6,7,8,9,12,23,34,45,56]\n",
    "def even_odd(a):\n",
    "    even= [i for i in num if i%2==0]\n",
    "    odd= [i for i in num if i%2!=0]\n",
    "    return even, odd\n",
    "a,b= even_odd(num)\n",
    "\n",
    "b\n",
    "print(type(a))"
   ]
  },
  {
   "cell_type": "code",
   "execution_count": 15,
   "id": "f2e147a5",
   "metadata": {},
   "outputs": [
    {
     "data": {
      "text/plain": [
       "[2, 4, 6, 8, 12, 34, 56]"
      ]
     },
     "execution_count": 15,
     "metadata": {},
     "output_type": "execute_result"
    }
   ],
   "source": [
    "#same thing with lambda function\n",
    "num=[2,3,4,5,6,7,8,9,12,23,34,45,56]\n",
    "even= (lambda a:[i for i in num if i%2==0])(num)\n",
    "odd=(lambda a:[i for i in num if i%2!=0])(num)\n",
    "even\n"
   ]
  },
  {
   "cell_type": "code",
   "execution_count": 16,
   "id": "6dcf5229",
   "metadata": {},
   "outputs": [
    {
     "data": {
      "text/plain": [
       "[3, 5, 7, 9, 23, 45]"
      ]
     },
     "execution_count": 16,
     "metadata": {},
     "output_type": "execute_result"
    }
   ],
   "source": [
    "odd"
   ]
  },
  {
   "cell_type": "code",
   "execution_count": null,
   "id": "3db2d894",
   "metadata": {},
   "outputs": [],
   "source": []
  }
 ],
 "metadata": {
  "kernelspec": {
   "display_name": "Python 3 (ipykernel)",
   "language": "python",
   "name": "python3"
  },
  "language_info": {
   "codemirror_mode": {
    "name": "ipython",
    "version": 3
   },
   "file_extension": ".py",
   "mimetype": "text/x-python",
   "name": "python",
   "nbconvert_exporter": "python",
   "pygments_lexer": "ipython3",
   "version": "3.10.9"
  }
 },
 "nbformat": 4,
 "nbformat_minor": 5
}
