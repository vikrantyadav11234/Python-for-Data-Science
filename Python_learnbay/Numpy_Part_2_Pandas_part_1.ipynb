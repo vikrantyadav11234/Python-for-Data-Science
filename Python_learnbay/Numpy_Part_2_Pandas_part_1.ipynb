{
 "cells": [
  {
   "cell_type": "code",
   "execution_count": 1,
   "id": "5cfe5415",
   "metadata": {},
   "outputs": [],
   "source": [
    "import numpy as np"
   ]
  },
  {
   "cell_type": "markdown",
   "id": "c64ed71b",
   "metadata": {},
   "source": [
    "# Vector stacking / concatination\n",
    "\n",
    "- conacatinaltion of 2 arrays is called as vector stacking"
   ]
  },
  {
   "cell_type": "code",
   "execution_count": 98,
   "id": "cf8e2a18",
   "metadata": {},
   "outputs": [],
   "source": [
    "a = np.array([['abhijeet' , 'Ajinkya']  , ['Akshay' , 'Amolt']])\n",
    "b = np.array([['Antayami', 'Ankita'] , ['Digvijay' , 'giris']])"
   ]
  },
  {
   "cell_type": "code",
   "execution_count": 99,
   "id": "8ec9bdf7",
   "metadata": {},
   "outputs": [
    {
     "data": {
      "text/plain": [
       "4"
      ]
     },
     "execution_count": 99,
     "metadata": {},
     "output_type": "execute_result"
    }
   ],
   "source": [
    "a.size"
   ]
  },
  {
   "cell_type": "code",
   "execution_count": 20,
   "id": "3b7b032a",
   "metadata": {},
   "outputs": [
    {
     "data": {
      "text/plain": [
       "array([['Antayami', 'Ankita'],\n",
       "       ['Digvijay', 'giris']], dtype='<U8')"
      ]
     },
     "execution_count": 20,
     "metadata": {},
     "output_type": "execute_result"
    }
   ],
   "source": [
    "b"
   ]
  },
  {
   "cell_type": "code",
   "execution_count": 24,
   "id": "f4458b34",
   "metadata": {},
   "outputs": [
    {
     "data": {
      "text/plain": [
       "array([['abhijeet', 'Ajinkya'],\n",
       "       ['Akshay', 'Amolt'],\n",
       "       ['Antayami', 'Ankita'],\n",
       "       ['Digvijay', 'giris']], dtype='<U8')"
      ]
     },
     "execution_count": 24,
     "metadata": {},
     "output_type": "execute_result"
    }
   ],
   "source": [
    "# Cncatination\n",
    "# axis = 0 --> rowwise\n",
    "\n",
    "np.concatenate((a,b) , axis = 0)"
   ]
  },
  {
   "cell_type": "code",
   "execution_count": 25,
   "id": "38269ad8",
   "metadata": {},
   "outputs": [
    {
     "data": {
      "text/plain": [
       "array([['abhijeet', 'Ajinkya', 'Antayami', 'Ankita'],\n",
       "       ['Akshay', 'Amolt', 'Digvijay', 'giris']], dtype='<U8')"
      ]
     },
     "execution_count": 25,
     "metadata": {},
     "output_type": "execute_result"
    }
   ],
   "source": [
    "# axis = 1 --> columnwise\n",
    "\n",
    "np.concatenate((a,b) , axis = 1)"
   ]
  },
  {
   "cell_type": "code",
   "execution_count": null,
   "id": "308f1d65",
   "metadata": {},
   "outputs": [],
   "source": [
    "# Stack"
   ]
  },
  {
   "cell_type": "code",
   "execution_count": 26,
   "id": "c2e7182a",
   "metadata": {},
   "outputs": [
    {
     "data": {
      "text/plain": [
       "array([['abhijeet', 'Ajinkya', 'Antayami', 'Ankita'],\n",
       "       ['Akshay', 'Amolt', 'Digvijay', 'giris']], dtype='<U8')"
      ]
     },
     "execution_count": 26,
     "metadata": {},
     "output_type": "execute_result"
    }
   ],
   "source": [
    "# column\n",
    "np.hstack((a,b))"
   ]
  },
  {
   "cell_type": "code",
   "execution_count": 27,
   "id": "707170b8",
   "metadata": {},
   "outputs": [
    {
     "data": {
      "text/plain": [
       "array([['abhijeet', 'Ajinkya'],\n",
       "       ['Akshay', 'Amolt'],\n",
       "       ['Antayami', 'Ankita'],\n",
       "       ['Digvijay', 'giris']], dtype='<U8')"
      ]
     },
     "execution_count": 27,
     "metadata": {},
     "output_type": "execute_result"
    }
   ],
   "source": [
    "# row\n",
    "np.vstack((a,b))"
   ]
  },
  {
   "cell_type": "markdown",
   "id": "63d04528",
   "metadata": {},
   "source": [
    "# Copy and view"
   ]
  },
  {
   "cell_type": "code",
   "execution_count": 31,
   "id": "33d37899",
   "metadata": {},
   "outputs": [
    {
     "name": "stdout",
     "output_type": "stream",
     "text": [
      "3183494454896\n",
      "3183494454608\n",
      "[1 2 3 4 5]\n",
      "[432   2   3   4   5]\n"
     ]
    }
   ],
   "source": [
    "arr = np.array([1,2,3,4,5])\n",
    "x =arr.copy()\n",
    "\n",
    "\n",
    "print(id(arr))\n",
    "print(id(x))\n",
    "x[0] = 432\n",
    "\n",
    "print(arr)\n",
    "print(x)"
   ]
  },
  {
   "cell_type": "code",
   "execution_count": 29,
   "id": "a8c783b2",
   "metadata": {},
   "outputs": [
    {
     "data": {
      "text/plain": [
       "array([1, 2, 3, 4, 5])"
      ]
     },
     "execution_count": 29,
     "metadata": {},
     "output_type": "execute_result"
    }
   ],
   "source": [
    "arr"
   ]
  },
  {
   "cell_type": "markdown",
   "id": "7e9b3a30",
   "metadata": {},
   "source": [
    "# View"
   ]
  },
  {
   "cell_type": "code",
   "execution_count": 33,
   "id": "506504b4",
   "metadata": {},
   "outputs": [
    {
     "name": "stdout",
     "output_type": "stream",
     "text": [
      "3183490948528\n",
      "3183494077392\n",
      "[432   2   3   4   5]\n",
      "[432   2   3   4   5]\n"
     ]
    }
   ],
   "source": [
    "arr = np.array([1,2,3,4,5])\n",
    "x =arr.view()\n",
    "\n",
    "\n",
    "print(id(arr))\n",
    "print(id(x))\n",
    "x[0] = 432\n",
    "\n",
    "print(arr)\n",
    "print(x)"
   ]
  },
  {
   "cell_type": "markdown",
   "id": "cd559734",
   "metadata": {},
   "source": [
    "- The main difference between a copy and view of an arrya is that copoy is a new array and view is just a view of the original one"
   ]
  },
  {
   "cell_type": "code",
   "execution_count": 85,
   "id": "653b8574",
   "metadata": {},
   "outputs": [],
   "source": [
    "a = np.arange(24).reshape(6,4)"
   ]
  },
  {
   "cell_type": "code",
   "execution_count": 86,
   "id": "d10c68a9",
   "metadata": {},
   "outputs": [
    {
     "name": "stdout",
     "output_type": "stream",
     "text": [
      "[[ 0  1  2  3]\n",
      " [ 4  5  6  7]\n",
      " [ 8  9 10 11]\n",
      " [12 13 14 15]\n",
      " [16 17 18 19]\n",
      " [20 21 22 23]] 3183494058128\n"
     ]
    }
   ],
   "source": [
    "print(a , id(a))"
   ]
  },
  {
   "cell_type": "code",
   "execution_count": 87,
   "id": "a5da0b5f",
   "metadata": {},
   "outputs": [
    {
     "name": "stdout",
     "output_type": "stream",
     "text": [
      "[[ 0  1  2  3]\n",
      " [ 4  5  6  7]\n",
      " [ 8  9 10 11]\n",
      " [12 13 14 15]\n",
      " [16 17 18 19]\n",
      " [20 21 22 23]] 3183494060912\n"
     ]
    }
   ],
   "source": [
    "b = a.view()\n",
    "print(b , id(b))"
   ]
  },
  {
   "cell_type": "code",
   "execution_count": 88,
   "id": "459750e6",
   "metadata": {},
   "outputs": [],
   "source": [
    "a[0 , 1] = 999999"
   ]
  },
  {
   "cell_type": "code",
   "execution_count": 89,
   "id": "8eecad35",
   "metadata": {},
   "outputs": [
    {
     "data": {
      "text/plain": [
       "array([[     0, 999999,      2,      3],\n",
       "       [     4,      5,      6,      7],\n",
       "       [     8,      9,     10,     11],\n",
       "       [    12,     13,     14,     15],\n",
       "       [    16,     17,     18,     19],\n",
       "       [    20,     21,     22,     23]])"
      ]
     },
     "execution_count": 89,
     "metadata": {},
     "output_type": "execute_result"
    }
   ],
   "source": [
    "a"
   ]
  },
  {
   "cell_type": "code",
   "execution_count": 90,
   "id": "e2384b00",
   "metadata": {},
   "outputs": [
    {
     "data": {
      "text/plain": [
       "array([[     0, 999999,      2,      3],\n",
       "       [     4,      5,      6,      7],\n",
       "       [     8,      9,     10,     11],\n",
       "       [    12,     13,     14,     15],\n",
       "       [    16,     17,     18,     19],\n",
       "       [    20,     21,     22,     23]])"
      ]
     },
     "execution_count": 90,
     "metadata": {},
     "output_type": "execute_result"
    }
   ],
   "source": [
    "b"
   ]
  },
  {
   "cell_type": "markdown",
   "id": "8b8ed962",
   "metadata": {},
   "source": [
    "# 3D"
   ]
  },
  {
   "cell_type": "code",
   "execution_count": null,
   "id": "92dabbd7",
   "metadata": {},
   "outputs": [],
   "source": [
    "# images and videos\n",
    "\n",
    "images - 2-D --> black and white \n",
    "         3D   --> colour\n",
    "    \n",
    "video ---> 4D  ---> 30fps , 60 fps  "
   ]
  },
  {
   "cell_type": "code",
   "execution_count": 91,
   "id": "5233750d",
   "metadata": {},
   "outputs": [],
   "source": [
    "# load images from skimage database\n",
    "\n",
    "from skimage import data"
   ]
  },
  {
   "cell_type": "code",
   "execution_count": 137,
   "id": "ea3c9592",
   "metadata": {},
   "outputs": [],
   "source": [
    "image = data.cell()"
   ]
  },
  {
   "cell_type": "code",
   "execution_count": 125,
   "id": "690a30d5",
   "metadata": {},
   "outputs": [
    {
     "data": {
      "text/plain": [
       "array([[200, 200, 200, ..., 189, 190, 190],\n",
       "       [200, 199, 199, ..., 190, 190, 190],\n",
       "       [199, 199, 199, ..., 190, 190, 190],\n",
       "       ...,\n",
       "       [ 25,  25,  27, ..., 139, 122, 147],\n",
       "       [ 25,  25,  26, ..., 158, 141, 168],\n",
       "       [ 25,  25,  27, ..., 151, 152, 149]], dtype=uint8)"
      ]
     },
     "execution_count": 125,
     "metadata": {},
     "output_type": "execute_result"
    }
   ],
   "source": [
    "image"
   ]
  },
  {
   "cell_type": "code",
   "execution_count": 126,
   "id": "1ed5c49d",
   "metadata": {
    "scrolled": true
   },
   "outputs": [
    {
     "name": "stdout",
     "output_type": "stream",
     "text": [
      "<class 'numpy.ndarray'>\n",
      "262144\n",
      "(512, 512)\n",
      "2\n"
     ]
    }
   ],
   "source": [
    "print(type(image))\n",
    "\n",
    "print(image.size)\n",
    "\n",
    "print(image.shape)\n",
    "\n",
    "print(image.ndim)"
   ]
  },
  {
   "cell_type": "code",
   "execution_count": 127,
   "id": "c7bfa09f",
   "metadata": {},
   "outputs": [],
   "source": [
    "import matplotlib.pyplot as plt"
   ]
  },
  {
   "cell_type": "code",
   "execution_count": 128,
   "id": "b04700cd",
   "metadata": {},
   "outputs": [
    {
     "data": {
      "text/plain": [
       "<matplotlib.image.AxesImage at 0x2e53a20ae80>"
      ]
     },
     "execution_count": 128,
     "metadata": {},
     "output_type": "execute_result"
    },
    {
     "data": {
      "image/png": "[encoded data removed]",
      "text/plain": [
       "<Figure size 432x288 with 1 Axes>"
      ]
     },
     "metadata": {
      "needs_background": "light"
     },
     "output_type": "display_data"
    }
   ],
   "source": [
    "plt.imshow(image)"
   ]
  },
  {
   "cell_type": "code",
   "execution_count": 129,
   "id": "0628e8c1",
   "metadata": {},
   "outputs": [
    {
     "data": {
      "text/plain": [
       "<matplotlib.image.AxesImage at 0x2e53a271f10>"
      ]
     },
     "execution_count": 129,
     "metadata": {},
     "output_type": "execute_result"
    },
    {
     "data": {
      "image/png": "[encoded data removed]",
      "text/plain": [
       "<Figure size 432x288 with 1 Axes>"
      ]
     },
     "metadata": {
      "needs_background": "light"
     },
     "output_type": "display_data"
    }
   ],
   "source": [
    "plt.imshow(image[0:200 , 100:300])"
   ]
  },
  {
   "cell_type": "code",
   "execution_count": 134,
   "id": "7da69b76",
   "metadata": {},
   "outputs": [],
   "source": [
    "first_half , second_half , c  , d= np.hsplit( image , 4)"
   ]
  },
  {
   "cell_type": "code",
   "execution_count": 135,
   "id": "f04460e8",
   "metadata": {},
   "outputs": [
    {
     "data": {
      "text/plain": [
       "<matplotlib.image.AxesImage at 0x2e53b3d6f40>"
      ]
     },
     "execution_count": 135,
     "metadata": {},
     "output_type": "execute_result"
    },
    {
     "data": {
      "image/png": "[encoded data removed]",
      "text/plain": [
       "<Figure size 432x288 with 1 Axes>"
      ]
     },
     "metadata": {
      "needs_background": "light"
     },
     "output_type": "display_data"
    }
   ],
   "source": [
    "plt.imshow(first_half)"
   ]
  },
  {
   "cell_type": "code",
   "execution_count": 132,
   "id": "2bff0369",
   "metadata": {},
   "outputs": [
    {
     "data": {
      "text/plain": [
       "<matplotlib.image.AxesImage at 0x2e53a3387f0>"
      ]
     },
     "execution_count": 132,
     "metadata": {},
     "output_type": "execute_result"
    },
    {
     "data": {
      "image/png": "[encoded data removed]",
      "text/plain": [
       "<Figure size 432x288 with 1 Axes>"
      ]
     },
     "metadata": {
      "needs_background": "light"
     },
     "output_type": "display_data"
    }
   ],
   "source": [
    "plt.imshow(second_half)"
   ]
  },
  {
   "cell_type": "code",
   "execution_count": 133,
   "id": "df8f7c42",
   "metadata": {},
   "outputs": [
    {
     "data": {
      "text/plain": [
       "<matplotlib.image.AxesImage at 0x2e53a3a4a90>"
      ]
     },
     "execution_count": 133,
     "metadata": {},
     "output_type": "execute_result"
    },
    {
     "data": {
      "image/png": "[encoded data removed]",
      "text/plain": [
       "<Figure size 432x288 with 1 Axes>"
      ]
     },
     "metadata": {
      "needs_background": "light"
     },
     "output_type": "display_data"
    }
   ],
   "source": [
    "plt.imshow(np.concatenate((first_half , second_half) , axis = 1))"
   ]
  },
  {
   "cell_type": "markdown",
   "id": "dd11d5a8",
   "metadata": {},
   "source": [
    "# Pandas"
   ]
  },
  {
   "cell_type": "markdown",
   "id": "ef9d9373",
   "metadata": {},
   "source": [
    "- data representation is better than numpy\n",
    "- can be hetrogenous data"
   ]
  },
  {
   "cell_type": "code",
   "execution_count": 139,
   "id": "e6907615",
   "metadata": {},
   "outputs": [],
   "source": [
    "import pandas as pd"
   ]
  },
  {
   "cell_type": "markdown",
   "id": "c4e9f2c5",
   "metadata": {},
   "source": [
    "# We have 2 data structures\n",
    "\n",
    "1. Series ----> 1D\n",
    "2. Datafram ---> 2D"
   ]
  },
  {
   "cell_type": "markdown",
   "id": "7b670d0b",
   "metadata": {},
   "source": [
    "# Series"
   ]
  },
  {
   "cell_type": "code",
   "execution_count": null,
   "id": "81c58213",
   "metadata": {},
   "outputs": [],
   "source": [
    "different ways of creating a series data\n",
    "\n",
    "1. list\n",
    "2. array\n",
    "3. dic"
   ]
  },
  {
   "cell_type": "code",
   "execution_count": 140,
   "id": "be6186b5",
   "metadata": {},
   "outputs": [],
   "source": [
    "# Using list\n",
    "\n",
    "lst = ['abhijeet' , 'Ajinkya','Akshay' , 'Amolt','Antayami', 'Ankita','Digvijay' , 'giris']"
   ]
  },
  {
   "cell_type": "code",
   "execution_count": 141,
   "id": "d99c08bd",
   "metadata": {},
   "outputs": [
    {
     "data": {
      "text/plain": [
       "0    abhijeet\n",
       "1     Ajinkya\n",
       "2      Akshay\n",
       "3       Amolt\n",
       "4    Antayami\n",
       "5      Ankita\n",
       "6    Digvijay\n",
       "7       giris\n",
       "dtype: object"
      ]
     },
     "execution_count": 141,
     "metadata": {},
     "output_type": "execute_result"
    }
   ],
   "source": [
    "names = pd.Series(lst)\n",
    "names"
   ]
  },
  {
   "cell_type": "code",
   "execution_count": 142,
   "id": "59aa09e4",
   "metadata": {},
   "outputs": [],
   "source": [
    "lst_1 = ['abhijeet' , 'Ajinkya','Akshay' , 'Amolt']"
   ]
  },
  {
   "cell_type": "code",
   "execution_count": 146,
   "id": "89b7261c",
   "metadata": {},
   "outputs": [
    {
     "data": {
      "text/plain": [
       "a    abhijeet\n",
       "b     Ajinkya\n",
       "c      Akshay\n",
       "d       Amolt\n",
       "dtype: object"
      ]
     },
     "execution_count": 146,
     "metadata": {},
     "output_type": "execute_result"
    }
   ],
   "source": [
    "names_1 = pd.Series(lst_1 , index= ['a','b','c','d'])\n",
    "names_1"
   ]
  },
  {
   "cell_type": "code",
   "execution_count": 147,
   "id": "13420b96",
   "metadata": {},
   "outputs": [
    {
     "data": {
      "text/plain": [
       "array([-0.06986111,  0.15744502,  1.19719704, -0.44981725, -0.35853586])"
      ]
     },
     "execution_count": 147,
     "metadata": {},
     "output_type": "execute_result"
    }
   ],
   "source": [
    "# using array\n",
    "\n",
    "\n",
    "random = np.random.randn(5)\n",
    "random"
   ]
  },
  {
   "cell_type": "code",
   "execution_count": 149,
   "id": "53fa8e06",
   "metadata": {},
   "outputs": [],
   "source": [
    "random_series = pd.Series(np.random.randn(5) , index = range(1,6))"
   ]
  },
  {
   "cell_type": "code",
   "execution_count": 150,
   "id": "958c91e9",
   "metadata": {},
   "outputs": [
    {
     "data": {
      "text/plain": [
       "1   -0.383057\n",
       "2   -0.448201\n",
       "3   -0.821843\n",
       "4    0.074340\n",
       "5   -0.015144\n",
       "dtype: float64"
      ]
     },
     "execution_count": 150,
     "metadata": {},
     "output_type": "execute_result"
    }
   ],
   "source": [
    "random_series"
   ]
  },
  {
   "cell_type": "code",
   "execution_count": 151,
   "id": "69a9eabc",
   "metadata": {},
   "outputs": [
    {
     "data": {
      "text/plain": [
       "a    1\n",
       "b    2\n",
       "c    3\n",
       "dtype: int64"
      ]
     },
     "execution_count": 151,
     "metadata": {},
     "output_type": "execute_result"
    }
   ],
   "source": [
    "# Using dic \n",
    "\n",
    "data = {'a':1 , 'b': 2 , 'c':3}\n",
    "\n",
    "ser_data = pd.Series(data)\n",
    "ser_data"
   ]
  },
  {
   "cell_type": "markdown",
   "id": "fe31cbee",
   "metadata": {},
   "source": [
    "# Indexing \n",
    "\n",
    "\n",
    "indexing can be done in 2 ways\n",
    "\n",
    "1. by giving the index name that you have given of your choice\n",
    "2. using zeroindexing rule"
   ]
  },
  {
   "cell_type": "code",
   "execution_count": 152,
   "id": "601197f0",
   "metadata": {},
   "outputs": [
    {
     "data": {
      "text/plain": [
       "0    abhijeet\n",
       "1     Ajinkya\n",
       "2      Akshay\n",
       "3       Amolt\n",
       "4    Antayami\n",
       "5      Ankita\n",
       "6    Digvijay\n",
       "7       giris\n",
       "dtype: object"
      ]
     },
     "execution_count": 152,
     "metadata": {},
     "output_type": "execute_result"
    }
   ],
   "source": [
    "names"
   ]
  },
  {
   "cell_type": "code",
   "execution_count": 153,
   "id": "9a3528f2",
   "metadata": {},
   "outputs": [
    {
     "data": {
      "text/plain": [
       "'Akshay'"
      ]
     },
     "execution_count": 153,
     "metadata": {},
     "output_type": "execute_result"
    }
   ],
   "source": [
    "names[2]"
   ]
  },
  {
   "cell_type": "code",
   "execution_count": 154,
   "id": "af33409f",
   "metadata": {},
   "outputs": [
    {
     "data": {
      "text/plain": [
       "2      Akshay\n",
       "3       Amolt\n",
       "4    Antayami\n",
       "dtype: object"
      ]
     },
     "execution_count": 154,
     "metadata": {},
     "output_type": "execute_result"
    }
   ],
   "source": [
    "names[2:5]"
   ]
  },
  {
   "cell_type": "code",
   "execution_count": 155,
   "id": "fe9acc35",
   "metadata": {},
   "outputs": [
    {
     "data": {
      "text/plain": [
       "a    abhijeet\n",
       "b     Ajinkya\n",
       "c      Akshay\n",
       "d       Amolt\n",
       "dtype: object"
      ]
     },
     "execution_count": 155,
     "metadata": {},
     "output_type": "execute_result"
    }
   ],
   "source": [
    "names_1"
   ]
  },
  {
   "cell_type": "code",
   "execution_count": 161,
   "id": "65acd08a",
   "metadata": {},
   "outputs": [
    {
     "data": {
      "text/plain": [
       "b    Ajinkya\n",
       "c     Akshay\n",
       "dtype: object"
      ]
     },
     "execution_count": 161,
     "metadata": {},
     "output_type": "execute_result"
    }
   ],
   "source": [
    "names_1[1:3]"
   ]
  },
  {
   "cell_type": "code",
   "execution_count": 163,
   "id": "461d0a9e",
   "metadata": {},
   "outputs": [
    {
     "data": {
      "text/plain": [
       "b    Ajinkya\n",
       "c     Akshay\n",
       "d      Amolt\n",
       "dtype: object"
      ]
     },
     "execution_count": 163,
     "metadata": {},
     "output_type": "execute_result"
    }
   ],
   "source": [
    "names_1['b':'d']"
   ]
  },
  {
   "cell_type": "code",
   "execution_count": 165,
   "id": "184c76f7",
   "metadata": {},
   "outputs": [
    {
     "data": {
      "text/plain": [
       "1    Ajinkya\n",
       "2     Akshay\n",
       "3      Amolt\n",
       "dtype: object"
      ]
     },
     "execution_count": 165,
     "metadata": {},
     "output_type": "execute_result"
    }
   ],
   "source": [
    "names[1:4]"
   ]
  },
  {
   "cell_type": "code",
   "execution_count": 166,
   "id": "25c40c98",
   "metadata": {},
   "outputs": [
    {
     "data": {
      "text/plain": [
       "1   -0.383057\n",
       "2   -0.448201\n",
       "3   -0.821843\n",
       "4    0.074340\n",
       "5   -0.015144\n",
       "dtype: float64"
      ]
     },
     "execution_count": 166,
     "metadata": {},
     "output_type": "execute_result"
    }
   ],
   "source": [
    "random_series"
   ]
  },
  {
   "cell_type": "code",
   "execution_count": 169,
   "id": "dccbc97b",
   "metadata": {},
   "outputs": [
    {
     "data": {
      "text/plain": [
       "1   -0.383057\n",
       "2   -0.448201\n",
       "3   -0.821843\n",
       "dtype: float64"
      ]
     },
     "execution_count": 169,
     "metadata": {},
     "output_type": "execute_result"
    }
   ],
   "source": [
    "random_series[0:3]"
   ]
  },
  {
   "cell_type": "code",
   "execution_count": 178,
   "id": "7f6554fd",
   "metadata": {},
   "outputs": [],
   "source": [
    "brics_country = ['Brazil', 'Russia', 'India', 'China', 'South Africa']\n",
    "\n",
    "brics_currency = ['Real', 'Ruble', 'Rupee', 'Renminbi', 'Rand' ]"
   ]
  },
  {
   "cell_type": "code",
   "execution_count": 179,
   "id": "44c2db0a",
   "metadata": {},
   "outputs": [
    {
     "data": {
      "text/plain": [
       "Real              Brazil\n",
       "Ruble             Russia\n",
       "Rupee              India\n",
       "Renminbi           China\n",
       "Rand        South Africa\n",
       "dtype: object"
      ]
     },
     "execution_count": 179,
     "metadata": {},
     "output_type": "execute_result"
    }
   ],
   "source": [
    "arr = pd.Series(brics_country , index = brics_currency)\n",
    "arr"
   ]
  },
  {
   "cell_type": "code",
   "execution_count": 180,
   "id": "94130cb5",
   "metadata": {},
   "outputs": [
    {
     "data": {
      "text/plain": [
       "Ruble       Russia\n",
       "Rupee        India\n",
       "Renminbi     China\n",
       "dtype: object"
      ]
     },
     "execution_count": 180,
     "metadata": {},
     "output_type": "execute_result"
    }
   ],
   "source": [
    "arr[1:4]"
   ]
  },
  {
   "cell_type": "code",
   "execution_count": 181,
   "id": "df31ee4e",
   "metadata": {},
   "outputs": [
    {
     "data": {
      "text/plain": [
       "Ruble       Russia\n",
       "Rupee        India\n",
       "Renminbi     China\n",
       "dtype: object"
      ]
     },
     "execution_count": 181,
     "metadata": {},
     "output_type": "execute_result"
    }
   ],
   "source": [
    "arr['Ruble':'Renminbi']"
   ]
  },
  {
   "cell_type": "code",
   "execution_count": 182,
   "id": "71cbfca0",
   "metadata": {},
   "outputs": [
    {
     "data": {
      "text/plain": [
       "Real        Brazil\n",
       "Ruble       Russia\n",
       "Rupee        India\n",
       "Renminbi     China\n",
       "dtype: object"
      ]
     },
     "execution_count": 182,
     "metadata": {},
     "output_type": "execute_result"
    }
   ],
   "source": [
    "arr[:'Renminbi']"
   ]
  },
  {
   "cell_type": "code",
   "execution_count": 183,
   "id": "6000d35b",
   "metadata": {
    "scrolled": true
   },
   "outputs": [
    {
     "data": {
      "text/plain": [
       "Rand        South Africa\n",
       "Renminbi           China\n",
       "Rupee              India\n",
       "Ruble             Russia\n",
       "Real              Brazil\n",
       "dtype: object"
      ]
     },
     "execution_count": 183,
     "metadata": {},
     "output_type": "execute_result"
    }
   ],
   "source": [
    "arr[::-1]"
   ]
  },
  {
   "cell_type": "code",
   "execution_count": 184,
   "id": "3d0fb354",
   "metadata": {},
   "outputs": [],
   "source": [
    "brics_country = ['Brazil', 'Russia', 'India', 'China', 'South Africa']\n",
    "\n",
    "brics_currency = ['Real', 'Ruble', 'Rupee', 'Renminbi', np.nan ]"
   ]
  },
  {
   "cell_type": "code",
   "execution_count": 185,
   "id": "366c52f9",
   "metadata": {},
   "outputs": [
    {
     "data": {
      "text/plain": [
       "Real              Brazil\n",
       "Ruble             Russia\n",
       "Rupee              India\n",
       "Renminbi           China\n",
       "NaN         South Africa\n",
       "dtype: object"
      ]
     },
     "execution_count": 185,
     "metadata": {},
     "output_type": "execute_result"
    }
   ],
   "source": [
    "arr = pd.Series(brics_country , index = brics_currency)\n",
    "arr"
   ]
  },
  {
   "cell_type": "code",
   "execution_count": null,
   "id": "41b308cd",
   "metadata": {},
   "outputs": [],
   "source": [
    "# datafram - 2D\n",
    "\n",
    "# How to create a data fram"
   ]
  },
  {
   "cell_type": "code",
   "execution_count": null,
   "id": "9bad4489",
   "metadata": {},
   "outputs": [],
   "source": [
    "brics_country = ['Brazil', 'Russia', 'India', 'China', 'South Africa']\n",
    "\n",
    "brics_currency = ['Real', 'Ruble', 'Rupee', 'Renminbi', np.nan ]"
   ]
  },
  {
   "cell_type": "code",
   "execution_count": 186,
   "id": "282285d5",
   "metadata": {},
   "outputs": [
    {
     "data": {
      "text/html": [
       "<div>\n",
       "<style scoped>\n",
       "    .dataframe tbody tr th:only-of-type {\n",
       "        vertical-align: middle;\n",
       "    }\n",
       "\n",
       "    .dataframe tbody tr th {\n",
       "        vertical-align: top;\n",
       "    }\n",
       "\n",
       "    .dataframe thead th {\n",
       "        text-align: right;\n",
       "    }\n",
       "</style>\n",
       "<table border=\"1\" class=\"dataframe\">\n",
       "  <thead>\n",
       "    <tr style=\"text-align: right;\">\n",
       "      <th></th>\n",
       "      <th>0</th>\n",
       "    </tr>\n",
       "  </thead>\n",
       "  <tbody>\n",
       "    <tr>\n",
       "      <th>0</th>\n",
       "      <td>Brazil</td>\n",
       "    </tr>\n",
       "    <tr>\n",
       "      <th>1</th>\n",
       "      <td>Russia</td>\n",
       "    </tr>\n",
       "    <tr>\n",
       "      <th>2</th>\n",
       "      <td>India</td>\n",
       "    </tr>\n",
       "    <tr>\n",
       "      <th>3</th>\n",
       "      <td>China</td>\n",
       "    </tr>\n",
       "    <tr>\n",
       "      <th>4</th>\n",
       "      <td>South Africa</td>\n",
       "    </tr>\n",
       "  </tbody>\n",
       "</table>\n",
       "</div>"
      ],
      "text/plain": [
       "              0\n",
       "0        Brazil\n",
       "1        Russia\n",
       "2         India\n",
       "3         China\n",
       "4  South Africa"
      ]
     },
     "execution_count": 186,
     "metadata": {},
     "output_type": "execute_result"
    }
   ],
   "source": [
    "data = pd.DataFrame(brics_country)\n",
    "data"
   ]
  },
  {
   "cell_type": "code",
   "execution_count": 187,
   "id": "5f4a96c1",
   "metadata": {},
   "outputs": [
    {
     "data": {
      "text/html": [
       "<div>\n",
       "<style scoped>\n",
       "    .dataframe tbody tr th:only-of-type {\n",
       "        vertical-align: middle;\n",
       "    }\n",
       "\n",
       "    .dataframe tbody tr th {\n",
       "        vertical-align: top;\n",
       "    }\n",
       "\n",
       "    .dataframe thead th {\n",
       "        text-align: right;\n",
       "    }\n",
       "</style>\n",
       "<table border=\"1\" class=\"dataframe\">\n",
       "  <thead>\n",
       "    <tr style=\"text-align: right;\">\n",
       "      <th></th>\n",
       "      <th>Country</th>\n",
       "    </tr>\n",
       "  </thead>\n",
       "  <tbody>\n",
       "    <tr>\n",
       "      <th>0</th>\n",
       "      <td>Brazil</td>\n",
       "    </tr>\n",
       "    <tr>\n",
       "      <th>1</th>\n",
       "      <td>Russia</td>\n",
       "    </tr>\n",
       "    <tr>\n",
       "      <th>2</th>\n",
       "      <td>India</td>\n",
       "    </tr>\n",
       "    <tr>\n",
       "      <th>3</th>\n",
       "      <td>China</td>\n",
       "    </tr>\n",
       "    <tr>\n",
       "      <th>4</th>\n",
       "      <td>South Africa</td>\n",
       "    </tr>\n",
       "  </tbody>\n",
       "</table>\n",
       "</div>"
      ],
      "text/plain": [
       "        Country\n",
       "0        Brazil\n",
       "1        Russia\n",
       "2         India\n",
       "3         China\n",
       "4  South Africa"
      ]
     },
     "execution_count": 187,
     "metadata": {},
     "output_type": "execute_result"
    }
   ],
   "source": [
    "data = pd.DataFrame(brics_country , columns= ['Country'])\n",
    "data"
   ]
  },
  {
   "cell_type": "code",
   "execution_count": 191,
   "id": "0d498a20",
   "metadata": {},
   "outputs": [
    {
     "data": {
      "text/html": [
       "<div>\n",
       "<style scoped>\n",
       "    .dataframe tbody tr th:only-of-type {\n",
       "        vertical-align: middle;\n",
       "    }\n",
       "\n",
       "    .dataframe tbody tr th {\n",
       "        vertical-align: top;\n",
       "    }\n",
       "\n",
       "    .dataframe thead th {\n",
       "        text-align: right;\n",
       "    }\n",
       "</style>\n",
       "<table border=\"1\" class=\"dataframe\">\n",
       "  <thead>\n",
       "    <tr style=\"text-align: right;\">\n",
       "      <th></th>\n",
       "      <th>country</th>\n",
       "      <th>currency</th>\n",
       "    </tr>\n",
       "  </thead>\n",
       "  <tbody>\n",
       "    <tr>\n",
       "      <th>0</th>\n",
       "      <td>Brazil</td>\n",
       "      <td>Real</td>\n",
       "    </tr>\n",
       "    <tr>\n",
       "      <th>1</th>\n",
       "      <td>Russia</td>\n",
       "      <td>Ruble</td>\n",
       "    </tr>\n",
       "    <tr>\n",
       "      <th>2</th>\n",
       "      <td>India</td>\n",
       "      <td>Rupee</td>\n",
       "    </tr>\n",
       "    <tr>\n",
       "      <th>3</th>\n",
       "      <td>China</td>\n",
       "      <td>Renminbi</td>\n",
       "    </tr>\n",
       "    <tr>\n",
       "      <th>4</th>\n",
       "      <td>South Africa</td>\n",
       "      <td>NaN</td>\n",
       "    </tr>\n",
       "  </tbody>\n",
       "</table>\n",
       "</div>"
      ],
      "text/plain": [
       "        country  currency\n",
       "0        Brazil      Real\n",
       "1        Russia     Ruble\n",
       "2         India     Rupee\n",
       "3         China  Renminbi\n",
       "4  South Africa       NaN"
      ]
     },
     "execution_count": 191,
     "metadata": {},
     "output_type": "execute_result"
    }
   ],
   "source": [
    "data = pd.DataFrame({'country':brics_country , \n",
    "                    'currency': brics_currency})\n",
    "data"
   ]
  },
  {
   "cell_type": "code",
   "execution_count": 192,
   "id": "f92ae079",
   "metadata": {},
   "outputs": [
    {
     "data": {
      "text/plain": [
       "0          Brazil\n",
       "1          Russia\n",
       "2           India\n",
       "3           China\n",
       "4    South Africa\n",
       "Name: country, dtype: object"
      ]
     },
     "execution_count": 192,
     "metadata": {},
     "output_type": "execute_result"
    }
   ],
   "source": [
    "data['country']"
   ]
  },
  {
   "cell_type": "markdown",
   "id": "58098b5a",
   "metadata": {},
   "source": [
    "# Loading data from external source"
   ]
  },
  {
   "cell_type": "code",
   "execution_count": 1,
   "id": "f683ede8",
   "metadata": {},
   "outputs": [
    {
     "name": "stdout",
     "output_type": "stream",
     "text": [
      " Volume in drive C has no label.\n",
      " Volume Serial Number is 185C-C476\n",
      "\n",
      " Directory of C:\\Users\\MIT\\Desktop\\ongoing classes\\10_jul\n",
      "\n",
      "03-09-2022  10:57    <DIR>          .\n",
      "03-09-2022  10:57    <DIR>          ..\n",
      "03-09-2022  08:31    <DIR>          .ipynb_checkpoints\n",
      "20-08-2022  09:03    <DIR>          __pycache__\n",
      "16-07-2022  12:04            25,094 Class_1.ipynb\n",
      "14-08-2022  12:31            57,998 Class_10_map_reduce_filter.ipynb\n",
      "21-08-2022  09:55            29,609 Class_11_File_handling_Regex.ipynb\n",
      "27-08-2022  08:38            28,346 Class_12_Exceptional_Handling.ipynb\n",
      "23-07-2022  08:34            31,931 Class_2.ipynb\n",
      "23-07-2022  11:59            29,580 Class_3_Int_float_bool.ipynb\n",
      "30-07-2022  09:32            38,324 Class_4_strings_part_2.ipynb\n",
      "30-07-2022  12:26            23,051 Class_5_List_List-comprehension.ipynb\n",
      "31-07-2022  11:56            47,495 Class_6_List_part_2_List_comprehension.ipynb\n",
      "06-08-2022  11:51            68,381 Class_7_dictionary.ipynb\n",
      "13-08-2022  08:26         1,834,970 Class_8_Set_range_conditional statements.ipynb\n",
      "14-08-2022  09:37            42,321 Class_9_Functions.ipynb\n",
      "20-08-2022  08:58                 0 cod.py\n",
      "20-08-2022  09:01               350 credit.py\n",
      "20-08-2022  10:40    <DIR>          datasets\n",
      "20-08-2022  08:57                 0 debit.py\n",
      "21-08-2022  09:57    <DIR>          file_handling\n",
      "21-08-2022  09:06                 3 methods_write.py\n",
      "20-08-2022  08:51               543 my_module.py\n",
      "03-09-2022  08:33           103,084 Numpy_Part_1.ipynb\n",
      "03-09-2022  10:57           362,059 Numpy_Part_2_Pandas_part_1.ipynb\n",
      "28-08-2022  11:53           123,557 Regex_Numpy_Part_1.ipynb\n",
      "16-07-2022  09:43                54 test.py\n",
      "20-08-2022  10:03                17 trail_file.txt\n",
      "14-08-2022  11:40                 0 untitled.txt\n",
      "              23 File(s)      2,846,767 bytes\n",
      "               6 Dir(s)  409,794,994,176 bytes free\n"
     ]
    }
   ],
   "source": [
    "ls"
   ]
  },
  {
   "cell_type": "code",
   "execution_count": 2,
   "id": "5c2d8ec3",
   "metadata": {},
   "outputs": [
    {
     "data": {
      "text/plain": [
       "'C:\\\\Users\\\\MIT\\\\Desktop\\\\ongoing classes\\\\10_jul'"
      ]
     },
     "execution_count": 2,
     "metadata": {},
     "output_type": "execute_result"
    }
   ],
   "source": [
    "pwd"
   ]
  },
  {
   "cell_type": "code",
   "execution_count": 3,
   "id": "fb64577d",
   "metadata": {},
   "outputs": [],
   "source": [
    "import numpy as np\n",
    "import pandas as pd"
   ]
  },
  {
   "cell_type": "code",
   "execution_count": 4,
   "id": "b5de694a",
   "metadata": {},
   "outputs": [
    {
     "data": {
      "text/html": [
       "<div>\n",
       "<style scoped>\n",
       "    .dataframe tbody tr th:only-of-type {\n",
       "        vertical-align: middle;\n",
       "    }\n",
       "\n",
       "    .dataframe tbody tr th {\n",
       "        vertical-align: top;\n",
       "    }\n",
       "\n",
       "    .dataframe thead th {\n",
       "        text-align: right;\n",
       "    }\n",
       "</style>\n",
       "<table border=\"1\" class=\"dataframe\">\n",
       "  <thead>\n",
       "    <tr style=\"text-align: right;\">\n",
       "      <th></th>\n",
       "      <th>name_speaker</th>\n",
       "      <th>speaker_occupation</th>\n",
       "      <th>title</th>\n",
       "      <th>views</th>\n",
       "      <th>comments</th>\n",
       "    </tr>\n",
       "  </thead>\n",
       "  <tbody>\n",
       "    <tr>\n",
       "      <th>0</th>\n",
       "      <td>Ken Robinson</td>\n",
       "      <td>Author/educator</td>\n",
       "      <td>Do schools kill creativity?</td>\n",
       "      <td>47227110</td>\n",
       "      <td>4553</td>\n",
       "    </tr>\n",
       "    <tr>\n",
       "      <th>1</th>\n",
       "      <td>Al Gore</td>\n",
       "      <td>Climate advocate</td>\n",
       "      <td>Averting the climate crisis</td>\n",
       "      <td>3200520</td>\n",
       "      <td>265</td>\n",
       "    </tr>\n",
       "    <tr>\n",
       "      <th>2</th>\n",
       "      <td>David Pogue</td>\n",
       "      <td>Technology columnist</td>\n",
       "      <td>Simplicity sells</td>\n",
       "      <td>1636292</td>\n",
       "      <td>124</td>\n",
       "    </tr>\n",
       "    <tr>\n",
       "      <th>3</th>\n",
       "      <td>Majora Carter</td>\n",
       "      <td>Activist for environmental justice</td>\n",
       "      <td>Greening the ghetto</td>\n",
       "      <td>1697550</td>\n",
       "      <td>200</td>\n",
       "    </tr>\n",
       "    <tr>\n",
       "      <th>4</th>\n",
       "      <td>Hans Rosling</td>\n",
       "      <td>Global health expert; data visionary</td>\n",
       "      <td>The best stats you've ever seen</td>\n",
       "      <td>12005869</td>\n",
       "      <td>593</td>\n",
       "    </tr>\n",
       "    <tr>\n",
       "      <th>5</th>\n",
       "      <td>Tony Robbins</td>\n",
       "      <td>Life coach; expert in leadership psychology</td>\n",
       "      <td>Why we do what we do</td>\n",
       "      <td>20685401</td>\n",
       "      <td>672</td>\n",
       "    </tr>\n",
       "    <tr>\n",
       "      <th>6</th>\n",
       "      <td>Julia Sweeney</td>\n",
       "      <td>Actor, comedian, playwright</td>\n",
       "      <td>Letting go of God</td>\n",
       "      <td>3769987</td>\n",
       "      <td>919</td>\n",
       "    </tr>\n",
       "    <tr>\n",
       "      <th>7</th>\n",
       "      <td>Joshua Prince-Ramus</td>\n",
       "      <td>Architect</td>\n",
       "      <td>Behind the design of Seattle's library</td>\n",
       "      <td>967741</td>\n",
       "      <td>46</td>\n",
       "    </tr>\n",
       "    <tr>\n",
       "      <th>8</th>\n",
       "      <td>Dan Dennett</td>\n",
       "      <td>Philosopher, cognitive scientist</td>\n",
       "      <td>Let's teach religion -- all religion -- in sch...</td>\n",
       "      <td>2567958</td>\n",
       "      <td>582</td>\n",
       "    </tr>\n",
       "    <tr>\n",
       "      <th>9</th>\n",
       "      <td>Rick Warren</td>\n",
       "      <td>Pastor, author</td>\n",
       "      <td>A life of purpose</td>\n",
       "      <td>3095993</td>\n",
       "      <td>900</td>\n",
       "    </tr>\n",
       "  </tbody>\n",
       "</table>\n",
       "</div>"
      ],
      "text/plain": [
       "          name_speaker                           speaker_occupation  \\\n",
       "0         Ken Robinson                              Author/educator   \n",
       "1              Al Gore                             Climate advocate   \n",
       "2          David Pogue                         Technology columnist   \n",
       "3        Majora Carter           Activist for environmental justice   \n",
       "4         Hans Rosling         Global health expert; data visionary   \n",
       "5         Tony Robbins  Life coach; expert in leadership psychology   \n",
       "6        Julia Sweeney                  Actor, comedian, playwright   \n",
       "7  Joshua Prince-Ramus                                    Architect   \n",
       "8          Dan Dennett             Philosopher, cognitive scientist   \n",
       "9          Rick Warren                               Pastor, author   \n",
       "\n",
       "                                               title     views  comments  \n",
       "0                        Do schools kill creativity?  47227110      4553  \n",
       "1                        Averting the climate crisis   3200520       265  \n",
       "2                                   Simplicity sells   1636292       124  \n",
       "3                                Greening the ghetto   1697550       200  \n",
       "4                    The best stats you've ever seen  12005869       593  \n",
       "5                               Why we do what we do  20685401       672  \n",
       "6                                  Letting go of God   3769987       919  \n",
       "7             Behind the design of Seattle's library    967741        46  \n",
       "8  Let's teach religion -- all religion -- in sch...   2567958       582  \n",
       "9                                  A life of purpose   3095993       900  "
      ]
     },
     "execution_count": 4,
     "metadata": {},
     "output_type": "execute_result"
    }
   ],
   "source": [
    "df = pd.read_csv('datasets/ted_data.csv')\n",
    "df"
   ]
  },
  {
   "cell_type": "code",
   "execution_count": 5,
   "id": "b5279de3",
   "metadata": {},
   "outputs": [
    {
     "data": {
      "text/html": [
       "<div>\n",
       "<style scoped>\n",
       "    .dataframe tbody tr th:only-of-type {\n",
       "        vertical-align: middle;\n",
       "    }\n",
       "\n",
       "    .dataframe tbody tr th {\n",
       "        vertical-align: top;\n",
       "    }\n",
       "\n",
       "    .dataframe thead th {\n",
       "        text-align: right;\n",
       "    }\n",
       "</style>\n",
       "<table border=\"1\" class=\"dataframe\">\n",
       "  <thead>\n",
       "    <tr style=\"text-align: right;\">\n",
       "      <th></th>\n",
       "      <th>Year</th>\n",
       "      <th>Country</th>\n",
       "      <th>Winner</th>\n",
       "      <th>Runners-Up</th>\n",
       "      <th>GoalsScored</th>\n",
       "      <th>MatchesPlayed</th>\n",
       "    </tr>\n",
       "  </thead>\n",
       "  <tbody>\n",
       "    <tr>\n",
       "      <th>0</th>\n",
       "      <td>1990</td>\n",
       "      <td>Italy</td>\n",
       "      <td>Germany</td>\n",
       "      <td>Argentina</td>\n",
       "      <td>115</td>\n",
       "      <td>52</td>\n",
       "    </tr>\n",
       "    <tr>\n",
       "      <th>1</th>\n",
       "      <td>1994</td>\n",
       "      <td>USA</td>\n",
       "      <td>Brazil</td>\n",
       "      <td>Italy</td>\n",
       "      <td>141</td>\n",
       "      <td>52</td>\n",
       "    </tr>\n",
       "    <tr>\n",
       "      <th>2</th>\n",
       "      <td>1998</td>\n",
       "      <td>France</td>\n",
       "      <td>France</td>\n",
       "      <td>Brazil</td>\n",
       "      <td>171</td>\n",
       "      <td>64</td>\n",
       "    </tr>\n",
       "    <tr>\n",
       "      <th>3</th>\n",
       "      <td>2002</td>\n",
       "      <td>Japan</td>\n",
       "      <td>Brazil</td>\n",
       "      <td>Germany</td>\n",
       "      <td>161</td>\n",
       "      <td>64</td>\n",
       "    </tr>\n",
       "    <tr>\n",
       "      <th>4</th>\n",
       "      <td>2006</td>\n",
       "      <td>Germany</td>\n",
       "      <td>Italy</td>\n",
       "      <td>France</td>\n",
       "      <td>147</td>\n",
       "      <td>64</td>\n",
       "    </tr>\n",
       "    <tr>\n",
       "      <th>5</th>\n",
       "      <td>2010</td>\n",
       "      <td>South Africa</td>\n",
       "      <td>Spain</td>\n",
       "      <td>Netherlands</td>\n",
       "      <td>145</td>\n",
       "      <td>64</td>\n",
       "    </tr>\n",
       "    <tr>\n",
       "      <th>6</th>\n",
       "      <td>2014</td>\n",
       "      <td>Brazil</td>\n",
       "      <td>Germany</td>\n",
       "      <td>Argentina</td>\n",
       "      <td>171</td>\n",
       "      <td>64</td>\n",
       "    </tr>\n",
       "  </tbody>\n",
       "</table>\n",
       "</div>"
      ],
      "text/plain": [
       "   Year       Country    Winner   Runners-Up  GoalsScored  MatchesPlayed\n",
       "0  1990         Italy  Germany     Argentina          115             52\n",
       "1  1994           USA    Brazil        Italy          141             52\n",
       "2  1998        France    France       Brazil          171             64\n",
       "3  2002         Japan    Brazil      Germany          161             64\n",
       "4  2006       Germany     Italy       France          147             64\n",
       "5  2010  South Africa     Spain  Netherlands          145             64\n",
       "6  2014        Brazil   Germany    Argentina          171             64"
      ]
     },
     "execution_count": 5,
     "metadata": {},
     "output_type": "execute_result"
    }
   ],
   "source": [
    "# excel\n",
    "df_excel = pd.read_excel('datasets/football_worldcup.xlsx')\n",
    "df_excel"
   ]
  },
  {
   "cell_type": "code",
   "execution_count": 6,
   "id": "eb393bca",
   "metadata": {},
   "outputs": [
    {
     "data": {
      "text/plain": [
       "\"import pandas as pd\\n\\nurl='<file link>'\\nfile_id=url.split('/')[-2]\\ndwn_url='https://drive.google.com/uc?id=' + file_id\\ndf = pd.read_csv(dwn_url)\\nprint(df.head())\\n\""
      ]
     },
     "execution_count": 6,
     "metadata": {},
     "output_type": "execute_result"
    }
   ],
   "source": [
    "'''import pandas as pd\n",
    "\n",
    "url='<file link>'\n",
    "file_id=url.split('/')[-2]\n",
    "dwn_url='https://drive.google.com/uc?id=' + file_id\n",
    "df = pd.read_csv(dwn_url)\n",
    "print(df.head())\n",
    "'''"
   ]
  },
  {
   "cell_type": "code",
   "execution_count": 19,
   "id": "763b97ba",
   "metadata": {},
   "outputs": [],
   "source": [
    "# Create a datafram using dic\n",
    "\n",
    "df_dict = {'Year' : [1990, 1994, 1998, 2002],\n",
    "           'Country' : ['Italy', 'USA', 'France', 'Japan'],\n",
    "           'Winner' : ['Germany', 'Brazil', 'France', 'Brazil'],\n",
    "           'GoalScored' : [115, 141, 171,156]\n",
    "          }"
   ]
  },
  {
   "cell_type": "code",
   "execution_count": 20,
   "id": "419db8f3",
   "metadata": {},
   "outputs": [
    {
     "data": {
      "text/html": [
       "<div>\n",
       "<style scoped>\n",
       "    .dataframe tbody tr th:only-of-type {\n",
       "        vertical-align: middle;\n",
       "    }\n",
       "\n",
       "    .dataframe tbody tr th {\n",
       "        vertical-align: top;\n",
       "    }\n",
       "\n",
       "    .dataframe thead th {\n",
       "        text-align: right;\n",
       "    }\n",
       "</style>\n",
       "<table border=\"1\" class=\"dataframe\">\n",
       "  <thead>\n",
       "    <tr style=\"text-align: right;\">\n",
       "      <th></th>\n",
       "      <th>Year</th>\n",
       "      <th>Country</th>\n",
       "      <th>Winner</th>\n",
       "      <th>GoalScored</th>\n",
       "    </tr>\n",
       "  </thead>\n",
       "  <tbody>\n",
       "    <tr>\n",
       "      <th>0</th>\n",
       "      <td>1990</td>\n",
       "      <td>Italy</td>\n",
       "      <td>Germany</td>\n",
       "      <td>115</td>\n",
       "    </tr>\n",
       "    <tr>\n",
       "      <th>1</th>\n",
       "      <td>1994</td>\n",
       "      <td>USA</td>\n",
       "      <td>Brazil</td>\n",
       "      <td>141</td>\n",
       "    </tr>\n",
       "    <tr>\n",
       "      <th>2</th>\n",
       "      <td>1998</td>\n",
       "      <td>France</td>\n",
       "      <td>France</td>\n",
       "      <td>171</td>\n",
       "    </tr>\n",
       "    <tr>\n",
       "      <th>3</th>\n",
       "      <td>2002</td>\n",
       "      <td>Japan</td>\n",
       "      <td>Brazil</td>\n",
       "      <td>156</td>\n",
       "    </tr>\n",
       "  </tbody>\n",
       "</table>\n",
       "</div>"
      ],
      "text/plain": [
       "   Year Country   Winner  GoalScored\n",
       "0  1990   Italy  Germany         115\n",
       "1  1994     USA   Brazil         141\n",
       "2  1998  France   France         171\n",
       "3  2002   Japan   Brazil         156"
      ]
     },
     "execution_count": 20,
     "metadata": {},
     "output_type": "execute_result"
    }
   ],
   "source": [
    "data = pd.DataFrame(df_dict)\n",
    "data"
   ]
  },
  {
   "cell_type": "code",
   "execution_count": 25,
   "id": "2acac152",
   "metadata": {},
   "outputs": [],
   "source": [
    "# Create a datafram using dic\n",
    "\n",
    "df_dict = {'Year' : [1990, 1994, 1998, 2002],\n",
    "           'Country' : ['Italy', 'USA', 'France', 'Japan'],\n",
    "           'Winner' : ['Germany', 'Brazil', 'France', 'Brazil'],\n",
    "           'GoalScored' : [115, 141, 171]\n",
    "          }"
   ]
  },
  {
   "cell_type": "code",
   "execution_count": 26,
   "id": "d34e4944",
   "metadata": {},
   "outputs": [
    {
     "ename": "ValueError",
     "evalue": "All arrays must be of the same length",
     "output_type": "error",
     "traceback": [
      "\u001b[1;31m---------------------------------------------------------------------------\u001b[0m",
      "\u001b[1;31mValueError\u001b[0m                                Traceback (most recent call last)",
      "Input \u001b[1;32mIn [26]\u001b[0m, in \u001b[0;36m<cell line: 1>\u001b[1;34m()\u001b[0m\n\u001b[1;32m----> 1\u001b[0m data \u001b[38;5;241m=\u001b[39m \u001b[43mpd\u001b[49m\u001b[38;5;241;43m.\u001b[39;49m\u001b[43mDataFrame\u001b[49m\u001b[43m(\u001b[49m\u001b[43mdf_dict\u001b[49m\u001b[43m)\u001b[49m\n\u001b[0;32m      2\u001b[0m data\n",
      "File \u001b[1;32m~\\anaconda3\\lib\\site-packages\\pandas\\core\\frame.py:636\u001b[0m, in \u001b[0;36mDataFrame.__init__\u001b[1;34m(self, data, index, columns, dtype, copy)\u001b[0m\n\u001b[0;32m    630\u001b[0m     mgr \u001b[38;5;241m=\u001b[39m \u001b[38;5;28mself\u001b[39m\u001b[38;5;241m.\u001b[39m_init_mgr(\n\u001b[0;32m    631\u001b[0m         data, axes\u001b[38;5;241m=\u001b[39m{\u001b[38;5;124m\"\u001b[39m\u001b[38;5;124mindex\u001b[39m\u001b[38;5;124m\"\u001b[39m: index, \u001b[38;5;124m\"\u001b[39m\u001b[38;5;124mcolumns\u001b[39m\u001b[38;5;124m\"\u001b[39m: columns}, dtype\u001b[38;5;241m=\u001b[39mdtype, copy\u001b[38;5;241m=\u001b[39mcopy\n\u001b[0;32m    632\u001b[0m     )\n\u001b[0;32m    634\u001b[0m \u001b[38;5;28;01melif\u001b[39;00m \u001b[38;5;28misinstance\u001b[39m(data, \u001b[38;5;28mdict\u001b[39m):\n\u001b[0;32m    635\u001b[0m     \u001b[38;5;66;03m# GH#38939 de facto copy defaults to False only in non-dict cases\u001b[39;00m\n\u001b[1;32m--> 636\u001b[0m     mgr \u001b[38;5;241m=\u001b[39m \u001b[43mdict_to_mgr\u001b[49m\u001b[43m(\u001b[49m\u001b[43mdata\u001b[49m\u001b[43m,\u001b[49m\u001b[43m \u001b[49m\u001b[43mindex\u001b[49m\u001b[43m,\u001b[49m\u001b[43m \u001b[49m\u001b[43mcolumns\u001b[49m\u001b[43m,\u001b[49m\u001b[43m \u001b[49m\u001b[43mdtype\u001b[49m\u001b[38;5;241;43m=\u001b[39;49m\u001b[43mdtype\u001b[49m\u001b[43m,\u001b[49m\u001b[43m \u001b[49m\u001b[43mcopy\u001b[49m\u001b[38;5;241;43m=\u001b[39;49m\u001b[43mcopy\u001b[49m\u001b[43m,\u001b[49m\u001b[43m \u001b[49m\u001b[43mtyp\u001b[49m\u001b[38;5;241;43m=\u001b[39;49m\u001b[43mmanager\u001b[49m\u001b[43m)\u001b[49m\n\u001b[0;32m    637\u001b[0m \u001b[38;5;28;01melif\u001b[39;00m \u001b[38;5;28misinstance\u001b[39m(data, ma\u001b[38;5;241m.\u001b[39mMaskedArray):\n\u001b[0;32m    638\u001b[0m     \u001b[38;5;28;01mimport\u001b[39;00m \u001b[38;5;21;01mnumpy\u001b[39;00m\u001b[38;5;21;01m.\u001b[39;00m\u001b[38;5;21;01mma\u001b[39;00m\u001b[38;5;21;01m.\u001b[39;00m\u001b[38;5;21;01mmrecords\u001b[39;00m \u001b[38;5;28;01mas\u001b[39;00m \u001b[38;5;21;01mmrecords\u001b[39;00m\n",
      "File \u001b[1;32m~\\anaconda3\\lib\\site-packages\\pandas\\core\\internals\\construction.py:502\u001b[0m, in \u001b[0;36mdict_to_mgr\u001b[1;34m(data, index, columns, dtype, typ, copy)\u001b[0m\n\u001b[0;32m    494\u001b[0m     arrays \u001b[38;5;241m=\u001b[39m [\n\u001b[0;32m    495\u001b[0m         x\n\u001b[0;32m    496\u001b[0m         \u001b[38;5;28;01mif\u001b[39;00m \u001b[38;5;129;01mnot\u001b[39;00m \u001b[38;5;28mhasattr\u001b[39m(x, \u001b[38;5;124m\"\u001b[39m\u001b[38;5;124mdtype\u001b[39m\u001b[38;5;124m\"\u001b[39m) \u001b[38;5;129;01mor\u001b[39;00m \u001b[38;5;129;01mnot\u001b[39;00m \u001b[38;5;28misinstance\u001b[39m(x\u001b[38;5;241m.\u001b[39mdtype, ExtensionDtype)\n\u001b[0;32m    497\u001b[0m         \u001b[38;5;28;01melse\u001b[39;00m x\u001b[38;5;241m.\u001b[39mcopy()\n\u001b[0;32m    498\u001b[0m         \u001b[38;5;28;01mfor\u001b[39;00m x \u001b[38;5;129;01min\u001b[39;00m arrays\n\u001b[0;32m    499\u001b[0m     ]\n\u001b[0;32m    500\u001b[0m     \u001b[38;5;66;03m# TODO: can we get rid of the dt64tz special case above?\u001b[39;00m\n\u001b[1;32m--> 502\u001b[0m \u001b[38;5;28;01mreturn\u001b[39;00m \u001b[43marrays_to_mgr\u001b[49m\u001b[43m(\u001b[49m\u001b[43marrays\u001b[49m\u001b[43m,\u001b[49m\u001b[43m \u001b[49m\u001b[43mcolumns\u001b[49m\u001b[43m,\u001b[49m\u001b[43m \u001b[49m\u001b[43mindex\u001b[49m\u001b[43m,\u001b[49m\u001b[43m \u001b[49m\u001b[43mdtype\u001b[49m\u001b[38;5;241;43m=\u001b[39;49m\u001b[43mdtype\u001b[49m\u001b[43m,\u001b[49m\u001b[43m \u001b[49m\u001b[43mtyp\u001b[49m\u001b[38;5;241;43m=\u001b[39;49m\u001b[43mtyp\u001b[49m\u001b[43m,\u001b[49m\u001b[43m \u001b[49m\u001b[43mconsolidate\u001b[49m\u001b[38;5;241;43m=\u001b[39;49m\u001b[43mcopy\u001b[49m\u001b[43m)\u001b[49m\n",
      "File \u001b[1;32m~\\anaconda3\\lib\\site-packages\\pandas\\core\\internals\\construction.py:120\u001b[0m, in \u001b[0;36marrays_to_mgr\u001b[1;34m(arrays, columns, index, dtype, verify_integrity, typ, consolidate)\u001b[0m\n\u001b[0;32m    117\u001b[0m \u001b[38;5;28;01mif\u001b[39;00m verify_integrity:\n\u001b[0;32m    118\u001b[0m     \u001b[38;5;66;03m# figure out the index, if necessary\u001b[39;00m\n\u001b[0;32m    119\u001b[0m     \u001b[38;5;28;01mif\u001b[39;00m index \u001b[38;5;129;01mis\u001b[39;00m \u001b[38;5;28;01mNone\u001b[39;00m:\n\u001b[1;32m--> 120\u001b[0m         index \u001b[38;5;241m=\u001b[39m \u001b[43m_extract_index\u001b[49m\u001b[43m(\u001b[49m\u001b[43marrays\u001b[49m\u001b[43m)\u001b[49m\n\u001b[0;32m    121\u001b[0m     \u001b[38;5;28;01melse\u001b[39;00m:\n\u001b[0;32m    122\u001b[0m         index \u001b[38;5;241m=\u001b[39m ensure_index(index)\n",
      "File \u001b[1;32m~\\anaconda3\\lib\\site-packages\\pandas\\core\\internals\\construction.py:674\u001b[0m, in \u001b[0;36m_extract_index\u001b[1;34m(data)\u001b[0m\n\u001b[0;32m    672\u001b[0m lengths \u001b[38;5;241m=\u001b[39m \u001b[38;5;28mlist\u001b[39m(\u001b[38;5;28mset\u001b[39m(raw_lengths))\n\u001b[0;32m    673\u001b[0m \u001b[38;5;28;01mif\u001b[39;00m \u001b[38;5;28mlen\u001b[39m(lengths) \u001b[38;5;241m>\u001b[39m \u001b[38;5;241m1\u001b[39m:\n\u001b[1;32m--> 674\u001b[0m     \u001b[38;5;28;01mraise\u001b[39;00m \u001b[38;5;167;01mValueError\u001b[39;00m(\u001b[38;5;124m\"\u001b[39m\u001b[38;5;124mAll arrays must be of the same length\u001b[39m\u001b[38;5;124m\"\u001b[39m)\n\u001b[0;32m    676\u001b[0m \u001b[38;5;28;01mif\u001b[39;00m have_dicts:\n\u001b[0;32m    677\u001b[0m     \u001b[38;5;28;01mraise\u001b[39;00m \u001b[38;5;167;01mValueError\u001b[39;00m(\n\u001b[0;32m    678\u001b[0m         \u001b[38;5;124m\"\u001b[39m\u001b[38;5;124mMixing dicts with non-Series may lead to ambiguous ordering.\u001b[39m\u001b[38;5;124m\"\u001b[39m\n\u001b[0;32m    679\u001b[0m     )\n",
      "\u001b[1;31mValueError\u001b[0m: All arrays must be of the same length"
     ]
    }
   ],
   "source": [
    "data = pd.DataFrame(df_dict)\n",
    "data"
   ]
  },
  {
   "cell_type": "code",
   "execution_count": 23,
   "id": "9362aca7",
   "metadata": {},
   "outputs": [],
   "source": [
    "df_dict = {'Year' : pd.Series([1990, 1994, 1998, 2002]),\n",
    "           'Country' : pd.Series(['Italy', 'USA', 'France', 'Japan']),\n",
    "           'Winner' : pd.Series(['Germany', 'Brazil', 'France', 'Brazil']),\n",
    "           'GoalScored' : pd.Series([115, 141,np.nan ,156])\n",
    "          }"
   ]
  },
  {
   "cell_type": "code",
   "execution_count": 24,
   "id": "3e6f8ad0",
   "metadata": {},
   "outputs": [
    {
     "data": {
      "text/html": [
       "<div>\n",
       "<style scoped>\n",
       "    .dataframe tbody tr th:only-of-type {\n",
       "        vertical-align: middle;\n",
       "    }\n",
       "\n",
       "    .dataframe tbody tr th {\n",
       "        vertical-align: top;\n",
       "    }\n",
       "\n",
       "    .dataframe thead th {\n",
       "        text-align: right;\n",
       "    }\n",
       "</style>\n",
       "<table border=\"1\" class=\"dataframe\">\n",
       "  <thead>\n",
       "    <tr style=\"text-align: right;\">\n",
       "      <th></th>\n",
       "      <th>Year</th>\n",
       "      <th>Country</th>\n",
       "      <th>Winner</th>\n",
       "      <th>GoalScored</th>\n",
       "    </tr>\n",
       "  </thead>\n",
       "  <tbody>\n",
       "    <tr>\n",
       "      <th>0</th>\n",
       "      <td>1990</td>\n",
       "      <td>Italy</td>\n",
       "      <td>Germany</td>\n",
       "      <td>115.0</td>\n",
       "    </tr>\n",
       "    <tr>\n",
       "      <th>1</th>\n",
       "      <td>1994</td>\n",
       "      <td>USA</td>\n",
       "      <td>Brazil</td>\n",
       "      <td>141.0</td>\n",
       "    </tr>\n",
       "    <tr>\n",
       "      <th>2</th>\n",
       "      <td>1998</td>\n",
       "      <td>France</td>\n",
       "      <td>France</td>\n",
       "      <td>NaN</td>\n",
       "    </tr>\n",
       "    <tr>\n",
       "      <th>3</th>\n",
       "      <td>2002</td>\n",
       "      <td>Japan</td>\n",
       "      <td>Brazil</td>\n",
       "      <td>156.0</td>\n",
       "    </tr>\n",
       "  </tbody>\n",
       "</table>\n",
       "</div>"
      ],
      "text/plain": [
       "   Year Country   Winner  GoalScored\n",
       "0  1990   Italy  Germany       115.0\n",
       "1  1994     USA   Brazil       141.0\n",
       "2  1998  France   France         NaN\n",
       "3  2002   Japan   Brazil       156.0"
      ]
     },
     "execution_count": 24,
     "metadata": {},
     "output_type": "execute_result"
    }
   ],
   "source": [
    "data = pd.DataFrame(df_dict)\n",
    "data"
   ]
  },
  {
   "cell_type": "code",
   "execution_count": 27,
   "id": "b1bb6b07",
   "metadata": {},
   "outputs": [],
   "source": [
    "df_lotuples = [(2002, 'Japan', 'Brazil', 161), \n",
    "                (2006, 'Germany', 'Italy', 147), \n",
    "                (2010, 'South Africa', 'Spain', 145),\n",
    "                (2014, 'Brazil', 'Germany', 171)\n",
    "              ]"
   ]
  },
  {
   "cell_type": "code",
   "execution_count": 28,
   "id": "6b1df348",
   "metadata": {},
   "outputs": [
    {
     "data": {
      "text/html": [
       "<div>\n",
       "<style scoped>\n",
       "    .dataframe tbody tr th:only-of-type {\n",
       "        vertical-align: middle;\n",
       "    }\n",
       "\n",
       "    .dataframe tbody tr th {\n",
       "        vertical-align: top;\n",
       "    }\n",
       "\n",
       "    .dataframe thead th {\n",
       "        text-align: right;\n",
       "    }\n",
       "</style>\n",
       "<table border=\"1\" class=\"dataframe\">\n",
       "  <thead>\n",
       "    <tr style=\"text-align: right;\">\n",
       "      <th></th>\n",
       "      <th>0</th>\n",
       "      <th>1</th>\n",
       "      <th>2</th>\n",
       "      <th>3</th>\n",
       "    </tr>\n",
       "  </thead>\n",
       "  <tbody>\n",
       "    <tr>\n",
       "      <th>0</th>\n",
       "      <td>2002</td>\n",
       "      <td>Japan</td>\n",
       "      <td>Brazil</td>\n",
       "      <td>161</td>\n",
       "    </tr>\n",
       "    <tr>\n",
       "      <th>1</th>\n",
       "      <td>2006</td>\n",
       "      <td>Germany</td>\n",
       "      <td>Italy</td>\n",
       "      <td>147</td>\n",
       "    </tr>\n",
       "    <tr>\n",
       "      <th>2</th>\n",
       "      <td>2010</td>\n",
       "      <td>South Africa</td>\n",
       "      <td>Spain</td>\n",
       "      <td>145</td>\n",
       "    </tr>\n",
       "    <tr>\n",
       "      <th>3</th>\n",
       "      <td>2014</td>\n",
       "      <td>Brazil</td>\n",
       "      <td>Germany</td>\n",
       "      <td>171</td>\n",
       "    </tr>\n",
       "  </tbody>\n",
       "</table>\n",
       "</div>"
      ],
      "text/plain": [
       "      0             1        2    3\n",
       "0  2002         Japan   Brazil  161\n",
       "1  2006       Germany    Italy  147\n",
       "2  2010  South Africa    Spain  145\n",
       "3  2014        Brazil  Germany  171"
      ]
     },
     "execution_count": 28,
     "metadata": {},
     "output_type": "execute_result"
    }
   ],
   "source": [
    "data = pd.DataFrame(df_lotuples)\n",
    "data"
   ]
  },
  {
   "cell_type": "code",
   "execution_count": 31,
   "id": "2db8c71c",
   "metadata": {},
   "outputs": [
    {
     "data": {
      "text/html": [
       "<div>\n",
       "<style scoped>\n",
       "    .dataframe tbody tr th:only-of-type {\n",
       "        vertical-align: middle;\n",
       "    }\n",
       "\n",
       "    .dataframe tbody tr th {\n",
       "        vertical-align: top;\n",
       "    }\n",
       "\n",
       "    .dataframe thead th {\n",
       "        text-align: right;\n",
       "    }\n",
       "</style>\n",
       "<table border=\"1\" class=\"dataframe\">\n",
       "  <thead>\n",
       "    <tr style=\"text-align: right;\">\n",
       "      <th></th>\n",
       "      <th>year</th>\n",
       "      <th>country</th>\n",
       "      <th>winner</th>\n",
       "      <th>goal</th>\n",
       "    </tr>\n",
       "  </thead>\n",
       "  <tbody>\n",
       "    <tr>\n",
       "      <th>0</th>\n",
       "      <td>2002</td>\n",
       "      <td>Japan</td>\n",
       "      <td>Brazil</td>\n",
       "      <td>161</td>\n",
       "    </tr>\n",
       "    <tr>\n",
       "      <th>1</th>\n",
       "      <td>2006</td>\n",
       "      <td>Germany</td>\n",
       "      <td>Italy</td>\n",
       "      <td>147</td>\n",
       "    </tr>\n",
       "    <tr>\n",
       "      <th>2</th>\n",
       "      <td>2010</td>\n",
       "      <td>South Africa</td>\n",
       "      <td>Spain</td>\n",
       "      <td>145</td>\n",
       "    </tr>\n",
       "    <tr>\n",
       "      <th>3</th>\n",
       "      <td>2014</td>\n",
       "      <td>Brazil</td>\n",
       "      <td>Germany</td>\n",
       "      <td>171</td>\n",
       "    </tr>\n",
       "  </tbody>\n",
       "</table>\n",
       "</div>"
      ],
      "text/plain": [
       "   year       country   winner  goal\n",
       "0  2002         Japan   Brazil   161\n",
       "1  2006       Germany    Italy   147\n",
       "2  2010  South Africa    Spain   145\n",
       "3  2014        Brazil  Germany   171"
      ]
     },
     "execution_count": 31,
     "metadata": {},
     "output_type": "execute_result"
    }
   ],
   "source": [
    "data = pd.DataFrame(df_lotuples , columns= ['year' , 'country' , 'winner' , 'goal'])\n",
    "data"
   ]
  },
  {
   "cell_type": "code",
   "execution_count": 32,
   "id": "2e8bfe3e",
   "metadata": {},
   "outputs": [],
   "source": [
    "df_lodict = [\n",
    "             {'year' : 2002, 'HostCountry' : 'Japan', 'Winner' : 'Brazil'},\n",
    "             {'year' : 2006, 'HostCountry' : 'Germany', 'Winner' : 'Italy'},\n",
    "             {'year' : 2010, 'HostCountry' : 'South Africa', 'Winner' : 'Spain'},\n",
    "             {'year' : 2014, 'HostCountry' : 'Brazil', 'Winner' : 'Germany'},\n",
    "            ]"
   ]
  },
  {
   "cell_type": "code",
   "execution_count": 33,
   "id": "647d4272",
   "metadata": {},
   "outputs": [],
   "source": [
    "df = pd.DataFrame(df_lodict)"
   ]
  },
  {
   "cell_type": "code",
   "execution_count": 34,
   "id": "2b57c95b",
   "metadata": {},
   "outputs": [
    {
     "data": {
      "text/html": [
       "<div>\n",
       "<style scoped>\n",
       "    .dataframe tbody tr th:only-of-type {\n",
       "        vertical-align: middle;\n",
       "    }\n",
       "\n",
       "    .dataframe tbody tr th {\n",
       "        vertical-align: top;\n",
       "    }\n",
       "\n",
       "    .dataframe thead th {\n",
       "        text-align: right;\n",
       "    }\n",
       "</style>\n",
       "<table border=\"1\" class=\"dataframe\">\n",
       "  <thead>\n",
       "    <tr style=\"text-align: right;\">\n",
       "      <th></th>\n",
       "      <th>year</th>\n",
       "      <th>HostCountry</th>\n",
       "      <th>Winner</th>\n",
       "    </tr>\n",
       "  </thead>\n",
       "  <tbody>\n",
       "    <tr>\n",
       "      <th>0</th>\n",
       "      <td>2002</td>\n",
       "      <td>Japan</td>\n",
       "      <td>Brazil</td>\n",
       "    </tr>\n",
       "    <tr>\n",
       "      <th>1</th>\n",
       "      <td>2006</td>\n",
       "      <td>Germany</td>\n",
       "      <td>Italy</td>\n",
       "    </tr>\n",
       "    <tr>\n",
       "      <th>2</th>\n",
       "      <td>2010</td>\n",
       "      <td>South Africa</td>\n",
       "      <td>Spain</td>\n",
       "    </tr>\n",
       "    <tr>\n",
       "      <th>3</th>\n",
       "      <td>2014</td>\n",
       "      <td>Brazil</td>\n",
       "      <td>Germany</td>\n",
       "    </tr>\n",
       "  </tbody>\n",
       "</table>\n",
       "</div>"
      ],
      "text/plain": [
       "   year   HostCountry   Winner\n",
       "0  2002         Japan   Brazil\n",
       "1  2006       Germany    Italy\n",
       "2  2010  South Africa    Spain\n",
       "3  2014        Brazil  Germany"
      ]
     },
     "execution_count": 34,
     "metadata": {},
     "output_type": "execute_result"
    }
   ],
   "source": [
    "df"
   ]
  },
  {
   "cell_type": "markdown",
   "id": "c130bc73",
   "metadata": {},
   "source": [
    "# Pandas datafram basics"
   ]
  },
  {
   "cell_type": "code",
   "execution_count": 51,
   "id": "0999d420",
   "metadata": {},
   "outputs": [
    {
     "data": {
      "text/html": [
       "<div>\n",
       "<style scoped>\n",
       "    .dataframe tbody tr th:only-of-type {\n",
       "        vertical-align: middle;\n",
       "    }\n",
       "\n",
       "    .dataframe tbody tr th {\n",
       "        vertical-align: top;\n",
       "    }\n",
       "\n",
       "    .dataframe thead th {\n",
       "        text-align: right;\n",
       "    }\n",
       "</style>\n",
       "<table border=\"1\" class=\"dataframe\">\n",
       "  <thead>\n",
       "    <tr style=\"text-align: right;\">\n",
       "      <th></th>\n",
       "      <th>tripduration</th>\n",
       "      <th>starttime</th>\n",
       "      <th>stoptime</th>\n",
       "      <th>start station id</th>\n",
       "      <th>start station name</th>\n",
       "      <th>end station id</th>\n",
       "      <th>end station name</th>\n",
       "      <th>bikeid</th>\n",
       "      <th>name_localizedValue</th>\n",
       "      <th>usertype</th>\n",
       "    </tr>\n",
       "  </thead>\n",
       "  <tbody>\n",
       "    <tr>\n",
       "      <th>0</th>\n",
       "      <td>338</td>\n",
       "      <td>2018-05-01 00:04:47</td>\n",
       "      <td>2018-05-01 00:10:25</td>\n",
       "      <td>3639</td>\n",
       "      <td>Harborside</td>\n",
       "      <td>3199</td>\n",
       "      <td>Newport Pkwy</td>\n",
       "      <td>33558</td>\n",
       "      <td>Annual Membership</td>\n",
       "      <td>Subscriber</td>\n",
       "    </tr>\n",
       "    <tr>\n",
       "      <th>1</th>\n",
       "      <td>1482</td>\n",
       "      <td>2018-05-01 01:31:10</td>\n",
       "      <td>2018-05-01 01:55:53</td>\n",
       "      <td>3681</td>\n",
       "      <td>Grand St</td>\n",
       "      <td>3185</td>\n",
       "      <td>City Hall</td>\n",
       "      <td>33593</td>\n",
       "      <td>24 Hour</td>\n",
       "      <td>Customer</td>\n",
       "    </tr>\n",
       "    <tr>\n",
       "      <th>2</th>\n",
       "      <td>232</td>\n",
       "      <td>2018-05-01 01:31:29</td>\n",
       "      <td>2018-05-01 01:35:22</td>\n",
       "      <td>3194</td>\n",
       "      <td>McGinley Square</td>\n",
       "      <td>3193</td>\n",
       "      <td>Lincoln Park</td>\n",
       "      <td>29217</td>\n",
       "      <td>FREE Bonus Month with Annual Membership</td>\n",
       "      <td>Subscriber</td>\n",
       "    </tr>\n",
       "    <tr>\n",
       "      <th>3</th>\n",
       "      <td>190</td>\n",
       "      <td>2018-05-01 02:03:29</td>\n",
       "      <td>2018-05-01 02:06:40</td>\n",
       "      <td>3185</td>\n",
       "      <td>City Hall</td>\n",
       "      <td>3186</td>\n",
       "      <td>Grove St PATH</td>\n",
       "      <td>29662</td>\n",
       "      <td>24 Hour</td>\n",
       "      <td>Customer</td>\n",
       "    </tr>\n",
       "    <tr>\n",
       "      <th>4</th>\n",
       "      <td>303</td>\n",
       "      <td>2018-05-01 04:27:12</td>\n",
       "      <td>2018-05-01 04:32:16</td>\n",
       "      <td>3207</td>\n",
       "      <td>Oakland Ave</td>\n",
       "      <td>3195</td>\n",
       "      <td>Sip Ave</td>\n",
       "      <td>15271</td>\n",
       "      <td>Annual Membership</td>\n",
       "      <td>Subscriber</td>\n",
       "    </tr>\n",
       "    <tr>\n",
       "      <th>...</th>\n",
       "      <td>...</td>\n",
       "      <td>...</td>\n",
       "      <td>...</td>\n",
       "      <td>...</td>\n",
       "      <td>...</td>\n",
       "      <td>...</td>\n",
       "      <td>...</td>\n",
       "      <td>...</td>\n",
       "      <td>...</td>\n",
       "      <td>...</td>\n",
       "    </tr>\n",
       "    <tr>\n",
       "      <th>32423</th>\n",
       "      <td>396</td>\n",
       "      <td>2018-05-30 13:49:18</td>\n",
       "      <td>2018-05-30 13:55:55</td>\n",
       "      <td>3184</td>\n",
       "      <td>Paulus Hook</td>\n",
       "      <td>3279</td>\n",
       "      <td>Dixon Mills</td>\n",
       "      <td>29639</td>\n",
       "      <td>Join Citi Bike for $14.95/month</td>\n",
       "      <td>Subscriber</td>\n",
       "    </tr>\n",
       "    <tr>\n",
       "      <th>32424</th>\n",
       "      <td>313</td>\n",
       "      <td>2018-05-30 13:49:21</td>\n",
       "      <td>2018-05-30 13:54:35</td>\n",
       "      <td>3202</td>\n",
       "      <td>Newport PATH</td>\n",
       "      <td>3639</td>\n",
       "      <td>Harborside</td>\n",
       "      <td>26301</td>\n",
       "      <td>$25 Off Annual Membership</td>\n",
       "      <td>Subscriber</td>\n",
       "    </tr>\n",
       "    <tr>\n",
       "      <th>32425</th>\n",
       "      <td>316</td>\n",
       "      <td>2018-05-30 13:49:51</td>\n",
       "      <td>2018-05-30 13:55:08</td>\n",
       "      <td>3220</td>\n",
       "      <td>5 Corners Library</td>\n",
       "      <td>3195</td>\n",
       "      <td>Sip Ave</td>\n",
       "      <td>29260</td>\n",
       "      <td>Annual Membership</td>\n",
       "      <td>Subscriber</td>\n",
       "    </tr>\n",
       "    <tr>\n",
       "      <th>32426</th>\n",
       "      <td>1130</td>\n",
       "      <td>2018-05-30 13:50:52</td>\n",
       "      <td>2018-05-30 14:09:42</td>\n",
       "      <td>3281</td>\n",
       "      <td>Leonard Gordon Park</td>\n",
       "      <td>3213</td>\n",
       "      <td>Van Vorst Park</td>\n",
       "      <td>26239</td>\n",
       "      <td>Annual Membership</td>\n",
       "      <td>Subscriber</td>\n",
       "    </tr>\n",
       "    <tr>\n",
       "      <th>32427</th>\n",
       "      <td>369</td>\n",
       "      <td>2018-05-30 13:50:58</td>\n",
       "      <td>2018-05-30 13:57:08</td>\n",
       "      <td>3220</td>\n",
       "      <td>5 Corners Library</td>\n",
       "      <td>3207</td>\n",
       "      <td>Oakland Ave</td>\n",
       "      <td>33660</td>\n",
       "      <td>Annual Membership</td>\n",
       "      <td>Subscriber</td>\n",
       "    </tr>\n",
       "  </tbody>\n",
       "</table>\n",
       "<p>32428 rows × 10 columns</p>\n",
       "</div>"
      ],
      "text/plain": [
       "       tripduration            starttime             stoptime  \\\n",
       "0               338  2018-05-01 00:04:47  2018-05-01 00:10:25   \n",
       "1              1482  2018-05-01 01:31:10  2018-05-01 01:55:53   \n",
       "2               232  2018-05-01 01:31:29  2018-05-01 01:35:22   \n",
       "3               190  2018-05-01 02:03:29  2018-05-01 02:06:40   \n",
       "4               303  2018-05-01 04:27:12  2018-05-01 04:32:16   \n",
       "...             ...                  ...                  ...   \n",
       "32423           396  2018-05-30 13:49:18  2018-05-30 13:55:55   \n",
       "32424           313  2018-05-30 13:49:21  2018-05-30 13:54:35   \n",
       "32425           316  2018-05-30 13:49:51  2018-05-30 13:55:08   \n",
       "32426          1130  2018-05-30 13:50:52  2018-05-30 14:09:42   \n",
       "32427           369  2018-05-30 13:50:58  2018-05-30 13:57:08   \n",
       "\n",
       "       start station id   start station name  end station id end station name  \\\n",
       "0                  3639           Harborside            3199     Newport Pkwy   \n",
       "1                  3681             Grand St            3185        City Hall   \n",
       "2                  3194      McGinley Square            3193     Lincoln Park   \n",
       "3                  3185            City Hall            3186    Grove St PATH   \n",
       "4                  3207          Oakland Ave            3195          Sip Ave   \n",
       "...                 ...                  ...             ...              ...   \n",
       "32423              3184          Paulus Hook            3279      Dixon Mills   \n",
       "32424              3202         Newport PATH            3639       Harborside   \n",
       "32425              3220    5 Corners Library            3195          Sip Ave   \n",
       "32426              3281  Leonard Gordon Park            3213   Van Vorst Park   \n",
       "32427              3220    5 Corners Library            3207      Oakland Ave   \n",
       "\n",
       "       bikeid                      name_localizedValue    usertype  \n",
       "0       33558                        Annual Membership  Subscriber  \n",
       "1       33593                                  24 Hour    Customer  \n",
       "2       29217  FREE Bonus Month with Annual Membership  Subscriber  \n",
       "3       29662                                  24 Hour    Customer  \n",
       "4       15271                        Annual Membership  Subscriber  \n",
       "...       ...                                      ...         ...  \n",
       "32423   29639          Join Citi Bike for $14.95/month  Subscriber  \n",
       "32424   26301                $25 Off Annual Membership  Subscriber  \n",
       "32425   29260                        Annual Membership  Subscriber  \n",
       "32426   26239                        Annual Membership  Subscriber  \n",
       "32427   33660                        Annual Membership  Subscriber  \n",
       "\n",
       "[32428 rows x 10 columns]"
      ]
     },
     "execution_count": 51,
     "metadata": {},
     "output_type": "execute_result"
    }
   ],
   "source": [
    "# Shape\n",
    "\n",
    "data = pd.read_csv('datasets/citibike_tripdata.csv')\n",
    "data"
   ]
  },
  {
   "cell_type": "code",
   "execution_count": 52,
   "id": "5375c490",
   "metadata": {},
   "outputs": [
    {
     "data": {
      "text/plain": [
       "(32428, 10)"
      ]
     },
     "execution_count": 52,
     "metadata": {},
     "output_type": "execute_result"
    }
   ],
   "source": [
    "data.shape"
   ]
  },
  {
   "cell_type": "code",
   "execution_count": 53,
   "id": "9dc2eb90",
   "metadata": {},
   "outputs": [
    {
     "data": {
      "text/html": [
       "<div>\n",
       "<style scoped>\n",
       "    .dataframe tbody tr th:only-of-type {\n",
       "        vertical-align: middle;\n",
       "    }\n",
       "\n",
       "    .dataframe tbody tr th {\n",
       "        vertical-align: top;\n",
       "    }\n",
       "\n",
       "    .dataframe thead th {\n",
       "        text-align: right;\n",
       "    }\n",
       "</style>\n",
       "<table border=\"1\" class=\"dataframe\">\n",
       "  <thead>\n",
       "    <tr style=\"text-align: right;\">\n",
       "      <th></th>\n",
       "      <th>tripduration</th>\n",
       "      <th>starttime</th>\n",
       "      <th>stoptime</th>\n",
       "      <th>start station id</th>\n",
       "      <th>start station name</th>\n",
       "      <th>end station id</th>\n",
       "      <th>end station name</th>\n",
       "      <th>bikeid</th>\n",
       "      <th>name_localizedValue</th>\n",
       "      <th>usertype</th>\n",
       "    </tr>\n",
       "  </thead>\n",
       "  <tbody>\n",
       "    <tr>\n",
       "      <th>0</th>\n",
       "      <td>338</td>\n",
       "      <td>2018-05-01 00:04:47</td>\n",
       "      <td>2018-05-01 00:10:25</td>\n",
       "      <td>3639</td>\n",
       "      <td>Harborside</td>\n",
       "      <td>3199</td>\n",
       "      <td>Newport Pkwy</td>\n",
       "      <td>33558</td>\n",
       "      <td>Annual Membership</td>\n",
       "      <td>Subscriber</td>\n",
       "    </tr>\n",
       "    <tr>\n",
       "      <th>1</th>\n",
       "      <td>1482</td>\n",
       "      <td>2018-05-01 01:31:10</td>\n",
       "      <td>2018-05-01 01:55:53</td>\n",
       "      <td>3681</td>\n",
       "      <td>Grand St</td>\n",
       "      <td>3185</td>\n",
       "      <td>City Hall</td>\n",
       "      <td>33593</td>\n",
       "      <td>24 Hour</td>\n",
       "      <td>Customer</td>\n",
       "    </tr>\n",
       "    <tr>\n",
       "      <th>2</th>\n",
       "      <td>232</td>\n",
       "      <td>2018-05-01 01:31:29</td>\n",
       "      <td>2018-05-01 01:35:22</td>\n",
       "      <td>3194</td>\n",
       "      <td>McGinley Square</td>\n",
       "      <td>3193</td>\n",
       "      <td>Lincoln Park</td>\n",
       "      <td>29217</td>\n",
       "      <td>FREE Bonus Month with Annual Membership</td>\n",
       "      <td>Subscriber</td>\n",
       "    </tr>\n",
       "    <tr>\n",
       "      <th>3</th>\n",
       "      <td>190</td>\n",
       "      <td>2018-05-01 02:03:29</td>\n",
       "      <td>2018-05-01 02:06:40</td>\n",
       "      <td>3185</td>\n",
       "      <td>City Hall</td>\n",
       "      <td>3186</td>\n",
       "      <td>Grove St PATH</td>\n",
       "      <td>29662</td>\n",
       "      <td>24 Hour</td>\n",
       "      <td>Customer</td>\n",
       "    </tr>\n",
       "    <tr>\n",
       "      <th>4</th>\n",
       "      <td>303</td>\n",
       "      <td>2018-05-01 04:27:12</td>\n",
       "      <td>2018-05-01 04:32:16</td>\n",
       "      <td>3207</td>\n",
       "      <td>Oakland Ave</td>\n",
       "      <td>3195</td>\n",
       "      <td>Sip Ave</td>\n",
       "      <td>15271</td>\n",
       "      <td>Annual Membership</td>\n",
       "      <td>Subscriber</td>\n",
       "    </tr>\n",
       "  </tbody>\n",
       "</table>\n",
       "</div>"
      ],
      "text/plain": [
       "   tripduration            starttime             stoptime  start station id  \\\n",
       "0           338  2018-05-01 00:04:47  2018-05-01 00:10:25              3639   \n",
       "1          1482  2018-05-01 01:31:10  2018-05-01 01:55:53              3681   \n",
       "2           232  2018-05-01 01:31:29  2018-05-01 01:35:22              3194   \n",
       "3           190  2018-05-01 02:03:29  2018-05-01 02:06:40              3185   \n",
       "4           303  2018-05-01 04:27:12  2018-05-01 04:32:16              3207   \n",
       "\n",
       "  start station name  end station id end station name  bikeid  \\\n",
       "0         Harborside            3199     Newport Pkwy   33558   \n",
       "1           Grand St            3185        City Hall   33593   \n",
       "2    McGinley Square            3193     Lincoln Park   29217   \n",
       "3          City Hall            3186    Grove St PATH   29662   \n",
       "4        Oakland Ave            3195          Sip Ave   15271   \n",
       "\n",
       "                       name_localizedValue    usertype  \n",
       "0                        Annual Membership  Subscriber  \n",
       "1                                  24 Hour    Customer  \n",
       "2  FREE Bonus Month with Annual Membership  Subscriber  \n",
       "3                                  24 Hour    Customer  \n",
       "4                        Annual Membership  Subscriber  "
      ]
     },
     "execution_count": 53,
     "metadata": {},
     "output_type": "execute_result"
    }
   ],
   "source": [
    "# Head() --> by default is 5 and you can change the number\n",
    "data.head()"
   ]
  },
  {
   "cell_type": "code",
   "execution_count": 58,
   "id": "16f4b311",
   "metadata": {},
   "outputs": [
    {
     "data": {
      "text/html": [
       "<div>\n",
       "<style scoped>\n",
       "    .dataframe tbody tr th:only-of-type {\n",
       "        vertical-align: middle;\n",
       "    }\n",
       "\n",
       "    .dataframe tbody tr th {\n",
       "        vertical-align: top;\n",
       "    }\n",
       "\n",
       "    .dataframe thead th {\n",
       "        text-align: right;\n",
       "    }\n",
       "</style>\n",
       "<table border=\"1\" class=\"dataframe\">\n",
       "  <thead>\n",
       "    <tr style=\"text-align: right;\">\n",
       "      <th></th>\n",
       "      <th>tripduration</th>\n",
       "      <th>starttime</th>\n",
       "      <th>stoptime</th>\n",
       "      <th>start station id</th>\n",
       "      <th>start station name</th>\n",
       "      <th>end station id</th>\n",
       "      <th>end station name</th>\n",
       "      <th>bikeid</th>\n",
       "      <th>name_localizedValue</th>\n",
       "      <th>usertype</th>\n",
       "    </tr>\n",
       "  </thead>\n",
       "  <tbody>\n",
       "    <tr>\n",
       "      <th>0</th>\n",
       "      <td>338</td>\n",
       "      <td>2018-05-01 00:04:47</td>\n",
       "      <td>2018-05-01 00:10:25</td>\n",
       "      <td>3639</td>\n",
       "      <td>Harborside</td>\n",
       "      <td>3199</td>\n",
       "      <td>Newport Pkwy</td>\n",
       "      <td>33558</td>\n",
       "      <td>Annual Membership</td>\n",
       "      <td>Subscriber</td>\n",
       "    </tr>\n",
       "    <tr>\n",
       "      <th>1</th>\n",
       "      <td>1482</td>\n",
       "      <td>2018-05-01 01:31:10</td>\n",
       "      <td>2018-05-01 01:55:53</td>\n",
       "      <td>3681</td>\n",
       "      <td>Grand St</td>\n",
       "      <td>3185</td>\n",
       "      <td>City Hall</td>\n",
       "      <td>33593</td>\n",
       "      <td>24 Hour</td>\n",
       "      <td>Customer</td>\n",
       "    </tr>\n",
       "  </tbody>\n",
       "</table>\n",
       "</div>"
      ],
      "text/plain": [
       "   tripduration            starttime             stoptime  start station id  \\\n",
       "0           338  2018-05-01 00:04:47  2018-05-01 00:10:25              3639   \n",
       "1          1482  2018-05-01 01:31:10  2018-05-01 01:55:53              3681   \n",
       "\n",
       "  start station name  end station id end station name  bikeid  \\\n",
       "0         Harborside            3199     Newport Pkwy   33558   \n",
       "1           Grand St            3185        City Hall   33593   \n",
       "\n",
       "  name_localizedValue    usertype  \n",
       "0   Annual Membership  Subscriber  \n",
       "1             24 Hour    Customer  "
      ]
     },
     "execution_count": 58,
     "metadata": {},
     "output_type": "execute_result"
    }
   ],
   "source": [
    "# Head() --> by default is 5 and you can change the number\n",
    "data.head(2)"
   ]
  },
  {
   "cell_type": "code",
   "execution_count": 57,
   "id": "e61c4421",
   "metadata": {},
   "outputs": [
    {
     "data": {
      "text/html": [
       "<div>\n",
       "<style scoped>\n",
       "    .dataframe tbody tr th:only-of-type {\n",
       "        vertical-align: middle;\n",
       "    }\n",
       "\n",
       "    .dataframe tbody tr th {\n",
       "        vertical-align: top;\n",
       "    }\n",
       "\n",
       "    .dataframe thead th {\n",
       "        text-align: right;\n",
       "    }\n",
       "</style>\n",
       "<table border=\"1\" class=\"dataframe\">\n",
       "  <thead>\n",
       "    <tr style=\"text-align: right;\">\n",
       "      <th></th>\n",
       "      <th>tripduration</th>\n",
       "      <th>starttime</th>\n",
       "      <th>stoptime</th>\n",
       "      <th>start station id</th>\n",
       "      <th>start station name</th>\n",
       "      <th>end station id</th>\n",
       "      <th>end station name</th>\n",
       "      <th>bikeid</th>\n",
       "      <th>name_localizedValue</th>\n",
       "      <th>usertype</th>\n",
       "    </tr>\n",
       "  </thead>\n",
       "  <tbody>\n",
       "    <tr>\n",
       "      <th>32426</th>\n",
       "      <td>1130</td>\n",
       "      <td>2018-05-30 13:50:52</td>\n",
       "      <td>2018-05-30 14:09:42</td>\n",
       "      <td>3281</td>\n",
       "      <td>Leonard Gordon Park</td>\n",
       "      <td>3213</td>\n",
       "      <td>Van Vorst Park</td>\n",
       "      <td>26239</td>\n",
       "      <td>Annual Membership</td>\n",
       "      <td>Subscriber</td>\n",
       "    </tr>\n",
       "    <tr>\n",
       "      <th>32427</th>\n",
       "      <td>369</td>\n",
       "      <td>2018-05-30 13:50:58</td>\n",
       "      <td>2018-05-30 13:57:08</td>\n",
       "      <td>3220</td>\n",
       "      <td>5 Corners Library</td>\n",
       "      <td>3207</td>\n",
       "      <td>Oakland Ave</td>\n",
       "      <td>33660</td>\n",
       "      <td>Annual Membership</td>\n",
       "      <td>Subscriber</td>\n",
       "    </tr>\n",
       "  </tbody>\n",
       "</table>\n",
       "</div>"
      ],
      "text/plain": [
       "       tripduration            starttime             stoptime  \\\n",
       "32426          1130  2018-05-30 13:50:52  2018-05-30 14:09:42   \n",
       "32427           369  2018-05-30 13:50:58  2018-05-30 13:57:08   \n",
       "\n",
       "       start station id   start station name  end station id end station name  \\\n",
       "32426              3281  Leonard Gordon Park            3213   Van Vorst Park   \n",
       "32427              3220    5 Corners Library            3207      Oakland Ave   \n",
       "\n",
       "       bikeid name_localizedValue    usertype  \n",
       "32426   26239   Annual Membership  Subscriber  \n",
       "32427   33660   Annual Membership  Subscriber  "
      ]
     },
     "execution_count": 57,
     "metadata": {},
     "output_type": "execute_result"
    }
   ],
   "source": [
    "# Tail\n",
    "\n",
    "data.tail(2)"
   ]
  },
  {
   "cell_type": "code",
   "execution_count": 59,
   "id": "1e7d5b94",
   "metadata": {},
   "outputs": [
    {
     "data": {
      "text/plain": [
       "Index(['tripduration', 'starttime', 'stoptime', 'start station id',\n",
       "       'start station name', 'end station id', 'end station name', 'bikeid',\n",
       "       'name_localizedValue', 'usertype'],\n",
       "      dtype='object')"
      ]
     },
     "execution_count": 59,
     "metadata": {},
     "output_type": "execute_result"
    }
   ],
   "source": [
    "# List of columnns\n",
    "\n",
    "data.columns"
   ]
  },
  {
   "cell_type": "code",
   "execution_count": 60,
   "id": "4030a31d",
   "metadata": {},
   "outputs": [
    {
     "name": "stdout",
     "output_type": "stream",
     "text": [
      "<class 'pandas.core.frame.DataFrame'>\n",
      "RangeIndex: 32428 entries, 0 to 32427\n",
      "Data columns (total 10 columns):\n",
      " #   Column               Non-Null Count  Dtype \n",
      "---  ------               --------------  ----- \n",
      " 0   tripduration         32428 non-null  int64 \n",
      " 1   starttime            32428 non-null  object\n",
      " 2   stoptime             32428 non-null  object\n",
      " 3   start station id     32428 non-null  int64 \n",
      " 4   start station name   32428 non-null  object\n",
      " 5   end station id       32428 non-null  int64 \n",
      " 6   end station name     32428 non-null  object\n",
      " 7   bikeid               32428 non-null  int64 \n",
      " 8   name_localizedValue  32428 non-null  object\n",
      " 9   usertype             32428 non-null  object\n",
      "dtypes: int64(4), object(6)\n",
      "memory usage: 2.5+ MB\n"
     ]
    }
   ],
   "source": [
    "# info()\n",
    "\n",
    "data.info()"
   ]
  },
  {
   "cell_type": "code",
   "execution_count": 62,
   "id": "f98cc4e5",
   "metadata": {},
   "outputs": [],
   "source": [
    "df = pd.read_csv('datasets/weather_data_nan.csv')"
   ]
  },
  {
   "cell_type": "code",
   "execution_count": 63,
   "id": "63b4a1e1",
   "metadata": {},
   "outputs": [
    {
     "data": {
      "text/html": [
       "<div>\n",
       "<style scoped>\n",
       "    .dataframe tbody tr th:only-of-type {\n",
       "        vertical-align: middle;\n",
       "    }\n",
       "\n",
       "    .dataframe tbody tr th {\n",
       "        vertical-align: top;\n",
       "    }\n",
       "\n",
       "    .dataframe thead th {\n",
       "        text-align: right;\n",
       "    }\n",
       "</style>\n",
       "<table border=\"1\" class=\"dataframe\">\n",
       "  <thead>\n",
       "    <tr style=\"text-align: right;\">\n",
       "      <th></th>\n",
       "      <th>day</th>\n",
       "      <th>temperature</th>\n",
       "      <th>windspeed</th>\n",
       "      <th>event</th>\n",
       "    </tr>\n",
       "  </thead>\n",
       "  <tbody>\n",
       "    <tr>\n",
       "      <th>0</th>\n",
       "      <td>1/1/2017</td>\n",
       "      <td>32.0</td>\n",
       "      <td>6.0</td>\n",
       "      <td>Rain</td>\n",
       "    </tr>\n",
       "    <tr>\n",
       "      <th>1</th>\n",
       "      <td>1/4/2017</td>\n",
       "      <td>NaN</td>\n",
       "      <td>9.0</td>\n",
       "      <td>Sunny</td>\n",
       "    </tr>\n",
       "    <tr>\n",
       "      <th>2</th>\n",
       "      <td>1/5/2017</td>\n",
       "      <td>28.0</td>\n",
       "      <td>NaN</td>\n",
       "      <td>Snow</td>\n",
       "    </tr>\n",
       "    <tr>\n",
       "      <th>3</th>\n",
       "      <td>1/6/2017</td>\n",
       "      <td>NaN</td>\n",
       "      <td>7.0</td>\n",
       "      <td>NaN</td>\n",
       "    </tr>\n",
       "    <tr>\n",
       "      <th>4</th>\n",
       "      <td>1/7/2017</td>\n",
       "      <td>32.0</td>\n",
       "      <td>NaN</td>\n",
       "      <td>Rain</td>\n",
       "    </tr>\n",
       "    <tr>\n",
       "      <th>5</th>\n",
       "      <td>1/8/2017</td>\n",
       "      <td>NaN</td>\n",
       "      <td>NaN</td>\n",
       "      <td>Sunny</td>\n",
       "    </tr>\n",
       "    <tr>\n",
       "      <th>6</th>\n",
       "      <td>1/9/2017</td>\n",
       "      <td>NaN</td>\n",
       "      <td>NaN</td>\n",
       "      <td>NaN</td>\n",
       "    </tr>\n",
       "    <tr>\n",
       "      <th>7</th>\n",
       "      <td>1/10/2017</td>\n",
       "      <td>34.0</td>\n",
       "      <td>8.0</td>\n",
       "      <td>Cloudy</td>\n",
       "    </tr>\n",
       "    <tr>\n",
       "      <th>8</th>\n",
       "      <td>1/11/2017</td>\n",
       "      <td>40.0</td>\n",
       "      <td>12.0</td>\n",
       "      <td>Sunny</td>\n",
       "    </tr>\n",
       "  </tbody>\n",
       "</table>\n",
       "</div>"
      ],
      "text/plain": [
       "         day  temperature  windspeed   event\n",
       "0   1/1/2017         32.0        6.0    Rain\n",
       "1   1/4/2017          NaN        9.0   Sunny\n",
       "2   1/5/2017         28.0        NaN    Snow\n",
       "3   1/6/2017          NaN        7.0     NaN\n",
       "4   1/7/2017         32.0        NaN    Rain\n",
       "5   1/8/2017          NaN        NaN   Sunny\n",
       "6   1/9/2017          NaN        NaN     NaN\n",
       "7  1/10/2017         34.0        8.0  Cloudy\n",
       "8  1/11/2017         40.0       12.0   Sunny"
      ]
     },
     "execution_count": 63,
     "metadata": {},
     "output_type": "execute_result"
    }
   ],
   "source": [
    "df"
   ]
  },
  {
   "cell_type": "code",
   "execution_count": 64,
   "id": "36682ba3",
   "metadata": {},
   "outputs": [
    {
     "name": "stdout",
     "output_type": "stream",
     "text": [
      "<class 'pandas.core.frame.DataFrame'>\n",
      "RangeIndex: 9 entries, 0 to 8\n",
      "Data columns (total 4 columns):\n",
      " #   Column       Non-Null Count  Dtype  \n",
      "---  ------       --------------  -----  \n",
      " 0   day          9 non-null      object \n",
      " 1   temperature  5 non-null      float64\n",
      " 2   windspeed    5 non-null      float64\n",
      " 3   event        7 non-null      object \n",
      "dtypes: float64(2), object(2)\n",
      "memory usage: 416.0+ bytes\n"
     ]
    }
   ],
   "source": [
    "df.info()"
   ]
  },
  {
   "cell_type": "markdown",
   "id": "78cbde3f",
   "metadata": {},
   "source": [
    "# Basic stats about the data"
   ]
  },
  {
   "cell_type": "code",
   "execution_count": 66,
   "id": "af23211a",
   "metadata": {},
   "outputs": [
    {
     "data": {
      "text/html": [
       "<div>\n",
       "<style scoped>\n",
       "    .dataframe tbody tr th:only-of-type {\n",
       "        vertical-align: middle;\n",
       "    }\n",
       "\n",
       "    .dataframe tbody tr th {\n",
       "        vertical-align: top;\n",
       "    }\n",
       "\n",
       "    .dataframe thead th {\n",
       "        text-align: right;\n",
       "    }\n",
       "</style>\n",
       "<table border=\"1\" class=\"dataframe\">\n",
       "  <thead>\n",
       "    <tr style=\"text-align: right;\">\n",
       "      <th></th>\n",
       "      <th>temperature</th>\n",
       "      <th>windspeed</th>\n",
       "    </tr>\n",
       "  </thead>\n",
       "  <tbody>\n",
       "    <tr>\n",
       "      <th>count</th>\n",
       "      <td>5.00000</td>\n",
       "      <td>5.000000</td>\n",
       "    </tr>\n",
       "    <tr>\n",
       "      <th>mean</th>\n",
       "      <td>33.20000</td>\n",
       "      <td>8.400000</td>\n",
       "    </tr>\n",
       "    <tr>\n",
       "      <th>std</th>\n",
       "      <td>4.38178</td>\n",
       "      <td>2.302173</td>\n",
       "    </tr>\n",
       "    <tr>\n",
       "      <th>min</th>\n",
       "      <td>28.00000</td>\n",
       "      <td>6.000000</td>\n",
       "    </tr>\n",
       "    <tr>\n",
       "      <th>25%</th>\n",
       "      <td>32.00000</td>\n",
       "      <td>7.000000</td>\n",
       "    </tr>\n",
       "    <tr>\n",
       "      <th>50%</th>\n",
       "      <td>32.00000</td>\n",
       "      <td>8.000000</td>\n",
       "    </tr>\n",
       "    <tr>\n",
       "      <th>75%</th>\n",
       "      <td>34.00000</td>\n",
       "      <td>9.000000</td>\n",
       "    </tr>\n",
       "    <tr>\n",
       "      <th>max</th>\n",
       "      <td>40.00000</td>\n",
       "      <td>12.000000</td>\n",
       "    </tr>\n",
       "  </tbody>\n",
       "</table>\n",
       "</div>"
      ],
      "text/plain": [
       "       temperature  windspeed\n",
       "count      5.00000   5.000000\n",
       "mean      33.20000   8.400000\n",
       "std        4.38178   2.302173\n",
       "min       28.00000   6.000000\n",
       "25%       32.00000   7.000000\n",
       "50%       32.00000   8.000000\n",
       "75%       34.00000   9.000000\n",
       "max       40.00000  12.000000"
      ]
     },
     "execution_count": 66,
     "metadata": {},
     "output_type": "execute_result"
    }
   ],
   "source": [
    "df.describe()"
   ]
  },
  {
   "cell_type": "code",
   "execution_count": 67,
   "id": "bcbaa1ae",
   "metadata": {},
   "outputs": [
    {
     "data": {
      "text/html": [
       "<div>\n",
       "<style scoped>\n",
       "    .dataframe tbody tr th:only-of-type {\n",
       "        vertical-align: middle;\n",
       "    }\n",
       "\n",
       "    .dataframe tbody tr th {\n",
       "        vertical-align: top;\n",
       "    }\n",
       "\n",
       "    .dataframe thead th {\n",
       "        text-align: right;\n",
       "    }\n",
       "</style>\n",
       "<table border=\"1\" class=\"dataframe\">\n",
       "  <thead>\n",
       "    <tr style=\"text-align: right;\">\n",
       "      <th></th>\n",
       "      <th>day</th>\n",
       "      <th>event</th>\n",
       "    </tr>\n",
       "  </thead>\n",
       "  <tbody>\n",
       "    <tr>\n",
       "      <th>count</th>\n",
       "      <td>9</td>\n",
       "      <td>7</td>\n",
       "    </tr>\n",
       "    <tr>\n",
       "      <th>unique</th>\n",
       "      <td>9</td>\n",
       "      <td>4</td>\n",
       "    </tr>\n",
       "    <tr>\n",
       "      <th>top</th>\n",
       "      <td>1/1/2017</td>\n",
       "      <td>Sunny</td>\n",
       "    </tr>\n",
       "    <tr>\n",
       "      <th>freq</th>\n",
       "      <td>1</td>\n",
       "      <td>3</td>\n",
       "    </tr>\n",
       "  </tbody>\n",
       "</table>\n",
       "</div>"
      ],
      "text/plain": [
       "             day  event\n",
       "count          9      7\n",
       "unique         9      4\n",
       "top     1/1/2017  Sunny\n",
       "freq           1      3"
      ]
     },
     "execution_count": 67,
     "metadata": {},
     "output_type": "execute_result"
    }
   ],
   "source": [
    "df.describe(include= 'object')"
   ]
  },
  {
   "cell_type": "code",
   "execution_count": 69,
   "id": "88582b47",
   "metadata": {},
   "outputs": [
    {
     "data": {
      "text/html": [
       "<div>\n",
       "<style scoped>\n",
       "    .dataframe tbody tr th:only-of-type {\n",
       "        vertical-align: middle;\n",
       "    }\n",
       "\n",
       "    .dataframe tbody tr th {\n",
       "        vertical-align: top;\n",
       "    }\n",
       "\n",
       "    .dataframe thead th {\n",
       "        text-align: right;\n",
       "    }\n",
       "</style>\n",
       "<table border=\"1\" class=\"dataframe\">\n",
       "  <thead>\n",
       "    <tr style=\"text-align: right;\">\n",
       "      <th></th>\n",
       "      <th>day</th>\n",
       "      <th>temperature</th>\n",
       "      <th>windspeed</th>\n",
       "      <th>event</th>\n",
       "    </tr>\n",
       "  </thead>\n",
       "  <tbody>\n",
       "    <tr>\n",
       "      <th>count</th>\n",
       "      <td>9</td>\n",
       "      <td>5.00000</td>\n",
       "      <td>5.000000</td>\n",
       "      <td>7</td>\n",
       "    </tr>\n",
       "    <tr>\n",
       "      <th>unique</th>\n",
       "      <td>9</td>\n",
       "      <td>NaN</td>\n",
       "      <td>NaN</td>\n",
       "      <td>4</td>\n",
       "    </tr>\n",
       "    <tr>\n",
       "      <th>top</th>\n",
       "      <td>1/1/2017</td>\n",
       "      <td>NaN</td>\n",
       "      <td>NaN</td>\n",
       "      <td>Sunny</td>\n",
       "    </tr>\n",
       "    <tr>\n",
       "      <th>freq</th>\n",
       "      <td>1</td>\n",
       "      <td>NaN</td>\n",
       "      <td>NaN</td>\n",
       "      <td>3</td>\n",
       "    </tr>\n",
       "    <tr>\n",
       "      <th>mean</th>\n",
       "      <td>NaN</td>\n",
       "      <td>33.20000</td>\n",
       "      <td>8.400000</td>\n",
       "      <td>NaN</td>\n",
       "    </tr>\n",
       "    <tr>\n",
       "      <th>std</th>\n",
       "      <td>NaN</td>\n",
       "      <td>4.38178</td>\n",
       "      <td>2.302173</td>\n",
       "      <td>NaN</td>\n",
       "    </tr>\n",
       "    <tr>\n",
       "      <th>min</th>\n",
       "      <td>NaN</td>\n",
       "      <td>28.00000</td>\n",
       "      <td>6.000000</td>\n",
       "      <td>NaN</td>\n",
       "    </tr>\n",
       "    <tr>\n",
       "      <th>25%</th>\n",
       "      <td>NaN</td>\n",
       "      <td>32.00000</td>\n",
       "      <td>7.000000</td>\n",
       "      <td>NaN</td>\n",
       "    </tr>\n",
       "    <tr>\n",
       "      <th>50%</th>\n",
       "      <td>NaN</td>\n",
       "      <td>32.00000</td>\n",
       "      <td>8.000000</td>\n",
       "      <td>NaN</td>\n",
       "    </tr>\n",
       "    <tr>\n",
       "      <th>75%</th>\n",
       "      <td>NaN</td>\n",
       "      <td>34.00000</td>\n",
       "      <td>9.000000</td>\n",
       "      <td>NaN</td>\n",
       "    </tr>\n",
       "    <tr>\n",
       "      <th>max</th>\n",
       "      <td>NaN</td>\n",
       "      <td>40.00000</td>\n",
       "      <td>12.000000</td>\n",
       "      <td>NaN</td>\n",
       "    </tr>\n",
       "  </tbody>\n",
       "</table>\n",
       "</div>"
      ],
      "text/plain": [
       "             day  temperature  windspeed  event\n",
       "count          9      5.00000   5.000000      7\n",
       "unique         9          NaN        NaN      4\n",
       "top     1/1/2017          NaN        NaN  Sunny\n",
       "freq           1          NaN        NaN      3\n",
       "mean         NaN     33.20000   8.400000    NaN\n",
       "std          NaN      4.38178   2.302173    NaN\n",
       "min          NaN     28.00000   6.000000    NaN\n",
       "25%          NaN     32.00000   7.000000    NaN\n",
       "50%          NaN     32.00000   8.000000    NaN\n",
       "75%          NaN     34.00000   9.000000    NaN\n",
       "max          NaN     40.00000  12.000000    NaN"
      ]
     },
     "execution_count": 69,
     "metadata": {},
     "output_type": "execute_result"
    }
   ],
   "source": [
    "df.describe(include= 'all')"
   ]
  },
  {
   "cell_type": "code",
   "execution_count": 70,
   "id": "21c60861",
   "metadata": {},
   "outputs": [
    {
     "data": {
      "text/html": [
       "<div>\n",
       "<style scoped>\n",
       "    .dataframe tbody tr th:only-of-type {\n",
       "        vertical-align: middle;\n",
       "    }\n",
       "\n",
       "    .dataframe tbody tr th {\n",
       "        vertical-align: top;\n",
       "    }\n",
       "\n",
       "    .dataframe thead th {\n",
       "        text-align: right;\n",
       "    }\n",
       "</style>\n",
       "<table border=\"1\" class=\"dataframe\">\n",
       "  <thead>\n",
       "    <tr style=\"text-align: right;\">\n",
       "      <th></th>\n",
       "      <th>tripduration</th>\n",
       "      <th>starttime</th>\n",
       "      <th>stoptime</th>\n",
       "      <th>start station id</th>\n",
       "      <th>start station name</th>\n",
       "      <th>end station id</th>\n",
       "      <th>end station name</th>\n",
       "      <th>bikeid</th>\n",
       "      <th>name_localizedValue</th>\n",
       "      <th>usertype</th>\n",
       "    </tr>\n",
       "  </thead>\n",
       "  <tbody>\n",
       "    <tr>\n",
       "      <th>0</th>\n",
       "      <td>338</td>\n",
       "      <td>2018-05-01 00:04:47</td>\n",
       "      <td>2018-05-01 00:10:25</td>\n",
       "      <td>3639</td>\n",
       "      <td>Harborside</td>\n",
       "      <td>3199</td>\n",
       "      <td>Newport Pkwy</td>\n",
       "      <td>33558</td>\n",
       "      <td>Annual Membership</td>\n",
       "      <td>Subscriber</td>\n",
       "    </tr>\n",
       "    <tr>\n",
       "      <th>1</th>\n",
       "      <td>1482</td>\n",
       "      <td>2018-05-01 01:31:10</td>\n",
       "      <td>2018-05-01 01:55:53</td>\n",
       "      <td>3681</td>\n",
       "      <td>Grand St</td>\n",
       "      <td>3185</td>\n",
       "      <td>City Hall</td>\n",
       "      <td>33593</td>\n",
       "      <td>24 Hour</td>\n",
       "      <td>Customer</td>\n",
       "    </tr>\n",
       "    <tr>\n",
       "      <th>2</th>\n",
       "      <td>232</td>\n",
       "      <td>2018-05-01 01:31:29</td>\n",
       "      <td>2018-05-01 01:35:22</td>\n",
       "      <td>3194</td>\n",
       "      <td>McGinley Square</td>\n",
       "      <td>3193</td>\n",
       "      <td>Lincoln Park</td>\n",
       "      <td>29217</td>\n",
       "      <td>FREE Bonus Month with Annual Membership</td>\n",
       "      <td>Subscriber</td>\n",
       "    </tr>\n",
       "    <tr>\n",
       "      <th>3</th>\n",
       "      <td>190</td>\n",
       "      <td>2018-05-01 02:03:29</td>\n",
       "      <td>2018-05-01 02:06:40</td>\n",
       "      <td>3185</td>\n",
       "      <td>City Hall</td>\n",
       "      <td>3186</td>\n",
       "      <td>Grove St PATH</td>\n",
       "      <td>29662</td>\n",
       "      <td>24 Hour</td>\n",
       "      <td>Customer</td>\n",
       "    </tr>\n",
       "    <tr>\n",
       "      <th>4</th>\n",
       "      <td>303</td>\n",
       "      <td>2018-05-01 04:27:12</td>\n",
       "      <td>2018-05-01 04:32:16</td>\n",
       "      <td>3207</td>\n",
       "      <td>Oakland Ave</td>\n",
       "      <td>3195</td>\n",
       "      <td>Sip Ave</td>\n",
       "      <td>15271</td>\n",
       "      <td>Annual Membership</td>\n",
       "      <td>Subscriber</td>\n",
       "    </tr>\n",
       "    <tr>\n",
       "      <th>...</th>\n",
       "      <td>...</td>\n",
       "      <td>...</td>\n",
       "      <td>...</td>\n",
       "      <td>...</td>\n",
       "      <td>...</td>\n",
       "      <td>...</td>\n",
       "      <td>...</td>\n",
       "      <td>...</td>\n",
       "      <td>...</td>\n",
       "      <td>...</td>\n",
       "    </tr>\n",
       "    <tr>\n",
       "      <th>32423</th>\n",
       "      <td>396</td>\n",
       "      <td>2018-05-30 13:49:18</td>\n",
       "      <td>2018-05-30 13:55:55</td>\n",
       "      <td>3184</td>\n",
       "      <td>Paulus Hook</td>\n",
       "      <td>3279</td>\n",
       "      <td>Dixon Mills</td>\n",
       "      <td>29639</td>\n",
       "      <td>Join Citi Bike for $14.95/month</td>\n",
       "      <td>Subscriber</td>\n",
       "    </tr>\n",
       "    <tr>\n",
       "      <th>32424</th>\n",
       "      <td>313</td>\n",
       "      <td>2018-05-30 13:49:21</td>\n",
       "      <td>2018-05-30 13:54:35</td>\n",
       "      <td>3202</td>\n",
       "      <td>Newport PATH</td>\n",
       "      <td>3639</td>\n",
       "      <td>Harborside</td>\n",
       "      <td>26301</td>\n",
       "      <td>$25 Off Annual Membership</td>\n",
       "      <td>Subscriber</td>\n",
       "    </tr>\n",
       "    <tr>\n",
       "      <th>32425</th>\n",
       "      <td>316</td>\n",
       "      <td>2018-05-30 13:49:51</td>\n",
       "      <td>2018-05-30 13:55:08</td>\n",
       "      <td>3220</td>\n",
       "      <td>5 Corners Library</td>\n",
       "      <td>3195</td>\n",
       "      <td>Sip Ave</td>\n",
       "      <td>29260</td>\n",
       "      <td>Annual Membership</td>\n",
       "      <td>Subscriber</td>\n",
       "    </tr>\n",
       "    <tr>\n",
       "      <th>32426</th>\n",
       "      <td>1130</td>\n",
       "      <td>2018-05-30 13:50:52</td>\n",
       "      <td>2018-05-30 14:09:42</td>\n",
       "      <td>3281</td>\n",
       "      <td>Leonard Gordon Park</td>\n",
       "      <td>3213</td>\n",
       "      <td>Van Vorst Park</td>\n",
       "      <td>26239</td>\n",
       "      <td>Annual Membership</td>\n",
       "      <td>Subscriber</td>\n",
       "    </tr>\n",
       "    <tr>\n",
       "      <th>32427</th>\n",
       "      <td>369</td>\n",
       "      <td>2018-05-30 13:50:58</td>\n",
       "      <td>2018-05-30 13:57:08</td>\n",
       "      <td>3220</td>\n",
       "      <td>5 Corners Library</td>\n",
       "      <td>3207</td>\n",
       "      <td>Oakland Ave</td>\n",
       "      <td>33660</td>\n",
       "      <td>Annual Membership</td>\n",
       "      <td>Subscriber</td>\n",
       "    </tr>\n",
       "  </tbody>\n",
       "</table>\n",
       "<p>32428 rows × 10 columns</p>\n",
       "</div>"
      ],
      "text/plain": [
       "       tripduration            starttime             stoptime  \\\n",
       "0               338  2018-05-01 00:04:47  2018-05-01 00:10:25   \n",
       "1              1482  2018-05-01 01:31:10  2018-05-01 01:55:53   \n",
       "2               232  2018-05-01 01:31:29  2018-05-01 01:35:22   \n",
       "3               190  2018-05-01 02:03:29  2018-05-01 02:06:40   \n",
       "4               303  2018-05-01 04:27:12  2018-05-01 04:32:16   \n",
       "...             ...                  ...                  ...   \n",
       "32423           396  2018-05-30 13:49:18  2018-05-30 13:55:55   \n",
       "32424           313  2018-05-30 13:49:21  2018-05-30 13:54:35   \n",
       "32425           316  2018-05-30 13:49:51  2018-05-30 13:55:08   \n",
       "32426          1130  2018-05-30 13:50:52  2018-05-30 14:09:42   \n",
       "32427           369  2018-05-30 13:50:58  2018-05-30 13:57:08   \n",
       "\n",
       "       start station id   start station name  end station id end station name  \\\n",
       "0                  3639           Harborside            3199     Newport Pkwy   \n",
       "1                  3681             Grand St            3185        City Hall   \n",
       "2                  3194      McGinley Square            3193     Lincoln Park   \n",
       "3                  3185            City Hall            3186    Grove St PATH   \n",
       "4                  3207          Oakland Ave            3195          Sip Ave   \n",
       "...                 ...                  ...             ...              ...   \n",
       "32423              3184          Paulus Hook            3279      Dixon Mills   \n",
       "32424              3202         Newport PATH            3639       Harborside   \n",
       "32425              3220    5 Corners Library            3195          Sip Ave   \n",
       "32426              3281  Leonard Gordon Park            3213   Van Vorst Park   \n",
       "32427              3220    5 Corners Library            3207      Oakland Ave   \n",
       "\n",
       "       bikeid                      name_localizedValue    usertype  \n",
       "0       33558                        Annual Membership  Subscriber  \n",
       "1       33593                                  24 Hour    Customer  \n",
       "2       29217  FREE Bonus Month with Annual Membership  Subscriber  \n",
       "3       29662                                  24 Hour    Customer  \n",
       "4       15271                        Annual Membership  Subscriber  \n",
       "...       ...                                      ...         ...  \n",
       "32423   29639          Join Citi Bike for $14.95/month  Subscriber  \n",
       "32424   26301                $25 Off Annual Membership  Subscriber  \n",
       "32425   29260                        Annual Membership  Subscriber  \n",
       "32426   26239                        Annual Membership  Subscriber  \n",
       "32427   33660                        Annual Membership  Subscriber  \n",
       "\n",
       "[32428 rows x 10 columns]"
      ]
     },
     "execution_count": 70,
     "metadata": {},
     "output_type": "execute_result"
    }
   ],
   "source": [
    "data"
   ]
  },
  {
   "cell_type": "code",
   "execution_count": 71,
   "id": "79816743",
   "metadata": {},
   "outputs": [
    {
     "name": "stdout",
     "output_type": "stream",
     "text": [
      "<class 'pandas.core.frame.DataFrame'>\n",
      "RangeIndex: 32428 entries, 0 to 32427\n",
      "Data columns (total 10 columns):\n",
      " #   Column               Non-Null Count  Dtype \n",
      "---  ------               --------------  ----- \n",
      " 0   tripduration         32428 non-null  int64 \n",
      " 1   starttime            32428 non-null  object\n",
      " 2   stoptime             32428 non-null  object\n",
      " 3   start station id     32428 non-null  int64 \n",
      " 4   start station name   32428 non-null  object\n",
      " 5   end station id       32428 non-null  int64 \n",
      " 6   end station name     32428 non-null  object\n",
      " 7   bikeid               32428 non-null  int64 \n",
      " 8   name_localizedValue  32428 non-null  object\n",
      " 9   usertype             32428 non-null  object\n",
      "dtypes: int64(4), object(6)\n",
      "memory usage: 2.5+ MB\n"
     ]
    }
   ],
   "source": [
    "data.info()"
   ]
  },
  {
   "cell_type": "code",
   "execution_count": 74,
   "id": "6356bcf2",
   "metadata": {},
   "outputs": [
    {
     "data": {
      "text/html": [
       "<div>\n",
       "<style scoped>\n",
       "    .dataframe tbody tr th:only-of-type {\n",
       "        vertical-align: middle;\n",
       "    }\n",
       "\n",
       "    .dataframe tbody tr th {\n",
       "        vertical-align: top;\n",
       "    }\n",
       "\n",
       "    .dataframe thead th {\n",
       "        text-align: right;\n",
       "    }\n",
       "</style>\n",
       "<table border=\"1\" class=\"dataframe\">\n",
       "  <thead>\n",
       "    <tr style=\"text-align: right;\">\n",
       "      <th></th>\n",
       "      <th>tripduration</th>\n",
       "      <th>start station id</th>\n",
       "      <th>end station id</th>\n",
       "      <th>bikeid</th>\n",
       "    </tr>\n",
       "  </thead>\n",
       "  <tbody>\n",
       "    <tr>\n",
       "      <th>count</th>\n",
       "      <td>32428.000000</td>\n",
       "      <td>32428.000000</td>\n",
       "      <td>32428.000000</td>\n",
       "      <td>32428.000000</td>\n",
       "    </tr>\n",
       "    <tr>\n",
       "      <th>mean</th>\n",
       "      <td>798.978352</td>\n",
       "      <td>3264.568829</td>\n",
       "      <td>3255.485568</td>\n",
       "      <td>29817.647959</td>\n",
       "    </tr>\n",
       "    <tr>\n",
       "      <th>std</th>\n",
       "      <td>9961.203954</td>\n",
       "      <td>137.810344</td>\n",
       "      <td>149.390306</td>\n",
       "      <td>2807.705863</td>\n",
       "    </tr>\n",
       "    <tr>\n",
       "      <th>min</th>\n",
       "      <td>61.000000</td>\n",
       "      <td>3183.000000</td>\n",
       "      <td>212.000000</td>\n",
       "      <td>15271.000000</td>\n",
       "    </tr>\n",
       "    <tr>\n",
       "      <th>25%</th>\n",
       "      <td>236.000000</td>\n",
       "      <td>3192.000000</td>\n",
       "      <td>3186.000000</td>\n",
       "      <td>26310.000000</td>\n",
       "    </tr>\n",
       "    <tr>\n",
       "      <th>50%</th>\n",
       "      <td>352.000000</td>\n",
       "      <td>3206.000000</td>\n",
       "      <td>3203.000000</td>\n",
       "      <td>29516.000000</td>\n",
       "    </tr>\n",
       "    <tr>\n",
       "      <th>75%</th>\n",
       "      <td>590.000000</td>\n",
       "      <td>3272.000000</td>\n",
       "      <td>3270.000000</td>\n",
       "      <td>33568.000000</td>\n",
       "    </tr>\n",
       "    <tr>\n",
       "      <th>max</th>\n",
       "      <td>936970.000000</td>\n",
       "      <td>3681.000000</td>\n",
       "      <td>3681.000000</td>\n",
       "      <td>33682.000000</td>\n",
       "    </tr>\n",
       "  </tbody>\n",
       "</table>\n",
       "</div>"
      ],
      "text/plain": [
       "        tripduration  start station id  end station id        bikeid\n",
       "count   32428.000000      32428.000000    32428.000000  32428.000000\n",
       "mean      798.978352       3264.568829     3255.485568  29817.647959\n",
       "std      9961.203954        137.810344      149.390306   2807.705863\n",
       "min        61.000000       3183.000000      212.000000  15271.000000\n",
       "25%       236.000000       3192.000000     3186.000000  26310.000000\n",
       "50%       352.000000       3206.000000     3203.000000  29516.000000\n",
       "75%       590.000000       3272.000000     3270.000000  33568.000000\n",
       "max    936970.000000       3681.000000     3681.000000  33682.000000"
      ]
     },
     "execution_count": 74,
     "metadata": {},
     "output_type": "execute_result"
    }
   ],
   "source": [
    "data.describe()"
   ]
  },
  {
   "cell_type": "markdown",
   "id": "32b4fcee",
   "metadata": {},
   "source": [
    "# Continue from Indexing"
   ]
  }
 ],
 "metadata": {
  "kernelspec": {
   "display_name": "Python 3 (ipykernel)",
   "language": "python",
   "name": "python3"
  },
  "language_info": {
   "codemirror_mode": {
    "name": "ipython",
    "version": 3
   },
   "file_extension": ".py",
   "mimetype": "text/x-python",
   "name": "python",
   "nbconvert_exporter": "python",
   "pygments_lexer": "ipython3",
   "version": "3.10.9"
  }
 },
 "nbformat": 4,
 "nbformat_minor": 5
}
