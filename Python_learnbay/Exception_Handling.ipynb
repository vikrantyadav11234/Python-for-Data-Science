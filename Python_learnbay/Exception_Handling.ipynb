{
 "cells": [
  {
   "cell_type": "markdown",
   "id": "c71973a2",
   "metadata": {},
   "source": [
    "# Exception Handling"
   ]
  },
  {
   "cell_type": "code",
   "execution_count": null,
   "id": "dff26e5b",
   "metadata": {},
   "outputs": [],
   "source": [
    "# Types of error\n",
    " 1. compile time errors--> Syntax errors for exp-indentation errors etc\n",
    " 2. run time errors--> division by zero error, type error, name error\n",
    " 3. logical errors---> which the users make\n",
    "    \n",
    " ** Exceptional handling will only detact name error   "
   ]
  },
  {
   "cell_type": "code",
   "execution_count": 2,
   "id": "047cbfa0",
   "metadata": {},
   "outputs": [
    {
     "name": "stdout",
     "output_type": "stream",
     "text": [
      "['ArithmeticError', 'AssertionError', 'AttributeError', 'BaseException', 'BlockingIOError', 'BrokenPipeError', 'BufferError', 'BytesWarning', 'ChildProcessError', 'ConnectionAbortedError', 'ConnectionError', 'ConnectionRefusedError', 'ConnectionResetError', 'DeprecationWarning', 'EOFError', 'Ellipsis', 'EncodingWarning', 'EnvironmentError', 'Exception', 'False', 'FileExistsError', 'FileNotFoundError', 'FloatingPointError', 'FutureWarning', 'GeneratorExit', 'IOError', 'ImportError', 'ImportWarning', 'IndentationError', 'IndexError', 'InterruptedError', 'IsADirectoryError', 'KeyError', 'KeyboardInterrupt', 'LookupError', 'MemoryError', 'ModuleNotFoundError', 'NameError', 'None', 'NotADirectoryError', 'NotImplemented', 'NotImplementedError', 'OSError', 'OverflowError', 'PendingDeprecationWarning', 'PermissionError', 'ProcessLookupError', 'RecursionError', 'ReferenceError', 'ResourceWarning', 'RuntimeError', 'RuntimeWarning', 'StopAsyncIteration', 'StopIteration', 'SyntaxError', 'SyntaxWarning', 'SystemError', 'SystemExit', 'TabError', 'TimeoutError', 'True', 'TypeError', 'UnboundLocalError', 'UnicodeDecodeError', 'UnicodeEncodeError', 'UnicodeError', 'UnicodeTranslateError', 'UnicodeWarning', 'UserWarning', 'ValueError', 'Warning', 'WindowsError', 'ZeroDivisionError', '__IPYTHON__', '__build_class__', '__debug__', '__doc__', '__import__', '__loader__', '__name__', '__package__', '__spec__', 'abs', 'aiter', 'all', 'anext', 'any', 'ascii', 'bin', 'bool', 'breakpoint', 'bytearray', 'bytes', 'callable', 'chr', 'classmethod', 'compile', 'complex', 'copyright', 'credits', 'delattr', 'dict', 'dir', 'display', 'divmod', 'enumerate', 'eval', 'exec', 'execfile', 'filter', 'float', 'format', 'frozenset', 'get_ipython', 'getattr', 'globals', 'hasattr', 'hash', 'help', 'hex', 'id', 'input', 'int', 'isinstance', 'issubclass', 'iter', 'len', 'license', 'list', 'locals', 'map', 'max', 'memoryview', 'min', 'next', 'object', 'oct', 'open', 'ord', 'pow', 'print', 'property', 'range', 'repr', 'reversed', 'round', 'runfile', 'set', 'setattr', 'slice', 'sorted', 'staticmethod', 'str', 'sum', 'super', 'tuple', 'type', 'vars', 'zip']\n"
     ]
    }
   ],
   "source": [
    "# list of all the errors which are run time errors only.\n",
    "# it will not be able to catch the compile errors and logical errors\n",
    "print(dir(__builtins__))"
   ]
  },
  {
   "cell_type": "code",
   "execution_count": 3,
   "id": "63a4ec49",
   "metadata": {},
   "outputs": [
    {
     "ename": "SyntaxError",
     "evalue": "incomplete input (3097766616.py, line 3)",
     "output_type": "error",
     "traceback": [
      "\u001b[1;36m  Cell \u001b[1;32mIn[3], line 3\u001b[1;36m\u001b[0m\n\u001b[1;33m    print(a+b\u001b[0m\n\u001b[1;37m             ^\u001b[0m\n\u001b[1;31mSyntaxError\u001b[0m\u001b[1;31m:\u001b[0m incomplete input\n"
     ]
    }
   ],
   "source": [
    "a=10\n",
    "b=20\n",
    "print(a+b  # it will not be catch by exception handling"
   ]
  },
  {
   "cell_type": "code",
   "execution_count": 4,
   "id": "ee7d3c35",
   "metadata": {},
   "outputs": [
    {
     "ename": "SyntaxError",
     "evalue": "expected ':' (1816394938.py, line 3)",
     "output_type": "error",
     "traceback": [
      "\u001b[1;36m  Cell \u001b[1;32mIn[4], line 3\u001b[1;36m\u001b[0m\n\u001b[1;33m    if a==10\u001b[0m\n\u001b[1;37m            ^\u001b[0m\n\u001b[1;31mSyntaxError\u001b[0m\u001b[1;31m:\u001b[0m expected ':'\n"
     ]
    }
   ],
   "source": [
    "a=10\n",
    "b=20\n",
    "if a==10\n",
    "     print('hel;lo') # it will not be catch by exception handling"
   ]
  },
  {
   "cell_type": "code",
   "execution_count": 5,
   "id": "25455f36",
   "metadata": {},
   "outputs": [
    {
     "ename": "NameError",
     "evalue": "name 'c' is not defined",
     "output_type": "error",
     "traceback": [
      "\u001b[1;31m---------------------------------------------------------------------------\u001b[0m",
      "\u001b[1;31mNameError\u001b[0m                                 Traceback (most recent call last)",
      "Cell \u001b[1;32mIn[5], line 3\u001b[0m\n\u001b[0;32m      1\u001b[0m a\u001b[38;5;241m=\u001b[39m\u001b[38;5;241m10\u001b[39m\n\u001b[0;32m      2\u001b[0m b\u001b[38;5;241m=\u001b[39m\u001b[38;5;241m20\u001b[39m\n\u001b[1;32m----> 3\u001b[0m \u001b[38;5;28mprint\u001b[39m(a\u001b[38;5;241m/\u001b[39m\u001b[43mc\u001b[49m)\n",
      "\u001b[1;31mNameError\u001b[0m: name 'c' is not defined"
     ]
    }
   ],
   "source": [
    "a=10\n",
    "b=20\n",
    "print(a/c) # it will be catch by exception handling"
   ]
  },
  {
   "cell_type": "code",
   "execution_count": 6,
   "id": "2708c656",
   "metadata": {},
   "outputs": [
    {
     "name": "stdout",
     "output_type": "stream",
     "text": [
      "0.5\n"
     ]
    }
   ],
   "source": [
    "a=10\n",
    "b=20\n",
    "try:\n",
    "    print(a/c)\n",
    "except:\n",
    "    print(a/b)"
   ]
  },
  {
   "cell_type": "code",
   "execution_count": 7,
   "id": "f7abea36",
   "metadata": {},
   "outputs": [
    {
     "ename": "SyntaxError",
     "evalue": "'(' was never closed (2523953432.py, line 4)",
     "output_type": "error",
     "traceback": [
      "\u001b[1;36m  Cell \u001b[1;32mIn[7], line 4\u001b[1;36m\u001b[0m\n\u001b[1;33m    print(a/c   #syntax error\u001b[0m\n\u001b[1;37m         ^\u001b[0m\n\u001b[1;31mSyntaxError\u001b[0m\u001b[1;31m:\u001b[0m '(' was never closed\n"
     ]
    }
   ],
   "source": [
    "a=10\n",
    "b=20\n",
    "try:\n",
    "    print(a/c   #syntax error\n",
    "except:\n",
    "    print(a/b)"
   ]
  },
  {
   "cell_type": "code",
   "execution_count": 8,
   "id": "e51275ca",
   "metadata": {},
   "outputs": [
    {
     "ename": "SyntaxError",
     "evalue": "expected ':' (351695793.py, line 4)",
     "output_type": "error",
     "traceback": [
      "\u001b[1;36m  Cell \u001b[1;32mIn[8], line 4\u001b[1;36m\u001b[0m\n\u001b[1;33m    if a==10\u001b[0m\n\u001b[1;37m            ^\u001b[0m\n\u001b[1;31mSyntaxError\u001b[0m\u001b[1;31m:\u001b[0m expected ':'\n"
     ]
    }
   ],
   "source": [
    "a=10\n",
    "b=20\n",
    "try:\n",
    "    if a==10\n",
    "     print('hel;lo')\n",
    "except:\n",
    "    pass\n",
    "print(a/b)"
   ]
  },
  {
   "cell_type": "code",
   "execution_count": null,
   "id": "cab17463",
   "metadata": {},
   "outputs": [],
   "source": [
    "# if code stops bcoz of some error\n",
    "* whole production is stopped\n",
    "* for this we have a backup code to avoid the stopage of the whole production.\n"
   ]
  },
  {
   "cell_type": "code",
   "execution_count": 12,
   "id": "dfbe2669",
   "metadata": {},
   "outputs": [
    {
     "ename": "IndentationError",
     "evalue": "expected an indented block after 'for' statement on line 2 (1995868311.py, line 3)",
     "output_type": "error",
     "traceback": [
      "\u001b[1;36m  Cell \u001b[1;32mIn[12], line 3\u001b[1;36m\u001b[0m\n\u001b[1;33m    print('r')  #compile time error\u001b[0m\n\u001b[1;37m    ^\u001b[0m\n\u001b[1;31mIndentationError\u001b[0m\u001b[1;31m:\u001b[0m expected an indented block after 'for' statement on line 2\n"
     ]
    }
   ],
   "source": [
    "\n",
    "a=[1,2,3,4]\n",
    "for i in a:\n",
    "print('r')  #compile time error"
   ]
  },
  {
   "cell_type": "code",
   "execution_count": 13,
   "id": "fbbd4534",
   "metadata": {},
   "outputs": [
    {
     "ename": "FileNotFoundError",
     "evalue": "[Errno 2] No such file or directory: 'my_name.txt'",
     "output_type": "error",
     "traceback": [
      "\u001b[1;31m---------------------------------------------------------------------------\u001b[0m",
      "\u001b[1;31mFileNotFoundError\u001b[0m                         Traceback (most recent call last)",
      "Cell \u001b[1;32mIn[13], line 1\u001b[0m\n\u001b[1;32m----> 1\u001b[0m f\u001b[38;5;241m=\u001b[39m \u001b[38;5;28;43mopen\u001b[39;49m\u001b[43m(\u001b[49m\u001b[38;5;124;43m'\u001b[39;49m\u001b[38;5;124;43mmy_name.txt\u001b[39;49m\u001b[38;5;124;43m'\u001b[39;49m\u001b[43m,\u001b[49m\u001b[38;5;124;43m'\u001b[39;49m\u001b[38;5;124;43mr\u001b[39;49m\u001b[38;5;124;43m'\u001b[39;49m\u001b[43m)\u001b[49m\n",
      "File \u001b[1;32mD:\\Anaconda\\lib\\site-packages\\IPython\\core\\interactiveshell.py:282\u001b[0m, in \u001b[0;36m_modified_open\u001b[1;34m(file, *args, **kwargs)\u001b[0m\n\u001b[0;32m    275\u001b[0m \u001b[38;5;28;01mif\u001b[39;00m file \u001b[38;5;129;01min\u001b[39;00m {\u001b[38;5;241m0\u001b[39m, \u001b[38;5;241m1\u001b[39m, \u001b[38;5;241m2\u001b[39m}:\n\u001b[0;32m    276\u001b[0m     \u001b[38;5;28;01mraise\u001b[39;00m \u001b[38;5;167;01mValueError\u001b[39;00m(\n\u001b[0;32m    277\u001b[0m         \u001b[38;5;124mf\u001b[39m\u001b[38;5;124m\"\u001b[39m\u001b[38;5;124mIPython won\u001b[39m\u001b[38;5;124m'\u001b[39m\u001b[38;5;124mt let you open fd=\u001b[39m\u001b[38;5;132;01m{\u001b[39;00mfile\u001b[38;5;132;01m}\u001b[39;00m\u001b[38;5;124m by default \u001b[39m\u001b[38;5;124m\"\u001b[39m\n\u001b[0;32m    278\u001b[0m         \u001b[38;5;124m\"\u001b[39m\u001b[38;5;124mas it is likely to crash IPython. If you know what you are doing, \u001b[39m\u001b[38;5;124m\"\u001b[39m\n\u001b[0;32m    279\u001b[0m         \u001b[38;5;124m\"\u001b[39m\u001b[38;5;124myou can use builtins\u001b[39m\u001b[38;5;124m'\u001b[39m\u001b[38;5;124m open.\u001b[39m\u001b[38;5;124m\"\u001b[39m\n\u001b[0;32m    280\u001b[0m     )\n\u001b[1;32m--> 282\u001b[0m \u001b[38;5;28;01mreturn\u001b[39;00m io_open(file, \u001b[38;5;241m*\u001b[39margs, \u001b[38;5;241m*\u001b[39m\u001b[38;5;241m*\u001b[39mkwargs)\n",
      "\u001b[1;31mFileNotFoundError\u001b[0m: [Errno 2] No such file or directory: 'my_name.txt'"
     ]
    }
   ],
   "source": [
    "f= open('my_name.txt','r') # runtime error"
   ]
  },
  {
   "cell_type": "code",
   "execution_count": null,
   "id": "37379145",
   "metadata": {},
   "outputs": [],
   "source": [
    "# keywords we use here are\n",
    "  *try\n",
    "  *except\n",
    "  *else\n",
    "  *finally\n",
    "  *raise\n",
    "    \n",
    "    \n",
    "1. Try--> only the code which will through an error\n",
    "    except--> you write an alternate code if there is an error in try block\n",
    "    then only this except block will work."
   ]
  },
  {
   "cell_type": "code",
   "execution_count": 14,
   "id": "beadcc6d",
   "metadata": {},
   "outputs": [
    {
     "name": "stdout",
     "output_type": "stream",
     "text": [
      "0.5\n"
     ]
    }
   ],
   "source": [
    "a= 10\n",
    "b=20\n",
    "\n",
    "\n",
    "print(a/b)"
   ]
  },
  {
   "cell_type": "code",
   "execution_count": 17,
   "id": "6b8f9146",
   "metadata": {},
   "outputs": [
    {
     "name": "stdout",
     "output_type": "stream",
     "text": [
      "nothing\n",
      "python\n"
     ]
    }
   ],
   "source": [
    "a= 10\n",
    "b=0\n",
    "try:\n",
    "    print(a/b)# run time error\n",
    "except:\n",
    "    print('nothing')\n",
    "print('python')"
   ]
  },
  {
   "cell_type": "code",
   "execution_count": 18,
   "id": "46681621",
   "metadata": {},
   "outputs": [
    {
     "name": "stdout",
     "output_type": "stream",
     "text": [
      "5.0\n",
      "python\n"
     ]
    }
   ],
   "source": [
    "a= 10\n",
    "b=2\n",
    "try:\n",
    "    print(a/b)\n",
    "except:\n",
    "    print('nothing')\n",
    "print('python')"
   ]
  },
  {
   "cell_type": "code",
   "execution_count": null,
   "id": "e809c88e",
   "metadata": {},
   "outputs": [],
   "source": [
    "# try except and else\n",
    "--> execution will go to except block there is a run time error in try block.\n",
    "--->if there is no error in try block else will be executed.\n"
   ]
  },
  {
   "cell_type": "code",
   "execution_count": 20,
   "id": "e9a0a961",
   "metadata": {},
   "outputs": [
    {
     "name": "stdout",
     "output_type": "stream",
     "text": [
      "some error\n",
      "python\n"
     ]
    }
   ],
   "source": [
    "a= 10\n",
    "b=0\n",
    "try:\n",
    "    if a==10:\n",
    "        print(a/b)\n",
    "except:\n",
    "    print('some error')\n",
    "else:\n",
    "    print('code is successful.')\n",
    "print('python')"
   ]
  },
  {
   "cell_type": "code",
   "execution_count": null,
   "id": "a1bf0211",
   "metadata": {},
   "outputs": [],
   "source": [
    "# try except and else and finally\n",
    "--> execution will go to except block there is a run time error in try block.\n",
    "--->if there is no error in try block else will be executed.\n",
    "--->it will be executed evertime( even if there is an error or not)"
   ]
  },
  {
   "cell_type": "code",
   "execution_count": 29,
   "id": "9249b546",
   "metadata": {},
   "outputs": [
    {
     "name": "stdout",
     "output_type": "stream",
     "text": [
      "some error\n",
      "Very good.\n",
      "python\n"
     ]
    }
   ],
   "source": [
    "a= 10\n",
    "b=0\n",
    "try:\n",
    "    if a==10:\n",
    "        print(a/b)\n",
    "except:\n",
    "    print('some error')\n",
    "else:\n",
    "    print('code is successful.')\n",
    "finally:\n",
    "    print('Very good.')\n",
    "print('python')"
   ]
  },
  {
   "cell_type": "code",
   "execution_count": 22,
   "id": "f6ef96a4",
   "metadata": {},
   "outputs": [
    {
     "name": "stdout",
     "output_type": "stream",
     "text": [
      "5.0\n",
      "code is successful.\n",
      "Very good.\n",
      "python\n"
     ]
    }
   ],
   "source": [
    "a= 10\n",
    "b=2\n",
    "try:\n",
    "    if a==10:\n",
    "        print(a/b)\n",
    "except:\n",
    "    print('some error')\n",
    "else:\n",
    "    print('code is successful.')\n",
    "finally:\n",
    "    print('Very good.')\n",
    "print('python')"
   ]
  },
  {
   "cell_type": "markdown",
   "id": "71cf983c",
   "metadata": {},
   "source": [
    "# Showing coding errors to user"
   ]
  },
  {
   "cell_type": "code",
   "execution_count": 25,
   "id": "2adf365a",
   "metadata": {},
   "outputs": [
    {
     "name": "stdout",
     "output_type": "stream",
     "text": [
      "some error\n",
      "Very good.\n",
      "python\n"
     ]
    }
   ],
   "source": [
    "a= 'str'\n",
    "b=0\n",
    "try:\n",
    "    print(a/c)\n",
    "except:\n",
    "    print('some error')\n",
    "else:\n",
    "    print('code is successful.')\n",
    "finally:\n",
    "    print('Very good.')\n",
    "print('python')"
   ]
  },
  {
   "cell_type": "code",
   "execution_count": 37,
   "id": "90b6a770",
   "metadata": {},
   "outputs": [
    {
     "name": "stdout",
     "output_type": "stream",
     "text": [
      "some error\n",
      "Very good.\n",
      "python\n"
     ]
    }
   ],
   "source": [
    "#Method 1- \n",
    "a=10\n",
    "b='str'\n",
    "try:\n",
    "    print(a/c)\n",
    "\n",
    "except ZeroDivisionError as e:\n",
    "    print(e)\n",
    "except TypeError as e:\n",
    "    print(e)\n",
    "except:\n",
    "    print('some error')\n",
    "    \n",
    "else:\n",
    "    print('code is successful.')\n",
    "    \n",
    "finally:\n",
    "    print('Very good.')\n",
    "    \n",
    "print('python')"
   ]
  },
  {
   "cell_type": "code",
   "execution_count": 38,
   "id": "f187e8a9",
   "metadata": {},
   "outputs": [
    {
     "name": "stdout",
     "output_type": "stream",
     "text": [
      "name 'c' is not defined\n",
      "Very good.\n",
      "python\n"
     ]
    }
   ],
   "source": [
    "# Method 2\n",
    "a=10\n",
    "b='str'\n",
    "try:\n",
    "    print(a/c)\n",
    "\n",
    "except Exception as e:\n",
    "    print(e)\n",
    "    \n",
    "else:\n",
    "    print('code is successful.')\n",
    "    \n",
    "finally:\n",
    "    print('Very good.')\n",
    "    \n",
    "print('python')"
   ]
  },
  {
   "cell_type": "markdown",
   "id": "cbaf73e0",
   "metadata": {},
   "source": [
    "# Error Logging\n",
    "* create an log sheet which log errors in one file"
   ]
  },
  {
   "cell_type": "code",
   "execution_count": 49,
   "id": "a3707b41",
   "metadata": {},
   "outputs": [
    {
     "name": "stdout",
     "output_type": "stream",
     "text": [
      "division by zero\n",
      "Very good.\n"
     ]
    }
   ],
   "source": [
    "\n",
    "a=10\n",
    "b=0\n",
    "try:\n",
    "    print(a/b)\n",
    "\n",
    "except Exception as e:\n",
    "    with open('file_handling/error_log.txt','a') as f:\n",
    "        f.write(str(e))\n",
    "    print(e)\n",
    "    \n",
    "    \n",
    "else:\n",
    "    print('code is successful.')\n",
    "    \n",
    "finally:\n",
    "    print('Very good.')"
   ]
  },
  {
   "cell_type": "code",
   "execution_count": null,
   "id": "3ea48d2f",
   "metadata": {},
   "outputs": [],
   "source": [
    "# user defined exceptions-----> raise\n",
    "#cdm-cash deposit machine\n",
    "\n",
    "# to raise a user defined error we need to create a class\n"
   ]
  },
  {
   "cell_type": "code",
   "execution_count": 67,
   "id": "1d54cc04",
   "metadata": {},
   "outputs": [
    {
     "name": "stdout",
     "output_type": "stream",
     "text": [
      "Please enter the amount: 61000\n",
      "over limits\n"
     ]
    }
   ],
   "source": [
    "class amount_deposit(Exception):\n",
    "    def __init__(self,msg):\n",
    "        self.msg=msg\n",
    "        \n",
    "        \n",
    "        \n",
    "# class amount_deposit(Exception):\n",
    "#     def __init__(self,msg):\n",
    "#         self.msg=msg\n",
    "        \n",
    "amount=int(input('Please enter the amount: '))\n",
    "\n",
    "try:\n",
    "    if amount>49999 and amount<60000:\n",
    "        raise amount_deposit(\"over limit\")\n",
    "    elif amount > 60000:\n",
    "        raise amount_deposit(\"over limits\")\n",
    "    else:\n",
    "        print('Amount Deposited')\n",
    "except Exception as e:\n",
    "    print(e)\n",
    "else:\n",
    "    print('Successful')\n",
    "    \n",
    "    \n",
    "    \n",
    "    \n"
   ]
  },
  {
   "cell_type": "code",
   "execution_count": 62,
   "id": "142dbeea",
   "metadata": {},
   "outputs": [
    {
     "name": "stdout",
     "output_type": "stream",
     "text": [
      "Please stop the process\n"
     ]
    }
   ],
   "source": [
    "class amount_deposit(Exception):\n",
    "    def __init__(self,msg):\n",
    "        self.msg=msg\n",
    "\n",
    "\n",
    "\n",
    "a=15\n",
    "b=20\n",
    "try:\n",
    "    if a==15:\n",
    "        raise amount_deposit('Please stop the process')\n",
    "    print('nothing')\n",
    "except Exception as e:\n",
    "    print(e)"
   ]
  },
  {
   "cell_type": "code",
   "execution_count": null,
   "id": "1a915b8b",
   "metadata": {},
   "outputs": [],
   "source": [
    "# basic g pay app\n",
    "# it should take an user input\n",
    "# if the amount is less then 50K it should tell print('amount deposited')\n",
    "# if the amount is btw 50K to 60K---->raise an error and request pan number\n",
    "#if the pan len--->10 ---> print('we will verify it and deposite the amount')\n",
    "# if the pan len!=10-->raise an error \"correct pan number\"\n",
    "# if the amount is more the 60K raise \"over limit\"\n",
    "\n",
    "\n"
   ]
  },
  {
   "cell_type": "code",
   "execution_count": 3,
   "id": "f977f27c",
   "metadata": {},
   "outputs": [
    {
     "name": "stdout",
     "output_type": "stream",
     "text": [
      "Enter the amount: 55000\n",
      "Enter Pan Number: axfpv8332e\n",
      "We will verify it and deposite the amount.\n"
     ]
    }
   ],
   "source": [
    "class amount_deposit(Exception):\n",
    "    def __init__(self,msg):\n",
    "        self.msg=msg\n",
    "class pan_number(Exception):\n",
    "    def __init__(self,msg):\n",
    "        self.msg=msg\n",
    "\n",
    "amount=int(input(\"Enter the amount: \"))\n",
    "try:\n",
    "    if amount < 50000:\n",
    "        print('Amount Deposited.')\n",
    "    elif amount>=50000 and amount<60000:\n",
    "        raise amount_deposit(\"Pan Card required.\")\n",
    "    else:\n",
    "        print('Over limit.')\n",
    "        \n",
    "        \n",
    "        \n",
    "except:\n",
    "\n",
    "    a=input(\"Enter Pan Number: \")\n",
    "    try:\n",
    "        if len(a)==10:\n",
    "            print('We will verify it and deposite the amount.')\n",
    "        elif len(a)!=10:\n",
    "            raise pan_number(\"Pan Number is not correct.\")\n",
    "    except Exception as e:\n",
    "        print(e)"
   ]
  },
  {
   "cell_type": "code",
   "execution_count": 5,
   "id": "b7d9b05c",
   "metadata": {},
   "outputs": [
    {
     "name": "stdout",
     "output_type": "stream",
     "text": [
      "Enter the amount: 55000\n",
      "Pan number required.\n",
      "enter pan number:asdfghjklo\n",
      "we will verify and deposit.\n"
     ]
    }
   ],
   "source": [
    "class my_exception(Exception):\n",
    "    def __init__(self,msg):\n",
    "        self.msg=msg\n",
    "        \n",
    "def submit_pan(pan):\n",
    "    if len(pan)==10:\n",
    "        print('we will verify and deposit.')\n",
    "    else:\n",
    "        raise my_exception('Wrong pan number.')\n",
    "def amount_deposited(amt):\n",
    "    if amt<50000:\n",
    "        print('Amount deposited')\n",
    "    elif amt>50000 and amt<60000:\n",
    "        raise my_exception('Pan number required.')\n",
    "    else:\n",
    "        print('over limit')\n",
    "            \n",
    "amt=int(input('Enter the amount: '))\n",
    "try:\n",
    "    amount_deposited(amt)\n",
    "except my_exception as e:\n",
    "    print(e)\n",
    "    try:\n",
    "        pan=input(\"enter pan number:\")\n",
    "        submit_pan(pan)\n",
    "    except my_exception as e:\n",
    "        print(e)\n",
    "        "
   ]
  },
  {
   "cell_type": "code",
   "execution_count": null,
   "id": "b31f5aae",
   "metadata": {},
   "outputs": [],
   "source": []
  },
  {
   "cell_type": "code",
   "execution_count": null,
   "id": "b6f1ab7d",
   "metadata": {},
   "outputs": [],
   "source": []
  },
  {
   "cell_type": "code",
   "execution_count": null,
   "id": "5d3248c7",
   "metadata": {},
   "outputs": [],
   "source": []
  },
  {
   "cell_type": "code",
   "execution_count": null,
   "id": "0236f58e",
   "metadata": {},
   "outputs": [],
   "source": []
  }
 ],
 "metadata": {
  "kernelspec": {
   "display_name": "Python 3 (ipykernel)",
   "language": "python",
   "name": "python3"
  },
  "language_info": {
   "codemirror_mode": {
    "name": "ipython",
    "version": 3
   },
   "file_extension": ".py",
   "mimetype": "text/x-python",
   "name": "python",
   "nbconvert_exporter": "python",
   "pygments_lexer": "ipython3",
   "version": "3.10.9"
  }
 },
 "nbformat": 4,
 "nbformat_minor": 5
}
