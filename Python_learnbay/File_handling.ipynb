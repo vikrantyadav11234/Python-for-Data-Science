{
 "cells": [
  {
   "cell_type": "markdown",
   "id": "065e8fee",
   "metadata": {},
   "source": [
    "# File Handling"
   ]
  },
  {
   "cell_type": "markdown",
   "id": "e61a35bd",
   "metadata": {},
   "source": [
    "#  Textfile---> files having .txt, .pdf, \n",
    "    \n",
    "#  binary files---> images, videos and audio files etc \n",
    "\n",
    "** Data collection is main task of file handling.\n"
   ]
  },
  {
   "cell_type": "markdown",
   "id": "7d99a7c3",
   "metadata": {},
   "source": [
    "# Points to remember\n",
    " * To write or read a file you need to open a file\n",
    "    \n",
    "    * syntax:\n",
    "        f= open (\"file_name.txt\", 'mode')\n",
    "        f.close() # unless and until i close the file those \n",
    "                    changes will not be made in the filel\n",
    "    * Modes of operations are:\n",
    "        ** for Text files\n",
    "          1. read mode- 'r'\n",
    "          2. write mode- 'w'\n",
    "          3. append mode- 'a'\n",
    "          4. update mode- '+'\n",
    "          5. read and write mode- 'r+'\n",
    "          6. write and read mode- 'w+'\n",
    "          7. append and read mode- 'a+'\n",
    "          \n",
    "         ** for Binary files\n",
    "          1. read mode- 'rb'\n",
    "          2. write mode- 'wb'\n",
    "          3. append mode- 'ab'\n",
    "          4. update mode- '+b'\n",
    "          5. read and write mode- 'r+b'\n",
    "          6. write and read mode- 'w+b'\n",
    "          7. append and read mode- 'a+b'\n",
    "          \n",
    "      * Methods on file object\n",
    "         1. read()---> read a content from a file\n",
    "         2. write()--> write a content in the file\n",
    "         3. tell()--> used to tell the position of the cursor\n",
    "         4. seek()--> used to move the cursor to a perticular position\n",
    "         5. flush()--> file will not be closed but the changes will be     reflect in the file. insted of close the file { in close()}.\n",
    "         \n",
    "         \n",
    "          "
   ]
  },
  {
   "cell_type": "code",
   "execution_count": 13,
   "id": "2b90aa4c",
   "metadata": {},
   "outputs": [],
   "source": [
    "f= open('trail_file.txt','w')\n",
    "f.write('hello world')\n",
    "f.close()\n",
    "\n",
    "# closing the file is important otherwise changes will not take place\n",
    "# data read from the file is always in string format"
   ]
  },
  {
   "cell_type": "code",
   "execution_count": 12,
   "id": "079e9b80",
   "metadata": {},
   "outputs": [
    {
     "data": {
      "text/plain": [
       "'hello world'"
      ]
     },
     "execution_count": 12,
     "metadata": {},
     "output_type": "execute_result"
    }
   ],
   "source": [
    "f=open('trail_file.txt','')\n",
    "f.tell()\n",
    "f.seek(0)\n",
    "f.read()"
   ]
  },
  {
   "cell_type": "code",
   "execution_count": null,
   "id": "78ceb075",
   "metadata": {},
   "outputs": [],
   "source": [
    "# Read mode---> 'r'\n",
    "\n",
    "* if the file exist it will open the file and by default \n",
    "  places the cursor at the start of the file.\n",
    "* if file does not exist then it will give file not found error.\n",
    "* you are only allowed to read from it but not allowed to write on it."
   ]
  },
  {
   "cell_type": "code",
   "execution_count": 16,
   "id": "4eed10ab",
   "metadata": {},
   "outputs": [
    {
     "name": "stdout",
     "output_type": "stream",
     "text": [
      "0\n",
      "dvfrehvbahbc ajkhbvlef\n",
      "vnbvvjfvjabbmbkjbvhd\n",
      "vjhbvjavcxzcljkdbvk\n",
      "nbabvhjfhbms cdskjvajvbhf\n",
      "89\n",
      "\n",
      "0\n",
      "dvfrehvbahbc ajkhbvlef\n",
      "vnbvvjfvjabbmbkjbvhd\n",
      "vjhbvjavcxzcljkdbvk\n",
      "nbabvhjfhbms cdskjvajvbhf\n",
      "<class 'str'>\n"
     ]
    }
   ],
   "source": [
    "f= open('file_handling/file1.txt','r')\n",
    "print(f.tell())\n",
    "print(f.read())\n",
    "print(f.tell())\n",
    "print(f.read())\n",
    "print(f.seek(0))\n",
    "print(f.read())\n",
    "print(type(f.read()))\n",
    "f.seek(0)\n",
    "f.close()\n",
    "# f.write('something')"
   ]
  },
  {
   "cell_type": "code",
   "execution_count": null,
   "id": "35956981",
   "metadata": {},
   "outputs": [],
   "source": [
    "# 2. Write Mode\n",
    " * if the file already exist then it will open the file and delete the \n",
    "    existing content.\n",
    " * if file is not already exist it will create a new file with that name.\n",
    " * You are only allowed to write on this file but not allowed to read from \n",
    "    the file."
   ]
  },
  {
   "cell_type": "code",
   "execution_count": 28,
   "id": "409435e9",
   "metadata": {},
   "outputs": [
    {
     "name": "stdout",
     "output_type": "stream",
     "text": [
      "0\n",
      "18\n"
     ]
    }
   ],
   "source": [
    "file= open ('file_handling/file1.py','w')\n",
    "print(file.tell())\n",
    "file.write(\"hello world\")\n",
    "file.write('i luv u')\n",
    "print(file.tell())\n",
    "file.close()\n"
   ]
  },
  {
   "cell_type": "code",
   "execution_count": null,
   "id": "e06bda44",
   "metadata": {},
   "outputs": [],
   "source": [
    "# Append mode\n",
    " * if the file exist, it will append the new data after previous data.\n",
    "    previous data will not be deleted. and places the cursor at the end of \n",
    "    the data.\n",
    "    \n",
    " * if the file does not exist it will create a file and put the cursor at\n",
    "   zero.\n",
    " * you are only allowed to write the data in the file. not allowed to read \n",
    "   the data.\n",
    " * append will always write the data at the last."
   ]
  },
  {
   "cell_type": "code",
   "execution_count": 38,
   "id": "3bd22de5",
   "metadata": {},
   "outputs": [
    {
     "name": "stdout",
     "output_type": "stream",
     "text": [
      "484\n"
     ]
    }
   ],
   "source": [
    "f= open('file_handling/append.txt','a')\n",
    "print(f.tell())\n",
    "f.write('\\nhe is having a tough time. And he will definitely fight this war and win it.')\n",
    "f.flush()\n",
    "f.write('\\nDo or Die.')\n",
    "f.close()"
   ]
  },
  {
   "cell_type": "code",
   "execution_count": 40,
   "id": "f6ebed30",
   "metadata": {},
   "outputs": [
    {
     "name": "stdout",
     "output_type": "stream",
     "text": [
      "586\n",
      "0\n"
     ]
    }
   ],
   "source": [
    "f= open('file_handling/append.txt','a')\n",
    "print(f.tell())\n",
    "print(f.seek(0))\n",
    "f.write('\\n2563145297') # it will writetten in the last only.\n",
    "# does'nt matter what is the cursor position.\n",
    "f.close()"
   ]
  },
  {
   "cell_type": "code",
   "execution_count": null,
   "id": "c96a406f",
   "metadata": {},
   "outputs": [],
   "source": [
    "# write and read mode---> 'w+'\n",
    "* write mode has the upper hand in it. Most of the function of the write mode\n",
    "  will work and also we can read the file also.\n",
    "* if the file does not exist a new file will be created.\n",
    "* if the file exist and has some data, previous data will be deleted,\n",
    "  and new data can be written.\n",
    "* you are allowed to write and read from it."
   ]
  },
  {
   "cell_type": "code",
   "execution_count": 44,
   "id": "ce229bc0",
   "metadata": {},
   "outputs": [
    {
     "name": "stdout",
     "output_type": "stream",
     "text": [
      "46\n",
      "0\n",
      "Vikrant likes Sheetal.\n",
      "She may also like him.\n"
     ]
    }
   ],
   "source": [
    "f=open('file_handling/write_read_mode.txt','w+')\n",
    "f.write('Vikrant likes Sheetal.')\n",
    "f.write('\\nShe may also like him.')\n",
    "f.flush()\n",
    "print(f.tell())\n",
    "print(f.seek(0))\n",
    "print(f.read())\n",
    "f.close()"
   ]
  },
  {
   "cell_type": "code",
   "execution_count": null,
   "id": "98a7199f",
   "metadata": {},
   "outputs": [],
   "source": [
    "# Read and write mode---> 'r+'\n",
    "* read mode has the upper hand in it. Most of the function of the write mode\n",
    "  will work and also we can read the file also.\n",
    "* if the file does not exist, it will through an error, not such directory\n",
    "   error present.\n",
    "* if the file exist and has some data it will open the file and places the \n",
    "  cursor at 0th position. it will replace the existing data and write.\n",
    "* you are allowed to write and read from it."
   ]
  },
  {
   "cell_type": "code",
   "execution_count": 59,
   "id": "61e194f2",
   "metadata": {},
   "outputs": [
    {
     "name": "stdout",
     "output_type": "stream",
     "text": [
      "0\n",
      "hey Baby isvikrant boy.He is having a bright future.He is having a bright future.He is having a bright future.He is having a bright future.hey BabyHe is having a bright future.hey Baby\n",
      "He is having a bright future.He is having a bright future.He is having a bright future.He is having a bright future.\n",
      "301\n",
      "11\n"
     ]
    }
   ],
   "source": [
    "f=open('file_handling/read_write_mode.txt','r+')\n",
    "print(f.tell())\n",
    "print(f.read())\n",
    "print(f.tell())\n",
    "f.write('He is having a bright future.')\n",
    "print(f.seek(11))\n",
    "f.write('vikrant')\n",
    "f.flush()"
   ]
  },
  {
   "cell_type": "code",
   "execution_count": null,
   "id": "af3c91d6",
   "metadata": {},
   "outputs": [],
   "source": [
    "# append and read mode---> 'a+'\n",
    "* if the file does not exist, it will create a new file.\n",
    "* if the file is present and has the data on it, by default cursor position is\n",
    "  at the end.\n",
    "* by default it will write at the last.\n",
    "* You are allowed to both read and write.\n",
    "* seek() will not work only for writing bcoz append will be at the alst only"
   ]
  },
  {
   "cell_type": "code",
   "execution_count": 75,
   "id": "6cfe376d",
   "metadata": {},
   "outputs": [
    {
     "name": "stdout",
     "output_type": "stream",
     "text": [
      "201\n",
      "0\n",
      "vnadshgoivNkjnds;ofhIDsyvbakzbk NMDnfclksdmvnafhbgj\n",
      "it will not over write.\n",
      "it will not over write.\n",
      "it will not over write.\n",
      "it will not over write.\n",
      "it will not over write.\n",
      "it will not over write.\n",
      "it will not over write.\n"
     ]
    }
   ],
   "source": [
    "f=open('file_handling/append_read_mode.txt','a+')\n",
    "print(f.tell())\n",
    "f.seek(0)\n",
    "# print(f.read())\n",
    "print(f.tell())\n",
    "f.write('\\nit will not over write.')\n",
    "f.seek(0)\n",
    "print(f.read())\n",
    "f.flush()"
   ]
  },
  {
   "cell_type": "code",
   "execution_count": 76,
   "id": "81ba7c7b",
   "metadata": {},
   "outputs": [],
   "source": [
    "a=10\n",
    "b=0\n",
    "f=open('file_handling/error.txt','a')\n",
    "\n",
    "try:\n",
    "    print(a/b)\n",
    "except Exception as e:\n",
    "    f.write(str(e))\n",
    "finally:\n",
    "    f.close()"
   ]
  },
  {
   "cell_type": "code",
   "execution_count": null,
   "id": "1634e07d",
   "metadata": {},
   "outputs": [],
   "source": [
    "a=10\n",
    "b=0\n",
    "f=open('file_handling/error.txt','a')\n",
    "\n",
    "try:\n",
    "    print(a/b)\n",
    "except Exception as e:\n",
    "    f.write(str(e))\n",
    "finally:\n",
    "    f.close()"
   ]
  },
  {
   "cell_type": "code",
   "execution_count": 77,
   "id": "ee1d7ab3",
   "metadata": {},
   "outputs": [],
   "source": [
    "a=10\n",
    "b='str'\n",
    "f=open('file_handling/error.txt','a')\n",
    "\n",
    "try:\n",
    "    print(a/b)\n",
    "except Exception as e:\n",
    "    f.write(str(e))\n",
    "finally:\n",
    "    f.close()"
   ]
  },
  {
   "cell_type": "code",
   "execution_count": 78,
   "id": "7087b136",
   "metadata": {},
   "outputs": [],
   "source": [
    "a=10\n",
    "b='str'\n",
    "f=open('file_handling/error.txt','a')\n",
    "\n",
    "try:\n",
    "    print(a/c)\n",
    "except Exception as e:\n",
    "    f.write(str(e))\n",
    "finally:\n",
    "    f.close()"
   ]
  },
  {
   "cell_type": "markdown",
   "id": "ae5b723e",
   "metadata": {},
   "source": [
    "# Methods to do the operation on read mode\n",
    "* read()-- reads the whole content of the file and returns a string object.\n",
    "* read(position)--Reads the specific no of char from the current position and\n",
    "              return a string object.\n",
    "* readline()--reads the current line from the current position.\n",
    "* readlines()- reads the whole content of the file and returns a list of   strings where element is a string and represents a line. "
   ]
  },
  {
   "cell_type": "code",
   "execution_count": 85,
   "id": "99ae77d7",
   "metadata": {},
   "outputs": [
    {
     "name": "stdout",
     "output_type": "stream",
     "text": [
      "messi plays for paris.\n",
      "\n",
      "ronaldo plays for manu.\n",
      "\n"
     ]
    }
   ],
   "source": [
    "f=open('file_handling/football.txt','r')\n",
    "print(f.readline())#reads the current line from the current position.\n",
    "print(f.readline())  # gap is because there is a new line character\n",
    "f.close()# after every line"
   ]
  },
  {
   "cell_type": "code",
   "execution_count": 91,
   "id": "57c9c022",
   "metadata": {},
   "outputs": [
    {
     "data": {
      "text/plain": [
       "['messi plays for paris.\\n',\n",
       " 'ronaldo plays for manu.\\n',\n",
       " 'neymar plays for paris.\\n',\n",
       " 'vikrant plays for iet lucknow.']"
      ]
     },
     "execution_count": 91,
     "metadata": {},
     "output_type": "execute_result"
    }
   ],
   "source": [
    "f=open('file_handling/football.txt','r')\n",
    "f.readlines() #'''reads the whole content of the file and \n",
    "#            returns a list of   strings where element is a string \n",
    "#              and represents a line. '''\n"
   ]
  },
  {
   "cell_type": "code",
   "execution_count": 93,
   "id": "e89d0ea1",
   "metadata": {},
   "outputs": [
    {
     "name": "stdout",
     "output_type": "stream",
     "text": [
      "messi play\n"
     ]
    }
   ],
   "source": [
    "f=open('file_handling/football.txt','r')\n",
    "data= f.read(10)\n",
    "print(data)"
   ]
  },
  {
   "cell_type": "code",
   "execution_count": 99,
   "id": "dd670520",
   "metadata": {},
   "outputs": [
    {
     "data": {
      "text/plain": [
       "['messi plays for paris.',\n",
       " 'ronaldo plays for manu.',\n",
       " 'neymar plays for paris.',\n",
       " 'vikrant plays for iet lucknow.']"
      ]
     },
     "execution_count": 99,
     "metadata": {},
     "output_type": "execute_result"
    }
   ],
   "source": [
    "f=open('file_handling/football.txt','r')\n",
    "str_1= f.read()\n",
    "# str_1\n",
    "str_1.split('\\n')"
   ]
  },
  {
   "cell_type": "code",
   "execution_count": 101,
   "id": "c570833b",
   "metadata": {},
   "outputs": [
    {
     "name": "stdout",
     "output_type": "stream",
     "text": [
      "44\n",
      "s for paris.\n",
      "ronaldo plays for man\n"
     ]
    }
   ],
   "source": [
    "f=open('file_handling/football.txt','r')\n",
    "f.seek(10)\n",
    "data=f.read(34)\n",
    "print(f.tell())\n",
    "print(data)"
   ]
  },
  {
   "cell_type": "code",
   "execution_count": 102,
   "id": "0dabf2c0",
   "metadata": {},
   "outputs": [],
   "source": [
    "# Methods to do on write mode\n",
    "* write('str')\n",
    "* writelines(['str\\n','str2\\n','strn\\n']) # write data in the form of list of string\n"
   ]
  },
  {
   "cell_type": "code",
   "execution_count": 105,
   "id": "55a580b6",
   "metadata": {},
   "outputs": [],
   "source": [
    "f=open('file_handling/method_write.py','w')\n",
    "f.write('abc\\n')\n",
    "f.writelines(['vikrant is a good boy.\\n','he likes Sheetal.\\n','we both are going to watch gadar today.\\n'])\n",
    "f.close()"
   ]
  },
  {
   "cell_type": "code",
   "execution_count": 106,
   "id": "7a6f9a9f",
   "metadata": {},
   "outputs": [],
   "source": [
    "# Contaxt manager\n",
    "with open ('file_handling/method_write.py','w') as f:\n",
    "    f.writelines(['vikrant is a good boy.\\n','he likes Sheetal.\\n','we both are going to watch gadar today.\\n'])\n",
    "    f.write('good bye.')\n",
    "    "
   ]
  },
  {
   "cell_type": "code",
   "execution_count": 20,
   "id": "f0e27e09",
   "metadata": {},
   "outputs": [
    {
     "name": "stdout",
     "output_type": "stream",
     "text": [
      "796\n",
      "147\n",
      "9\n"
     ]
    }
   ],
   "source": [
    "# # TAsk 1\n",
    "# * count the no of character.\n",
    "# * count the no of words.\n",
    "# * the number of lines.\n",
    "\n",
    "f=open('file_handling/football.txt','r')\n",
    "data=f.read()\n",
    "c=len(data)\n",
    "print(c)\n",
    "d=data.count(' ')\n",
    "print(d+2)\n",
    "e=data.count('.')\n",
    "print(e)"
   ]
  },
  {
   "cell_type": "code",
   "execution_count": 6,
   "id": "2e9fb43d",
   "metadata": {},
   "outputs": [],
   "source": [
    "# Task 2 \n",
    "\n",
    "# .jpg format --> convert it into .png file\n",
    "import os\n",
    "\n",
    "\n",
    "with open('file_handling/py.jpeg','rb') as f:\n",
    "    content=f.read()\n",
    "    \n",
    "with open('file_handling/py.png','wb') as f:\n",
    "    f.write(content)\n",
    "    \n",
    "os.remove('file_handling/py.jpeg')"
   ]
  },
  {
   "cell_type": "code",
   "execution_count": 9,
   "id": "57b01a9a",
   "metadata": {},
   "outputs": [
    {
     "name": "stdout",
     "output_type": "stream",
     "text": [
      "4\n",
      "147\n",
      "799\n"
     ]
    }
   ],
   "source": [
    "f=open('file_handling/football.txt','r')\n",
    "no_of_lines=len(f.readlines())\n",
    "f.seek(0)\n",
    "no_of_words=len(f.read().split())\n",
    "f.seek(0)\n",
    "no_of_char=len(f.read())\n",
    "\n",
    "print(no_of_lines)\n",
    "print(no_of_words)\n",
    "print(no_of_char)"
   ]
  },
  {
   "cell_type": "code",
   "execution_count": null,
   "id": "1cd1f5e0",
   "metadata": {},
   "outputs": [],
   "source": []
  },
  {
   "cell_type": "code",
   "execution_count": null,
   "id": "f5dd4957",
   "metadata": {},
   "outputs": [],
   "source": []
  }
 ],
 "metadata": {
  "kernelspec": {
   "display_name": "Python 3 (ipykernel)",
   "language": "python",
   "name": "python3"
  },
  "language_info": {
   "codemirror_mode": {
    "name": "ipython",
    "version": 3
   },
   "file_extension": ".py",
   "mimetype": "text/x-python",
   "name": "python",
   "nbconvert_exporter": "python",
   "pygments_lexer": "ipython3",
   "version": "3.10.9"
  }
 },
 "nbformat": 4,
 "nbformat_minor": 5
}
