{
 "cells": [
  {
   "cell_type": "markdown",
   "id": "8d18ef36",
   "metadata": {},
   "source": [
    "# Importing Libraries"
   ]
  },
  {
   "cell_type": "code",
   "execution_count": 2,
   "id": "1ee9e021",
   "metadata": {},
   "outputs": [],
   "source": [
    "import pandas as pd\n",
    "import numpy as np\n",
    "import matplotlib.pyplot as plt\n",
    "import seaborn as sns"
   ]
  },
  {
   "cell_type": "markdown",
   "id": "5a75559e",
   "metadata": {},
   "source": [
    "# Importing Dataset"
   ]
  },
  {
   "cell_type": "code",
   "execution_count": 94,
   "id": "89238b9c",
   "metadata": {},
   "outputs": [
    {
     "data": {
      "text/html": [
       "<div>\n",
       "<style scoped>\n",
       "    .dataframe tbody tr th:only-of-type {\n",
       "        vertical-align: middle;\n",
       "    }\n",
       "\n",
       "    .dataframe tbody tr th {\n",
       "        vertical-align: top;\n",
       "    }\n",
       "\n",
       "    .dataframe thead th {\n",
       "        text-align: right;\n",
       "    }\n",
       "</style>\n",
       "<table border=\"1\" class=\"dataframe\">\n",
       "  <thead>\n",
       "    <tr style=\"text-align: right;\">\n",
       "      <th></th>\n",
       "      <th>year</th>\n",
       "      <th>customer_id</th>\n",
       "      <th>phone_no</th>\n",
       "      <th>gender</th>\n",
       "      <th>age</th>\n",
       "      <th>no_of_days_subscribed</th>\n",
       "      <th>multi_screen</th>\n",
       "      <th>mail_subscribed</th>\n",
       "      <th>weekly_mins_watched</th>\n",
       "      <th>minimum_daily_mins</th>\n",
       "      <th>maximum_daily_mins</th>\n",
       "      <th>weekly_max_night_mins</th>\n",
       "      <th>videos_watched</th>\n",
       "      <th>maximum_days_inactive</th>\n",
       "      <th>customer_support_calls</th>\n",
       "      <th>churn</th>\n",
       "    </tr>\n",
       "  </thead>\n",
       "  <tbody>\n",
       "    <tr>\n",
       "      <th>0</th>\n",
       "      <td>2015</td>\n",
       "      <td>100198</td>\n",
       "      <td>409-8743</td>\n",
       "      <td>Female</td>\n",
       "      <td>36</td>\n",
       "      <td>62</td>\n",
       "      <td>no</td>\n",
       "      <td>no</td>\n",
       "      <td>148.35</td>\n",
       "      <td>12.2</td>\n",
       "      <td>16.81</td>\n",
       "      <td>82</td>\n",
       "      <td>1</td>\n",
       "      <td>4.0</td>\n",
       "      <td>1</td>\n",
       "      <td>0.0</td>\n",
       "    </tr>\n",
       "    <tr>\n",
       "      <th>1</th>\n",
       "      <td>2015</td>\n",
       "      <td>100643</td>\n",
       "      <td>340-5930</td>\n",
       "      <td>Female</td>\n",
       "      <td>39</td>\n",
       "      <td>149</td>\n",
       "      <td>no</td>\n",
       "      <td>no</td>\n",
       "      <td>294.45</td>\n",
       "      <td>7.7</td>\n",
       "      <td>33.37</td>\n",
       "      <td>87</td>\n",
       "      <td>3</td>\n",
       "      <td>3.0</td>\n",
       "      <td>2</td>\n",
       "      <td>0.0</td>\n",
       "    </tr>\n",
       "    <tr>\n",
       "      <th>2</th>\n",
       "      <td>2015</td>\n",
       "      <td>100756</td>\n",
       "      <td>372-3750</td>\n",
       "      <td>Female</td>\n",
       "      <td>65</td>\n",
       "      <td>126</td>\n",
       "      <td>no</td>\n",
       "      <td>no</td>\n",
       "      <td>87.30</td>\n",
       "      <td>11.9</td>\n",
       "      <td>9.89</td>\n",
       "      <td>91</td>\n",
       "      <td>1</td>\n",
       "      <td>4.0</td>\n",
       "      <td>5</td>\n",
       "      <td>1.0</td>\n",
       "    </tr>\n",
       "    <tr>\n",
       "      <th>3</th>\n",
       "      <td>2015</td>\n",
       "      <td>101595</td>\n",
       "      <td>331-4902</td>\n",
       "      <td>Female</td>\n",
       "      <td>24</td>\n",
       "      <td>131</td>\n",
       "      <td>no</td>\n",
       "      <td>yes</td>\n",
       "      <td>321.30</td>\n",
       "      <td>9.5</td>\n",
       "      <td>36.41</td>\n",
       "      <td>102</td>\n",
       "      <td>4</td>\n",
       "      <td>3.0</td>\n",
       "      <td>3</td>\n",
       "      <td>0.0</td>\n",
       "    </tr>\n",
       "    <tr>\n",
       "      <th>4</th>\n",
       "      <td>2015</td>\n",
       "      <td>101653</td>\n",
       "      <td>351-8398</td>\n",
       "      <td>Female</td>\n",
       "      <td>40</td>\n",
       "      <td>191</td>\n",
       "      <td>no</td>\n",
       "      <td>no</td>\n",
       "      <td>243.00</td>\n",
       "      <td>10.9</td>\n",
       "      <td>27.54</td>\n",
       "      <td>83</td>\n",
       "      <td>7</td>\n",
       "      <td>3.0</td>\n",
       "      <td>1</td>\n",
       "      <td>0.0</td>\n",
       "    </tr>\n",
       "  </tbody>\n",
       "</table>\n",
       "</div>"
      ],
      "text/plain": [
       "   year  customer_id  phone_no  gender  age  no_of_days_subscribed  \\\n",
       "0  2015       100198  409-8743  Female   36                     62   \n",
       "1  2015       100643  340-5930  Female   39                    149   \n",
       "2  2015       100756  372-3750  Female   65                    126   \n",
       "3  2015       101595  331-4902  Female   24                    131   \n",
       "4  2015       101653  351-8398  Female   40                    191   \n",
       "\n",
       "  multi_screen mail_subscribed  weekly_mins_watched  minimum_daily_mins  \\\n",
       "0           no              no               148.35                12.2   \n",
       "1           no              no               294.45                 7.7   \n",
       "2           no              no                87.30                11.9   \n",
       "3           no             yes               321.30                 9.5   \n",
       "4           no              no               243.00                10.9   \n",
       "\n",
       "   maximum_daily_mins  weekly_max_night_mins  videos_watched  \\\n",
       "0               16.81                     82               1   \n",
       "1               33.37                     87               3   \n",
       "2                9.89                     91               1   \n",
       "3               36.41                    102               4   \n",
       "4               27.54                     83               7   \n",
       "\n",
       "   maximum_days_inactive  customer_support_calls  churn  \n",
       "0                    4.0                       1    0.0  \n",
       "1                    3.0                       2    0.0  \n",
       "2                    4.0                       5    1.0  \n",
       "3                    3.0                       3    0.0  \n",
       "4                    3.0                       1    0.0  "
      ]
     },
     "execution_count": 94,
     "metadata": {},
     "output_type": "execute_result"
    }
   ],
   "source": [
    "data=pd.read_csv('data_regression.csv')\n",
    "data.head()"
   ]
  },
  {
   "cell_type": "markdown",
   "id": "304fe66f",
   "metadata": {},
   "source": [
    "# EDA"
   ]
  },
  {
   "cell_type": "markdown",
   "id": "b04d6206",
   "metadata": {},
   "source": [
    "- 1- Size of the data (Shape of the data)\n",
    "- 2- Columns in the data\n",
    "- 3- Information\n",
    "- 4- Statistical measures.\n",
    "- 5- Duplicate vlaues\n",
    "- 6- Null Values\n",
    "- 7- Outliers\n",
    "- 8- Univariate Analysis\n",
    "- 9- Bivariate Analysis"
   ]
  },
  {
   "cell_type": "markdown",
   "id": "6d0513c6",
   "metadata": {},
   "source": [
    "# Check for the null values"
   ]
  },
  {
   "cell_type": "code",
   "execution_count": 4,
   "id": "b59617f1",
   "metadata": {},
   "outputs": [
    {
     "data": {
      "text/plain": [
       "year                       0\n",
       "customer_id                0\n",
       "phone_no                   0\n",
       "gender                    24\n",
       "age                        0\n",
       "no_of_days_subscribed      0\n",
       "multi_screen               0\n",
       "mail_subscribed            0\n",
       "weekly_mins_watched        0\n",
       "minimum_daily_mins         0\n",
       "maximum_daily_mins         0\n",
       "weekly_max_night_mins      0\n",
       "videos_watched             0\n",
       "maximum_days_inactive     28\n",
       "customer_support_calls     0\n",
       "churn                     35\n",
       "dtype: int64"
      ]
     },
     "execution_count": 4,
     "metadata": {},
     "output_type": "execute_result"
    }
   ],
   "source": [
    "data.isnull().sum()"
   ]
  },
  {
   "cell_type": "markdown",
   "id": "59ea449f",
   "metadata": {},
   "source": [
    "- We have some null values in 3 columns"
   ]
  },
  {
   "cell_type": "markdown",
   "id": "373ac735",
   "metadata": {},
   "source": [
    "# Check for the outliers"
   ]
  },
  {
   "cell_type": "code",
   "execution_count": 8,
   "id": "6830e15b",
   "metadata": {},
   "outputs": [
    {
     "data": {
      "text/plain": [
       "<AxesSubplot:xlabel='weekly_mins_watched', ylabel='Density'>"
      ]
     },
     "execution_count": 8,
     "metadata": {},
     "output_type": "execute_result"
    },
    {
     "data": {
      "image/png": "[encoded data removed]",
      "text/plain": [
       "<Figure size 576x432 with 1 Axes>"
      ]
     },
     "metadata": {
      "needs_background": "light"
     },
     "output_type": "display_data"
    }
   ],
   "source": [
    "plt.figure(figsize=(8,6))\n",
    "sns.kdeplot(x='weekly_mins_watched',data=data)"
   ]
  },
  {
   "cell_type": "code",
   "execution_count": 9,
   "id": "a644eead",
   "metadata": {},
   "outputs": [
    {
     "data": {
      "text/plain": [
       "<AxesSubplot:xlabel='weekly_mins_watched', ylabel='Count'>"
      ]
     },
     "execution_count": 9,
     "metadata": {},
     "output_type": "execute_result"
    },
    {
     "data": {
      "image/png": "[encoded data removed]",
      "text/plain": [
       "<Figure size 432x288 with 1 Axes>"
      ]
     },
     "metadata": {
      "needs_background": "light"
     },
     "output_type": "display_data"
    }
   ],
   "source": [
    "sns.histplot(x='weekly_mins_watched',data=data)"
   ]
  },
  {
   "cell_type": "code",
   "execution_count": 10,
   "id": "bf3573a1",
   "metadata": {},
   "outputs": [],
   "source": [
    "# data= 1,5,2,7,3,7,8,5000"
   ]
  },
  {
   "cell_type": "markdown",
   "id": "78120c0b",
   "metadata": {},
   "source": [
    "- Outliers are a few data points that are significantlly different from the rest of the data.\n",
    "- Any value which very much far from the mean value can be treated as an outlier."
   ]
  },
  {
   "cell_type": "code",
   "execution_count": 11,
   "id": "e38d59a4",
   "metadata": {},
   "outputs": [
    {
     "data": {
      "text/html": [
       "<div>\n",
       "<style scoped>\n",
       "    .dataframe tbody tr th:only-of-type {\n",
       "        vertical-align: middle;\n",
       "    }\n",
       "\n",
       "    .dataframe tbody tr th {\n",
       "        vertical-align: top;\n",
       "    }\n",
       "\n",
       "    .dataframe thead th {\n",
       "        text-align: right;\n",
       "    }\n",
       "</style>\n",
       "<table border=\"1\" class=\"dataframe\">\n",
       "  <thead>\n",
       "    <tr style=\"text-align: right;\">\n",
       "      <th></th>\n",
       "      <th>year</th>\n",
       "      <th>customer_id</th>\n",
       "      <th>age</th>\n",
       "      <th>no_of_days_subscribed</th>\n",
       "      <th>weekly_mins_watched</th>\n",
       "      <th>minimum_daily_mins</th>\n",
       "      <th>maximum_daily_mins</th>\n",
       "      <th>weekly_max_night_mins</th>\n",
       "      <th>videos_watched</th>\n",
       "      <th>maximum_days_inactive</th>\n",
       "      <th>customer_support_calls</th>\n",
       "      <th>churn</th>\n",
       "    </tr>\n",
       "  </thead>\n",
       "  <tbody>\n",
       "    <tr>\n",
       "      <th>count</th>\n",
       "      <td>2000.0</td>\n",
       "      <td>2000.000000</td>\n",
       "      <td>2000.00000</td>\n",
       "      <td>2000.000000</td>\n",
       "      <td>2000.000000</td>\n",
       "      <td>2000.000000</td>\n",
       "      <td>2000.000000</td>\n",
       "      <td>2000.000000</td>\n",
       "      <td>2000.000000</td>\n",
       "      <td>1972.000000</td>\n",
       "      <td>2000.000000</td>\n",
       "      <td>1965.000000</td>\n",
       "    </tr>\n",
       "    <tr>\n",
       "      <th>mean</th>\n",
       "      <td>2015.0</td>\n",
       "      <td>554887.157500</td>\n",
       "      <td>38.69050</td>\n",
       "      <td>99.750000</td>\n",
       "      <td>270.178425</td>\n",
       "      <td>10.198700</td>\n",
       "      <td>30.620780</td>\n",
       "      <td>100.415500</td>\n",
       "      <td>4.482500</td>\n",
       "      <td>3.250507</td>\n",
       "      <td>1.547000</td>\n",
       "      <td>0.133333</td>\n",
       "    </tr>\n",
       "    <tr>\n",
       "      <th>std</th>\n",
       "      <td>0.0</td>\n",
       "      <td>261033.690318</td>\n",
       "      <td>10.20641</td>\n",
       "      <td>39.755386</td>\n",
       "      <td>80.551627</td>\n",
       "      <td>2.785519</td>\n",
       "      <td>9.129165</td>\n",
       "      <td>19.529454</td>\n",
       "      <td>2.487728</td>\n",
       "      <td>0.809084</td>\n",
       "      <td>1.315164</td>\n",
       "      <td>0.340021</td>\n",
       "    </tr>\n",
       "    <tr>\n",
       "      <th>min</th>\n",
       "      <td>2015.0</td>\n",
       "      <td>100198.000000</td>\n",
       "      <td>18.00000</td>\n",
       "      <td>1.000000</td>\n",
       "      <td>0.000000</td>\n",
       "      <td>0.000000</td>\n",
       "      <td>0.000000</td>\n",
       "      <td>42.000000</td>\n",
       "      <td>0.000000</td>\n",
       "      <td>0.000000</td>\n",
       "      <td>0.000000</td>\n",
       "      <td>0.000000</td>\n",
       "    </tr>\n",
       "    <tr>\n",
       "      <th>25%</th>\n",
       "      <td>2015.0</td>\n",
       "      <td>328634.750000</td>\n",
       "      <td>32.00000</td>\n",
       "      <td>73.000000</td>\n",
       "      <td>218.212500</td>\n",
       "      <td>8.400000</td>\n",
       "      <td>24.735000</td>\n",
       "      <td>87.000000</td>\n",
       "      <td>3.000000</td>\n",
       "      <td>3.000000</td>\n",
       "      <td>1.000000</td>\n",
       "      <td>0.000000</td>\n",
       "    </tr>\n",
       "    <tr>\n",
       "      <th>50%</th>\n",
       "      <td>2015.0</td>\n",
       "      <td>567957.500000</td>\n",
       "      <td>37.00000</td>\n",
       "      <td>99.000000</td>\n",
       "      <td>269.925000</td>\n",
       "      <td>10.200000</td>\n",
       "      <td>30.590000</td>\n",
       "      <td>101.000000</td>\n",
       "      <td>4.000000</td>\n",
       "      <td>3.000000</td>\n",
       "      <td>1.000000</td>\n",
       "      <td>0.000000</td>\n",
       "    </tr>\n",
       "    <tr>\n",
       "      <th>75%</th>\n",
       "      <td>2015.0</td>\n",
       "      <td>773280.250000</td>\n",
       "      <td>44.00000</td>\n",
       "      <td>127.000000</td>\n",
       "      <td>324.675000</td>\n",
       "      <td>12.000000</td>\n",
       "      <td>36.797500</td>\n",
       "      <td>114.000000</td>\n",
       "      <td>6.000000</td>\n",
       "      <td>4.000000</td>\n",
       "      <td>2.000000</td>\n",
       "      <td>0.000000</td>\n",
       "    </tr>\n",
       "    <tr>\n",
       "      <th>max</th>\n",
       "      <td>2015.0</td>\n",
       "      <td>999961.000000</td>\n",
       "      <td>82.00000</td>\n",
       "      <td>243.000000</td>\n",
       "      <td>526.200000</td>\n",
       "      <td>20.000000</td>\n",
       "      <td>59.640000</td>\n",
       "      <td>175.000000</td>\n",
       "      <td>19.000000</td>\n",
       "      <td>6.000000</td>\n",
       "      <td>9.000000</td>\n",
       "      <td>1.000000</td>\n",
       "    </tr>\n",
       "  </tbody>\n",
       "</table>\n",
       "</div>"
      ],
      "text/plain": [
       "         year    customer_id         age  no_of_days_subscribed  \\\n",
       "count  2000.0    2000.000000  2000.00000            2000.000000   \n",
       "mean   2015.0  554887.157500    38.69050              99.750000   \n",
       "std       0.0  261033.690318    10.20641              39.755386   \n",
       "min    2015.0  100198.000000    18.00000               1.000000   \n",
       "25%    2015.0  328634.750000    32.00000              73.000000   \n",
       "50%    2015.0  567957.500000    37.00000              99.000000   \n",
       "75%    2015.0  773280.250000    44.00000             127.000000   \n",
       "max    2015.0  999961.000000    82.00000             243.000000   \n",
       "\n",
       "       weekly_mins_watched  minimum_daily_mins  maximum_daily_mins  \\\n",
       "count          2000.000000         2000.000000         2000.000000   \n",
       "mean            270.178425           10.198700           30.620780   \n",
       "std              80.551627            2.785519            9.129165   \n",
       "min               0.000000            0.000000            0.000000   \n",
       "25%             218.212500            8.400000           24.735000   \n",
       "50%             269.925000           10.200000           30.590000   \n",
       "75%             324.675000           12.000000           36.797500   \n",
       "max             526.200000           20.000000           59.640000   \n",
       "\n",
       "       weekly_max_night_mins  videos_watched  maximum_days_inactive  \\\n",
       "count            2000.000000     2000.000000            1972.000000   \n",
       "mean              100.415500        4.482500               3.250507   \n",
       "std                19.529454        2.487728               0.809084   \n",
       "min                42.000000        0.000000               0.000000   \n",
       "25%                87.000000        3.000000               3.000000   \n",
       "50%               101.000000        4.000000               3.000000   \n",
       "75%               114.000000        6.000000               4.000000   \n",
       "max               175.000000       19.000000               6.000000   \n",
       "\n",
       "       customer_support_calls        churn  \n",
       "count             2000.000000  1965.000000  \n",
       "mean                 1.547000     0.133333  \n",
       "std                  1.315164     0.340021  \n",
       "min                  0.000000     0.000000  \n",
       "25%                  1.000000     0.000000  \n",
       "50%                  1.000000     0.000000  \n",
       "75%                  2.000000     0.000000  \n",
       "max                  9.000000     1.000000  "
      ]
     },
     "execution_count": 11,
     "metadata": {},
     "output_type": "execute_result"
    }
   ],
   "source": [
    "data.describe()"
   ]
  },
  {
   "cell_type": "code",
   "execution_count": 12,
   "id": "7bb81fbf",
   "metadata": {},
   "outputs": [
    {
     "data": {
      "text/plain": [
       "<AxesSubplot:xlabel='age', ylabel='Density'>"
      ]
     },
     "execution_count": 12,
     "metadata": {},
     "output_type": "execute_result"
    },
    {
     "data": {
      "image/png": "[encoded data removed]",
      "text/plain": [
       "<Figure size 432x288 with 1 Axes>"
      ]
     },
     "metadata": {
      "needs_background": "light"
     },
     "output_type": "display_data"
    }
   ],
   "source": [
    "sns.kdeplot(x='age',data=data)"
   ]
  },
  {
   "cell_type": "markdown",
   "id": "2925d2ba",
   "metadata": {},
   "source": [
    "# Central Tendency"
   ]
  },
  {
   "cell_type": "code",
   "execution_count": 13,
   "id": "f2b05cae",
   "metadata": {},
   "outputs": [],
   "source": [
    "# Mean\n",
    "# Median\n",
    "# Mode"
   ]
  },
  {
   "cell_type": "code",
   "execution_count": 14,
   "id": "4f6bbfc6",
   "metadata": {},
   "outputs": [],
   "source": [
    "# min=1\n",
    "# mean-50\n",
    "# max=100"
   ]
  },
  {
   "cell_type": "markdown",
   "id": "59dbef9b",
   "metadata": {},
   "source": [
    "# How to check for the outliers"
   ]
  },
  {
   "cell_type": "markdown",
   "id": "9c3ecfae",
   "metadata": {},
   "source": [
    "### 1- Quantile Method\n",
    "- Any value less than 1st percentile value and greater than 99th percentile value is treated as an outlier"
   ]
  },
  {
   "cell_type": "code",
   "execution_count": 15,
   "id": "8c094cfc",
   "metadata": {},
   "outputs": [
    {
     "data": {
      "text/plain": [
       "count    2000.00000\n",
       "mean       38.69050\n",
       "std        10.20641\n",
       "min        18.00000\n",
       "25%        32.00000\n",
       "50%        37.00000\n",
       "75%        44.00000\n",
       "max        82.00000\n",
       "Name: age, dtype: float64"
      ]
     },
     "execution_count": 15,
     "metadata": {},
     "output_type": "execute_result"
    }
   ],
   "source": [
    "data.age.describe()"
   ]
  },
  {
   "cell_type": "code",
   "execution_count": 23,
   "id": "0ca70834",
   "metadata": {},
   "outputs": [
    {
     "data": {
      "text/plain": [
       "21.0"
      ]
     },
     "execution_count": 23,
     "metadata": {},
     "output_type": "execute_result"
    }
   ],
   "source": [
    "data.age.quantile(0.01)"
   ]
  },
  {
   "cell_type": "code",
   "execution_count": 17,
   "id": "bfa7bf39",
   "metadata": {},
   "outputs": [
    {
     "data": {
      "text/plain": [
       "70.0"
      ]
     },
     "execution_count": 17,
     "metadata": {},
     "output_type": "execute_result"
    }
   ],
   "source": [
    "data.age.quantile(.99)"
   ]
  },
  {
   "cell_type": "code",
   "execution_count": 25,
   "id": "67079b47",
   "metadata": {},
   "outputs": [
    {
     "data": {
      "text/plain": [
       "21.0"
      ]
     },
     "execution_count": 25,
     "metadata": {},
     "output_type": "execute_result"
    }
   ],
   "source": [
    "np.percentile(data.age,1)"
   ]
  },
  {
   "cell_type": "code",
   "execution_count": 26,
   "id": "ea3994e7",
   "metadata": {},
   "outputs": [
    {
     "data": {
      "text/plain": [
       "70.0"
      ]
     },
     "execution_count": 26,
     "metadata": {},
     "output_type": "execute_result"
    }
   ],
   "source": [
    "np.percentile(data.age,99)"
   ]
  },
  {
   "cell_type": "markdown",
   "id": "82fdbe8c",
   "metadata": {},
   "source": [
    "### 2- IQR Method"
   ]
  },
  {
   "cell_type": "markdown",
   "id": "252f1936",
   "metadata": {},
   "source": [
    "- Boxplot follows the IQR method to check for the outliers"
   ]
  },
  {
   "cell_type": "markdown",
   "id": "d69e0532",
   "metadata": {},
   "source": [
    "### Checking outliers on age column"
   ]
  },
  {
   "cell_type": "code",
   "execution_count": 28,
   "id": "1c837054",
   "metadata": {},
   "outputs": [
    {
     "data": {
      "text/plain": [
       "<AxesSubplot:ylabel='age'>"
      ]
     },
     "execution_count": 28,
     "metadata": {},
     "output_type": "execute_result"
    },
    {
     "data": {
      "image/png": "[encoded data removed]",
      "text/plain": [
       "<Figure size 432x288 with 1 Axes>"
      ]
     },
     "metadata": {
      "needs_background": "light"
     },
     "output_type": "display_data"
    }
   ],
   "source": [
    "sns.boxplot(y='age',data=data)"
   ]
  },
  {
   "cell_type": "code",
   "execution_count": 32,
   "id": "ba589445",
   "metadata": {},
   "outputs": [
    {
     "name": "stdout",
     "output_type": "stream",
     "text": [
      "32.0\n",
      "44.0\n",
      "12.0\n",
      "37.0\n"
     ]
    }
   ],
   "source": [
    "q1=data.age.quantile(0.25)\n",
    "q3=data.age.quantile(0.75)\n",
    "iqr=q3-q1\n",
    "\n",
    "print(q1,q3,iqr,sep='\\n')\n",
    "print(data.age.quantile(.50))"
   ]
  },
  {
   "cell_type": "code",
   "execution_count": 31,
   "id": "4d889243",
   "metadata": {},
   "outputs": [
    {
     "name": "stdout",
     "output_type": "stream",
     "text": [
      "14.0\n",
      "62.0\n"
     ]
    }
   ],
   "source": [
    "lower=q1-1.5*iqr\n",
    "upper=q3+1.5*iqr\n",
    "\n",
    "print(lower,upper,sep='\\n')"
   ]
  },
  {
   "cell_type": "code",
   "execution_count": 35,
   "id": "a492dd16",
   "metadata": {},
   "outputs": [
    {
     "data": {
      "text/plain": [
       "(23, 25)"
      ]
     },
     "execution_count": 35,
     "metadata": {},
     "output_type": "execute_result"
    }
   ],
   "source": [
    "37-14,62-37"
   ]
  },
  {
   "cell_type": "markdown",
   "id": "74f3e50c",
   "metadata": {},
   "source": [
    "# Treatment of the outliers"
   ]
  },
  {
   "cell_type": "markdown",
   "id": "cdb1b50e",
   "metadata": {},
   "source": [
    "- 1- As per the quantile method we cap the values between 1st and 99th percentile values.\n",
    "- 2- As per the IQR method we cap the values between lower bound and upper bound"
   ]
  },
  {
   "cell_type": "code",
   "execution_count": 36,
   "id": "c4b040f4",
   "metadata": {},
   "outputs": [],
   "source": [
    "# 18,20,17  21\n",
    "# 21 21 21 21\n",
    "\n",
    "# 80,75,72,68  70\n",
    "# 70 70 70 70  70"
   ]
  },
  {
   "cell_type": "markdown",
   "id": "5f185553",
   "metadata": {},
   "source": [
    "- We are using IQR method to cap the values in age column."
   ]
  },
  {
   "cell_type": "code",
   "execution_count": 40,
   "id": "d1ffb515",
   "metadata": {},
   "outputs": [
    {
     "name": "stdout",
     "output_type": "stream",
     "text": [
      "14.0\n",
      "62.0\n"
     ]
    }
   ],
   "source": [
    "q1=data.age.quantile(0.25)\n",
    "q3=data.age.quantile(0.75)\n",
    "iqr=q3-q1\n",
    "\n",
    "# print(q1,q3,iqr,sep='\\n')\n",
    "\n",
    "lower=q1-1.5*iqr\n",
    "upper=q3+1.5*iqr\n",
    "\n",
    "print(lower,upper,sep='\\n')"
   ]
  },
  {
   "cell_type": "markdown",
   "id": "475911c1",
   "metadata": {},
   "source": [
    "# To cap the values we can use \n",
    "- 1- np.where()\n",
    "- 2- clip()"
   ]
  },
  {
   "cell_type": "code",
   "execution_count": 42,
   "id": "1a7e6288",
   "metadata": {},
   "outputs": [],
   "source": [
    "data.age=np.where(data.age<lower,lower,np.where(data.age>upper,upper,data.age))"
   ]
  },
  {
   "cell_type": "markdown",
   "id": "1723af2e",
   "metadata": {},
   "source": [
    "- np.where(condition,x,y)\n",
    "- If the condition is True x is the result.\n",
    "- If the condition is False y is the result"
   ]
  },
  {
   "cell_type": "code",
   "execution_count": 45,
   "id": "f05e495a",
   "metadata": {},
   "outputs": [
    {
     "data": {
      "text/plain": [
       "62.0"
      ]
     },
     "execution_count": 45,
     "metadata": {},
     "output_type": "execute_result"
    }
   ],
   "source": [
    "data.age.max()"
   ]
  },
  {
   "cell_type": "code",
   "execution_count": 46,
   "id": "6f1fb9a9",
   "metadata": {},
   "outputs": [
    {
     "data": {
      "text/plain": [
       "<AxesSubplot:ylabel='age'>"
      ]
     },
     "execution_count": 46,
     "metadata": {},
     "output_type": "execute_result"
    },
    {
     "data": {
      "image/png": "[encoded data removed]",
      "text/plain": [
       "<Figure size 432x288 with 1 Axes>"
      ]
     },
     "metadata": {
      "needs_background": "light"
     },
     "output_type": "display_data"
    }
   ],
   "source": [
    "sns.boxplot(y='age',data=data)"
   ]
  },
  {
   "cell_type": "code",
   "execution_count": 47,
   "id": "3857b031",
   "metadata": {},
   "outputs": [
    {
     "data": {
      "text/plain": [
       "count    2000.000000\n",
       "mean       38.478500\n",
       "std         9.601231\n",
       "min        18.000000\n",
       "25%        32.000000\n",
       "50%        37.000000\n",
       "75%        44.000000\n",
       "max        62.000000\n",
       "Name: age, dtype: float64"
      ]
     },
     "execution_count": 47,
     "metadata": {},
     "output_type": "execute_result"
    }
   ],
   "source": [
    "data.age.describe()"
   ]
  },
  {
   "cell_type": "code",
   "execution_count": 48,
   "id": "52fc6892",
   "metadata": {},
   "outputs": [],
   "source": [
    "arr=np.random.randint(10,100,9).reshape(3,3)"
   ]
  },
  {
   "cell_type": "code",
   "execution_count": 49,
   "id": "8c86b65b",
   "metadata": {},
   "outputs": [
    {
     "data": {
      "text/plain": [
       "array([[44, 24, 30],\n",
       "       [36, 83, 72],\n",
       "       [99, 54, 56]])"
      ]
     },
     "execution_count": 49,
     "metadata": {},
     "output_type": "execute_result"
    }
   ],
   "source": [
    "arr"
   ]
  },
  {
   "cell_type": "code",
   "execution_count": 54,
   "id": "775e4301",
   "metadata": {},
   "outputs": [],
   "source": [
    "arr_2=np.where(arr<40,0,arr)\n",
    "arr_2=np.where(arr_2>70,1,arr_2)"
   ]
  },
  {
   "cell_type": "code",
   "execution_count": 55,
   "id": "43070286",
   "metadata": {},
   "outputs": [
    {
     "data": {
      "text/plain": [
       "array([[44,  0,  0],\n",
       "       [ 0,  1,  1],\n",
       "       [ 1, 54, 56]])"
      ]
     },
     "execution_count": 55,
     "metadata": {},
     "output_type": "execute_result"
    }
   ],
   "source": [
    "arr_2"
   ]
  },
  {
   "cell_type": "code",
   "execution_count": 56,
   "id": "a874e5e9",
   "metadata": {},
   "outputs": [],
   "source": [
    "arr_2=np.where(arr<40,0,np.where(arr_2>70,1,arr_2))"
   ]
  },
  {
   "cell_type": "code",
   "execution_count": 57,
   "id": "a49ce898",
   "metadata": {},
   "outputs": [
    {
     "data": {
      "text/plain": [
       "array([[44,  0,  0],\n",
       "       [ 0,  1,  1],\n",
       "       [ 1, 54, 56]])"
      ]
     },
     "execution_count": 57,
     "metadata": {},
     "output_type": "execute_result"
    }
   ],
   "source": [
    "arr_2"
   ]
  },
  {
   "cell_type": "markdown",
   "id": "b81bfd56",
   "metadata": {},
   "source": [
    "# Splitting the data into numeric and object "
   ]
  },
  {
   "cell_type": "code",
   "execution_count": 59,
   "id": "29fed7ef",
   "metadata": {},
   "outputs": [
    {
     "data": {
      "text/html": [
       "<div>\n",
       "<style scoped>\n",
       "    .dataframe tbody tr th:only-of-type {\n",
       "        vertical-align: middle;\n",
       "    }\n",
       "\n",
       "    .dataframe tbody tr th {\n",
       "        vertical-align: top;\n",
       "    }\n",
       "\n",
       "    .dataframe thead th {\n",
       "        text-align: right;\n",
       "    }\n",
       "</style>\n",
       "<table border=\"1\" class=\"dataframe\">\n",
       "  <thead>\n",
       "    <tr style=\"text-align: right;\">\n",
       "      <th></th>\n",
       "      <th>year</th>\n",
       "      <th>customer_id</th>\n",
       "      <th>age</th>\n",
       "      <th>no_of_days_subscribed</th>\n",
       "      <th>weekly_mins_watched</th>\n",
       "      <th>minimum_daily_mins</th>\n",
       "      <th>maximum_daily_mins</th>\n",
       "      <th>weekly_max_night_mins</th>\n",
       "      <th>videos_watched</th>\n",
       "      <th>maximum_days_inactive</th>\n",
       "      <th>customer_support_calls</th>\n",
       "      <th>churn</th>\n",
       "    </tr>\n",
       "  </thead>\n",
       "  <tbody>\n",
       "    <tr>\n",
       "      <th>0</th>\n",
       "      <td>2015</td>\n",
       "      <td>100198</td>\n",
       "      <td>36.0</td>\n",
       "      <td>62</td>\n",
       "      <td>148.35</td>\n",
       "      <td>12.2</td>\n",
       "      <td>16.81</td>\n",
       "      <td>82</td>\n",
       "      <td>1</td>\n",
       "      <td>4.0</td>\n",
       "      <td>1</td>\n",
       "      <td>0.0</td>\n",
       "    </tr>\n",
       "    <tr>\n",
       "      <th>1</th>\n",
       "      <td>2015</td>\n",
       "      <td>100643</td>\n",
       "      <td>39.0</td>\n",
       "      <td>149</td>\n",
       "      <td>294.45</td>\n",
       "      <td>7.7</td>\n",
       "      <td>33.37</td>\n",
       "      <td>87</td>\n",
       "      <td>3</td>\n",
       "      <td>3.0</td>\n",
       "      <td>2</td>\n",
       "      <td>0.0</td>\n",
       "    </tr>\n",
       "    <tr>\n",
       "      <th>2</th>\n",
       "      <td>2015</td>\n",
       "      <td>100756</td>\n",
       "      <td>62.0</td>\n",
       "      <td>126</td>\n",
       "      <td>87.30</td>\n",
       "      <td>11.9</td>\n",
       "      <td>9.89</td>\n",
       "      <td>91</td>\n",
       "      <td>1</td>\n",
       "      <td>4.0</td>\n",
       "      <td>5</td>\n",
       "      <td>1.0</td>\n",
       "    </tr>\n",
       "    <tr>\n",
       "      <th>3</th>\n",
       "      <td>2015</td>\n",
       "      <td>101595</td>\n",
       "      <td>24.0</td>\n",
       "      <td>131</td>\n",
       "      <td>321.30</td>\n",
       "      <td>9.5</td>\n",
       "      <td>36.41</td>\n",
       "      <td>102</td>\n",
       "      <td>4</td>\n",
       "      <td>3.0</td>\n",
       "      <td>3</td>\n",
       "      <td>0.0</td>\n",
       "    </tr>\n",
       "    <tr>\n",
       "      <th>4</th>\n",
       "      <td>2015</td>\n",
       "      <td>101653</td>\n",
       "      <td>40.0</td>\n",
       "      <td>191</td>\n",
       "      <td>243.00</td>\n",
       "      <td>10.9</td>\n",
       "      <td>27.54</td>\n",
       "      <td>83</td>\n",
       "      <td>7</td>\n",
       "      <td>3.0</td>\n",
       "      <td>1</td>\n",
       "      <td>0.0</td>\n",
       "    </tr>\n",
       "  </tbody>\n",
       "</table>\n",
       "</div>"
      ],
      "text/plain": [
       "   year  customer_id   age  no_of_days_subscribed  weekly_mins_watched  \\\n",
       "0  2015       100198  36.0                     62               148.35   \n",
       "1  2015       100643  39.0                    149               294.45   \n",
       "2  2015       100756  62.0                    126                87.30   \n",
       "3  2015       101595  24.0                    131               321.30   \n",
       "4  2015       101653  40.0                    191               243.00   \n",
       "\n",
       "   minimum_daily_mins  maximum_daily_mins  weekly_max_night_mins  \\\n",
       "0                12.2               16.81                     82   \n",
       "1                 7.7               33.37                     87   \n",
       "2                11.9                9.89                     91   \n",
       "3                 9.5               36.41                    102   \n",
       "4                10.9               27.54                     83   \n",
       "\n",
       "   videos_watched  maximum_days_inactive  customer_support_calls  churn  \n",
       "0               1                    4.0                       1    0.0  \n",
       "1               3                    3.0                       2    0.0  \n",
       "2               1                    4.0                       5    1.0  \n",
       "3               4                    3.0                       3    0.0  \n",
       "4               7                    3.0                       1    0.0  "
      ]
     },
     "execution_count": 59,
     "metadata": {},
     "output_type": "execute_result"
    }
   ],
   "source": [
    "num_data=data.select_dtypes('number')\n",
    "num_data.head()"
   ]
  },
  {
   "cell_type": "code",
   "execution_count": 61,
   "id": "ef00b6fa",
   "metadata": {},
   "outputs": [
    {
     "data": {
      "text/html": [
       "<div>\n",
       "<style scoped>\n",
       "    .dataframe tbody tr th:only-of-type {\n",
       "        vertical-align: middle;\n",
       "    }\n",
       "\n",
       "    .dataframe tbody tr th {\n",
       "        vertical-align: top;\n",
       "    }\n",
       "\n",
       "    .dataframe thead th {\n",
       "        text-align: right;\n",
       "    }\n",
       "</style>\n",
       "<table border=\"1\" class=\"dataframe\">\n",
       "  <thead>\n",
       "    <tr style=\"text-align: right;\">\n",
       "      <th></th>\n",
       "      <th>phone_no</th>\n",
       "      <th>gender</th>\n",
       "      <th>multi_screen</th>\n",
       "      <th>mail_subscribed</th>\n",
       "    </tr>\n",
       "  </thead>\n",
       "  <tbody>\n",
       "    <tr>\n",
       "      <th>0</th>\n",
       "      <td>409-8743</td>\n",
       "      <td>Female</td>\n",
       "      <td>no</td>\n",
       "      <td>no</td>\n",
       "    </tr>\n",
       "    <tr>\n",
       "      <th>1</th>\n",
       "      <td>340-5930</td>\n",
       "      <td>Female</td>\n",
       "      <td>no</td>\n",
       "      <td>no</td>\n",
       "    </tr>\n",
       "    <tr>\n",
       "      <th>2</th>\n",
       "      <td>372-3750</td>\n",
       "      <td>Female</td>\n",
       "      <td>no</td>\n",
       "      <td>no</td>\n",
       "    </tr>\n",
       "    <tr>\n",
       "      <th>3</th>\n",
       "      <td>331-4902</td>\n",
       "      <td>Female</td>\n",
       "      <td>no</td>\n",
       "      <td>yes</td>\n",
       "    </tr>\n",
       "    <tr>\n",
       "      <th>4</th>\n",
       "      <td>351-8398</td>\n",
       "      <td>Female</td>\n",
       "      <td>no</td>\n",
       "      <td>no</td>\n",
       "    </tr>\n",
       "  </tbody>\n",
       "</table>\n",
       "</div>"
      ],
      "text/plain": [
       "   phone_no  gender multi_screen mail_subscribed\n",
       "0  409-8743  Female           no              no\n",
       "1  340-5930  Female           no              no\n",
       "2  372-3750  Female           no              no\n",
       "3  331-4902  Female           no             yes\n",
       "4  351-8398  Female           no              no"
      ]
     },
     "execution_count": 61,
     "metadata": {},
     "output_type": "execute_result"
    }
   ],
   "source": [
    "obj_data=data.select_dtypes('object')\n",
    "obj_data.head()"
   ]
  },
  {
   "cell_type": "markdown",
   "id": "9f5922a4",
   "metadata": {},
   "source": [
    "# Treatment of the outliers in the num_data"
   ]
  },
  {
   "cell_type": "code",
   "execution_count": 63,
   "id": "4a1ac866",
   "metadata": {},
   "outputs": [
    {
     "data": {
      "text/plain": [
       "['year',\n",
       " 'customer_id',\n",
       " 'age',\n",
       " 'no_of_days_subscribed',\n",
       " 'weekly_mins_watched',\n",
       " 'minimum_daily_mins',\n",
       " 'maximum_daily_mins',\n",
       " 'weekly_max_night_mins',\n",
       " 'videos_watched',\n",
       " 'maximum_days_inactive',\n",
       " 'customer_support_calls',\n",
       " 'churn']"
      ]
     },
     "execution_count": 63,
     "metadata": {},
     "output_type": "execute_result"
    }
   ],
   "source": [
    "cols=list(num_data.columns)\n",
    "cols"
   ]
  },
  {
   "cell_type": "code",
   "execution_count": 97,
   "id": "5b5c28a5",
   "metadata": {},
   "outputs": [],
   "source": [
    "def out_cap(data):\n",
    "    q1=data.quantile(0.25)\n",
    "    q3=data.quantile(0.75)\n",
    "    \n",
    "    iqr=q3-q1\n",
    "\n",
    "\n",
    "    lower=q1-1.5*iqr\n",
    "    upper=q3+1.5*iqr\n",
    "\n",
    "    return data.clip(lower=lower,upper=upper)\n",
    "    "
   ]
  },
  {
   "cell_type": "code",
   "execution_count": 98,
   "id": "744e6129",
   "metadata": {},
   "outputs": [],
   "source": [
    "for i in cols:\n",
    "    if i!='churn':\n",
    "        num_data[i]=out_cap(num_data[i])"
   ]
  },
  {
   "cell_type": "code",
   "execution_count": 99,
   "id": "d819f787",
   "metadata": {},
   "outputs": [
    {
     "name": "stdout",
     "output_type": "stream",
     "text": [
      "year\n",
      "customer_id\n",
      "age\n",
      "no_of_days_subscribed\n",
      "weekly_mins_watched\n",
      "minimum_daily_mins\n",
      "maximum_daily_mins\n",
      "weekly_max_night_mins\n",
      "videos_watched\n",
      "maximum_days_inactive\n",
      "customer_support_calls\n",
      "churn\n"
     ]
    }
   ],
   "source": [
    "for i in cols:\n",
    "    print(i)"
   ]
  },
  {
   "cell_type": "code",
   "execution_count": 100,
   "id": "70870acc",
   "metadata": {},
   "outputs": [],
   "source": [
    "# data['year']"
   ]
  },
  {
   "cell_type": "code",
   "execution_count": 101,
   "id": "8af49a7a",
   "metadata": {},
   "outputs": [
    {
     "data": {
      "text/plain": [
       "<AxesSubplot:ylabel='weekly_mins_watched'>"
      ]
     },
     "execution_count": 101,
     "metadata": {},
     "output_type": "execute_result"
    },
    {
     "data": {
      "image/png": "[encoded data removed]",
      "text/plain": [
       "<Figure size 432x288 with 1 Axes>"
      ]
     },
     "metadata": {
      "needs_background": "light"
     },
     "output_type": "display_data"
    }
   ],
   "source": [
    "sns.boxplot(y='weekly_mins_watched',data=num_data)"
   ]
  },
  {
   "cell_type": "code",
   "execution_count": 102,
   "id": "5060f774",
   "metadata": {},
   "outputs": [
    {
     "data": {
      "text/plain": [
       "<AxesSubplot:ylabel='videos_watched'>"
      ]
     },
     "execution_count": 102,
     "metadata": {},
     "output_type": "execute_result"
    },
    {
     "data": {
      "image/png": "[encoded data removed]",
      "text/plain": [
       "<Figure size 432x288 with 1 Axes>"
      ]
     },
     "metadata": {
      "needs_background": "light"
     },
     "output_type": "display_data"
    }
   ],
   "source": [
    "sns.boxplot(y='videos_watched',data=num_data)"
   ]
  },
  {
   "cell_type": "code",
   "execution_count": 103,
   "id": "7c8f5dda",
   "metadata": {},
   "outputs": [
    {
     "data": {
      "text/plain": [
       "<AxesSubplot:ylabel='videos_watched'>"
      ]
     },
     "execution_count": 103,
     "metadata": {},
     "output_type": "execute_result"
    },
    {
     "data": {
      "image/png": "[encoded data removed]",
      "text/plain": [
       "<Figure size 432x288 with 1 Axes>"
      ]
     },
     "metadata": {
      "needs_background": "light"
     },
     "output_type": "display_data"
    }
   ],
   "source": [
    "sns.boxplot(y='videos_watched',data=data)"
   ]
  },
  {
   "cell_type": "code",
   "execution_count": 104,
   "id": "62b603ff",
   "metadata": {},
   "outputs": [
    {
     "data": {
      "text/plain": [
       "<AxesSubplot:ylabel='maximum_days_inactive'>"
      ]
     },
     "execution_count": 104,
     "metadata": {},
     "output_type": "execute_result"
    },
    {
     "data": {
      "image/png": "[encoded data removed]",
      "text/plain": [
       "<Figure size 432x288 with 1 Axes>"
      ]
     },
     "metadata": {
      "needs_background": "light"
     },
     "output_type": "display_data"
    }
   ],
   "source": [
    "sns.boxplot(y='maximum_days_inactive',data=num_data)"
   ]
  },
  {
   "cell_type": "code",
   "execution_count": 105,
   "id": "ada2d7d2",
   "metadata": {},
   "outputs": [
    {
     "data": {
      "text/plain": [
       "<AxesSubplot:ylabel='weekly_max_night_mins'>"
      ]
     },
     "execution_count": 105,
     "metadata": {},
     "output_type": "execute_result"
    },
    {
     "data": {
      "image/png": "[encoded data removed]",
      "text/plain": [
       "<Figure size 432x288 with 1 Axes>"
      ]
     },
     "metadata": {
      "needs_background": "light"
     },
     "output_type": "display_data"
    }
   ],
   "source": [
    "sns.boxplot(y='weekly_max_night_mins',data=num_data)"
   ]
  },
  {
   "cell_type": "code",
   "execution_count": 106,
   "id": "1d2981ef",
   "metadata": {},
   "outputs": [],
   "source": [
    "def out_cap(data):\n",
    "    q1=data.quantile(0.25)\n",
    "    q3=data.quantile(0.75)\n",
    "    \n",
    "    iqr=q3-q1\n",
    "\n",
    "\n",
    "    lower=q1-1.5*iqr\n",
    "    upper=q3+1.5*iqr\n",
    "\n",
    "#     return data.clip(lower=lower,upper=upper)\n",
    "    print(lower,upper,sep='\\n')\n",
    "    "
   ]
  },
  {
   "cell_type": "code",
   "execution_count": 107,
   "id": "05c29b02",
   "metadata": {},
   "outputs": [
    {
     "name": "stdout",
     "output_type": "stream",
     "text": [
      "14.0\n",
      "62.0\n"
     ]
    }
   ],
   "source": [
    "out_cap(data.age)"
   ]
  },
  {
   "cell_type": "code",
   "execution_count": 108,
   "id": "00950730",
   "metadata": {},
   "outputs": [
    {
     "name": "stdout",
     "output_type": "stream",
     "text": [
      "-8.0\n",
      "208.0\n"
     ]
    }
   ],
   "source": [
    "out_cap(data.no_of_days_subscribed)"
   ]
  },
  {
   "cell_type": "code",
   "execution_count": 109,
   "id": "68ff45ad",
   "metadata": {},
   "outputs": [
    {
     "name": "stdout",
     "output_type": "stream",
     "text": [
      "-1.5\n",
      "10.5\n"
     ]
    }
   ],
   "source": [
    "out_cap(data.videos_watched)"
   ]
  },
  {
   "cell_type": "markdown",
   "id": "63e102ff",
   "metadata": {},
   "source": [
    "# Univariate Analysis"
   ]
  },
  {
   "cell_type": "markdown",
   "id": "7ae5442d",
   "metadata": {},
   "source": [
    "# Checking whether a column is a discrete column or categorical column"
   ]
  },
  {
   "cell_type": "code",
   "execution_count": 111,
   "id": "0ab6ee90",
   "metadata": {},
   "outputs": [
    {
     "data": {
      "text/plain": [
       "year                         1\n",
       "customer_id               1999\n",
       "phone_no                  2000\n",
       "gender                       2\n",
       "age                         63\n",
       "no_of_days_subscribed      204\n",
       "multi_screen                 2\n",
       "mail_subscribed              2\n",
       "weekly_mins_watched       1260\n",
       "minimum_daily_mins         149\n",
       "maximum_daily_mins        1260\n",
       "weekly_max_night_mins      111\n",
       "videos_watched              19\n",
       "maximum_days_inactive        7\n",
       "customer_support_calls      10\n",
       "churn                        2\n",
       "dtype: int64"
      ]
     },
     "execution_count": 111,
     "metadata": {},
     "output_type": "execute_result"
    }
   ],
   "source": [
    "data.nunique()"
   ]
  },
  {
   "cell_type": "markdown",
   "id": "f9254a38",
   "metadata": {},
   "source": [
    "# Unique value analysis for categorical columns"
   ]
  },
  {
   "cell_type": "code",
   "execution_count": 114,
   "id": "46184dd8",
   "metadata": {},
   "outputs": [
    {
     "data": {
      "text/plain": [
       "Male      52.65\n",
       "Female    46.15\n",
       "NaN        1.20\n",
       "Name: gender, dtype: float64"
      ]
     },
     "execution_count": 114,
     "metadata": {},
     "output_type": "execute_result"
    }
   ],
   "source": [
    "data.gender.value_counts(dropna=False)*100/len(data)"
   ]
  },
  {
   "cell_type": "code",
   "execution_count": 127,
   "id": "cf816b07",
   "metadata": {},
   "outputs": [
    {
     "data": {
      "image/png": "[encoded data removed]",
      "text/plain": [
       "<Figure size 600x450 with 1 Axes>"
      ]
     },
     "metadata": {},
     "output_type": "display_data"
    }
   ],
   "source": [
    "plt.figure(figsize=(4,3),dpi=150)\n",
    "plt.pie(data.gender.value_counts(dropna=False),labels=data.gender.value_counts(dropna=False).index,autopct='%.2f%%')\n",
    "plt.show()"
   ]
  },
  {
   "cell_type": "code",
   "execution_count": 125,
   "id": "5059410d",
   "metadata": {},
   "outputs": [
    {
     "data": {
      "text/plain": [
       "Index(['Male', 'Female', nan], dtype='object')"
      ]
     },
     "execution_count": 125,
     "metadata": {},
     "output_type": "execute_result"
    }
   ],
   "source": [
    "data.gender.value_counts(dropna=False).index"
   ]
  },
  {
   "cell_type": "code",
   "execution_count": 129,
   "id": "59798dd7",
   "metadata": {},
   "outputs": [
    {
     "data": {
      "text/plain": [
       "Male      1053\n",
       "Female     923\n",
       "NaN         24\n",
       "Name: gender, dtype: int64"
      ]
     },
     "execution_count": 129,
     "metadata": {},
     "output_type": "execute_result"
    }
   ],
   "source": [
    "data.gender.value_counts(dropna=False)"
   ]
  },
  {
   "cell_type": "code",
   "execution_count": 130,
   "id": "dbb1ab9b",
   "metadata": {},
   "outputs": [
    {
     "data": {
      "text/plain": [
       "<AxesSubplot:xlabel='gender', ylabel='count'>"
      ]
     },
     "execution_count": 130,
     "metadata": {},
     "output_type": "execute_result"
    },
    {
     "data": {
      "image/png": "[encoded data removed]",
      "text/plain": [
       "<Figure size 432x288 with 1 Axes>"
      ]
     },
     "metadata": {
      "needs_background": "light"
     },
     "output_type": "display_data"
    }
   ],
   "source": [
    "sns.countplot(x='gender',data=data)"
   ]
  },
  {
   "cell_type": "code",
   "execution_count": 131,
   "id": "03e1170a",
   "metadata": {},
   "outputs": [
    {
     "data": {
      "text/plain": [
       "2015    2000\n",
       "Name: year, dtype: int64"
      ]
     },
     "execution_count": 131,
     "metadata": {},
     "output_type": "execute_result"
    }
   ],
   "source": [
    "data.year.value_counts()"
   ]
  },
  {
   "cell_type": "code",
   "execution_count": 133,
   "id": "c147031e",
   "metadata": {},
   "outputs": [
    {
     "data": {
      "text/plain": [
       "362-9411    1\n",
       "417-7888    1\n",
       "361-1404    1\n",
       "381-1026    1\n",
       "334-5029    1\n",
       "           ..\n",
       "408-2712    1\n",
       "366-6248    1\n",
       "327-5817    1\n",
       "413-9055    1\n",
       "338-7683    1\n",
       "Name: phone_no, Length: 2000, dtype: int64"
      ]
     },
     "execution_count": 133,
     "metadata": {},
     "output_type": "execute_result"
    }
   ],
   "source": [
    "data.phone_no.value_counts()"
   ]
  },
  {
   "cell_type": "code",
   "execution_count": 138,
   "id": "d57a1785",
   "metadata": {},
   "outputs": [],
   "source": [
    "# data.phone_no.std()"
   ]
  },
  {
   "cell_type": "code",
   "execution_count": 141,
   "id": "01bd101b",
   "metadata": {},
   "outputs": [
    {
     "data": {
      "text/plain": [
       "count         2000\n",
       "unique        2000\n",
       "top       362-9411\n",
       "freq             1\n",
       "Name: phone_no, dtype: object"
      ]
     },
     "execution_count": 141,
     "metadata": {},
     "output_type": "execute_result"
    }
   ],
   "source": [
    "data.phone_no.describe()"
   ]
  },
  {
   "cell_type": "code",
   "execution_count": 142,
   "id": "434972e2",
   "metadata": {},
   "outputs": [],
   "source": [
    "# 100- rows\n",
    "# 2- unique (a,b)\n",
    "# 50-a\n",
    "# 50-b"
   ]
  },
  {
   "cell_type": "code",
   "execution_count": 143,
   "id": "8f6e9899",
   "metadata": {},
   "outputs": [],
   "source": [
    "# gender- 'male'\n",
    "# gnder-'female'"
   ]
  },
  {
   "cell_type": "code",
   "execution_count": 144,
   "id": "db1f2cc7",
   "metadata": {},
   "outputs": [],
   "source": [
    "# male female\n",
    "# 90 10"
   ]
  },
  {
   "cell_type": "code",
   "execution_count": 146,
   "id": "860feef6",
   "metadata": {},
   "outputs": [
    {
     "data": {
      "text/plain": [
       "no     90.1\n",
       "yes     9.9\n",
       "Name: multi_screen, dtype: float64"
      ]
     },
     "execution_count": 146,
     "metadata": {},
     "output_type": "execute_result"
    }
   ],
   "source": [
    "data.multi_screen.value_counts(dropna=False)*100/len(data)"
   ]
  },
  {
   "cell_type": "code",
   "execution_count": 147,
   "id": "790183a4",
   "metadata": {},
   "outputs": [
    {
     "data": {
      "text/plain": [
       "<AxesSubplot:xlabel='multi_screen', ylabel='count'>"
      ]
     },
     "execution_count": 147,
     "metadata": {},
     "output_type": "execute_result"
    },
    {
     "data": {
      "image/png": "[encoded data removed]",
      "text/plain": [
       "<Figure size 432x288 with 1 Axes>"
      ]
     },
     "metadata": {
      "needs_background": "light"
     },
     "output_type": "display_data"
    }
   ],
   "source": [
    "sns.countplot(x='multi_screen',data=data)"
   ]
  },
  {
   "cell_type": "markdown",
   "id": "358cb091",
   "metadata": {},
   "source": [
    "# Bivariate Analysis"
   ]
  },
  {
   "cell_type": "markdown",
   "id": "6d064d97",
   "metadata": {},
   "source": [
    "# Coorelation"
   ]
  },
  {
   "cell_type": "code",
   "execution_count": 148,
   "id": "05a5ba52",
   "metadata": {},
   "outputs": [
    {
     "data": {
      "text/html": [
       "<div>\n",
       "<style scoped>\n",
       "    .dataframe tbody tr th:only-of-type {\n",
       "        vertical-align: middle;\n",
       "    }\n",
       "\n",
       "    .dataframe tbody tr th {\n",
       "        vertical-align: top;\n",
       "    }\n",
       "\n",
       "    .dataframe thead th {\n",
       "        text-align: right;\n",
       "    }\n",
       "</style>\n",
       "<table border=\"1\" class=\"dataframe\">\n",
       "  <thead>\n",
       "    <tr style=\"text-align: right;\">\n",
       "      <th></th>\n",
       "      <th>year</th>\n",
       "      <th>customer_id</th>\n",
       "      <th>age</th>\n",
       "      <th>no_of_days_subscribed</th>\n",
       "      <th>weekly_mins_watched</th>\n",
       "      <th>minimum_daily_mins</th>\n",
       "      <th>maximum_daily_mins</th>\n",
       "      <th>weekly_max_night_mins</th>\n",
       "      <th>videos_watched</th>\n",
       "      <th>maximum_days_inactive</th>\n",
       "      <th>customer_support_calls</th>\n",
       "      <th>churn</th>\n",
       "    </tr>\n",
       "  </thead>\n",
       "  <tbody>\n",
       "    <tr>\n",
       "      <th>year</th>\n",
       "      <td>NaN</td>\n",
       "      <td>NaN</td>\n",
       "      <td>NaN</td>\n",
       "      <td>NaN</td>\n",
       "      <td>NaN</td>\n",
       "      <td>NaN</td>\n",
       "      <td>NaN</td>\n",
       "      <td>NaN</td>\n",
       "      <td>NaN</td>\n",
       "      <td>NaN</td>\n",
       "      <td>NaN</td>\n",
       "      <td>NaN</td>\n",
       "    </tr>\n",
       "    <tr>\n",
       "      <th>customer_id</th>\n",
       "      <td>NaN</td>\n",
       "      <td>1.000000</td>\n",
       "      <td>0.023830</td>\n",
       "      <td>-0.011457</td>\n",
       "      <td>-0.013830</td>\n",
       "      <td>0.033733</td>\n",
       "      <td>-0.013834</td>\n",
       "      <td>0.009713</td>\n",
       "      <td>0.063967</td>\n",
       "      <td>0.045145</td>\n",
       "      <td>-0.036009</td>\n",
       "      <td>-0.056777</td>\n",
       "    </tr>\n",
       "    <tr>\n",
       "      <th>age</th>\n",
       "      <td>NaN</td>\n",
       "      <td>0.023830</td>\n",
       "      <td>1.000000</td>\n",
       "      <td>0.038822</td>\n",
       "      <td>0.016316</td>\n",
       "      <td>-0.000676</td>\n",
       "      <td>0.016328</td>\n",
       "      <td>0.016645</td>\n",
       "      <td>0.013076</td>\n",
       "      <td>0.006690</td>\n",
       "      <td>0.000618</td>\n",
       "      <td>0.011631</td>\n",
       "    </tr>\n",
       "    <tr>\n",
       "      <th>no_of_days_subscribed</th>\n",
       "      <td>NaN</td>\n",
       "      <td>-0.011457</td>\n",
       "      <td>0.038822</td>\n",
       "      <td>1.000000</td>\n",
       "      <td>0.000657</td>\n",
       "      <td>0.016329</td>\n",
       "      <td>0.000652</td>\n",
       "      <td>-0.001967</td>\n",
       "      <td>0.019414</td>\n",
       "      <td>0.017961</td>\n",
       "      <td>0.013419</td>\n",
       "      <td>0.002528</td>\n",
       "    </tr>\n",
       "    <tr>\n",
       "      <th>weekly_mins_watched</th>\n",
       "      <td>NaN</td>\n",
       "      <td>-0.013830</td>\n",
       "      <td>0.016316</td>\n",
       "      <td>0.000657</td>\n",
       "      <td>1.000000</td>\n",
       "      <td>-0.017332</td>\n",
       "      <td>1.000000</td>\n",
       "      <td>0.037715</td>\n",
       "      <td>0.018619</td>\n",
       "      <td>-0.013635</td>\n",
       "      <td>-0.036848</td>\n",
       "      <td>0.165871</td>\n",
       "    </tr>\n",
       "    <tr>\n",
       "      <th>minimum_daily_mins</th>\n",
       "      <td>NaN</td>\n",
       "      <td>0.033733</td>\n",
       "      <td>-0.000676</td>\n",
       "      <td>0.016329</td>\n",
       "      <td>-0.017332</td>\n",
       "      <td>1.000000</td>\n",
       "      <td>-0.017330</td>\n",
       "      <td>0.008430</td>\n",
       "      <td>0.050739</td>\n",
       "      <td>0.932155</td>\n",
       "      <td>-0.003943</td>\n",
       "      <td>0.067668</td>\n",
       "    </tr>\n",
       "    <tr>\n",
       "      <th>maximum_daily_mins</th>\n",
       "      <td>NaN</td>\n",
       "      <td>-0.013834</td>\n",
       "      <td>0.016328</td>\n",
       "      <td>0.000652</td>\n",
       "      <td>1.000000</td>\n",
       "      <td>-0.017330</td>\n",
       "      <td>1.000000</td>\n",
       "      <td>0.037716</td>\n",
       "      <td>0.018621</td>\n",
       "      <td>-0.013634</td>\n",
       "      <td>-0.036854</td>\n",
       "      <td>0.165870</td>\n",
       "    </tr>\n",
       "    <tr>\n",
       "      <th>weekly_max_night_mins</th>\n",
       "      <td>NaN</td>\n",
       "      <td>0.009713</td>\n",
       "      <td>0.016645</td>\n",
       "      <td>-0.001967</td>\n",
       "      <td>0.037715</td>\n",
       "      <td>0.008430</td>\n",
       "      <td>0.037716</td>\n",
       "      <td>1.000000</td>\n",
       "      <td>-0.000298</td>\n",
       "      <td>0.026676</td>\n",
       "      <td>-0.003965</td>\n",
       "      <td>0.006211</td>\n",
       "    </tr>\n",
       "    <tr>\n",
       "      <th>videos_watched</th>\n",
       "      <td>NaN</td>\n",
       "      <td>0.063967</td>\n",
       "      <td>0.013076</td>\n",
       "      <td>0.019414</td>\n",
       "      <td>0.018619</td>\n",
       "      <td>0.050739</td>\n",
       "      <td>0.018621</td>\n",
       "      <td>-0.000298</td>\n",
       "      <td>1.000000</td>\n",
       "      <td>0.033829</td>\n",
       "      <td>-0.001201</td>\n",
       "      <td>-0.020780</td>\n",
       "    </tr>\n",
       "    <tr>\n",
       "      <th>maximum_days_inactive</th>\n",
       "      <td>NaN</td>\n",
       "      <td>0.045145</td>\n",
       "      <td>0.006690</td>\n",
       "      <td>0.017961</td>\n",
       "      <td>-0.013635</td>\n",
       "      <td>0.932155</td>\n",
       "      <td>-0.013634</td>\n",
       "      <td>0.026676</td>\n",
       "      <td>0.033829</td>\n",
       "      <td>1.000000</td>\n",
       "      <td>-0.001572</td>\n",
       "      <td>0.048040</td>\n",
       "    </tr>\n",
       "    <tr>\n",
       "      <th>customer_support_calls</th>\n",
       "      <td>NaN</td>\n",
       "      <td>-0.036009</td>\n",
       "      <td>0.000618</td>\n",
       "      <td>0.013419</td>\n",
       "      <td>-0.036848</td>\n",
       "      <td>-0.003943</td>\n",
       "      <td>-0.036854</td>\n",
       "      <td>-0.003965</td>\n",
       "      <td>-0.001201</td>\n",
       "      <td>-0.001572</td>\n",
       "      <td>1.000000</td>\n",
       "      <td>0.208271</td>\n",
       "    </tr>\n",
       "    <tr>\n",
       "      <th>churn</th>\n",
       "      <td>NaN</td>\n",
       "      <td>-0.056777</td>\n",
       "      <td>0.011631</td>\n",
       "      <td>0.002528</td>\n",
       "      <td>0.165871</td>\n",
       "      <td>0.067668</td>\n",
       "      <td>0.165870</td>\n",
       "      <td>0.006211</td>\n",
       "      <td>-0.020780</td>\n",
       "      <td>0.048040</td>\n",
       "      <td>0.208271</td>\n",
       "      <td>1.000000</td>\n",
       "    </tr>\n",
       "  </tbody>\n",
       "</table>\n",
       "</div>"
      ],
      "text/plain": [
       "                        year  customer_id       age  no_of_days_subscribed  \\\n",
       "year                     NaN          NaN       NaN                    NaN   \n",
       "customer_id              NaN     1.000000  0.023830              -0.011457   \n",
       "age                      NaN     0.023830  1.000000               0.038822   \n",
       "no_of_days_subscribed    NaN    -0.011457  0.038822               1.000000   \n",
       "weekly_mins_watched      NaN    -0.013830  0.016316               0.000657   \n",
       "minimum_daily_mins       NaN     0.033733 -0.000676               0.016329   \n",
       "maximum_daily_mins       NaN    -0.013834  0.016328               0.000652   \n",
       "weekly_max_night_mins    NaN     0.009713  0.016645              -0.001967   \n",
       "videos_watched           NaN     0.063967  0.013076               0.019414   \n",
       "maximum_days_inactive    NaN     0.045145  0.006690               0.017961   \n",
       "customer_support_calls   NaN    -0.036009  0.000618               0.013419   \n",
       "churn                    NaN    -0.056777  0.011631               0.002528   \n",
       "\n",
       "                        weekly_mins_watched  minimum_daily_mins  \\\n",
       "year                                    NaN                 NaN   \n",
       "customer_id                       -0.013830            0.033733   \n",
       "age                                0.016316           -0.000676   \n",
       "no_of_days_subscribed              0.000657            0.016329   \n",
       "weekly_mins_watched                1.000000           -0.017332   \n",
       "minimum_daily_mins                -0.017332            1.000000   \n",
       "maximum_daily_mins                 1.000000           -0.017330   \n",
       "weekly_max_night_mins              0.037715            0.008430   \n",
       "videos_watched                     0.018619            0.050739   \n",
       "maximum_days_inactive             -0.013635            0.932155   \n",
       "customer_support_calls            -0.036848           -0.003943   \n",
       "churn                              0.165871            0.067668   \n",
       "\n",
       "                        maximum_daily_mins  weekly_max_night_mins  \\\n",
       "year                                   NaN                    NaN   \n",
       "customer_id                      -0.013834               0.009713   \n",
       "age                               0.016328               0.016645   \n",
       "no_of_days_subscribed             0.000652              -0.001967   \n",
       "weekly_mins_watched               1.000000               0.037715   \n",
       "minimum_daily_mins               -0.017330               0.008430   \n",
       "maximum_daily_mins                1.000000               0.037716   \n",
       "weekly_max_night_mins             0.037716               1.000000   \n",
       "videos_watched                    0.018621              -0.000298   \n",
       "maximum_days_inactive            -0.013634               0.026676   \n",
       "customer_support_calls           -0.036854              -0.003965   \n",
       "churn                             0.165870               0.006211   \n",
       "\n",
       "                        videos_watched  maximum_days_inactive  \\\n",
       "year                               NaN                    NaN   \n",
       "customer_id                   0.063967               0.045145   \n",
       "age                           0.013076               0.006690   \n",
       "no_of_days_subscribed         0.019414               0.017961   \n",
       "weekly_mins_watched           0.018619              -0.013635   \n",
       "minimum_daily_mins            0.050739               0.932155   \n",
       "maximum_daily_mins            0.018621              -0.013634   \n",
       "weekly_max_night_mins        -0.000298               0.026676   \n",
       "videos_watched                1.000000               0.033829   \n",
       "maximum_days_inactive         0.033829               1.000000   \n",
       "customer_support_calls       -0.001201              -0.001572   \n",
       "churn                        -0.020780               0.048040   \n",
       "\n",
       "                        customer_support_calls     churn  \n",
       "year                                       NaN       NaN  \n",
       "customer_id                          -0.036009 -0.056777  \n",
       "age                                   0.000618  0.011631  \n",
       "no_of_days_subscribed                 0.013419  0.002528  \n",
       "weekly_mins_watched                  -0.036848  0.165871  \n",
       "minimum_daily_mins                   -0.003943  0.067668  \n",
       "maximum_daily_mins                   -0.036854  0.165870  \n",
       "weekly_max_night_mins                -0.003965  0.006211  \n",
       "videos_watched                       -0.001201 -0.020780  \n",
       "maximum_days_inactive                -0.001572  0.048040  \n",
       "customer_support_calls                1.000000  0.208271  \n",
       "churn                                 0.208271  1.000000  "
      ]
     },
     "execution_count": 148,
     "metadata": {},
     "output_type": "execute_result"
    }
   ],
   "source": [
    "data.corr()"
   ]
  },
  {
   "cell_type": "code",
   "execution_count": 155,
   "id": "1c8e4f42",
   "metadata": {},
   "outputs": [
    {
     "data": {
      "text/plain": [
       "<AxesSubplot:>"
      ]
     },
     "execution_count": 155,
     "metadata": {},
     "output_type": "execute_result"
    },
    {
     "data": {
      "image/png": "[encoded data removed]",
      "text/plain": [
       "<Figure size 1000x800 with 2 Axes>"
      ]
     },
     "metadata": {
      "needs_background": "light"
     },
     "output_type": "display_data"
    }
   ],
   "source": [
    "plt.figure(figsize=(10,8),dpi=100)\n",
    "\n",
    "sns.heatmap(data.corr(),fmt='.1g',cmap='viridis',annot=True)"
   ]
  },
  {
   "cell_type": "code",
   "execution_count": 156,
   "id": "32e9ebe4",
   "metadata": {},
   "outputs": [],
   "source": [
    "# demand and price"
   ]
  },
  {
   "cell_type": "code",
   "execution_count": 157,
   "id": "8f2933aa",
   "metadata": {},
   "outputs": [],
   "source": [
    "# price and demand"
   ]
  },
  {
   "cell_type": "code",
   "execution_count": 158,
   "id": "c5e4dd00",
   "metadata": {},
   "outputs": [
    {
     "data": {
      "text/plain": [
       "Index(['year', 'customer_id', 'phone_no', 'gender', 'age',\n",
       "       'no_of_days_subscribed', 'multi_screen', 'mail_subscribed',\n",
       "       'weekly_mins_watched', 'minimum_daily_mins', 'maximum_daily_mins',\n",
       "       'weekly_max_night_mins', 'videos_watched', 'maximum_days_inactive',\n",
       "       'customer_support_calls', 'churn'],\n",
       "      dtype='object')"
      ]
     },
     "execution_count": 158,
     "metadata": {},
     "output_type": "execute_result"
    }
   ],
   "source": [
    "data.columns"
   ]
  },
  {
   "cell_type": "code",
   "execution_count": 160,
   "id": "b2731ada",
   "metadata": {},
   "outputs": [
    {
     "data": {
      "text/html": [
       "<div>\n",
       "<style scoped>\n",
       "    .dataframe tbody tr th:only-of-type {\n",
       "        vertical-align: middle;\n",
       "    }\n",
       "\n",
       "    .dataframe tbody tr th {\n",
       "        vertical-align: top;\n",
       "    }\n",
       "\n",
       "    .dataframe thead th {\n",
       "        text-align: right;\n",
       "    }\n",
       "</style>\n",
       "<table border=\"1\" class=\"dataframe\">\n",
       "  <thead>\n",
       "    <tr style=\"text-align: right;\">\n",
       "      <th></th>\n",
       "      <th>maximum_daily_mins</th>\n",
       "      <th>weekly_mins_watched</th>\n",
       "    </tr>\n",
       "  </thead>\n",
       "  <tbody>\n",
       "    <tr>\n",
       "      <th>maximum_daily_mins</th>\n",
       "      <td>1.0</td>\n",
       "      <td>1.0</td>\n",
       "    </tr>\n",
       "    <tr>\n",
       "      <th>weekly_mins_watched</th>\n",
       "      <td>1.0</td>\n",
       "      <td>1.0</td>\n",
       "    </tr>\n",
       "  </tbody>\n",
       "</table>\n",
       "</div>"
      ],
      "text/plain": [
       "                     maximum_daily_mins  weekly_mins_watched\n",
       "maximum_daily_mins                  1.0                  1.0\n",
       "weekly_mins_watched                 1.0                  1.0"
      ]
     },
     "execution_count": 160,
     "metadata": {},
     "output_type": "execute_result"
    }
   ],
   "source": [
    "data[['maximum_daily_mins','weekly_mins_watched']].corr()"
   ]
  },
  {
   "cell_type": "code",
   "execution_count": 164,
   "id": "fca94755",
   "metadata": {},
   "outputs": [
    {
     "data": {
      "text/plain": [
       "<AxesSubplot:>"
      ]
     },
     "execution_count": 164,
     "metadata": {},
     "output_type": "execute_result"
    },
    {
     "data": {
      "image/png": "[encoded data removed]",
      "text/plain": [
       "<Figure size 432x288 with 2 Axes>"
      ]
     },
     "metadata": {
      "needs_background": "light"
     },
     "output_type": "display_data"
    }
   ],
   "source": [
    "sns.heatmap(data[['maximum_daily_mins','weekly_mins_watched','churn','age']].corr(),annot=True,cmap='viridis',fmt='.1g')"
   ]
  },
  {
   "cell_type": "code",
   "execution_count": 165,
   "id": "0b2e9d40",
   "metadata": {},
   "outputs": [],
   "source": [
    "# sns.scatterplot(x='age',hue='')"
   ]
  },
  {
   "cell_type": "code",
   "execution_count": 166,
   "id": "3596476d",
   "metadata": {},
   "outputs": [],
   "source": [
    "data=sns.load_dataset('titanic')"
   ]
  },
  {
   "cell_type": "code",
   "execution_count": 167,
   "id": "43ab0ad6",
   "metadata": {},
   "outputs": [
    {
     "data": {
      "text/html": [
       "<div>\n",
       "<style scoped>\n",
       "    .dataframe tbody tr th:only-of-type {\n",
       "        vertical-align: middle;\n",
       "    }\n",
       "\n",
       "    .dataframe tbody tr th {\n",
       "        vertical-align: top;\n",
       "    }\n",
       "\n",
       "    .dataframe thead th {\n",
       "        text-align: right;\n",
       "    }\n",
       "</style>\n",
       "<table border=\"1\" class=\"dataframe\">\n",
       "  <thead>\n",
       "    <tr style=\"text-align: right;\">\n",
       "      <th></th>\n",
       "      <th>survived</th>\n",
       "      <th>pclass</th>\n",
       "      <th>sex</th>\n",
       "      <th>age</th>\n",
       "      <th>sibsp</th>\n",
       "      <th>parch</th>\n",
       "      <th>fare</th>\n",
       "      <th>embarked</th>\n",
       "      <th>class</th>\n",
       "      <th>who</th>\n",
       "      <th>adult_male</th>\n",
       "      <th>deck</th>\n",
       "      <th>embark_town</th>\n",
       "      <th>alive</th>\n",
       "      <th>alone</th>\n",
       "    </tr>\n",
       "  </thead>\n",
       "  <tbody>\n",
       "    <tr>\n",
       "      <th>0</th>\n",
       "      <td>0</td>\n",
       "      <td>3</td>\n",
       "      <td>male</td>\n",
       "      <td>22.0</td>\n",
       "      <td>1</td>\n",
       "      <td>0</td>\n",
       "      <td>7.2500</td>\n",
       "      <td>S</td>\n",
       "      <td>Third</td>\n",
       "      <td>man</td>\n",
       "      <td>True</td>\n",
       "      <td>NaN</td>\n",
       "      <td>Southampton</td>\n",
       "      <td>no</td>\n",
       "      <td>False</td>\n",
       "    </tr>\n",
       "    <tr>\n",
       "      <th>1</th>\n",
       "      <td>1</td>\n",
       "      <td>1</td>\n",
       "      <td>female</td>\n",
       "      <td>38.0</td>\n",
       "      <td>1</td>\n",
       "      <td>0</td>\n",
       "      <td>71.2833</td>\n",
       "      <td>C</td>\n",
       "      <td>First</td>\n",
       "      <td>woman</td>\n",
       "      <td>False</td>\n",
       "      <td>C</td>\n",
       "      <td>Cherbourg</td>\n",
       "      <td>yes</td>\n",
       "      <td>False</td>\n",
       "    </tr>\n",
       "    <tr>\n",
       "      <th>2</th>\n",
       "      <td>1</td>\n",
       "      <td>3</td>\n",
       "      <td>female</td>\n",
       "      <td>26.0</td>\n",
       "      <td>0</td>\n",
       "      <td>0</td>\n",
       "      <td>7.9250</td>\n",
       "      <td>S</td>\n",
       "      <td>Third</td>\n",
       "      <td>woman</td>\n",
       "      <td>False</td>\n",
       "      <td>NaN</td>\n",
       "      <td>Southampton</td>\n",
       "      <td>yes</td>\n",
       "      <td>True</td>\n",
       "    </tr>\n",
       "    <tr>\n",
       "      <th>3</th>\n",
       "      <td>1</td>\n",
       "      <td>1</td>\n",
       "      <td>female</td>\n",
       "      <td>35.0</td>\n",
       "      <td>1</td>\n",
       "      <td>0</td>\n",
       "      <td>53.1000</td>\n",
       "      <td>S</td>\n",
       "      <td>First</td>\n",
       "      <td>woman</td>\n",
       "      <td>False</td>\n",
       "      <td>C</td>\n",
       "      <td>Southampton</td>\n",
       "      <td>yes</td>\n",
       "      <td>False</td>\n",
       "    </tr>\n",
       "    <tr>\n",
       "      <th>4</th>\n",
       "      <td>0</td>\n",
       "      <td>3</td>\n",
       "      <td>male</td>\n",
       "      <td>35.0</td>\n",
       "      <td>0</td>\n",
       "      <td>0</td>\n",
       "      <td>8.0500</td>\n",
       "      <td>S</td>\n",
       "      <td>Third</td>\n",
       "      <td>man</td>\n",
       "      <td>True</td>\n",
       "      <td>NaN</td>\n",
       "      <td>Southampton</td>\n",
       "      <td>no</td>\n",
       "      <td>True</td>\n",
       "    </tr>\n",
       "  </tbody>\n",
       "</table>\n",
       "</div>"
      ],
      "text/plain": [
       "   survived  pclass     sex   age  sibsp  parch     fare embarked  class  \\\n",
       "0         0       3    male  22.0      1      0   7.2500        S  Third   \n",
       "1         1       1  female  38.0      1      0  71.2833        C  First   \n",
       "2         1       3  female  26.0      0      0   7.9250        S  Third   \n",
       "3         1       1  female  35.0      1      0  53.1000        S  First   \n",
       "4         0       3    male  35.0      0      0   8.0500        S  Third   \n",
       "\n",
       "     who  adult_male deck  embark_town alive  alone  \n",
       "0    man        True  NaN  Southampton    no  False  \n",
       "1  woman       False    C    Cherbourg   yes  False  \n",
       "2  woman       False  NaN  Southampton   yes   True  \n",
       "3  woman       False    C  Southampton   yes  False  \n",
       "4    man        True  NaN  Southampton    no   True  "
      ]
     },
     "execution_count": 167,
     "metadata": {},
     "output_type": "execute_result"
    }
   ],
   "source": [
    "data.head()"
   ]
  },
  {
   "cell_type": "code",
   "execution_count": 174,
   "id": "1d98a26a",
   "metadata": {},
   "outputs": [
    {
     "data": {
      "text/plain": [
       "<AxesSubplot:xlabel='age', ylabel='fare'>"
      ]
     },
     "execution_count": 174,
     "metadata": {},
     "output_type": "execute_result"
    },
    {
     "data": {
      "image/png": "[encoded data removed]",
      "text/plain": [
       "<Figure size 432x288 with 1 Axes>"
      ]
     },
     "metadata": {
      "needs_background": "light"
     },
     "output_type": "display_data"
    }
   ],
   "source": [
    "sns.scatterplot(x='age',y='fare',hue='class',data=data)"
   ]
  },
  {
   "cell_type": "code",
   "execution_count": 181,
   "id": "796543ba",
   "metadata": {},
   "outputs": [
    {
     "data": {
      "text/plain": [
       "<AxesSubplot:xlabel='sex', ylabel='count'>"
      ]
     },
     "execution_count": 181,
     "metadata": {},
     "output_type": "execute_result"
    },
    {
     "data": {
      "image/png": "[encoded data removed]",
      "text/plain": [
       "<Figure size 432x288 with 1 Axes>"
      ]
     },
     "metadata": {
      "needs_background": "light"
     },
     "output_type": "display_data"
    }
   ],
   "source": [
    "sns.countplot(x='sex',hue='class',data=data)"
   ]
  },
  {
   "cell_type": "code",
   "execution_count": 184,
   "id": "4a39ccd1",
   "metadata": {},
   "outputs": [
    {
     "data": {
      "text/plain": [
       "sex     class \n",
       "female  First     34.611765\n",
       "        Second    28.722973\n",
       "        Third     21.750000\n",
       "male    First     41.281386\n",
       "        Second    30.740707\n",
       "        Third     26.507589\n",
       "Name: age, dtype: float64"
      ]
     },
     "execution_count": 184,
     "metadata": {},
     "output_type": "execute_result"
    }
   ],
   "source": [
    "data.groupby(['sex','class']).age.mean()"
   ]
  },
  {
   "cell_type": "code",
   "execution_count": null,
   "id": "93af1a49",
   "metadata": {},
   "outputs": [],
   "source": []
  }
 ],
 "metadata": {
  "kernelspec": {
   "display_name": "Python 3 (ipykernel)",
   "language": "python",
   "name": "python3"
  },
  "language_info": {
   "codemirror_mode": {
    "name": "ipython",
    "version": 3
   },
   "file_extension": ".py",
   "mimetype": "text/x-python",
   "name": "python",
   "nbconvert_exporter": "python",
   "pygments_lexer": "ipython3",
   "version": "3.8.8"
  }
 },
 "nbformat": 4,
 "nbformat_minor": 5
}
