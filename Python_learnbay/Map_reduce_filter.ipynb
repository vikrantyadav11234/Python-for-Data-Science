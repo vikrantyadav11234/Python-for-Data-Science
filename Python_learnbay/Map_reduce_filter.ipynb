{
 "cells": [
  {
   "cell_type": "markdown",
   "id": "229cdccf",
   "metadata": {},
   "source": [
    "# Map\n",
    "  --the map() is a function that takes in 2 arguments\n",
    "  1. function\n",
    "  2. iterables\n",
    " * Syntax: \n",
    "         map(function,sequence)\n",
    "         "
   ]
  },
  {
   "cell_type": "code",
   "execution_count": 3,
   "id": "f02d1900",
   "metadata": {},
   "outputs": [
    {
     "name": "stdout",
     "output_type": "stream",
     "text": [
      "([2, 4, 6, 8, 12, 34, 56], [3, 5, 7, 9, 23, 45])\n",
      "<class 'tuple'>\n"
     ]
    }
   ],
   "source": [
    "num=[2,3,4,5,6,7,8,9,12,23,34,45,56]\n",
    "def even_odd(a):\n",
    "    even= [i for i in a if i%2==0]\n",
    "    odd= [i for i in num if i%2!=0]\n",
    "    return even,odd\n",
    "print(even_odd(num))\n",
    "print(type(even_odd(num)))"
   ]
  },
  {
   "cell_type": "code",
   "execution_count": 1,
   "id": "9359850c",
   "metadata": {},
   "outputs": [
    {
     "data": {
      "text/plain": [
       "['even',\n",
       " 'odd',\n",
       " 'even',\n",
       " 'odd',\n",
       " 'even',\n",
       " 'odd',\n",
       " 'even',\n",
       " 'odd',\n",
       " 'even',\n",
       " 'odd',\n",
       " 'even',\n",
       " 'odd',\n",
       " 'even']"
      ]
     },
     "execution_count": 1,
     "metadata": {},
     "output_type": "execute_result"
    }
   ],
   "source": [
    "lst=[2,3,4,5,6,7,8,9,12,23,34,45,56] \n",
    "''' we can pass this list to the \n",
    "function with elements of the list one by one'''\n",
    "# num=12546\n",
    "def even_odd(a):\n",
    "#     even=[]\n",
    "    if a%2==0:\n",
    "        return 'even'\n",
    "    else:\n",
    "        return 'odd'\n",
    "# even_odd(num)\n",
    "list(map(even_odd,lst))"
   ]
  },
  {
   "cell_type": "code",
   "execution_count": 7,
   "id": "a601074e",
   "metadata": {},
   "outputs": [
    {
     "name": "stdout",
     "output_type": "stream",
     "text": [
      "[73.4, 93.2, 95.0, 132.8, 172.4, 154.4]\n"
     ]
    }
   ],
   "source": [
    "temp_cel=[23,34,35,56,78,68]\n",
    "def temp_converter(T):\n",
    "    return [((9/5)*T)+32 for T in temp_cel]\n",
    "temp_far= temp_converter(temp_cel)\n",
    "print(temp_far)"
   ]
  },
  {
   "cell_type": "code",
   "execution_count": 2,
   "id": "e9a383e0",
   "metadata": {},
   "outputs": [],
   "source": [
    "temp_cel=[23,34,35,56,78,68]\n",
    "def temp_converter(T):\n",
    "    return [((9/5)*T)+32 for T in temp_cel]"
   ]
  },
  {
   "cell_type": "code",
   "execution_count": 3,
   "id": "75ce8dde",
   "metadata": {},
   "outputs": [
    {
     "data": {
      "text/plain": [
       "[73.4, 93.2, 95.0, 132.8, 172.4, 154.4]"
      ]
     },
     "execution_count": 3,
     "metadata": {},
     "output_type": "execute_result"
    }
   ],
   "source": [
    "temp_far=temp_converter(temp_cel)\n",
    "temp_far"
   ]
  },
  {
   "cell_type": "code",
   "execution_count": 14,
   "id": "276e9a03",
   "metadata": {},
   "outputs": [],
   "source": [
    "temp_cel=[23,34,35,56,78,68]\n",
    "def temp_converter(T):\n",
    "    return ((9/5)*T)+32"
   ]
  },
  {
   "cell_type": "code",
   "execution_count": 15,
   "id": "f29428ce",
   "metadata": {},
   "outputs": [
    {
     "data": {
      "text/plain": [
       "[73.4, 93.2, 95.0, 132.8, 172.4, 154.4]"
      ]
     },
     "execution_count": 15,
     "metadata": {},
     "output_type": "execute_result"
    }
   ],
   "source": [
    "temp_far=list(map(temp_converter,temp_cel))\n",
    "temp_far"
   ]
  },
  {
   "cell_type": "code",
   "execution_count": 18,
   "id": "001d515e",
   "metadata": {},
   "outputs": [
    {
     "name": "stdout",
     "output_type": "stream",
     "text": [
      "[73.4, 93.2, 95.0, 132.8, 172.4, 154.4]\n"
     ]
    }
   ],
   "source": [
    "temp_cel=[23,34,35,56,78,68]\n",
    "temp= (lambda temp_far: [((9/5)*T)+32 for T in temp_cel])(temp_cel)\n",
    "print(temp)"
   ]
  },
  {
   "cell_type": "code",
   "execution_count": 19,
   "id": "04e240b1",
   "metadata": {},
   "outputs": [
    {
     "name": "stdout",
     "output_type": "stream",
     "text": [
      "[73.4, 93.2, 95.0, 132.8, 172.4, 154.4]\n"
     ]
    }
   ],
   "source": [
    "temp_cel=[23,34,35,56,78,68]\n",
    "temp= (lambda temp_far: [((9/5)*T)+32 for T in temp_cel])(temp_cel)\n",
    "print(temp)"
   ]
  },
  {
   "cell_type": "code",
   "execution_count": 10,
   "id": "63717c02",
   "metadata": {},
   "outputs": [
    {
     "name": "stdout",
     "output_type": "stream",
     "text": [
      "[73.4, 93.2, 95.0, 132.8, 172.4, 154.4]\n"
     ]
    }
   ],
   "source": [
    "temp_cel=[23,34,35,56,78,68]\n",
    "\n",
    "temp= (lambda x: [((9/5)*T)+32 for T in temp_cel])(temp_cel)\n",
    "print(temp)\n"
   ]
  },
  {
   "cell_type": "code",
   "execution_count": 12,
   "id": "5a79f7ab",
   "metadata": {},
   "outputs": [
    {
     "name": "stdout",
     "output_type": "stream",
     "text": [
      "86.0\n"
     ]
    }
   ],
   "source": [
    "temp_cel=[23,34,35,56,78,68]\n",
    "T=30\n",
    "temp= (lambda x: ((9/5)*T)+32)(T)\n",
    "print(temp)"
   ]
  },
  {
   "cell_type": "code",
   "execution_count": 30,
   "id": "ac89b291",
   "metadata": {},
   "outputs": [
    {
     "data": {
      "text/plain": [
       "[73.4, 93.2, 95.0, 132.8, 172.4, 154.4]"
      ]
     },
     "execution_count": 30,
     "metadata": {},
     "output_type": "execute_result"
    }
   ],
   "source": [
    "temp_cel=[23,34,35,56,78,68]\n",
    "temp_far=list(map(lambda x: ((9/5)*x)+32, temp_cel))\n",
    "temp_far"
   ]
  },
  {
   "cell_type": "code",
   "execution_count": 32,
   "id": "764bf69a",
   "metadata": {},
   "outputs": [
    {
     "data": {
      "text/plain": [
       "[3, 5, 7, 9, 10]"
      ]
     },
     "execution_count": 32,
     "metadata": {},
     "output_type": "execute_result"
    }
   ],
   "source": [
    "a=[1,2,3,4,5]\n",
    "b=[2,3,4,5,5]\n",
    "\n",
    "sum= list(map(lambda x,y:x+y, a,b))\n",
    "sum    "
   ]
  },
  {
   "cell_type": "code",
   "execution_count": 18,
   "id": "1d84a058",
   "metadata": {},
   "outputs": [
    {
     "name": "stdout",
     "output_type": "stream",
     "text": [
      "['vikranty622', 'vikranty623', 'vikranty62', 'vikranty624', 'vikranty6232', 'vikranty625', 'vikranty6244', 'vikranty626', 'vikranty6245', 'vikranty627', 'vikranty6223', 'vikranty628', 'vikranty6225', 'vikranty629']\n"
     ]
    }
   ],
   "source": [
    "#saparate out user names\n",
    "\n",
    "lst=['vikranty622@gmail.com','vikranty623@gmail.com',\n",
    "    'vikranty62@gmail.com','vikranty624@gmail.com',\n",
    "    'vikranty6232@gmail.com','vikranty625@gmail.com',\n",
    "    'vikranty6244@gmail.com','vikranty626@gmail.com',\n",
    "    'vikranty6245@gmail.com','vikranty627@gmail.com',\n",
    "    'vikranty6223@gmail.com','vikranty628@gmail.com',\n",
    "    'vikranty6225@gmail.com','vikranty629@gmail.com']\n",
    "u='vikranty622@gmail.com'\n",
    "# username= (lambda x:x[:-10:])(u)\n",
    "# username\n",
    "username=list(map(lambda x:x[0:-10],lst))\n",
    "print(username)"
   ]
  },
  {
   "cell_type": "code",
   "execution_count": 48,
   "id": "20641ebf",
   "metadata": {},
   "outputs": [
    {
     "name": "stdout",
     "output_type": "stream",
     "text": [
      "['vikranty622', 'vikranty623', 'vikranty62', 'vikranty624', 'vikranty6232', 'vikranty625', 'vikranty6244', 'vikranty626', 'vikranty6245', 'vikranty627', 'vikranty6223', 'vikranty628', 'vikranty6225', 'vikranty629']\n"
     ]
    }
   ],
   "source": [
    "lst=['vikranty622@gmail.com','vikranty623@gmail.com',\n",
    "    'vikranty62@gmail.com','vikranty624@gmail.com',\n",
    "    'vikranty6232@gmail.com','vikranty625@gmail.com',\n",
    "    'vikranty6244@gmail.com','vikranty626@gmail.com',\n",
    "    'vikranty6245@gmail.com','vikranty627@gmail.com',\n",
    "    'vikranty6223@gmail.com','vikranty628@gmail.com',\n",
    "    'vikranty6225@gmail.com','vikranty629@gmail.com']\n",
    "username=list(map(lambda x:x[:-10:],lst))\n",
    "print(username)"
   ]
  },
  {
   "cell_type": "code",
   "execution_count": 5,
   "id": "47623474",
   "metadata": {},
   "outputs": [
    {
     "name": "stdout",
     "output_type": "stream",
     "text": [
      "['vikranty622', 'vikranty623', 'vikranty62', 'vikranty624', 'vikranty6232', 'vikranty625', 'vikranty6244', 'vikranty626', 'vikranty6245', 'vikranty627', 'vikranty6223', 'vikranty628', 'vikranty6225', 'vikranty629']\n"
     ]
    }
   ],
   "source": [
    "lst=['vikranty622@gmail.com','vikranty623@gmail.com',\n",
    "    'vikranty62@gmail.com','vikranty624@gmail.com',\n",
    "    'vikranty6232@gmail.com','vikranty625@gmail.com',\n",
    "    'vikranty6244@gmail.com','vikranty626@gmail.com',\n",
    "    'vikranty6245@gmail.com','vikranty627@gmail.com',\n",
    "    'vikranty6223@gmail.com','vikranty628@gmail.com',\n",
    "    'vikranty6225@gmail.com','vikranty629@gmail.com']\n",
    "username=list(map(lambda x:x.split('@')[0],lst))\n",
    "print(username)"
   ]
  },
  {
   "cell_type": "markdown",
   "id": "7acaf3e8",
   "metadata": {},
   "source": [
    "# Reduce\n",
    "\n",
    "* function name\n",
    "* iterables\n",
    "\n",
    "* aggregate, some of the data(minimum of the data,maximum of the data, avg of the data etc)\n",
    "\n",
    "\n"
   ]
  },
  {
   "cell_type": "code",
   "execution_count": 20,
   "id": "1885ee20",
   "metadata": {},
   "outputs": [
    {
     "data": {
      "text/plain": [
       "161"
      ]
     },
     "execution_count": 20,
     "metadata": {},
     "output_type": "execute_result"
    }
   ],
   "source": [
    "from functools import reduce\n",
    "#sum\n",
    "lst=[2,3,4,5,6,7,89,45]\n",
    "reduce( lambda a,b:a+b , lst)"
   ]
  },
  {
   "cell_type": "code",
   "execution_count": 21,
   "id": "a3dd2de8",
   "metadata": {},
   "outputs": [
    {
     "data": {
      "text/plain": [
       "20.125"
      ]
     },
     "execution_count": 21,
     "metadata": {},
     "output_type": "execute_result"
    }
   ],
   "source": [
    "from functools import reduce\n",
    "#average\n",
    "lst=[2,3,4,5,6,7,89,45]\n",
    "(reduce( lambda a,b:a+b , lst))/len(lst)"
   ]
  },
  {
   "cell_type": "code",
   "execution_count": 22,
   "id": "b3258942",
   "metadata": {},
   "outputs": [
    {
     "data": {
      "text/plain": [
       "46.2578125"
      ]
     },
     "execution_count": 22,
     "metadata": {},
     "output_type": "execute_result"
    }
   ],
   "source": [
    "\n",
    "#class mark\n",
    "lst=[2,3,4,5,6,7,89,45]\n",
    "reduce( lambda a,b:(a+b)/2 , lst)"
   ]
  },
  {
   "cell_type": "code",
   "execution_count": 23,
   "id": "13c78eb7",
   "metadata": {},
   "outputs": [
    {
     "data": {
      "text/plain": [
       "True"
      ]
     },
     "execution_count": 23,
     "metadata": {},
     "output_type": "execute_result"
    }
   ],
   "source": [
    "#minimum value\n",
    "lst=[2,3,4,5,6,7,89,45]\n",
    "reduce( lambda a,b:a<b , lst)\n"
   ]
  },
  {
   "cell_type": "code",
   "execution_count": 11,
   "id": "8dc1a3dc",
   "metadata": {},
   "outputs": [
    {
     "data": {
      "text/plain": [
       "2"
      ]
     },
     "execution_count": 11,
     "metadata": {},
     "output_type": "execute_result"
    }
   ],
   "source": [
    "#minimum value\n",
    "lst=[2,3,4,5,6,7,89,45]\n",
    "reduce( lambda a,b: a if a<b else b , lst)"
   ]
  },
  {
   "cell_type": "code",
   "execution_count": 12,
   "id": "24abf63b",
   "metadata": {},
   "outputs": [
    {
     "data": {
      "text/plain": [
       "89"
      ]
     },
     "execution_count": 12,
     "metadata": {},
     "output_type": "execute_result"
    }
   ],
   "source": [
    "#maximum value\n",
    "lst=[2,3,4,5,6,7,89,45]\n",
    "reduce( lambda a,b: a if a>b else b , lst)"
   ]
  },
  {
   "cell_type": "code",
   "execution_count": 15,
   "id": "edc90fba",
   "metadata": {},
   "outputs": [
    {
     "data": {
      "text/plain": [
       "89"
      ]
     },
     "execution_count": 15,
     "metadata": {},
     "output_type": "execute_result"
    }
   ],
   "source": [
    "#maximum value\n",
    "lst=[2,3,4,5,6,7,89,45]\n",
    "reduce( lambda a,b: a if a>b else b , lst)"
   ]
  },
  {
   "cell_type": "markdown",
   "id": "3b51dd13",
   "metadata": {},
   "source": [
    "# Filter\n",
    "* function\n",
    "* iterables\n",
    " 1. the filter function needs a function as a first argument\n",
    " 2. then the function should return a boolean value( True False)\n",
    " 3. then if filter is used there is no need of map\n",
    " 4. only true elements will be caught."
   ]
  },
  {
   "cell_type": "code",
   "execution_count": 16,
   "id": "e45cb65a",
   "metadata": {},
   "outputs": [
    {
     "data": {
      "text/plain": [
       "['even',\n",
       " 'odd',\n",
       " 'even',\n",
       " 'odd',\n",
       " 'even',\n",
       " 'odd',\n",
       " 'even',\n",
       " 'odd',\n",
       " 'even',\n",
       " 'odd',\n",
       " 'even',\n",
       " 'odd',\n",
       " 'even']"
      ]
     },
     "execution_count": 16,
     "metadata": {},
     "output_type": "execute_result"
    }
   ],
   "source": [
    "lst=[2,3,4,5,6,7,8,9,12,23,34,45,56] \n",
    "''' we can pass this list to the \n",
    "function with elements of the list one by one'''\n",
    "# num=12546\n",
    "def even_odd(a):\n",
    "    even=[]\n",
    "    if a%2==0:\n",
    "        return 'even'\n",
    "    else:\n",
    "        return 'odd'\n",
    "# even_odd(num)\n",
    "list(map(even_odd,lst))"
   ]
  },
  {
   "cell_type": "code",
   "execution_count": 25,
   "id": "6b686f74",
   "metadata": {},
   "outputs": [
    {
     "data": {
      "text/plain": [
       "['vikranty622@gmail.com',\n",
       " 'vikranty623@gmail.com',\n",
       " 'vikranty62@gmail.com',\n",
       " 'vikranty624@gmail.com',\n",
       " 'vikranty6232@gmail.com',\n",
       " 'vikranty6244@gmail.com',\n",
       " 'vikranty626@gmail.com',\n",
       " 'vikranty627@gmail.com',\n",
       " 'vikranty6223@gmail.com',\n",
       " 'vikranty629@gmail.com']"
      ]
     },
     "execution_count": 25,
     "metadata": {},
     "output_type": "execute_result"
    }
   ],
   "source": [
    "lst=['vikranty622@gmail.com','vikranty623@gmail.com',\n",
    "    'vikranty62@gmail.com','vikranty624@gmail.com',\n",
    "    'vikranty6232@gmail.com','vikranty625@hotmail.com',\n",
    "    'vikranty6244@gmail.com','vikranty626@gmail.com',\n",
    "    'vikranty6245@hotmail.com','vikranty627@gmail.com',\n",
    "    'vikranty6223@gmail.com','vikranty628@hotmail.com',\n",
    "    'vikranty6225@hotmail.com','vikranty629@gmail.com']\n",
    "def only_gmail(a):\n",
    "    if 'gmail.com' in a:\n",
    "        return True\n",
    "    else:\n",
    "        return False\n",
    "list(filter(only_gmail,lst))\n",
    "# username=list(map(lambda x:x.split('@')[0],lst))\n",
    "# print(username)"
   ]
  },
  {
   "cell_type": "code",
   "execution_count": 18,
   "id": "77a1c7a9",
   "metadata": {},
   "outputs": [
    {
     "data": {
      "text/plain": [
       "True"
      ]
     },
     "execution_count": 18,
     "metadata": {},
     "output_type": "execute_result"
    }
   ],
   "source": [
    "lst =[2,3,4,5,6,7,8]\n",
    "num=23456\n",
    "def odd_even(a):\n",
    "    if a%2==0:\n",
    "        return True\n",
    "    else:\n",
    "        return False\n",
    "    \n",
    "odd_even(num)"
   ]
  },
  {
   "cell_type": "code",
   "execution_count": 20,
   "id": "5c00a049",
   "metadata": {},
   "outputs": [
    {
     "data": {
      "text/plain": [
       "[2, 4, 6, 8]"
      ]
     },
     "execution_count": 20,
     "metadata": {},
     "output_type": "execute_result"
    }
   ],
   "source": [
    "list(filter(odd_even , lst)) #only the even no got filtered"
   ]
  },
  {
   "cell_type": "code",
   "execution_count": 22,
   "id": "9707b1fc",
   "metadata": {},
   "outputs": [
    {
     "data": {
      "text/plain": [
       "['vikranty625@hotmail.com',\n",
       " 'vikranty6245@hotmail.com',\n",
       " 'vikranty628@hotmail.com',\n",
       " 'vikranty6225@hotmail.com']"
      ]
     },
     "execution_count": 22,
     "metadata": {},
     "output_type": "execute_result"
    }
   ],
   "source": [
    "lst=['vikranty622@gmail.com','vikranty623@gmail.com',\n",
    "    'vikranty62@gmail.com','vikranty624@gmail.com',\n",
    "    'vikranty6232@gmail.com','vikranty625@hotmail.com',\n",
    "    'vikranty6244@gmail.com','vikranty626@gmail.com',\n",
    "    'vikranty6245@hotmail.com','vikranty627@gmail.com',\n",
    "    'vikranty6223@gmail.com','vikranty628@hotmail.com',\n",
    "    'vikranty6225@hotmail.com','vikranty629@gmail.com']\n",
    "def only_gmail(a):\n",
    "    if 'hotmail.com' in a:\n",
    "        return True\n",
    "    else:\n",
    "        return False\n",
    "list(filter(only_gmail,lst))\n",
    "# username=list(map(lambda x:x.split('@')[0],lst))\n",
    "# print(username)"
   ]
  },
  {
   "cell_type": "code",
   "execution_count": 23,
   "id": "975963d0",
   "metadata": {},
   "outputs": [
    {
     "data": {
      "text/plain": [
       "['vikranty622@gmail.com',\n",
       " 'vikranty623@gmail.com',\n",
       " 'vikranty62@gmail.com',\n",
       " 'vikranty624@gmail.com',\n",
       " 'vikranty6232@gmail.com',\n",
       " 'vikranty6244@gmail.com',\n",
       " 'vikranty626@gmail.com',\n",
       " 'vikranty627@gmail.com',\n",
       " 'vikranty6223@gmail.com',\n",
       " 'vikranty629@gmail.com']"
      ]
     },
     "execution_count": 23,
     "metadata": {},
     "output_type": "execute_result"
    }
   ],
   "source": [
    "lst=['vikranty622@gmail.com','vikranty623@gmail.com',\n",
    "    'vikranty62@gmail.com','vikranty624@gmail.com',\n",
    "    'vikranty6232@gmail.com','vikranty625@hotmail.com',\n",
    "    'vikranty6244@gmail.com','vikranty626@gmail.com',\n",
    "    'vikranty6245@hotmail.com','vikranty627@gmail.com',\n",
    "    'vikranty6223@gmail.com','vikranty628@hotmail.com',\n",
    "    'vikranty6225@hotmail.com','vikranty629@gmail.com']\n",
    "# def only_gmail(a):\n",
    "#     if 'hotmail.com' in a:\n",
    "#         return True\n",
    "#     else:\n",
    "#         return False\n",
    "list(filter(lambda x: \"gmail.com\" in x, lst))"
   ]
  },
  {
   "cell_type": "code",
   "execution_count": 24,
   "id": "6d3efaff",
   "metadata": {},
   "outputs": [
    {
     "data": {
      "text/plain": [
       "['vikranty625@hotmail.com',\n",
       " 'vikranty6245@hotmail.com',\n",
       " 'vikranty628@hotmail.com',\n",
       " 'vikranty6225@hotmail.com']"
      ]
     },
     "execution_count": 24,
     "metadata": {},
     "output_type": "execute_result"
    }
   ],
   "source": [
    "lst=['vikranty622@gmail.com','vikranty623@gmail.com',\n",
    "    'vikranty62@gmail.com','vikranty624@gmail.com',\n",
    "    'vikranty6232@gmail.com','vikranty625@hotmail.com',\n",
    "    'vikranty6244@gmail.com','vikranty626@gmail.com',\n",
    "    'vikranty6245@hotmail.com','vikranty627@gmail.com',\n",
    "    'vikranty6223@gmail.com','vikranty628@hotmail.com',\n",
    "    'vikranty6225@hotmail.com','vikranty629@gmail.com']\n",
    "# def only_gmail(a):\n",
    "#     if 'hotmail.com' in a:\n",
    "#         return True\n",
    "#     else:\n",
    "#         return False\n",
    "list(filter(lambda x: \"hotmail.com\" in x, lst))"
   ]
  },
  {
   "cell_type": "markdown",
   "id": "d0612771",
   "metadata": {},
   "source": [
    "# Iterators\n",
    "* iterables \n",
    "1. list, tuple, string, dict\n",
    "\n",
    "* Ques: When to say the object is iteralbe \n",
    "    1. len( function should work)\n",
    "    2. directory     ---- dir() __iter__  ---should be there\n",
    "    "
   ]
  },
  {
   "cell_type": "code",
   "execution_count": 25,
   "id": "59cb0069",
   "metadata": {},
   "outputs": [
    {
     "name": "stdout",
     "output_type": "stream",
     "text": [
      "1\n",
      "2\n",
      "3\n",
      "4\n",
      "5\n",
      "6\n",
      "7\n"
     ]
    }
   ],
   "source": [
    "a=[1,2,3,4,5,6,7]\n",
    "for i in a:\n",
    "    print(i)"
   ]
  },
  {
   "cell_type": "code",
   "execution_count": 30,
   "id": "76abdacf",
   "metadata": {},
   "outputs": [
    {
     "name": "stdout",
     "output_type": "stream",
     "text": [
      "<class 'list_iterator'>\n",
      "2\n",
      "3\n",
      "4\n",
      "5\n",
      "6\n",
      "7\n",
      "8\n"
     ]
    }
   ],
   "source": [
    "lst= [2,3,4,5,6,7,8]\n",
    "\n",
    "# list is getting converted to an iter\n",
    "\n",
    "my_iter=iter(lst)  # background of the list\n",
    "print(type(my_iter))\n",
    "\n",
    "\n",
    "# every iterator object have a next function\n",
    "\n",
    "print(next(my_iter))\n",
    "print(next(my_iter))\n",
    "print(next(my_iter))\n",
    "print(next(my_iter))\n",
    "print(next(my_iter))\n",
    "print(next(my_iter))\n",
    "# print(next(my_iter))\n",
    "print(next(my_iter))"
   ]
  },
  {
   "cell_type": "code",
   "execution_count": 39,
   "id": "551b74dd",
   "metadata": {},
   "outputs": [
    {
     "name": "stdout",
     "output_type": "stream",
     "text": [
      "a\n",
      "b\n",
      "c\n"
     ]
    }
   ],
   "source": [
    "lst_1=['a','b','c']\n",
    "iter_1=iter(lst_1)\n",
    "print(next(iter_1))\n",
    "print(next(iter_1))\n",
    "print(next(iter_1))"
   ]
  },
  {
   "cell_type": "code",
   "execution_count": 51,
   "id": "393e59a4",
   "metadata": {},
   "outputs": [
    {
     "name": "stdout",
     "output_type": "stream",
     "text": [
      "a\n",
      "b\n"
     ]
    }
   ],
   "source": [
    "lst_1=['a','b','c']\n",
    "iter_1=iter(lst_1)\n",
    "print(next(iter_1))\n",
    "try:\n",
    "    print(next(iter_1))\n",
    "except:\n",
    "    pass"
   ]
  },
  {
   "cell_type": "code",
   "execution_count": null,
   "id": "2199fda6",
   "metadata": {},
   "outputs": [],
   "source": [
    "# Module\n",
    "\n"
   ]
  },
  {
   "cell_type": "code",
   "execution_count": null,
   "id": "0496c063",
   "metadata": {},
   "outputs": [],
   "source": []
  },
  {
   "cell_type": "code",
   "execution_count": null,
   "id": "c737ad89",
   "metadata": {},
   "outputs": [],
   "source": []
  },
  {
   "cell_type": "code",
   "execution_count": null,
   "id": "c995d73f",
   "metadata": {},
   "outputs": [],
   "source": []
  },
  {
   "cell_type": "code",
   "execution_count": null,
   "id": "77573ee0",
   "metadata": {},
   "outputs": [],
   "source": []
  },
  {
   "cell_type": "code",
   "execution_count": null,
   "id": "c9544cfb",
   "metadata": {},
   "outputs": [],
   "source": []
  },
  {
   "cell_type": "code",
   "execution_count": null,
   "id": "2f7fb2bb",
   "metadata": {},
   "outputs": [],
   "source": []
  },
  {
   "cell_type": "code",
   "execution_count": null,
   "id": "31edf8fb",
   "metadata": {},
   "outputs": [],
   "source": []
  },
  {
   "cell_type": "code",
   "execution_count": null,
   "id": "c9d4ca6b",
   "metadata": {},
   "outputs": [],
   "source": []
  },
  {
   "cell_type": "code",
   "execution_count": null,
   "id": "5d74357c",
   "metadata": {},
   "outputs": [],
   "source": []
  },
  {
   "cell_type": "code",
   "execution_count": null,
   "id": "8f815b00",
   "metadata": {},
   "outputs": [],
   "source": []
  },
  {
   "cell_type": "code",
   "execution_count": null,
   "id": "a1c2865a",
   "metadata": {},
   "outputs": [],
   "source": []
  },
  {
   "cell_type": "code",
   "execution_count": null,
   "id": "8f6bed88",
   "metadata": {},
   "outputs": [],
   "source": []
  }
 ],
 "metadata": {
  "kernelspec": {
   "display_name": "Python 3 (ipykernel)",
   "language": "python",
   "name": "python3"
  },
  "language_info": {
   "codemirror_mode": {
    "name": "ipython",
    "version": 3
   },
   "file_extension": ".py",
   "mimetype": "text/x-python",
   "name": "python",
   "nbconvert_exporter": "python",
   "pygments_lexer": "ipython3",
   "version": "3.10.9"
  }
 },
 "nbformat": 4,
 "nbformat_minor": 5
}
