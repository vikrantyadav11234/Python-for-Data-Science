{
 "cells": [
  {
   "cell_type": "code",
   "execution_count": 2,
   "id": "bdae852f",
   "metadata": {},
   "outputs": [
    {
     "name": "stdout",
     "output_type": "stream",
     "text": [
      "1\n"
     ]
    },
    {
     "ename": "TypeError",
     "evalue": "'tuple' object does not support item assignment",
     "output_type": "error",
     "traceback": [
      "\u001b[1;31m---------------------------------------------------------------------------\u001b[0m",
      "\u001b[1;31mTypeError\u001b[0m                                 Traceback (most recent call last)",
      "Cell \u001b[1;32mIn[2], line 6\u001b[0m\n\u001b[0;32m      4\u001b[0m \u001b[38;5;28mprint\u001b[39m(t[\u001b[38;5;241m0\u001b[39m])\n\u001b[0;32m      5\u001b[0m \u001b[38;5;66;03m#cannot update the value of tuple\u001b[39;00m\n\u001b[1;32m----> 6\u001b[0m t[\u001b[38;5;241m0\u001b[39m]\u001b[38;5;241m=\u001b[39m\u001b[38;5;241m34\u001b[39m\n",
      "\u001b[1;31mTypeError\u001b[0m: 'tuple' object does not support item assignment"
     ]
    }
   ],
   "source": [
    "#tuples\n",
    "#creting a tuple using()\n",
    "t=(1,2,3,4,5)#tuple is immutable\n",
    "print(t[0])\n",
    "#cannot update the value of tuple\n",
    "t[0]=34"
   ]
  },
  {
   "cell_type": "code",
   "execution_count": 3,
   "id": "d2e0ea99",
   "metadata": {},
   "outputs": [
    {
     "ename": "TypeError",
     "evalue": "'int' object is not subscriptable",
     "output_type": "error",
     "traceback": [
      "\u001b[1;31m---------------------------------------------------------------------------\u001b[0m",
      "\u001b[1;31mTypeError\u001b[0m                                 Traceback (most recent call last)",
      "Cell \u001b[1;32mIn[3], line 3\u001b[0m\n\u001b[0;32m      1\u001b[0m t\u001b[38;5;241m=\u001b[39m() \u001b[38;5;66;03m#empty tuple\u001b[39;00m\n\u001b[0;32m      2\u001b[0m t1\u001b[38;5;241m=\u001b[39m(\u001b[38;5;241m1\u001b[39m)\n\u001b[1;32m----> 3\u001b[0m \u001b[38;5;28mprint\u001b[39m(\u001b[43mt1\u001b[49m\u001b[43m[\u001b[49m\u001b[38;5;241;43m0\u001b[39;49m\u001b[43m]\u001b[49m)\n",
      "\u001b[1;31mTypeError\u001b[0m: 'int' object is not subscriptable"
     ]
    }
   ],
   "source": [
    "t=() #empty tuple\n",
    "t1=(1) #wrong way to declare a tuple with single element\n",
    "print(t1[0])"
   ]
  },
  {
   "cell_type": "code",
   "execution_count": 4,
   "id": "d2dcab83",
   "metadata": {},
   "outputs": [
    {
     "name": "stdout",
     "output_type": "stream",
     "text": [
      "1\n"
     ]
    }
   ],
   "source": [
    "t1=(1,) #tuple with single element\n",
    "print(t1[0])"
   ]
  },
  {
   "cell_type": "code",
   "execution_count": 6,
   "id": "b83106f0",
   "metadata": {},
   "outputs": [
    {
     "name": "stdout",
     "output_type": "stream",
     "text": [
      "0\n"
     ]
    }
   ],
   "source": [
    "t=(1,2,3,4,5,1,2,1)\n",
    "print(t.index(1)) #give index of first occurence"
   ]
  },
  {
   "cell_type": "code",
   "execution_count": 9,
   "id": "a0f5e856",
   "metadata": {},
   "outputs": [
    {
     "name": "stdout",
     "output_type": "stream",
     "text": [
      "fruit 1:a\n",
      "fruit 2:s\n",
      "fruit 3:d\n",
      "fruit 4:f\n",
      "fruit 5:g\n",
      "fruit 6:h\n",
      "fruit 7:j\n",
      "['a', 's', 'd', 'f', 'g', 'h', 'j']\n",
      "<class 'list'>\n"
     ]
    }
   ],
   "source": [
    "f1=input(\"fruit 1:\")\n",
    "f2=input(\"fruit 2:\")\n",
    "f3=input(\"fruit 3:\")\n",
    "f4=input(\"fruit 4:\")\n",
    "f5=input(\"fruit 5:\")\n",
    "f6=input(\"fruit 6:\")\n",
    "f7=input(\"fruit 7:\")\n",
    "\n",
    "myfruitlist=[f1,f2,f3,f4,f5,f6,f7]\n",
    "print(myfruitlist)\n",
    "\n",
    "print(type(myfruitlist))\n",
    "\n"
   ]
  },
  {
   "cell_type": "code",
   "execution_count": 11,
   "id": "4b574f8c",
   "metadata": {},
   "outputs": [
    {
     "name": "stdout",
     "output_type": "stream",
     "text": [
      "enter the marks of student 1: 1\n",
      "enter the marks of student 2: 5\n",
      "enter the marks of student 3: 6\n",
      "enter the marks of student 4: 2\n",
      "enter the marks of student 5: 3\n",
      "enter the marks of student 6: 4\n",
      "[1, 2, 3, 4, 5, 6]\n"
     ]
    }
   ],
   "source": [
    "marks1=int(input(\"enter the marks of student 1: \"))\n",
    "marks2=int(input(\"enter the marks of student 2: \"))\n",
    "marks3=int(input(\"enter the marks of student 3: \"))\n",
    "marks4=int(input(\"enter the marks of student 4: \"))\n",
    "marks5=int(input(\"enter the marks of student 5: \"))\n",
    "marks6=int(input(\"enter the marks of student 6: \"))\n",
    "\n",
    "markslist=[marks1,marks2,marks3,marks4,marks5,marks6]\n",
    "markslist.sort()\n",
    "print(markslist)"
   ]
  },
  {
   "cell_type": "code",
   "execution_count": 12,
   "id": "2ae6c122",
   "metadata": {},
   "outputs": [
    {
     "name": "stdout",
     "output_type": "stream",
     "text": [
      "enter num 1: 1\n",
      "enter num 2: 2\n",
      "enter num 3: 4\n",
      "enter num 4: 5\n"
     ]
    },
    {
     "data": {
      "text/plain": [
       "12"
      ]
     },
     "execution_count": 12,
     "metadata": {},
     "output_type": "execute_result"
    }
   ],
   "source": [
    "num1=int(input(\"enter num 1: \"))\n",
    "num2=int(input(\"enter num 2: \"))\n",
    "num3=int(input(\"enter num 3: \"))\n",
    "num4=int(input(\"enter num 4: \"))\n",
    "\n",
    "mylist=[num1,num2,num3,num4]\n",
    "sum(mylist)"
   ]
  },
  {
   "cell_type": "code",
   "execution_count": 16,
   "id": "1c1ea952",
   "metadata": {},
   "outputs": [
    {
     "name": "stdout",
     "output_type": "stream",
     "text": [
      "10\n"
     ]
    },
    {
     "data": {
      "text/plain": [
       "10"
      ]
     },
     "execution_count": 16,
     "metadata": {},
     "output_type": "execute_result"
    }
   ],
   "source": [
    "a=[1,2,3,4]\n",
    "print(a[0]+a[2]+a[3]+a[1])\n",
    "sum(a)"
   ]
  },
  {
   "cell_type": "code",
   "execution_count": 13,
   "id": "c13f2600",
   "metadata": {},
   "outputs": [
    {
     "name": "stdout",
     "output_type": "stream",
     "text": [
      "dict_keys(['fast', 'harry', 'marks', 'anotherdict', 1])\n",
      "<class 'dict_keys'>\n",
      "['fast', 'harry', 'marks', 'anotherdict', 1]\n",
      "dict_values(['in a quick manner', 'a coder', [1, 3, 4], {'harry': 'player'}, 2])\n",
      "dict_items([('fast', 'in a quick manner'), ('harry', 'a coder'), ('marks', [1, 3, 4]), ('anotherdict', {'harry': 'player'}), (1, 2)])\n",
      "{'fast': 'in a quick manner', 'harry': 'a coder', 'marks': [1, 3, 4], 'anotherdict': {'harry': 'player'}, 1: 2}\n",
      "{'fast': 'in a quick manner', 'harry': 'a coder', 'marks': [1, 3, 4], 'anotherdict': {'harry': 'player'}, 1: 2, 'vikrant': 'friend', 'sheetal': 'friend'}\n",
      "a coder\n"
     ]
    }
   ],
   "source": [
    "#dictionary is unordered\n",
    "#it is mutable\n",
    "#it is indexed\n",
    "#there will not be any duplicate key\n",
    "mydict={\"fast\":\"in a quick manner\",\n",
    "       \"harry\":\"a coder\",\n",
    "       \"marks\":[1,3,4],\n",
    "       \"anotherdict\":{'harry':'player'},\n",
    "        1:2\n",
    "       }\n",
    "\n",
    "print(mydict.keys()) #keys will be in the form of list\n",
    "print(type(mydict.keys())) #by default type is dict-keys\n",
    "print(list(mydict.keys()))\n",
    "print(mydict.values()) #print values\n",
    "#items-it will return a tuple(a key-value pair)\n",
    "print(mydict.items()) #print the (key,value) for all the items of dictionary\n",
    "print(mydict)\n",
    "updatedict={\"vikrant\":\"friend\",\n",
    "           \"sheetal\":\"friend\"}\n",
    "mydict.update(updatedict) #update dictionary by adding key value pair with update dict\n",
    "print(mydict)\n",
    "\n",
    "print(mydict.get(\"harry\"))\n",
    "#print(mydict[\"harry\"])--it will also give same result\n",
    "#.get method will return NONE when key is not present in the dictionary \n",
    "#but print(mydict[\"harry\"]) it will return error if key is not present. \n",
    " \n"
   ]
  },
  {
   "cell_type": "code",
   "execution_count": 2,
   "id": "6925159c",
   "metadata": {},
   "outputs": [
    {
     "name": "stdout",
     "output_type": "stream",
     "text": [
      "{1, 2, 3, 4}\n",
      "<class 'set'>\n",
      "<class 'dict'>\n",
      "<class 'set'>\n",
      "{4, 5}\n"
     ]
    }
   ],
   "source": [
    "#sets in python-it is a collection of non repititive items\n",
    "a={1,2,3,4,2,3,4}\n",
    "print(a) #sets does not contain repetitive items\n",
    "print(type(a))\n",
    "\n",
    "#empty set\n",
    "\n",
    "a={}\n",
    "print(type(a)) #it is create an empty dictionary not an empty set\n",
    "\n",
    "#an empty set can be created using the below syntex\n",
    "b=set()\n",
    "print(type(b))\n",
    "b.add(4)\n",
    "b.add(5)\n",
    "print(b)\n",
    "#adding list\n",
    "#b.add([1,2,3])\n",
    "#print(b) #unhashable type 'list'\n",
    "#tuple can be added bcoz it is hashable\n",
    "#dict also cannnot add bcoz of dict is unhashable"
   ]
  },
  {
   "cell_type": "code",
   "execution_count": 3,
   "id": "3304886f",
   "metadata": {},
   "outputs": [
    {
     "name": "stdout",
     "output_type": "stream",
     "text": [
      "{4, 5}\n",
      "{4, 5}\n",
      "{2, 4, 5}\n",
      "3\n",
      "{2, 4}\n",
      "{2, 4, 7, 8}\n",
      "2\n",
      "None\n",
      "set()\n"
     ]
    }
   ],
   "source": [
    "#properties of sets\n",
    "#--sets are ordered\n",
    "#--sets are unindexed\n",
    "#--there is no way to change its items\n",
    "#-cannot contain duplicate values\n",
    "#methods of sets\n",
    "print(b)\n",
    "print(b)\n",
    "b.add(2)\n",
    "b.add(4)\n",
    "b.add(5)\n",
    "print(b)\n",
    "\n",
    "print(len(b)) #printsd the lenth of this set\n",
    "b.remove(5)#removes 5 from set\n",
    "print(b)\n",
    "b.add(8)\n",
    "b.add(7)\n",
    "print(b)\n",
    "print(b.pop()) #pop out rendom values from the set\n",
    "\n",
    "print(b.clear()) #clear the set and return none\n",
    "print(b) #empty set"
   ]
  },
  {
   "cell_type": "code",
   "execution_count": 42,
   "id": "b64d35c7",
   "metadata": {},
   "outputs": [
    {
     "name": "stdout",
     "output_type": "stream",
     "text": [
      "{0, 1, 2, 3, 4, 5, 6, 7, 8, 9}\n",
      "{4, 5, 6, 7}\n"
     ]
    }
   ],
   "source": [
    "#union and intersection \n",
    "a={1,2,3,4,5,6,7}\n",
    "b={4,5,6,7,8,9,0}\n",
    "print(a.union(b))\n",
    "print(a.intersection(b))"
   ]
  },
  {
   "cell_type": "code",
   "execution_count": 5,
   "id": "3b0a7da7",
   "metadata": {},
   "outputs": [
    {
     "name": "stdout",
     "output_type": "stream",
     "text": [
      "options are dict_keys(['pankha', 'dabba', 'gilas', 'kursi'])\n",
      "enter the hindi word:\n",
      "jump\n",
      "the meaning of the word is: None\n"
     ]
    }
   ],
   "source": [
    "#practice set\n",
    "mydict={\"pankha\":\"fan\",\n",
    "       \"dabba\":\"box\",\n",
    "       \"gilas\":\"glass\",\n",
    "       \"kursi\":\"chair\"\n",
    "       }\n",
    "print(\"options are\",mydict.keys())\n",
    "a=input(\"enter the hindi word:\\n\")\n",
    "print(\"the meaning of the word is:\",mydict.get(a))\n",
    "# print(\"the meaning of the word is:\",mydict[a])\n",
    "#this method will throw an error if key is not present in the dict"
   ]
  },
  {
   "cell_type": "code",
   "execution_count": 45,
   "id": "7aaaf05f",
   "metadata": {},
   "outputs": [
    {
     "name": "stdout",
     "output_type": "stream",
     "text": [
      "options are dict_keys(['pankha', 'dabba', 'gilas', 'kursi'])\n",
      "enter the hindi word:\n",
      "box\n",
      "the meaning of the word is: None\n"
     ]
    }
   ],
   "source": [
    "mydict={\"pankha\":\"fan\",\n",
    "       \"dabba\":\"box\",\n",
    "       \"gilas\":\"glass\",\n",
    "       \"kursi\":\"chair\"\n",
    "       }\n",
    "print(\"options are\",mydict.keys())\n",
    "a=input(\"enter the hindi word:\\n\")\n",
    "print(\"the meaning of the word is:\",mydict.get(a))\n",
    "#this method(above line) wil not throw an error if key is not present"
   ]
  },
  {
   "cell_type": "code",
   "execution_count": 47,
   "id": "bdde1a3f",
   "metadata": {},
   "outputs": [
    {
     "name": "stdout",
     "output_type": "stream",
     "text": [
      "2\n",
      "{18, '18'}\n"
     ]
    }
   ],
   "source": [
    "s={18,\"18\"}\n",
    "print(len(s))\n",
    "print(s)\n"
   ]
  },
  {
   "cell_type": "code",
   "execution_count": 6,
   "id": "ea6b2dfd",
   "metadata": {},
   "outputs": [
    {
     "name": "stdout",
     "output_type": "stream",
     "text": [
      "0\n",
      "1\n",
      "{20}\n"
     ]
    }
   ],
   "source": [
    "s=set()\n",
    "print(len(s))\n",
    "s.add(20)\n",
    "s.add(20.0)\n",
    "print(len(s))\n",
    "print(s)"
   ]
  },
  {
   "cell_type": "code",
   "execution_count": 51,
   "id": "cea85b20",
   "metadata": {},
   "outputs": [
    {
     "name": "stdout",
     "output_type": "stream",
     "text": [
      "<class 'dict'>\n"
     ]
    }
   ],
   "source": [
    "s={}\n",
    "print(type(s)) #by default it is aan empty dict"
   ]
  },
  {
   "cell_type": "code",
   "execution_count": 53,
   "id": "96da4b72",
   "metadata": {},
   "outputs": [
    {
     "name": "stdout",
     "output_type": "stream",
     "text": [
      "enter your fev lang vikrant:\n",
      "a\n",
      "enter your fev lang dinesh:\n",
      "d\n",
      "enter your fev lang op:\n",
      "r\n",
      "enter your fev lang prince:\n",
      "t\n",
      "{'vikrant': 'a', 'dinesh': 'd', 'op': 'r', 'prince': 't'}\n"
     ]
    }
   ],
   "source": [
    "fevlang={}\n",
    "a=input('enter your fev lang vikrant:\\n')\n",
    "b=input(\"enter your fev lang dinesh:\\n\")\n",
    "c=input(\"enter your fev lang op:\\n\")\n",
    "d=input(\"enter your fev lang prince:\\n\")\n",
    "fevlang[\"vikrant\"]=a\n",
    "fevlang[\"dinesh\"]=b\n",
    "fevlang[\"op\"]=c\n",
    "fevlang[\"prince\"]=d\n",
    "print(fevlang)\n",
    "\n",
    "\n",
    "\n"
   ]
  },
  {
   "cell_type": "code",
   "execution_count": 54,
   "id": "d2760eb2",
   "metadata": {},
   "outputs": [
    {
     "name": "stdout",
     "output_type": "stream",
     "text": [
      "enter your fev lang vikrant:\n",
      "w\n",
      "enter your fev lang dinesh:\n",
      "w\n",
      "enter your fev lang op:\n",
      "e\n",
      "enter your fev lang prince:\n",
      "d\n",
      "{'vikrant': 'e', 'dinesh': 'w', 'prince': 'd'}\n"
     ]
    }
   ],
   "source": [
    "#if keys of two names are same\n",
    "fevlang={}\n",
    "a=input('enter your fev lang vikrant:\\n')\n",
    "b=input(\"enter your fev lang dinesh:\\n\")\n",
    "c=input(\"enter your fev lang op:\\n\")\n",
    "d=input(\"enter your fev lang prince:\\n\")\n",
    "fevlang[\"vikrant\"]=a\n",
    "fevlang[\"dinesh\"]=b\n",
    "fevlang[\"vikrant\"]=c\n",
    "fevlang[\"prince\"]=d\n",
    "print(fevlang)"
   ]
  },
  {
   "cell_type": "code",
   "execution_count": 73,
   "id": "efd65bf4",
   "metadata": {},
   "outputs": [
    {
     "name": "stdout",
     "output_type": "stream",
     "text": [
      "value>13\n"
     ]
    }
   ],
   "source": [
    "#conditional expressions\n",
    "a=28\n",
    "if(a<3):\n",
    "    print(\"the value of a is>3\")\n",
    "elif(a<7):\n",
    "    print(\"value>7\")\n",
    "elif(a>13):\n",
    "    print(\"value>13\")\n",
    "elif(a>17):\n",
    "    printf(\"value>17\")\n",
    "else:\n",
    "    print(\"the value is not grater than 3 or 7\")"
   ]
  },
  {
   "cell_type": "code",
   "execution_count": 75,
   "id": "44d26037",
   "metadata": {},
   "outputs": [
    {
     "name": "stdout",
     "output_type": "stream",
     "text": [
      "value>13\n",
      "value>17\n"
     ]
    }
   ],
   "source": [
    "a=28\n",
    "if(a<3):\n",
    "    print(\"the value of a is>3\")\n",
    "if(a<7):\n",
    "    print(\"value>7\")\n",
    "if(a>13):\n",
    "    print(\"value>13\")\n",
    "if(a>17):\n",
    "    print(\"value>17\")\n",
    "else:\n",
    "    print(\"the value is not grater than 3 or 7\")"
   ]
  },
  {
   "cell_type": "code",
   "execution_count": 8,
   "id": "8c7f241f",
   "metadata": {},
   "outputs": [
    {
     "name": "stdout",
     "output_type": "stream",
     "text": [
      "enter your age: 15\n",
      "no\n"
     ]
    }
   ],
   "source": [
    "age=int(input(\"enter your age: \"))\n",
    "if age>=18:\n",
    "    print(\"yes\")\n",
    "else:\n",
    "    print(\"no\")\n",
    "\n",
    "    "
   ]
  },
  {
   "cell_type": "code",
   "execution_count": 10,
   "id": "3e1537b9",
   "metadata": {},
   "outputs": [
    {
     "name": "stdout",
     "output_type": "stream",
     "text": [
      "enter your age: 57\n",
      "You cannot work with us\n"
     ]
    }
   ],
   "source": [
    "#logical and relational operators\n",
    "age=int(input(\"enter your age: \"))\n",
    "if(age>34 and age<56):\n",
    "    print(\"You can work with us\")\n",
    "else:\n",
    "    print(\"You cannot work with us\")"
   ]
  },
  {
   "cell_type": "code",
   "execution_count": 13,
   "id": "ec082a49",
   "metadata": {},
   "outputs": [
    {
     "name": "stdout",
     "output_type": "stream",
     "text": [
      "enter your age: 12\n",
      "You can work with us\n"
     ]
    }
   ],
   "source": [
    "age=int(input(\"enter your age: \"))\n",
    "if(age>34 or age<56):\n",
    "    print(\"You can work with us\")\n",
    "else:\n",
    "    print(\"You cannot work with us\")"
   ]
  },
  {
   "cell_type": "code",
   "execution_count": 15,
   "id": "62401d40",
   "metadata": {},
   "outputs": [
    {
     "name": "stdout",
     "output_type": "stream",
     "text": [
      "yes\n"
     ]
    }
   ],
   "source": [
    "# in and is\n",
    "a= None\n",
    "if(a is None):\n",
    "    print(\"yes\")\n",
    "else:\n",
    "    print(\"no\")"
   ]
  },
  {
   "cell_type": "code",
   "execution_count": 2,
   "id": "e69b1d50",
   "metadata": {},
   "outputs": [
    {
     "name": "stdout",
     "output_type": "stream",
     "text": [
      "<class 'list'>\n",
      "True\n",
      "False\n"
     ]
    }
   ],
   "source": [
    "a=[2,3,4]\n",
    "print(type(a))\n",
    "print(2 in a)\n",
    "print(6 in a)"
   ]
  },
  {
   "cell_type": "code",
   "execution_count": 3,
   "id": "4d7e3a43",
   "metadata": {},
   "outputs": [
    {
     "name": "stdout",
     "output_type": "stream",
     "text": [
      "Enter first number: 45\n",
      "Enter second number: 46\n",
      "Enter third number: 48\n",
      "Enter fourth number: 49\n",
      "49 is greatest.\n"
     ]
    }
   ],
   "source": [
    "#practice set\n",
    "a=int(input(\"Enter first number: \"))\n",
    "b=int(input(\"Enter second number: \"))\n",
    "c=int(input(\"Enter third number: \"))\n",
    "d=int(input(\"Enter fourth number: \"))\n",
    "\n",
    "if(a>d):\n",
    "    f1=a\n",
    "else:\n",
    "    f1=d\n",
    "\n",
    "if(b>c):\n",
    "    f2=b\n",
    "else:\n",
    "    f2=c\n",
    "    \n",
    "if(f1>f2):\n",
    "    print(str(f1)+\" is greatest.\")\n",
    "else:\n",
    "    print(str(f2)+\" is greatest.\")"
   ]
  },
  {
   "cell_type": "code",
   "execution_count": 15,
   "id": "c658f8e8",
   "metadata": {},
   "outputs": [
    {
     "name": "stdout",
     "output_type": "stream",
     "text": [
      "Enter marks of subject num 1:\n",
      " 35\n",
      "Enter marks of subject num 2:\n",
      " 35\n",
      "Enter marks of subject num 3:\n",
      "35\n",
      "Ypu are fail due to less than 40%.\n"
     ]
    }
   ],
   "source": [
    "sub1=int(input(\"Enter marks of subject num 1:\\n \"))\n",
    "sub2=int(input(\"Enter marks of subject num 2:\\n \"))\n",
    "sub3=int(input(\"Enter marks of subject num 3:\\n\"))\n",
    "if(sub1<33 or sub2<33 or sub3<33):\n",
    "    print(\"You are fail due to less than 33% marks in one or more subjects.\")\n",
    "    \n",
    "elif (sub1+sub2+sub3)/3<40:\n",
    "    print(\"You are fail due to less than 40%.\")\n",
    "    \n",
    "else:\n",
    "    print(\"You are passed.\")\n",
    "    \n"
   ]
  },
  {
   "cell_type": "code",
   "execution_count": 21,
   "id": "87675561",
   "metadata": {},
   "outputs": [
    {
     "name": "stdout",
     "output_type": "stream",
     "text": [
      "Enter the text: make money to click this\n",
      "This text is not spam.\n"
     ]
    }
   ],
   "source": [
    "text=input(\"Enter the text: \")\n",
    "\n",
    "if (\"make a lot of money\" in text):\n",
    "    spam=True\n",
    "elif(\"buy now\" in text):\n",
    "    spam=True\n",
    "elif(\"Click this\" in text):\n",
    "    spam=True\n",
    "elif(\"subscribe this\" in text):\n",
    "    spam=True\n",
    "else:\n",
    "    spam=False\n",
    "\n",
    "if(spam):\n",
    "    print(\"This text is spam.\")\n",
    "else:\n",
    "    print(\"This text is not spam.\")"
   ]
  },
  {
   "cell_type": "code",
   "execution_count": 23,
   "id": "139795b1",
   "metadata": {},
   "outputs": [
    {
     "name": "stdout",
     "output_type": "stream",
     "text": [
      "enter a uaername: vikrant yadav\n",
      "it contains more then 10 characters.\n"
     ]
    }
   ],
   "source": [
    "username=input(\"enter a uaername: \")\n",
    "if len(username)>10:\n",
    "    print(\"it contains more then 10 characters.\")\n",
    "else:\n",
    "    print(\"it contains more then 10 characters.\")"
   ]
  },
  {
   "cell_type": "code",
   "execution_count": 26,
   "id": "aa83fc57",
   "metadata": {},
   "outputs": [
    {
     "name": "stdout",
     "output_type": "stream",
     "text": [
      "enter the name: opyadav\n",
      "Name is present in the list.\n"
     ]
    }
   ],
   "source": [
    "names=[\"harry\",\"shubham\",\"rohan\",\"sheetal\",\"vikrant\",\"opyadav\"]\n",
    "name=input(\"enter the name: \")\n",
    "\n",
    "if name in names:\n",
    "    print(\"Name is present in the list.\")\n",
    "else:\n",
    "    print(\"List doesn't contain names:\")"
   ]
  },
  {
   "cell_type": "code",
   "execution_count": 3,
   "id": "1d9ec722",
   "metadata": {},
   "outputs": [
    {
     "name": "stdout",
     "output_type": "stream",
     "text": [
      " Enter the marks: 71\n",
      "Grade is B\n"
     ]
    }
   ],
   "source": [
    "marks=int(input(\" Enter the marks: \"))\n",
    "\n",
    "if (marks<100 and marks>=90):\n",
    "    print(\"grade is EX\")\n",
    "elif(marks<90 and marks>=80):\n",
    "    print(\"Grade is A\")\n",
    "elif(marks<80 and marks>=70):\n",
    "    print(\"Grade is B\")\n",
    "elif(marks<70 and marks>=60):\n",
    "    print(\"Grade is C\")\n",
    "elif(marks<60 and marks>=50):\n",
    "    print(\"Grade is D\")\n",
    "elif(marks<50):\n",
    "    print(\"Grade is F\")"
   ]
  },
  {
   "cell_type": "code",
   "execution_count": 2,
   "id": "ded5e9f1",
   "metadata": {},
   "outputs": [
    {
     "name": "stdout",
     "output_type": "stream",
     "text": [
      "Write a string: harry is a good boy\n",
      "harry is present.\n"
     ]
    }
   ],
   "source": [
    "post=input(\"Write a string: \")\n",
    "\n",
    "if 'harry' in post:\n",
    "    print(\"harry is present.\")\n",
    "else:\n",
    "    print(\"not present.\")"
   ]
  },
  {
   "cell_type": "code",
   "execution_count": 39,
   "id": "ecc88ce3",
   "metadata": {},
   "outputs": [
    {
     "name": "stdout",
     "output_type": "stream",
     "text": [
      "Yes 0\n",
      "Yes 1\n",
      "Yes 2\n",
      "Yes 3\n",
      "Yes 4\n",
      "Yes 5\n",
      "Yes 6\n",
      "Yes 7\n",
      "Yes 8\n",
      "Yes 9\n",
      "done\n"
     ]
    }
   ],
   "source": [
    "#loops\n",
    "i=0\n",
    "while i<10:\n",
    "    print(\"Yes \"+ str(i))\n",
    "    i= i+1\n",
    "    \n",
    "print(\"done\")"
   ]
  },
  {
   "cell_type": "code",
   "execution_count": 5,
   "id": "492a9187",
   "metadata": {},
   "outputs": [
    {
     "name": "stdout",
     "output_type": "stream",
     "text": [
      "1\n",
      "2\n",
      "3\n",
      "4\n",
      "5\n",
      "Done\n"
     ]
    }
   ],
   "source": [
    "i=1\n",
    "while i<=5:\n",
    "    print(i)\n",
    "    i=i+1\n",
    "print(\"Done\")"
   ]
  },
  {
   "cell_type": "code",
   "execution_count": 43,
   "id": "efb29555",
   "metadata": {},
   "outputs": [
    {
     "name": "stdout",
     "output_type": "stream",
     "text": [
      "harry\n",
      "harry\n",
      "harry\n",
      "harry\n",
      "harry\n"
     ]
    }
   ],
   "source": [
    "i=0\n",
    "while i<5:\n",
    "    print(\"harry\")\n",
    "    i=i+1"
   ]
  },
  {
   "cell_type": "code",
   "execution_count": 50,
   "id": "8a6b9596",
   "metadata": {},
   "outputs": [
    {
     "name": "stdout",
     "output_type": "stream",
     "text": [
      "a\n",
      "b\n",
      "c\n",
      "d\n",
      "e\n",
      "f\n",
      "g\n"
     ]
    }
   ],
   "source": [
    "#content of a list using while loop\n",
    "fruit=[\"a\",\"b\",\"c\",\"d\",\"e\",\"f\",\"g\"]\n",
    "i=0\n",
    "while i<len(fruit):\n",
    "    print(fruit[i])\n",
    "    i=i+1\n"
   ]
  },
  {
   "cell_type": "code",
   "execution_count": 54,
   "id": "3caf3de7",
   "metadata": {},
   "outputs": [
    {
     "name": "stdout",
     "output_type": "stream",
     "text": [
      "1\n",
      "2\n",
      "3\n",
      "4\n",
      "5\n"
     ]
    }
   ],
   "source": [
    "l=[1,2,3,4,5]\n",
    "for items in l:\n",
    "    print(items)"
   ]
  },
  {
   "cell_type": "code",
   "execution_count": 55,
   "id": "bae9a854",
   "metadata": {},
   "outputs": [
    {
     "name": "stdout",
     "output_type": "stream",
     "text": [
      "0\n",
      "1\n",
      "2\n",
      "3\n",
      "4\n",
      "5\n",
      "6\n",
      "7\n"
     ]
    }
   ],
   "source": [
    "#range function in python-use to generate a sequence of numbers\n",
    "for i in range(8):\n",
    "    print(i) # print zero to n-1"
   ]
  },
  {
   "cell_type": "code",
   "execution_count": 56,
   "id": "c3a78af3",
   "metadata": {},
   "outputs": [
    {
     "name": "stdout",
     "output_type": "stream",
     "text": [
      "1\n",
      "2\n",
      "3\n",
      "4\n",
      "5\n",
      "6\n",
      "7\n"
     ]
    }
   ],
   "source": [
    "for i in range(1,8):\n",
    "    print(i) # it will start from 1"
   ]
  },
  {
   "cell_type": "code",
   "execution_count": 57,
   "id": "3f4701cd",
   "metadata": {},
   "outputs": [
    {
     "name": "stdout",
     "output_type": "stream",
     "text": [
      "2\n",
      "3\n",
      "4\n",
      "5\n",
      "6\n",
      "7\n"
     ]
    }
   ],
   "source": [
    "for i in range(2,8):\n",
    "    print(i) #it will start from 2"
   ]
  },
  {
   "cell_type": "code",
   "execution_count": 58,
   "id": "3fca832d",
   "metadata": {},
   "outputs": [
    {
     "name": "stdout",
     "output_type": "stream",
     "text": [
      "1\n",
      "3\n",
      "5\n",
      "7\n"
     ]
    }
   ],
   "source": [
    "for i in range(1,8,2):\n",
    "    print(i) # step size is 2. starts from 1"
   ]
  },
  {
   "cell_type": "code",
   "execution_count": 59,
   "id": "e41004c7",
   "metadata": {},
   "outputs": [
    {
     "name": "stdout",
     "output_type": "stream",
     "text": [
      "0\n",
      "1\n",
      "2\n",
      "3\n",
      "4\n",
      "5\n",
      "6\n",
      "7\n",
      "8\n",
      "9\n",
      "This is inside else of for.\n"
     ]
    }
   ],
   "source": [
    "#for loop with else\n",
    "for i in range(10):\n",
    "    print(i)\n",
    "else:\n",
    "    print(\"This is inside else of for.\")"
   ]
  },
  {
   "cell_type": "code",
   "execution_count": 60,
   "id": "4d8a89b9",
   "metadata": {},
   "outputs": [
    {
     "name": "stdout",
     "output_type": "stream",
     "text": [
      "0\n",
      "1\n",
      "2\n",
      "3\n",
      "4\n",
      "5\n",
      "6\n",
      "7\n",
      "8\n",
      "9\n",
      "This is inside else of for.\n"
     ]
    }
   ],
   "source": [
    "for i in range(10):\n",
    "    print(i)\n",
    "\n",
    "print(\"This is inside else of for.\")"
   ]
  },
  {
   "cell_type": "code",
   "execution_count": 62,
   "id": "15a240b0",
   "metadata": {},
   "outputs": [
    {
     "name": "stdout",
     "output_type": "stream",
     "text": [
      "0\n",
      "1\n",
      "2\n",
      "3\n",
      "4\n",
      "5\n"
     ]
    }
   ],
   "source": [
    "#break statement\n",
    "for i in range(10):\n",
    "    print(i)\n",
    "    if i==5:\n",
    "        break\n",
    "else:\n",
    "    print(\"This is inside else of for.\")# it will execute on successful termination\n",
    "  "
   ]
  },
  {
   "cell_type": "code",
   "execution_count": 68,
   "id": "9dd26ad8",
   "metadata": {},
   "outputs": [
    {
     "name": "stdout",
     "output_type": "stream",
     "text": [
      "0\n",
      "2\n",
      "4\n",
      "6\n",
      "8\n"
     ]
    }
   ],
   "source": [
    "#continue statement\n",
    "for i in range(10):\n",
    "    if i%2!=0:\n",
    "        continue\n",
    "    print(i)"
   ]
  },
  {
   "cell_type": "code",
   "execution_count": 69,
   "id": "de9bc3d2",
   "metadata": {},
   "outputs": [
    {
     "name": "stdout",
     "output_type": "stream",
     "text": [
      "do nothing\n"
     ]
    }
   ],
   "source": [
    "i=4\n",
    "if i>0:\n",
    "    pass  #it is a null statement.it instruct to do nothing\n",
    "print(\"do nothing\")"
   ]
  },
  {
   "cell_type": "code",
   "execution_count": 70,
   "id": "d2386aeb",
   "metadata": {},
   "outputs": [
    {
     "name": "stdout",
     "output_type": "stream",
     "text": [
      "do nothing\n"
     ]
    }
   ],
   "source": [
    "i=4\n",
    "if i>0:\n",
    "    pass#it is a null statement.it instruct to do nothing\n",
    "while i>6:\n",
    "    pass\n",
    "print(\"do nothing\")"
   ]
  },
  {
   "cell_type": "code",
   "execution_count": 75,
   "id": "9f23bf6d",
   "metadata": {},
   "outputs": [
    {
     "name": "stdout",
     "output_type": "stream",
     "text": [
      "Enter num 1: 5\n",
      "Enter num 2: 9\n",
      "45\n",
      "45\n"
     ]
    }
   ],
   "source": [
    "num1=int(input(\"Enter num 1: \"))\n",
    "num2=int(input(\"Enter num 2: \"))\n",
    "l1=[\"num1\", \"num2\"]\n",
    "for multiplication in l1:\n",
    "    multiplication=num1*num2\n",
    "    print(multiplication)"
   ]
  },
  {
   "cell_type": "code",
   "execution_count": 76,
   "id": "d60c782d",
   "metadata": {},
   "outputs": [
    {
     "name": "stdout",
     "output_type": "stream",
     "text": [
      "Enter num 1: 5\n",
      "5X1=5\n",
      "5X2=10\n",
      "5X3=15\n",
      "5X4=20\n",
      "5X5=25\n",
      "5X6=30\n",
      "5X7=35\n",
      "5X8=40\n",
      "5X9=45\n",
      "5X10=50\n"
     ]
    }
   ],
   "source": [
    "num=int(input(\"Enter num 1: \"))\n",
    "for i in range(1,11):\n",
    "    print(str(num)+ \"X\" + str(i) + \"=\" +str(i*num))"
   ]
  },
  {
   "cell_type": "code",
   "execution_count": 77,
   "id": "cdb0085e",
   "metadata": {},
   "outputs": [
    {
     "name": "stdout",
     "output_type": "stream",
     "text": [
      "Enter num 1: 5\n",
      "5X1=5\n",
      "5X2=10\n",
      "5X3=15\n",
      "5X4=20\n",
      "5X5=25\n",
      "5X6=30\n",
      "5X7=35\n",
      "5X8=40\n",
      "5X9=45\n",
      "5X10=50\n"
     ]
    }
   ],
   "source": [
    "#table by using f string\n",
    "num=int(input(\"Enter num 1: \"))\n",
    "for i in range(1,11):\n",
    "    print(f\"{num}X{i}={num*i}\")"
   ]
  },
  {
   "cell_type": "code",
   "execution_count": 83,
   "id": "927a4106",
   "metadata": {},
   "outputs": [
    {
     "name": "stdout",
     "output_type": "stream",
     "text": [
      "Enter num 1: 5\n",
      "5X1=5\n",
      "5X2=10\n",
      "5X3=15\n",
      "5X4=20\n",
      "5X5=25\n",
      "5X6=30\n",
      "5X7=35\n",
      "5X8=40\n",
      "5X9=45\n",
      "5X10=50\n"
     ]
    }
   ],
   "source": [
    "#write table using while loop\n",
    "num=int(input(\"Enter num 1: \"))\n",
    "i=1\n",
    "while i<11:\n",
    "    print(str(num) + \"X\" + str(i)+ \"=\" + str(num*i))\n",
    "    i=i+1"
   ]
  },
  {
   "cell_type": "code",
   "execution_count": 80,
   "id": "aec54123",
   "metadata": {},
   "outputs": [
    {
     "name": "stdout",
     "output_type": "stream",
     "text": [
      "hello sachin\n",
      "hello shivam\n",
      "hello shivkant\n"
     ]
    }
   ],
   "source": [
    "l1=[\"vikrant\",\"sachin\",\"shivam\",\"punnu\",\"abhishek\",\"shivkant\"]\n",
    "\n",
    "for name in l1:\n",
    "    if name.startswith(\"s\"):\n",
    "        print(\"hello \" + name)  "
   ]
  },
  {
   "cell_type": "code",
   "execution_count": 88,
   "id": "89b73936",
   "metadata": {},
   "outputs": [
    {
     "name": "stdout",
     "output_type": "stream",
     "text": [
      "Enter num: 23\n",
      "This number is prime.\n"
     ]
    }
   ],
   "source": [
    "#print given number is prime or not\n",
    "num=int(input(\"Enter num: \"))\n",
    "prime=True\n",
    "for i in range(2,num):\n",
    "    if (num%i ==0):\n",
    "        prime=False\n",
    "        break\n",
    "if prime:\n",
    "    print(\"This number is prime.\")\n",
    "else:\n",
    "    print(\"This number is not prime.\")"
   ]
  },
  {
   "cell_type": "code",
   "execution_count": 111,
   "id": "82803912",
   "metadata": {},
   "outputs": [
    {
     "name": "stdout",
     "output_type": "stream",
     "text": [
      "Enter the num: 5\n",
      "the sum of n numbers is 15.0\n"
     ]
    }
   ],
   "source": [
    "#program to find the sum of n natural numbers\n",
    "num=int(input(\"Enter the num: \"))\n",
    "i=0\n",
    "while i<(num):\n",
    "    sum=num*(num+1)/2\n",
    "    i=i+1\n",
    "print(f\"the sum of n numbers is {sum}\")"
   ]
  },
  {
   "cell_type": "code",
   "execution_count": 112,
   "id": "fc0885bd",
   "metadata": {},
   "outputs": [
    {
     "name": "stdout",
     "output_type": "stream",
     "text": [
      "Enter the num: 5\n",
      "the factorial of 5 is 120\n"
     ]
    }
   ],
   "source": [
    "#factorial of the given number\n",
    "num=int(input(\"Enter the num: \"))\n",
    "factorial=1\n",
    "for i in range(1,num+1):\n",
    "    factorial=factorial*i\n",
    "print(f\"the factorial of {num} is {factorial}\")\n",
    "    "
   ]
  },
  {
   "cell_type": "code",
   "execution_count": 116,
   "id": "6648c7ed",
   "metadata": {},
   "outputs": [
    {
     "name": "stdout",
     "output_type": "stream",
     "text": [
      "*\n",
      "**\n",
      "***\n",
      "****\n"
     ]
    }
   ],
   "source": [
    "#pattern printing\n",
    "num=4\n",
    "for i in range(4):\n",
    "    print(\"*\"*(i+1))"
   ]
  },
  {
   "cell_type": "code",
   "execution_count": 18,
   "id": "fdf35d21",
   "metadata": {},
   "outputs": [
    {
     "name": "stdout",
     "output_type": "stream",
     "text": [
      "    *    \n",
      "   ***   \n",
      "  *****  \n",
      " ******* \n"
     ]
    }
   ],
   "source": [
    "#pattern printing\n",
    "n=4\n",
    "for i in range(4):\n",
    "    print(\" \"*(n-i-1),end=\" \" )\n",
    "    print(\"*\"*(2*i+1), end=\" \")\n",
    "    print(\" \"*(n-i-1))\n",
    "             "
   ]
  },
  {
   "cell_type": "code",
   "execution_count": 128,
   "id": "be4e1683",
   "metadata": {},
   "outputs": [
    {
     "name": "stdout",
     "output_type": "stream",
     "text": [
      "***\n",
      "***\n",
      "***\n"
     ]
    }
   ],
   "source": [
    "n=3\n",
    "for i in range(3):\n",
    "    print(\"*\"*3)\n",
    "    "
   ]
  },
  {
   "cell_type": "code",
   "execution_count": 156,
   "id": "82d9c32e",
   "metadata": {},
   "outputs": [
    {
     "name": "stdout",
     "output_type": "stream",
     "text": [
      "Enter num 1: 5\n",
      "5X10=50\n",
      "5X9=45\n",
      "5X8=40\n",
      "5X7=35\n",
      "5X6=30\n",
      "5X5=25\n",
      "5X4=20\n",
      "5X3=15\n",
      "5X2=10\n",
      "5X1=5\n"
     ]
    }
   ],
   "source": [
    "#print multiplication table inreverse order\n",
    "num=int(input(\"Enter num 1: \"))\n",
    "for i in range(10,0,-1):\n",
    "    print(f\"{num}X{i}={num*i}\")\n"
   ]
  },
  {
   "cell_type": "code",
   "execution_count": 2,
   "id": "ee49ca88",
   "metadata": {},
   "outputs": [
    {
     "name": "stdout",
     "output_type": "stream",
     "text": [
      "55.00000000000001 53.75\n"
     ]
    }
   ],
   "source": [
    "#functions and recursions\n",
    "#functions-is a group of statements performing a specific task.\n",
    "marks=[50, 55, 56, 59]\n",
    "percentage1=(sum(marks)/400)*100\n",
    "marks2=[45, 55, 47, 68]\n",
    "percentage2=(sum(marks2)/400)*100\n",
    "print(percentage1,percentage2)"
   ]
  },
  {
   "cell_type": "code",
   "execution_count": 3,
   "id": "6373dec1",
   "metadata": {},
   "outputs": [
    {
     "name": "stdout",
     "output_type": "stream",
     "text": [
      "55.00000000000001 53.75\n"
     ]
    }
   ],
   "source": [
    "def percent(marks):\n",
    "    return ((sum(marks)/400)*100)\n",
    "marks=[50, 55, 56, 59]\n",
    "percentage1=percent(marks)\n",
    "marks2=[45, 55, 47, 68]\n",
    "percentage2=percent(marks2)\n",
    "print(percentage1,percentage2)"
   ]
  },
  {
   "cell_type": "code",
   "execution_count": 4,
   "id": "74069450",
   "metadata": {},
   "outputs": [
    {
     "name": "stdout",
     "output_type": "stream",
     "text": [
      "55.00000000000001 53.75\n"
     ]
    }
   ],
   "source": [
    "def percent(marks):\n",
    "    p=((sum(marks)/400)*100)\n",
    "    return p\n",
    "marks=[50, 55, 56, 59]\n",
    "percentage1=percent(marks)\n",
    "marks2=[45, 55, 47, 68]\n",
    "percentage2=percent(marks2)\n",
    "print(percentage1,percentage2)"
   ]
  },
  {
   "cell_type": "code",
   "execution_count": 6,
   "id": "7e275749",
   "metadata": {},
   "outputs": [
    {
     "name": "stdout",
     "output_type": "stream",
     "text": [
      "good day, harry\n"
     ]
    }
   ],
   "source": [
    "#syntex of a function\n",
    "#  def function():\n",
    "#          print(\"hello\")\n",
    "def greet(name):\n",
    "    print(\"good day, \"+ name)\n",
    "greet(\"harry\")\n",
    "    "
   ]
  },
  {
   "cell_type": "code",
   "execution_count": 8,
   "id": "e52d866b",
   "metadata": {},
   "outputs": [
    {
     "name": "stdout",
     "output_type": "stream",
     "text": [
      "41\n"
     ]
    }
   ],
   "source": [
    "#types of functions\n",
    "# built-in functions and user defined functions\n",
    "def mysum(num1,num2):\n",
    "    return num1+num2\n",
    "s=mysum(5,36)\n",
    "print(s)"
   ]
  },
  {
   "cell_type": "code",
   "execution_count": 10,
   "id": "1b07e8aa",
   "metadata": {},
   "outputs": [
    {
     "name": "stdout",
     "output_type": "stream",
     "text": [
      "good day, harry\n",
      "good day, stranger\n"
     ]
    }
   ],
   "source": [
    "#Default parameter value\n",
    "def greet(name=\"stranger\"):\n",
    "    print(\"good day, \"+ name)\n",
    "greet(\"harry\")\n",
    "greet()"
   ]
  },
  {
   "cell_type": "code",
   "execution_count": 13,
   "id": "bd3c0468",
   "metadata": {},
   "outputs": [
    {
     "name": "stdout",
     "output_type": "stream",
     "text": [
      "2\n"
     ]
    }
   ],
   "source": [
    "#recursion-recursion is a function which calls itself\n",
    "# it is used to directly use a mathematical formula as a function\n",
    "#    Ex-     factorial(n)=n*factorial(n-1)\n",
    "\n",
    "# n=2\n",
    "# product=1\n",
    "# for i in range(n):\n",
    "#     product=product*(i+1)\n",
    "# print(product)\n",
    "    "
   ]
  },
  {
   "cell_type": "code",
   "execution_count": 2,
   "id": "7cae4f64",
   "metadata": {},
   "outputs": [
    {
     "name": "stdout",
     "output_type": "stream",
     "text": [
      "5040\n"
     ]
    }
   ],
   "source": [
    "# n!=factorial(n-1)*n\n",
    "# n!=n*(n-1)!\n",
    "\n",
    "\n",
    "#ierative factorial method\n",
    "\n",
    "# def factorial_iter(n):\n",
    "#     product=1\n",
    "#     for i in range(n):\n",
    "#         product=product*(i+1)\n",
    "#     return product\n",
    "\n",
    "def factorial_recursive(n):\n",
    "    if n==1 or n==0:\n",
    "        return 1\n",
    "    else:\n",
    "        return n*factorial_recursive(n-1)\n",
    "f=factorial_recursive(7)\n",
    "# f=factorial_iter(6)\n",
    "print(f)"
   ]
  },
  {
   "cell_type": "code",
   "execution_count": 26,
   "id": "44880c97",
   "metadata": {},
   "outputs": [
    {
     "name": "stdout",
     "output_type": "stream",
     "text": [
      "enter the num :7\n",
      "5040\n"
     ]
    }
   ],
   "source": [
    "def factorial_recursive(n):\n",
    "    if n==1 or n==0:\n",
    "        return 1\n",
    "    else:\n",
    "        return n*factorial_recursive(n-1)\n",
    "f=int(input(\"enter the num :\"))\n",
    "print(factorial_recursive(f))\n"
   ]
  },
  {
   "cell_type": "code",
   "execution_count": 32,
   "id": "9c576307",
   "metadata": {},
   "outputs": [
    {
     "name": "stdout",
     "output_type": "stream",
     "text": [
      "the gratest value is 25\n"
     ]
    }
   ],
   "source": [
    "#practice set functions and recursion\n",
    "# write a program to find the gratest no out of three numbers\n",
    "\n",
    "def greatest(num1,num2,num3):\n",
    "    if num1>num2:\n",
    "        if num1>num3:\n",
    "            return num1\n",
    "        else:\n",
    "            return num3\n",
    "    else:\n",
    "    \n",
    "        if num2>num3:\n",
    "            return num2\n",
    "        else:\n",
    "            return num3\n",
    "\n",
    "m=greatest(2,3,25)\n",
    "print(\"the gratest value is \"+ str(m))"
   ]
  },
  {
   "cell_type": "code",
   "execution_count": 9,
   "id": "45f76862",
   "metadata": {},
   "outputs": [
    {
     "name": "stdout",
     "output_type": "stream",
     "text": [
      "95.0\n"
     ]
    }
   ],
   "source": [
    "#celcius to farnehight conversion:\n",
    "def farh(cel):\n",
    "    return (cel*(9/5)) + 32\n",
    "c=35\n",
    "f=farh(c)\n",
    "print(f)"
   ]
  },
  {
   "cell_type": "code",
   "execution_count": 41,
   "id": "6fafdec1",
   "metadata": {},
   "outputs": [
    {
     "name": "stdout",
     "output_type": "stream",
     "text": [
      "hello how are you. "
     ]
    }
   ],
   "source": [
    "#how do you prevent python print()function to print a new line at the end\n",
    "\n",
    "\n",
    "print(\"hello\",end=\" \")\n",
    "print(\"how\",end=\" \")\n",
    "print(\"are\",end=\" \")\n",
    "print(\"you.\",end=\" \")"
   ]
  },
  {
   "cell_type": "code",
   "execution_count": 4,
   "id": "b93a4406",
   "metadata": {},
   "outputs": [
    {
     "name": "stdout",
     "output_type": "stream",
     "text": [
      "5050\n"
     ]
    }
   ],
   "source": [
    "#sum of n natural numbers using recursion function\n",
    "def sum_recursive(n):\n",
    "    if n==0:\n",
    "        return 0\n",
    "    else:\n",
    "        return n+sum_recursive(n-1)\n",
    "s=sum_recursive(100)\n",
    "print(s)"
   ]
  },
  {
   "cell_type": "code",
   "execution_count": 8,
   "id": "54a2a669",
   "metadata": {},
   "outputs": [
    {
     "name": "stdout",
     "output_type": "stream",
     "text": [
      "Enter a number: 10\n",
      "Sum of the first 10 natural numbers is 55\n"
     ]
    }
   ],
   "source": [
    "#sum of n natural numbers using recursion function given by user\n",
    "def sum_recursive(n):\n",
    "    if n==0:\n",
    "        return 0\n",
    "    else:\n",
    "        return n+sum_recursive(n-1)\n",
    "s=int(input(\"Enter a number: \"))\n",
    "print(f\"Sum of the first {s} natural numbers is {sum_recursive(s)}\")\n",
    "# s=sum_recursive(100)\n",
    "# print(s)"
   ]
  },
  {
   "cell_type": "code",
   "execution_count": 10,
   "id": "9c5a05ed",
   "metadata": {},
   "outputs": [
    {
     "name": "stdout",
     "output_type": "stream",
     "text": [
      "***\n",
      "**\n",
      "*\n"
     ]
    }
   ],
   "source": [
    "#pattern printing\n",
    "n=3\n",
    "for i in range(n):\n",
    "    print(\"*\"*(n-i)) #prints star n-i times"
   ]
  },
  {
   "cell_type": "code",
   "execution_count": 12,
   "id": "b38d0991",
   "metadata": {},
   "outputs": [
    {
     "name": "stdout",
     "output_type": "stream",
     "text": [
      "conversion of 25 inch to cm is 63.5\n"
     ]
    }
   ],
   "source": [
    "#inches by centimeter\n",
    "def inch_cm(inch):\n",
    "    return inch*2.54\n",
    "s=25\n",
    "f=inch_cm(s)\n",
    "print(f\"conversion of {s} inch to cm is {f}\")"
   ]
  },
  {
   "cell_type": "code",
   "execution_count": 13,
   "id": "228231f5",
   "metadata": {},
   "outputs": [
    {
     "name": "stdout",
     "output_type": "stream",
     "text": [
      "        harry is good boy.       \n",
      "harry is good boy.\n"
     ]
    }
   ],
   "source": [
    "#string stripping\n",
    "this= \"        harry is good boy.       \"\n",
    "print(this)\n",
    "print(this.strip())"
   ]
  },
  {
   "cell_type": "code",
   "execution_count": 16,
   "id": "f62a7001",
   "metadata": {},
   "outputs": [
    {
     "name": "stdout",
     "output_type": "stream",
     "text": [
      "is good boy.\n"
     ]
    }
   ],
   "source": [
    "def remove_and_split(string,word):\n",
    "    newstr=string.replace(word, \" \")\n",
    "    return newstr.strip()\n",
    "    \n",
    "this= \"        harry is good boy.       \"\n",
    "n=remove_and_split(this,\"harry\")\n",
    "print(n)"
   ]
  },
  {
   "cell_type": "code",
   "execution_count": 25,
   "id": "fbe48ca9",
   "metadata": {},
   "outputs": [
    {
     "name": "stdout",
     "output_type": "stream",
     "text": [
      "Enter the number: 5\n",
      "5X1=5\n",
      "5X2=10\n",
      "5X3=15\n",
      "5X4=20\n",
      "5X5=25\n",
      "5X6=30\n",
      "5X7=35\n",
      "5X8=40\n",
      "5X9=45\n",
      "5X10=50\n"
     ]
    }
   ],
   "source": [
    "n=int(input(\"Enter the number: \"))\n",
    "for i in range (1,11):\n",
    "    print(f\"{n}X{i}={n*i}\")"
   ]
  },
  {
   "cell_type": "code",
   "execution_count": 2,
   "id": "edef1e20",
   "metadata": {},
   "outputs": [
    {
     "name": "stdout",
     "output_type": "stream",
     "text": [
      "vikrant is a good boy. he is having some setbacks in his life.\n",
      "but he will overcome everything. He can do it. He is a fighter.\n"
     ]
    }
   ],
   "source": [
    "#file I/O-\n",
    "#opening a file\n",
    "#open finction is a built in function\n",
    "#  syntex---   open(\"this.txt\", \"r\")\n",
    "#open-built in function , \"this.txt\"--file name, \"r\"--mode of opening(read mode)\n",
    "# program\n",
    "#use open function to read the content of a file.\n",
    "#f=open('sample.txt','r')\n",
    "f=open('sample.txt','r') #if u r not specify the mode it will bydefault take read mode\n",
    "data=f.read()\n",
    "print(data)\n",
    "f.close() #close the file it is mendatory.\n",
    "\n"
   ]
  },
  {
   "cell_type": "code",
   "execution_count": 1,
   "id": "85d734db",
   "metadata": {},
   "outputs": [
    {
     "name": "stdout",
     "output_type": "stream",
     "text": [
      "vikrant is\n"
     ]
    }
   ],
   "source": [
    "f=open('sample.txt') #if u r not specify the mode it will bydefault take read mode\n",
    "data=f.read(10) #first 10 character read from the file\n",
    "print(data)\n",
    "f.close() #close the file it is mendatory.\n",
    "#cannot use f.read() function more then one time in a function for same file\n"
   ]
  },
  {
   "cell_type": "code",
   "execution_count": 3,
   "id": "97639ea1",
   "metadata": {},
   "outputs": [
    {
     "name": "stdout",
     "output_type": "stream",
     "text": [
      "vikrant is a good boy. he is having some setbacks in his life.\n",
      "\n",
      "but he will overcome everything. He can do it. He is a fighter.\n"
     ]
    }
   ],
   "source": [
    "# f.readline() function\n",
    "\n",
    "f=open('sample.txt')\n",
    "data=f.readline() #real first line\n",
    "print(data)\n",
    "data=f.readline()  #read 2nd line\n",
    "print(data)\n",
    "f.close() \n",
    "#gap between two lines is because of a new line(\\n) character\n",
    "\n"
   ]
  },
  {
   "cell_type": "markdown",
   "id": "ba960fa7",
   "metadata": {},
   "source": [
    "modes of opening a file:\n",
    "    r--open for reading\n",
    "    w--open for writing\n",
    "    a--open for appending\n",
    "    +--open for updating\n",
    "    rb--open for read in binary mode\n",
    "    rt--open for read in text mode"
   ]
  },
  {
   "cell_type": "code",
   "execution_count": 21,
   "id": "944e9044",
   "metadata": {},
   "outputs": [],
   "source": [
    "#open file in append mode\n",
    "f=open('another.txt','a')\n",
    "f.write(\"I am appending.\")\n",
    "f.close()"
   ]
  },
  {
   "cell_type": "code",
   "execution_count": 26,
   "id": "157726f4",
   "metadata": {},
   "outputs": [
    {
     "name": "stdout",
     "output_type": "stream",
     "text": [
      "I am appending.I am appending.I am appending.I am appending.I am appending.Vikrant is a good boy.\n"
     ]
    }
   ],
   "source": [
    "f=open(\"another.txt\")\n",
    "data=f.read()\n",
    "print(data)\n",
    "f.close()"
   ]
  },
  {
   "cell_type": "code",
   "execution_count": 19,
   "id": "5e34acf6",
   "metadata": {},
   "outputs": [],
   "source": [
    "#writing files in python\n",
    "#f.write()\n",
    "f=open('another.txt','w')\n",
    "f.write(\"I am appending.\")\n",
    "f.close()"
   ]
  },
  {
   "cell_type": "code",
   "execution_count": 23,
   "id": "d8b43e7a",
   "metadata": {},
   "outputs": [],
   "source": [
    "#writing files in python\n",
    "#f.write()\n",
    "f=open('another.txt','w')\n",
    "f.write(\"I am appending.\") #write function can be called multiple times.\n",
    "f.write(\"I am appending.\")\n",
    "f.write(\"I am appending.\")\n",
    "f.write(\"I am appending.\")\n",
    "f.write(\"I am appending.\")\n",
    "f.close()"
   ]
  },
  {
   "cell_type": "code",
   "execution_count": 25,
   "id": "cc2735ee",
   "metadata": {},
   "outputs": [],
   "source": [
    "f=open('another.txt','a')\n",
    "f.write(\"Vikrant is a good boy.\")\n",
    "f.close()"
   ]
  },
  {
   "cell_type": "code",
   "execution_count": 27,
   "id": "99344b3a",
   "metadata": {},
   "outputs": [
    {
     "name": "stdout",
     "output_type": "stream",
     "text": [
      "I am appending.I am appending.I am appending.I am appending.I am appending.Vikrant is a good boy.\n"
     ]
    }
   ],
   "source": [
    "f=f=open('another.txt','r')\n",
    "data=f.read()\n",
    "print(data)\n",
    "f.close()"
   ]
  },
  {
   "cell_type": "markdown",
   "id": "6f3701d8",
   "metadata": {},
   "source": [
    "#with statement\n",
    "#   context manager\n",
    "#     with open('another.txt','r') as f:\n",
    "#                      a=f.raed()\n",
    "#                      print(a)"
   ]
  },
  {
   "cell_type": "code",
   "execution_count": 18,
   "id": "44b74763",
   "metadata": {},
   "outputs": [
    {
     "name": "stdout",
     "output_type": "stream",
     "text": [
      "I am appending.I am appending.I am appending.I am appending.I am appending.Vikrant is a good boy.\n"
     ]
    }
   ],
   "source": [
    "with open('another.txt','r') as f:\n",
    "    a=f.read()\n",
    "    print(a)"
   ]
  },
  {
   "cell_type": "code",
   "execution_count": 24,
   "id": "3938ae65",
   "metadata": {},
   "outputs": [
    {
     "name": "stdout",
     "output_type": "stream",
     "text": [
      "vikrant is having a tough time.vikrant is having a tough time.vikrant is having a tough time.\n"
     ]
    }
   ],
   "source": [
    "with open('another.txt','r') as f:\n",
    "    a=f.read()\n",
    "    print(a)\n",
    "with open('another.txt','a') as f:\n",
    "    a=f.write(\"vikrant is having a tough time.\")\n"
   ]
  },
  {
   "cell_type": "code",
   "execution_count": 25,
   "id": "62f7962a",
   "metadata": {},
   "outputs": [
    {
     "name": "stdout",
     "output_type": "stream",
     "text": [
      "twinkle is present in the file.\n"
     ]
    }
   ],
   "source": [
    "#practice set\n",
    "f=open('poems.txt')\n",
    "a=f.read()\n",
    "if 'twinkle' in a:\n",
    "    print(\"twinkle is present in the file.\")\n",
    "else:\n",
    "    print(\"twinkle is not present in the file.\")\n",
    "\n",
    "f.close()\n"
   ]
  },
  {
   "cell_type": "code",
   "execution_count": 12,
   "id": "4e8015b1",
   "metadata": {},
   "outputs": [],
   "source": [
    "def game():\n",
    "    return 554\n",
    "\n",
    "\n",
    "score=game()\n",
    "with open('highscore.txt','r') as f:\n",
    "    a=f.read()\n",
    "if a=='':\n",
    "    with open('highscore.txt','w') as f:\n",
    "        f.write(str(score))\n",
    "elif int(a) < score:\n",
    "    with open('highscore.txt','w') as f:\n",
    "        f.write(str(score))\n",
    "    \n"
   ]
  },
  {
   "cell_type": "code",
   "execution_count": 13,
   "id": "07b82fe3",
   "metadata": {},
   "outputs": [],
   "source": [
    "#tables\n",
    "i=2\n",
    "for i in range(2, 21):\n",
    "    \n",
    "    f=open('multiplication.txt','a')\n",
    "    f.write(f\"multiplication_table_of_{i}\\n \")\n",
    "    \n",
    "#     with open(f\"tables/multiplication_table_of_{i}\", 'w') as f:\n",
    "    for j in range(1,11):\n",
    "            f.write(f\"{i}X{j}={i*j}\\n  \")\n",
    "            \n",
    "   \n",
    "            "
   ]
  },
  {
   "cell_type": "code",
   "execution_count": 27,
   "id": "cfdb7e25",
   "metadata": {},
   "outputs": [],
   "source": [
    "#tables\n",
    "for i in range(2, 21):\n",
    "    with open(f\"tables\\Multiplications_table_of_{i}.txt\", 'w') as f:\n",
    "        for j in range(1,11):        \n",
    "            f.write(f\"{i}X{j}={i*j}\")\n",
    "            if j!=10:\n",
    "                f.write('\\n')\n",
    "    \n"
   ]
  },
  {
   "cell_type": "code",
   "execution_count": 28,
   "id": "136a7694",
   "metadata": {},
   "outputs": [],
   "source": [
    "#if unwanted character are present in the file\n",
    "with open(\"another.txt\") as f:\n",
    "    content=f.read()\n",
    "    \n",
    "content=content.replace(\"donkey\",\"######\")\n",
    "with open(\"another.txt\",'w') as f:\n",
    "    content=f.write(content)\n"
   ]
  },
  {
   "cell_type": "code",
   "execution_count": 10,
   "id": "84d3cac8",
   "metadata": {},
   "outputs": [],
   "source": [
    "#if list is given for sensored words\n",
    "\n",
    "words=['don','donkey','dude','mc','bc']\n",
    "\n",
    "with open(\"another.txt\") as f:\n",
    "    content=f.read()\n",
    "\n",
    "for word in words:\n",
    "    content=content.replace(word,\"######\")\n",
    "with open(\"another.txt\",'w') as f:\n",
    "    content=f.write(content)\n"
   ]
  },
  {
   "cell_type": "code",
   "execution_count": 34,
   "id": "addc0373",
   "metadata": {},
   "outputs": [
    {
     "name": "stdout",
     "output_type": "stream",
     "text": [
      "yes python is present.\n"
     ]
    }
   ],
   "source": [
    "#log file \n",
    "with open('log.txt') as f:\n",
    "    content=f.read()\n",
    "if 'python' in content.lower():\n",
    "    print('yes python is present.')\n",
    "else:\n",
    "    print('python is not present.')"
   ]
  },
  {
   "cell_type": "code",
   "execution_count": 43,
   "id": "41566f6e",
   "metadata": {},
   "outputs": [
    {
     "name": "stdout",
     "output_type": "stream",
     "text": [
      "yes python is present on line no 37.\n",
      "03/22 08:51:06 TRACE  :..entity_initialize: interface 9.37.65.139, entity for rsvp allocated and Python\n",
      "\n",
      "yes python is present on line no 42.\n",
      "03/22 08:51:06 WARNING:.....mailslot_create: setsockopt(MCAST_ADD) failed - EDC8116I Address not available.Python has stopped working.\n",
      "\n"
     ]
    }
   ],
   "source": [
    "#find line no in log file where content is present\n",
    "content=True\n",
    "i=1\n",
    "with open('log.txt') as f:\n",
    "    while content:\n",
    "        content=f.readline()\n",
    "        \n",
    "        if 'python' in content.lower():\n",
    "            \n",
    "            print(f'yes python is present on line no {i}.')\n",
    "            print(content)\n",
    "            \n",
    "        i+=1\n",
    "        "
   ]
  },
  {
   "cell_type": "code",
   "execution_count": 44,
   "id": "24ca974d",
   "metadata": {},
   "outputs": [],
   "source": [
    "with open('this.txt') as f:\n",
    "    content=f.read()\n",
    "with open('copy.txt','w') as f:\n",
    "    f.write(content)"
   ]
  },
  {
   "cell_type": "code",
   "execution_count": 46,
   "id": "d0f5227c",
   "metadata": {},
   "outputs": [
    {
     "name": "stdout",
     "output_type": "stream",
     "text": [
      "files are not identical.\n"
     ]
    }
   ],
   "source": [
    "# write a program whether a file is identical and matches the content with another file.\n",
    "with open('this.txt') as f:\n",
    "    content=f.read()\n",
    "with open('copy.txt')as f:\n",
    "    content1=f.read()\n",
    "if content1==content:\n",
    "    print('both files are itentical & content matches')\n",
    "else:\n",
    "    print('files are not identical.')"
   ]
  },
  {
   "cell_type": "code",
   "execution_count": 47,
   "id": "7337e7d6",
   "metadata": {},
   "outputs": [],
   "source": [
    "#wipe of content from the file\n",
    "\n",
    "with open('copy.txt','w') as f:\n",
    "    f.write(\"  \")\n"
   ]
  },
  {
   "cell_type": "code",
   "execution_count": 50,
   "id": "9ed99c5b",
   "metadata": {},
   "outputs": [],
   "source": [
    "#rename a file like new name is rename_by_python.txt\n",
    "import os\n",
    "\n",
    "oldname=\"name.txt\"\n",
    "newname=\"rename_by_python.txt\"\n",
    "with open(oldname) as f:\n",
    "    content=f.read()\n",
    "    \n",
    "with open(newname,'w') as f:\n",
    "    f.write(content)\n",
    "    \n",
    "os.remove(oldname)"
   ]
  },
  {
   "cell_type": "code",
   "execution_count": null,
   "id": "d115d89f",
   "metadata": {},
   "outputs": [],
   "source": []
  }
 ],
 "metadata": {
  "kernelspec": {
   "display_name": "Python 3 (ipykernel)",
   "language": "python",
   "name": "python3"
  },
  "language_info": {
   "codemirror_mode": {
    "name": "ipython",
    "version": 3
   },
   "file_extension": ".py",
   "mimetype": "text/x-python",
   "name": "python",
   "nbconvert_exporter": "python",
   "pygments_lexer": "ipython3",
   "version": "3.10.9"
  }
 },
 "nbformat": 4,
 "nbformat_minor": 5
}
