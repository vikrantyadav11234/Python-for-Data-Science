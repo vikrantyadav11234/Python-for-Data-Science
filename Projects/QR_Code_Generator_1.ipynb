{
 "cells": [
  {
   "cell_type": "code",
   "execution_count": 2,
   "id": "615063a2",
   "metadata": {},
   "outputs": [
    {
     "name": "stdout",
     "output_type": "stream",
     "text": [
      "Collecting PyQRCode\n",
      "  Downloading PyQRCode-1.2.1.zip (41 kB)\n",
      "     ---------------------------------------- 41.9/41.9 kB 2.0 MB/s eta 0:00:00\n",
      "  Preparing metadata (setup.py): started\n",
      "  Preparing metadata (setup.py): finished with status 'done'\n",
      "Building wheels for collected packages: PyQRCode\n",
      "  Building wheel for PyQRCode (setup.py): started\n",
      "  Building wheel for PyQRCode (setup.py): finished with status 'done'\n",
      "  Created wheel for PyQRCode: filename=PyQRCode-1.2.1-py3-none-any.whl size=36240 sha256=aaa11718068189bacae3b3ad9da2a6dc255f0e4368e9d301b7a9ba5aa993ed1c\n",
      "  Stored in directory: c:\\users\\asus\\appdata\\local\\pip\\cache\\wheels\\78\\19\\3c\\222640a44eb962b726eca6571852559c4f653813af9118f66e\n",
      "Successfully built PyQRCode\n",
      "Installing collected packages: PyQRCode\n",
      "Successfully installed PyQRCode-1.2.1\n",
      "Note: you may need to restart the kernel to use updated packages.\n"
     ]
    }
   ],
   "source": [
    "pip install PyQRCode"
   ]
  },
  {
   "cell_type": "code",
   "execution_count": 13,
   "id": "bf8808e9",
   "metadata": {},
   "outputs": [
    {
     "ename": "IndentationError",
     "evalue": "unexpected indent (439731485.py, line 2)",
     "output_type": "error",
     "traceback": [
      "\u001b[1;36m  Cell \u001b[1;32mIn[13], line 2\u001b[1;36m\u001b[0m\n\u001b[1;33m    import sys\u001b[0m\n\u001b[1;37m    ^\u001b[0m\n\u001b[1;31mIndentationError\u001b[0m\u001b[1;31m:\u001b[0m unexpected indent\n"
     ]
    }
   ],
   "source": [
    "# from pyqrcode import QRCode\n",
    "#  import sys\n",
    "#     url = QRCode('http://uca.edu')\n",
    "#     url.svg(sys.stdout, scale=1)\n",
    "#     url.svg('uca.svg', scale=4)\n",
    "#     number = QRCode(123456789012345)\n",
    "#     number.png('big-number.png')"
   ]
  },
  {
   "cell_type": "code",
   "execution_count": 16,
   "id": "05aff46c",
   "metadata": {},
   "outputs": [
    {
     "name": "stdout",
     "output_type": "stream",
     "text": [
      "Collecting pypng\n",
      "  Downloading pypng-0.20220715.0-py3-none-any.whl (58 kB)\n",
      "     ---------------------------------------- 58.1/58.1 kB 1.5 MB/s eta 0:00:00\n",
      "Installing collected packages: pypng\n",
      "Successfully installed pypng-0.20220715.0\n",
      "Note: you may need to restart the kernel to use updated packages.\n"
     ]
    }
   ],
   "source": [
    "pip install pypng"
   ]
  },
  {
   "cell_type": "code",
   "execution_count": 17,
   "id": "6c80584d",
   "metadata": {},
   "outputs": [],
   "source": [
    "import pyqrcode as qr\n",
    "import png "
   ]
  },
  {
   "cell_type": "code",
   "execution_count": 15,
   "id": "aeb3e3aa",
   "metadata": {},
   "outputs": [],
   "source": [
    "img=qr.create(\"https://www.youtube.com/watch?v=FOGRHBp6lvM&list=PLjVLYmrlmjGfAUdLiF2bQ-0l8SwNZ1sBl&index=1\")"
   ]
  },
  {
   "cell_type": "code",
   "execution_count": 19,
   "id": "5ae36456",
   "metadata": {},
   "outputs": [],
   "source": [
    "img.png('QR_Code_1.png')"
   ]
  },
  {
   "cell_type": "markdown",
   "id": "f4c08b32",
   "metadata": {},
   "source": [
    "# code 2"
   ]
  },
  {
   "cell_type": "code",
   "execution_count": 21,
   "id": "a4487a61",
   "metadata": {},
   "outputs": [],
   "source": [
    "import pyqrcode as qr\n",
    "import png "
   ]
  },
  {
   "cell_type": "code",
   "execution_count": 22,
   "id": "757b102b",
   "metadata": {},
   "outputs": [
    {
     "name": "stdout",
     "output_type": "stream",
     "text": [
      "Requirement already satisfied: Pillow in d:\\anaconda\\lib\\site-packages (9.4.0)\n",
      "Note: you may need to restart the kernel to use updated packages.\n"
     ]
    }
   ],
   "source": [
    "pip install Pillow"
   ]
  },
  {
   "cell_type": "code",
   "execution_count": 23,
   "id": "8185abb1",
   "metadata": {},
   "outputs": [],
   "source": [
    "from PIL import Image"
   ]
  },
  {
   "cell_type": "code",
   "execution_count": null,
   "id": "2462579f",
   "metadata": {},
   "outputs": [],
   "source": []
  },
  {
   "cell_type": "code",
   "execution_count": null,
   "id": "26ea972f",
   "metadata": {},
   "outputs": [],
   "source": []
  },
  {
   "cell_type": "code",
   "execution_count": null,
   "id": "6d8b1731",
   "metadata": {},
   "outputs": [],
   "source": []
  },
  {
   "cell_type": "code",
   "execution_count": null,
   "id": "b9b4b22c",
   "metadata": {},
   "outputs": [],
   "source": []
  },
  {
   "cell_type": "code",
   "execution_count": null,
   "id": "97bb3a9f",
   "metadata": {},
   "outputs": [],
   "source": []
  },
  {
   "cell_type": "code",
   "execution_count": null,
   "id": "b477eb4c",
   "metadata": {},
   "outputs": [],
   "source": []
  },
  {
   "cell_type": "code",
   "execution_count": null,
   "id": "157eab5f",
   "metadata": {},
   "outputs": [],
   "source": []
  },
  {
   "cell_type": "code",
   "execution_count": null,
   "id": "b583338e",
   "metadata": {},
   "outputs": [],
   "source": []
  },
  {
   "cell_type": "code",
   "execution_count": null,
   "id": "f425661a",
   "metadata": {},
   "outputs": [],
   "source": []
  },
  {
   "cell_type": "code",
   "execution_count": null,
   "id": "7460fbfa",
   "metadata": {},
   "outputs": [],
   "source": []
  }
 ],
 "metadata": {
  "kernelspec": {
   "display_name": "Python 3 (ipykernel)",
   "language": "python",
   "name": "python3"
  },
  "language_info": {
   "codemirror_mode": {
    "name": "ipython",
    "version": 3
   },
   "file_extension": ".py",
   "mimetype": "text/x-python",
   "name": "python",
   "nbconvert_exporter": "python",
   "pygments_lexer": "ipython3",
   "version": "3.10.9"
  }
 },
 "nbformat": 4,
 "nbformat_minor": 5
}
