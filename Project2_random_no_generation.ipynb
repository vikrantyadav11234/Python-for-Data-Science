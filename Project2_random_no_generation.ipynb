{
 "cells": [
  {
   "cell_type": "code",
   "execution_count": 25,
   "id": "f791a7b1",
   "metadata": {},
   "outputs": [
    {
     "name": "stdout",
     "output_type": "stream",
     "text": [
      "Enter the Number: 50\n",
      "Your Guess is wrong! Enter a larger number!\n",
      "Enter the Number: 55\n",
      "Your Guess is wrong! Enter a larger number!\n",
      "Enter the Number: 65\n",
      "you guessed it right!\n",
      "You guessed the number is 2 guesses\n",
      "You have just broken the high score.\n"
     ]
    }
   ],
   "source": [
    "import random\n",
    "randNumber=random.randint(1,100)\n",
    "\n",
    "guesses=0\n",
    "userGuess=None\n",
    "while(userGuess!=randNumber):\n",
    "    userGuess=int(input(\"Enter the Number: \"))\n",
    "    if (userGuess==randNumber):\n",
    "          print(\"you guessed it right!\")\n",
    "    else:\n",
    "        if (userGuess>randNumber):\n",
    "            print(\"Your Guess is wrong! Enter a smaller number!\")\n",
    "        else:\n",
    "            print(\"Your Guess is wrong! Enter a larger number!\")\n",
    "            \n",
    "        guesses+=1\n",
    "        \n",
    "print(f\"You guessed the number is {guesses} guesses\") \n",
    "\n",
    "with open(\"highscore.txt\",'r') as f:\n",
    "    highscore=int(f.read())\n",
    "if (guesses<highscore):\n",
    "    print(\"You have just broken the high score.\")\n",
    "    with open(\"highscore.txt\",'w') as f:\n",
    "        f.write(str(guesses))\n",
    "         \n",
    "\n",
    "    \n",
    "\n"
   ]
  },
  {
   "cell_type": "code",
   "execution_count": null,
   "id": "606d985a",
   "metadata": {},
   "outputs": [],
   "source": []
  }
 ],
 "metadata": {
  "kernelspec": {
   "display_name": "Python 3 (ipykernel)",
   "language": "python",
   "name": "python3"
  },
  "language_info": {
   "codemirror_mode": {
    "name": "ipython",
    "version": 3
   },
   "file_extension": ".py",
   "mimetype": "text/x-python",
   "name": "python",
   "nbconvert_exporter": "python",
   "pygments_lexer": "ipython3",
   "version": "3.10.9"
  }
 },
 "nbformat": 4,
 "nbformat_minor": 5
}
