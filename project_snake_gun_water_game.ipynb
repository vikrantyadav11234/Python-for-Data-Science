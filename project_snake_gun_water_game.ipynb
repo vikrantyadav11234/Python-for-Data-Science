{
 "cells": [
  {
   "cell_type": "code",
   "execution_count": 15,
   "id": "d86eb793",
   "metadata": {},
   "outputs": [
    {
     "name": "stdout",
     "output_type": "stream",
     "text": [
      "Computer's turn: snake(s) water(w) or gun(g)?\n",
      "Your turn: snake(s) water(w) or gun(g)?s\n",
      "comuter chose g\n",
      "You chose s\n",
      "You Lose.\n"
     ]
    }
   ],
   "source": [
    "#project -Game-snake water gun or rock paper scissors\n",
    "#  randno=random.randint(1,2)\n",
    "\n",
    "import random\n",
    "\n",
    "def gamewin(comp,you):\n",
    "    #if two values are equal declare a tie\n",
    "    if comp==you:\n",
    "        return None\n",
    "    \n",
    "    #check all possibilities when computer chose s\n",
    "    elif comp=='s':\n",
    "        if you=='w':\n",
    "            return False\n",
    "        elif you=='g':\n",
    "            return True\n",
    "    #check all possibilities when computer chose w\n",
    "    elif comp=='w':\n",
    "        if you=='g':\n",
    "            return False\n",
    "        elif you=='s':\n",
    "            return True\n",
    "    #check all possibilities when computer chose g\n",
    "    elif comp=='g':\n",
    "        if you=='s':\n",
    "            return False\n",
    "        elif you=='w':\n",
    "            return True\n",
    "\n",
    "print(\"Computer's turn: snake(s) water(w) or gun(g)?\")\n",
    "randno=random.randint(1,3)\n",
    "\n",
    "if randno==1:\n",
    "    comp='s'\n",
    "elif randno==2:\n",
    "    comp='w'\n",
    "elif randno==3:\n",
    "    comp='g'\n",
    "\n",
    "\n",
    "\n",
    "you=input(\"Your turn: snake(s) water(w) or gun(g)?\")\n",
    "a=gamewin(comp,you)\n",
    "print(f\"comuter chose {comp}\")\n",
    "print(f\"You chose {you}\")\n",
    "if a==None:\n",
    "    print(\"The game is a tie!.\")\n",
    "elif a:\n",
    "    print(\"You win.\")\n",
    "else:\n",
    "    print(\"You Lose.\")\n",
    "    \n",
    "    \n"
   ]
  },
  {
   "cell_type": "code",
   "execution_count": null,
   "id": "2e707171",
   "metadata": {},
   "outputs": [],
   "source": []
  },
  {
   "cell_type": "code",
   "execution_count": null,
   "id": "273dd249",
   "metadata": {},
   "outputs": [],
   "source": []
  }
 ],
 "metadata": {
  "kernelspec": {
   "display_name": "Python 3 (ipykernel)",
   "language": "python",
   "name": "python3"
  },
  "language_info": {
   "codemirror_mode": {
    "name": "ipython",
    "version": 3
   },
   "file_extension": ".py",
   "mimetype": "text/x-python",
   "name": "python",
   "nbconvert_exporter": "python",
   "pygments_lexer": "ipython3",
   "version": "3.10.9"
  }
 },
 "nbformat": 4,
 "nbformat_minor": 5
}
