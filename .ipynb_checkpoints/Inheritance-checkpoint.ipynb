{
 "cells": [
  {
   "cell_type": "code",
   "execution_count": null,
   "id": "bd408082",
   "metadata": {},
   "outputs": [],
   "source": [
    "Inheritance\n",
    "it a way to create a new class from an existing class.\n",
    " EX:\n",
    "        class Employee:\n",
    "            #code           ---->Base Class \n",
    "            \n",
    "            \n",
    "        class Programmer(Employee):\n",
    "            #code                ------>Derived class\n",
    "            \n",
    "Type of inheritance\n",
    "  1.single inheritance\n",
    "  2.Multiple inheritance\n",
    "  3. Multilevel Inheritance\n",
    "    \n",
    "-->single inheritance occurs when child class inherits only a single parent class\n",
    "\n",
    "\n",
    "---> Super method is used to access the methods of a super class in the derieved class.\n",
    "       super.__init__()"
   ]
  },
  {
   "cell_type": "code",
   "execution_count": 10,
   "id": "60d4bf45",
   "metadata": {},
   "outputs": [
    {
     "name": "stdout",
     "output_type": "stream",
     "text": [
      "This is an employee.\n",
      "This is a programmer.\n",
      "YouTube\n"
     ]
    }
   ],
   "source": [
    "class Employee:\n",
    "    company=\"Google\"\n",
    "\n",
    "    def showDetails(self):\n",
    "        print(\"This is an employee.\")\n",
    "    \n",
    "class Programmer(Employee):\n",
    "    language=\"python\"\n",
    "    company=\"YouTube\"\n",
    "    def getLang(self):\n",
    "        print(f\"The language is {self.language}.\")\n",
    "    \n",
    "    def showDetails(self):\n",
    "        print(\"This is a programmer.\")\n",
    "e=Employee()\n",
    "p=Programmer()\n",
    "e.showDetails()\n",
    "p.showDetails()\n",
    "\n",
    "print(p.company)"
   ]
  },
  {
   "cell_type": "code",
   "execution_count": 11,
   "id": "d9c05c63",
   "metadata": {},
   "outputs": [
    {
     "name": "stdout",
     "output_type": "stream",
     "text": [
      "This is an employee.\n",
      "This is a programmer.\n",
      "YouTube\n"
     ]
    }
   ],
   "source": [
    "#single inheritance\n",
    "class Employee:\n",
    "    company=\"Google\"\n",
    "\n",
    "    def showDetails(self):\n",
    "        print(\"This is an employee.\")\n",
    "    \n",
    "class Programmer(Employee):\n",
    "    language=\"python\"\n",
    "    company=\"YouTube\"\n",
    "    def getLang(self):\n",
    "        print(f\"The language is {self.language}.\")\n",
    "    \n",
    "    def showDetails(self):\n",
    "        print(\"This is a programmer.\")\n",
    "e=Employee()\n",
    "p=Programmer()\n",
    "e.showDetails()\n",
    "p.showDetails()\n",
    "\n",
    "print(p.company)"
   ]
  },
  {
   "cell_type": "code",
   "execution_count": 19,
   "id": "4895c888",
   "metadata": {},
   "outputs": [
    {
     "name": "stdout",
     "output_type": "stream",
     "text": [
      "1\n",
      "viza\n",
      "vikrant\n"
     ]
    }
   ],
   "source": [
    "#multiple inhertance\n",
    "#one child class and more then one parent class\n",
    "class Employee:\n",
    "    company=\"viza\"\n",
    "    eCode=120\n",
    "class Freelancer:\n",
    "    company:\"Fiverr\"\n",
    "    level=0\n",
    "    def upgradelevel(self):\n",
    "        self.level=self.level+1\n",
    "        \n",
    "class Programmer(Employee,Freelancer): #priority will be given to first class\n",
    "    name=\"vikrant\"\n",
    "\n",
    "p=Programmer()\n",
    "p.upgradelevel()\n",
    "print(p.level)\n",
    "print(p.company)\n",
    "print(p.name)    "
   ]
  },
  {
   "cell_type": "code",
   "execution_count": 32,
   "id": "770b1ae5",
   "metadata": {},
   "outputs": [
    {
     "name": "stdout",
     "output_type": "stream",
     "text": [
      "I am breatihing.\n",
      "I am an employee, I am luckly breating.\n",
      "I am an programmer, I am luckly breathing++.\n",
      "salary is 10000.\n",
      "India\n"
     ]
    }
   ],
   "source": [
    "#multileval Inheritance\n",
    "#single parent multiple child\n",
    "class Person:\n",
    "    country=\"India\"\n",
    "    city=\"Lucknow\"\n",
    "    def takebreath(self):\n",
    "        print(\"I am breatihing.\")\n",
    "class Employee(Person):\n",
    "    company=\"Honda\"\n",
    "    salary=10000\n",
    "    def getsalary(self):\n",
    "        print(f\"salary is {self.salary}.\")\n",
    "        \n",
    "    def takebreath(self):\n",
    "        print(f\"I am an employee, I am luckly breating.\")\n",
    "class Programmer(Employee):\n",
    "    company=\"Hero\"\n",
    "    def getsalaey(self):\n",
    "        print(f\"No salary to programmers\")\n",
    "    \n",
    "    def takebreath(self):\n",
    "        print(f\"I am an programmer, I am luckly breathing++.\")\n",
    "        \n",
    "p=Person()\n",
    "p.takebreath()\n",
    "\n",
    "e=Employee()\n",
    "e.takebreath()\n",
    "\n",
    "pr=Programmer()\n",
    "pr.takebreath()\n",
    "        \n",
    "pr.getsalary()\n",
    "print(pr.country)\n",
    "    "
   ]
  },
  {
   "cell_type": "code",
   "execution_count": 39,
   "id": "050dc040",
   "metadata": {},
   "outputs": [
    {
     "name": "stdout",
     "output_type": "stream",
     "text": [
      "Initializing Person.....\n",
      "\n",
      "Initializing Employee.....\n",
      "\n",
      "Initializing Programmer.....\n",
      "\n",
      "I am breatihing.\n",
      "I am an employee, I am luckly breating.\n",
      "I am an programmer, I am luckly breathing++.\n"
     ]
    }
   ],
   "source": [
    "#super method\n",
    "class Person:\n",
    "    country=\"India\"\n",
    "    city=\"Lucknow\"\n",
    "    def __init__(self):\n",
    "        print(\"Initializing Person.....\\n\")\n",
    "    \n",
    "    def takebreath(self):\n",
    "        print(\"I am breatihing.\")\n",
    "class Employee(Person):\n",
    "    company=\"Honda\"\n",
    "    salary=10000\n",
    "    def __init__(self):\n",
    "        super().__init__()\n",
    "        print(\"Initializing Employee.....\\n\")\n",
    "    def getsalary(self):\n",
    "        print(f\"salary is {self.salary}.\")\n",
    "        \n",
    "    def takebreath(self):\n",
    "        super().takebreath()\n",
    "        print(f\"I am an employee, I am luckly breating.\")\n",
    "class Programmer(Employee):\n",
    "    company=\"Hero\"\n",
    "    def __init__(self):\n",
    "        super().__init__()\n",
    "        print(\"Initializing Programmer.....\\n\")\n",
    "    def getsalaey(self):\n",
    "        print(f\"No salary to programmers\")\n",
    "    \n",
    "    def takebreath(self):\n",
    "        super().takebreath()\n",
    "        print(f\"I am an programmer, I am luckly breathing++.\")\n",
    "        \n",
    "# p=Person()\n",
    "# p.takebreath()\n",
    "# e=Employee()\n",
    "# e.takebreath()\n",
    "pr=Programmer()\n",
    "pr.takebreath()\n",
    "        \n"
   ]
  },
  {
   "cell_type": "code",
   "execution_count": 40,
   "id": "d9ab7f5e",
   "metadata": {},
   "outputs": [
    {
     "name": "stdout",
     "output_type": "stream",
     "text": [
      "Initializing Person.....\n",
      "\n",
      "Initializing Employee.....\n",
      "\n",
      "Initializing Programmer.....\n",
      "\n",
      "I am breatihing.\n",
      "I am an employee, I am luckly breating.\n",
      "I am an programmer, I am luckly breathing++.\n"
     ]
    }
   ],
   "source": [
    "#static Method\n",
    "class Person:\n",
    "    country=\"India\"\n",
    "    city=\"Lucknow\"\n",
    "    def __init__(self):\n",
    "        print(\"Initializing Person.....\\n\")\n",
    "    \n",
    "    def takebreath(self):\n",
    "        print(\"I am breatihing.\")\n",
    "class Employee(Person):\n",
    "    company=\"Honda\"\n",
    "    salary=10000\n",
    "    def __init__(self):\n",
    "        super().__init__()\n",
    "        print(\"Initializing Employee.....\\n\")\n",
    "    @staticmethod\n",
    "    def getsalary():\n",
    "        print(f\"salary is {self.salary}.\")\n",
    "        \n",
    "    def takebreath(self):\n",
    "        super().takebreath()\n",
    "        print(f\"I am an employee, I am luckly breating.\")\n",
    "class Programmer(Employee):\n",
    "    company=\"Hero\"\n",
    "    def __init__(self):\n",
    "        super().__init__()\n",
    "        print(\"Initializing Programmer.....\\n\")\n",
    "    def getsalaey(self):\n",
    "        print(f\"No salary to programmers\")\n",
    "    \n",
    "    def takebreath(self):\n",
    "        super().takebreath()\n",
    "        print(f\"I am an programmer, I am luckly breathing++.\")\n",
    "        \n",
    "# p=Person()\n",
    "# p.takebreath()\n",
    "# e=Employee()\n",
    "# e.takebreath()\n",
    "pr=Programmer()\n",
    "pr.takebreath()\n",
    "        "
   ]
  },
  {
   "cell_type": "code",
   "execution_count": 47,
   "id": "48523cc9",
   "metadata": {},
   "outputs": [
    {
     "name": "stdout",
     "output_type": "stream",
     "text": [
      "100\n",
      "4555\n",
      "100\n"
     ]
    }
   ],
   "source": [
    "#static method\n",
    "class Employee:\n",
    "    company=\"camel\"\n",
    "    salary=100\n",
    "    location=\"Delhi\"\n",
    "    def changesalary(self,sal):\n",
    "        self.salary=sal\n",
    "        \n",
    "    \n",
    "e=Employee()\n",
    "print(e.salary)\n",
    "e.changesalary(4555)\n",
    "print(e.salary)\n",
    "print(Employee.salary) #class attribute will not change"
   ]
  },
  {
   "cell_type": "code",
   "execution_count": 48,
   "id": "43489fc0",
   "metadata": {},
   "outputs": [
    {
     "name": "stdout",
     "output_type": "stream",
     "text": [
      "100\n",
      "4555\n",
      "4555\n"
     ]
    }
   ],
   "source": [
    "#if you want to change class attribute\n",
    "\n",
    "class Employee:\n",
    "    company=\"camel\"\n",
    "    salary=100\n",
    "    location=\"Delhi\"\n",
    "    def changesalary(self,sal):\n",
    "        self.__class__.salary=sal  #dunder class method\n",
    "        \n",
    "    \n",
    "e=Employee()\n",
    "print(e.salary)\n",
    "e.changesalary(4555)\n",
    "print(e.salary)\n",
    "print(Employee.salary) # It will change the class attributes."
   ]
  },
  {
   "cell_type": "code",
   "execution_count": 50,
   "id": "4852fa98",
   "metadata": {},
   "outputs": [
    {
     "name": "stdout",
     "output_type": "stream",
     "text": [
      "100\n",
      "4555\n",
      "4555\n"
     ]
    }
   ],
   "source": [
    "#if you want to change class attribute\n",
    "\n",
    "class Employee:\n",
    "    company=\"camel\"\n",
    "    salary=100\n",
    "    location=\"Delhi\"\n",
    "    \n",
    "    @classmethod    #decorator\n",
    "    def changesalary(cls,sal):\n",
    "        cls.salary=sal  #class method\n",
    "        \n",
    "    \n",
    "e=Employee()\n",
    "print(e.salary)\n",
    "e.changesalary(4555)\n",
    "print(e.salary)\n",
    "print(Employee.salary) # It will change the class attributes."
   ]
  },
  {
   "cell_type": "code",
   "execution_count": 3,
   "id": "4becca88",
   "metadata": {},
   "outputs": [
    {
     "name": "stdout",
     "output_type": "stream",
     "text": [
      "4104\n",
      "4000\n",
      "2100\n"
     ]
    }
   ],
   "source": [
    "#property decorators concept\n",
    "class Employee:\n",
    "    company=\"indane\"\n",
    "    salary=4000\n",
    "    salarybonus=104\n",
    "    \n",
    "    @property         #getter method\n",
    "    def totalSalary(self):\n",
    "        return self.salary+self.salarybonus\n",
    "    @totalSalary.setter   #setter method\n",
    "    def totalSalary(self,val):\n",
    "        self.salarybonus=val-self.salary\n",
    "        \n",
    "    \n",
    "e=Employee()\n",
    "print(e.totalSalary) \n",
    "e.totalSalary=6100\n",
    "print(e.salary)\n",
    "print(e.salarybonus)"
   ]
  },
  {
   "cell_type": "code",
   "execution_count": 8,
   "id": "ca7fee96",
   "metadata": {},
   "outputs": [
    {
     "name": "stdout",
     "output_type": "stream",
     "text": [
      "lets add\n",
      "lets multiply\n",
      "10\n",
      "24\n"
     ]
    }
   ],
   "source": [
    "#operator overloading in python\n",
    "# operator overloading can be done using dunder method\n",
    "# These methods are called when a given operator is used on the objects.\n",
    "class Number:\n",
    "    def __init__(self,num):\n",
    "        self.num=num\n",
    "    def __add__(self,num2):\n",
    "        print(\"lets add\")\n",
    "        return self.num+num2.num\n",
    "    def __mul__(self,num2):\n",
    "        print(\"lets multiply\")\n",
    "        return self.num*num2.num\n",
    "n1=Number(4)\n",
    "n2=Number(6)\n",
    "sum=n1+n2\n",
    "mul=n1*n2\n",
    "print(sum)\n",
    "print(mul)\n",
    "\n",
    "        \n"
   ]
  },
  {
   "cell_type": "code",
   "execution_count": 9,
   "id": "d5b97dbc",
   "metadata": {},
   "outputs": [],
   "source": [
    "#operatoe overloading\n",
    "# p1+p2----> p1__add__(p2) \n",
    "#  p1-p2----> p1__sub__(p2)\n",
    "#  p1*p2----> p1__mul__(p2)\n",
    "#  p1/p2----> p1__truediv__(p2)\n",
    "#  p1//p2----> p1__floordiv__(p2)\n",
    "\n",
    "\n",
    "\n"
   ]
  },
  {
   "cell_type": "code",
   "execution_count": 14,
   "id": "d0bc381f",
   "metadata": {},
   "outputs": [
    {
     "name": "stdout",
     "output_type": "stream",
     "text": [
      "Decimal Number: 9\n",
      "1\n"
     ]
    }
   ],
   "source": [
    "#other dunder/magic methods\n",
    "# __str__()\n",
    "# __len__()\n",
    "class Number:\n",
    "    def __init__(self,num):\n",
    "        self.num=num\n",
    "    def __add__(self,num2):\n",
    "        print(\"lets add\")\n",
    "        return self.num+num2.num\n",
    "    def __mul__(self,num2):\n",
    "        print(\"lets multiply\")\n",
    "        return self.num*num2.num\n",
    "    def __str__(self):\n",
    "        return f\"Decimal Number: {self.num}\"\n",
    "#           return super().__str__()\n",
    "    def __len__(self):\n",
    "        return 1\n",
    "n= Number(9)\n",
    "print(n)\n",
    "print(len(n))"
   ]
  },
  {
   "cell_type": "code",
   "execution_count": 15,
   "id": "9ce2cf36",
   "metadata": {},
   "outputs": [
    {
     "name": "stdout",
     "output_type": "stream",
     "text": [
      "1i + 3j\n",
      "1i + 9j + 7k\n"
     ]
    }
   ],
   "source": [
    "#practice set\n",
    "class C2dVec:\n",
    "    def __init__(self,i,j):\n",
    "        self.icap=i\n",
    "        self.jcap=j\n",
    "    def __str__(self):\n",
    "        return f\"{self.icap}i + {self.jcap}j\"\n",
    "    \n",
    "    \n",
    "class C3dVec(C2dVec):\n",
    "    def __init__(self,i,j,k):\n",
    "        super().__init__(i,j)\n",
    "        self.kcap=k\n",
    "    def __str__(self):\n",
    "        return f\"{self.icap}i + {self.jcap}j + {self.kcap}k\"\n",
    "        \n",
    "v2d=C2dVec(1,3)\n",
    "v3d=C3dVec(1,9,7)\n",
    "print(v2d)\n",
    "print(v3d)\n",
    "\n",
    "        \n",
    "    "
   ]
  },
  {
   "cell_type": "code",
   "execution_count": 17,
   "id": "2ac9d6a9",
   "metadata": {},
   "outputs": [
    {
     "name": "stdout",
     "output_type": "stream",
     "text": [
      "Bow Bow!\n"
     ]
    }
   ],
   "source": [
    "#multiple level inheritance type example\n",
    "class Animal:\n",
    "    animalType=\"Mammal\"\n",
    "class Pets(Animal):\n",
    "    color=\"white\"\n",
    "class Dog(Pets):\n",
    "    \n",
    "    @staticmethod\n",
    "    def bark():\n",
    "        print(\"Bow Bow!\")\n",
    "d=Dog()\n",
    "d.bark()\n",
    "        "
   ]
  },
  {
   "cell_type": "code",
   "execution_count": 3,
   "id": "1f0f0440",
   "metadata": {},
   "outputs": [
    {
     "name": "stdout",
     "output_type": "stream",
     "text": [
      "1500.0\n",
      "1.5\n",
      "3.0\n"
     ]
    }
   ],
   "source": [
    "# salaryAfterIncrement= salary*increment\n",
    "\n",
    "\n",
    "class Employee:\n",
    "    salary=1000\n",
    "    increment=1.5\n",
    "    @property\n",
    "    def salaryAfterIncrement(self):\n",
    "        return self.salary*self.increment\n",
    "    \n",
    "    @salaryAfterIncrement.setter\n",
    "    def salaryAfterIncrement(self,sai):\n",
    "        self.increment= sai/self.salary\n",
    "\n",
    "e=Employee()\n",
    "print(e.salaryAfterIncrement)\n",
    "print(e.increment)\n",
    "e.salaryAfterIncrement=3000\n",
    "print(e.increment)\n",
    "    "
   ]
  },
  {
   "cell_type": "code",
   "execution_count": 7,
   "id": "6d1b1e6f",
   "metadata": {},
   "outputs": [
    {
     "name": "stdout",
     "output_type": "stream",
     "text": [
      "4+9i\n",
      "-11+23i\n"
     ]
    }
   ],
   "source": [
    "#multiplication of complex numbers\n",
    "class Complex:\n",
    "    def __init__(self,r,i):\n",
    "        self.real=r\n",
    "        self.imaginary=i\n",
    "    def __add__(self,C):\n",
    "        return Complex(self.real+C.real,self.imaginary+C.imaginary)\n",
    "    \n",
    "    def __mul__(self,C):\n",
    "        mulReal=self.real*C.real-self.imaginary*C.imaginary\n",
    "        mulImaginary=(self.real*C.imaginary+self.imaginary*C.real)\n",
    "        return Complex(mulReal,mulImaginary)\n",
    "    \n",
    "    def __str__(self):\n",
    "        return f\"{self.real}+{self.imaginary}i\"\n",
    "    \n",
    "    \n",
    "        \n",
    "    \n",
    "    \n",
    "c1=Complex(3,2)\n",
    "c2=Complex(1,7)\n",
    "print(c1+c2)\n",
    "print(c1*c2)"
   ]
  },
  {
   "cell_type": "code",
   "execution_count": 37,
   "id": "66791793",
   "metadata": {},
   "outputs": [
    {
     "name": "stdout",
     "output_type": "stream",
     "text": [
      "3a0 + 5a1 + 7a2 +\n",
      "15\n"
     ]
    }
   ],
   "source": [
    "\n",
    "class Vector:\n",
    "    def __init__(self,vec):\n",
    "        self.vec=vec\n",
    "    def __str__(self):\n",
    "        str1=\"\"\n",
    "        index=0\n",
    "        for i in self.vec:\n",
    "            str1 +=f\"{i}a{index} + \"\n",
    "            index +=1\n",
    "        return str1[:-1]\n",
    "    def __add__(self,vec2):\n",
    "        newList= []\n",
    "        for i in range(len(self.vec)):\n",
    "            newList.append(self.vec[i]+vec2.vec[i])\n",
    "        return Vector(newList)\n",
    "    \n",
    "    \n",
    "    def __mul__(self,vec2):\n",
    "        sum=0\n",
    "        for i in range(len(self.vec)):\n",
    "            sum+=self.vec[i]+vec2.vec[i]\n",
    "        return sum\n",
    "v1=Vector([1,2,3])\n",
    "v2=Vector([2,3,4])\n",
    "print(v1+v2)\n",
    "print(v1*v2)"
   ]
  },
  {
   "cell_type": "code",
   "execution_count": 42,
   "id": "ec3facae",
   "metadata": {},
   "outputs": [
    {
     "name": "stdout",
     "output_type": "stream",
     "text": [
      "1i+2j+3k\n",
      "2i+3j+4k\n"
     ]
    }
   ],
   "source": [
    "\n",
    "class Vector:\n",
    "    def __init__(self,vec):\n",
    "        self.vec=vec\n",
    "    def __str__(self):\n",
    "        return f\"{self.vec[0]}i+{self.vec[1]}j+{self.vec[2]}k\"\n",
    "v1=Vector([1,2,3])\n",
    "v2=Vector([2,3,4])\n",
    "print(v1)\n",
    "print(v2)"
   ]
  },
  {
   "cell_type": "code",
   "execution_count": 46,
   "id": "62eef717",
   "metadata": {},
   "outputs": [
    {
     "name": "stdout",
     "output_type": "stream",
     "text": [
      "Vectors lenght is not equal, So addition is not possible\n",
      "Vectors lenght is not equal, So addition is not possible\n",
      "Vectors lenght is not equal, So addition is not possible\n",
      "Vectors lenght is not equal, So addition is not possible\n",
      "\n",
      "Vectors lenght is not equal, So addition is not possible\n",
      "Vectors lenght is not equal, So addition is not possible\n",
      "Vectors lenght is not equal, So addition is not possible\n",
      "Vectors lenght is not equal, So addition is not possible\n",
      "0\n",
      "4\n",
      "3\n"
     ]
    }
   ],
   "source": [
    "#override the __len__() method\n",
    "\n",
    "class Vector:\n",
    "    def __init__(self,vec):\n",
    "        self.vec=vec\n",
    "    def __str__(self):\n",
    "        str1=\"\"\n",
    "        index=0\n",
    "        for i in self.vec:\n",
    "            str1 +=f\"{i}a{index} + \"\n",
    "            index +=1\n",
    "        return str1[:-1]\n",
    "    def __add__(self,vec2):\n",
    "        newList= []\n",
    "        for i in range(len(self.vec)):\n",
    "            if len(v1)!=len(v2):\n",
    "                print(\"Vectors lenght is not equal, So addition is not possible\")\n",
    "            else:\n",
    "                newList.append(self.vec[i]+vec2.vec[i])\n",
    "            \n",
    "        return Vector(newList)\n",
    "    \n",
    "    \n",
    "    def __mul__(self,vec2):\n",
    "        sum=0\n",
    "        for i in range(len(self.vec)):\n",
    "            if len(v1)!=len(v2):\n",
    "                print(\"Vectors lenght is not equal, So addition is not possible\")\n",
    "            else:\n",
    "                sum+=self.vec[i]+vec2.vec[i]\n",
    "        return sum\n",
    "    def __len__(self):\n",
    "        return len(self.vec)\n",
    "        \n",
    "v1=Vector([1,2,3,4])\n",
    "v2=Vector([2,3,4])\n",
    "print(v1+v2)\n",
    "print(v1*v2)\n",
    "print(len(v1))\n",
    "print(len(v2))\n",
    "\n"
   ]
  },
  {
   "cell_type": "code",
   "execution_count": 50,
   "id": "d463314d",
   "metadata": {},
   "outputs": [
    {
     "name": "stdout",
     "output_type": "stream",
     "text": [
      "3a0 + 5a1 + 7a2 +\n",
      "15\n",
      "3\n",
      "3\n"
     ]
    }
   ],
   "source": [
    "\n",
    "class Vector:\n",
    "    def __init__(self,vec):\n",
    "        self.vec=vec\n",
    "    def __str__(self):\n",
    "        str1=\"\"\n",
    "        index=0\n",
    "        for i in self.vec:\n",
    "            str1 +=f\"{i}a{index} + \"\n",
    "            index +=1\n",
    "        return str1[:-1]\n",
    "    def __add__(self,vec2):\n",
    "        newList= []\n",
    "        if len(v1)!=len(v2):\n",
    "                print(\"Vectors lenght is not equal, So addition is not possible\")\n",
    "        else:\n",
    "            for i in range(len(self.vec)):\n",
    "                newList.append(self.vec[i]+vec2.vec[i])\n",
    "            \n",
    "        return Vector(newList)\n",
    "    \n",
    "    \n",
    "    def __mul__(self,vec2):\n",
    "        sum=0\n",
    "        if len(v1)!=len(v2):\n",
    "                print(\"Vectors lenght is not equal, So multiplication is not possible\")\n",
    "        else:\n",
    "            for i in range(len(self.vec)):\n",
    "                sum+=self.vec[i]+vec2.vec[i]\n",
    "        return sum\n",
    "    def __len__(self):\n",
    "        return len(self.vec)\n",
    "        \n",
    "v1=Vector([1,2,3])\n",
    "v2=Vector([2,3,4])\n",
    "print(v1+v2)\n",
    "print(v1*v2)\n",
    "print(len(v1))\n",
    "print(len(v2))\n"
   ]
  },
  {
   "cell_type": "code",
   "execution_count": null,
   "id": "d4a9efe5",
   "metadata": {},
   "outputs": [],
   "source": []
  }
 ],
 "metadata": {
  "kernelspec": {
   "display_name": "Python 3 (ipykernel)",
   "language": "python",
   "name": "python3"
  },
  "language_info": {
   "codemirror_mode": {
    "name": "ipython",
    "version": 3
   },
   "file_extension": ".py",
   "mimetype": "text/x-python",
   "name": "python",
   "nbconvert_exporter": "python",
   "pygments_lexer": "ipython3",
   "version": "3.10.9"
  }
 },
 "nbformat": 4,
 "nbformat_minor": 5
}
