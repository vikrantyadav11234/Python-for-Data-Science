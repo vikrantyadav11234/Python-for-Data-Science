{
 "cells": [
  {
   "cell_type": "markdown",
   "id": "8d3a7950",
   "metadata": {},
   "source": [
    "#object oriented programming"
   ]
  },
  {
   "cell_type": "markdown",
   "id": "67e741cc",
   "metadata": {},
   "source": [
    "#it increase code reusability\n",
    "#DRY principle-Do not repeat yourself\n"
   ]
  },
  {
   "cell_type": "code",
   "execution_count": 1,
   "id": "f7e045b2",
   "metadata": {},
   "outputs": [
    {
     "name": "stdout",
     "output_type": "stream",
     "text": [
      "the sum of a and b is 46\n"
     ]
    }
   ],
   "source": [
    "#procidural oriented programming\n",
    "a=12\n",
    "b=34\n",
    "\n",
    "print(\"the sum of a and b is\", a+b)"
   ]
  },
  {
   "cell_type": "code",
   "execution_count": 3,
   "id": "b5d242e2",
   "metadata": {},
   "outputs": [
    {
     "name": "stdout",
     "output_type": "stream",
     "text": [
      "46\n"
     ]
    }
   ],
   "source": [
    "class Number:\n",
    "    def sum(self):\n",
    "        return self.a+self.b\n",
    "num=Number()  #object instantiation\n",
    "\n",
    "num.a=12\n",
    "num.b=34\n",
    "s=num.sum()\n",
    "print(s)"
   ]
  },
  {
   "cell_type": "markdown",
   "id": "40ab6038",
   "metadata": {},
   "source": [
    "#CLASS- a blueprint for creating objects.it contains info to create a valid class.\n",
    "# it cannot consist self memory.\n",
    "# syntex\n",
    "   EmployeeName--PascalCase\n",
    "    isNumeric,isFloat-camelCase\n",
    "#Class will be written in PascalCase\n",
    "    Object- an object is an instantiation of a class. when class is defined,a templet(info) is defined\n",
    "    Memory is allocated only after object instantiation.\n",
    "    \n",
    "    --objects of a given class invoke the methods available to it without revealing the implementation details to the user.\n",
    "    (Abstraction & Encapsulation)\n",
    "    --\n"
   ]
  },
  {
   "cell_type": "code",
   "execution_count": 8,
   "id": "4acc05fd",
   "metadata": {},
   "outputs": [
    {
     "name": "stdout",
     "output_type": "stream",
     "text": [
      "Name is vikrant\n",
      "Train is Rajdhani Express\n"
     ]
    }
   ],
   "source": [
    "\n",
    "class RailwayForm:\n",
    "    formType=\"RailwayForm\"\n",
    "    def printData(self):\n",
    "        \n",
    "        print(f\"Name is {self.name}\")\n",
    "        print(f\"Train is {self.train}\")\n",
    "vikrantApplication=RailwayForm()\n",
    "vikrantApplication.name=\"vikrant\"\n",
    "vikrantApplication.train=\"Rajdhani Express\"\n",
    "vikrantApplication.printData()\n",
    "\n"
   ]
  },
  {
   "cell_type": "code",
   "execution_count": 1,
   "id": "f6cadb3c",
   "metadata": {},
   "outputs": [
    {
     "ename": "AttributeError",
     "evalue": "'Remote' object has no attribute 'isLeftPresssed'",
     "output_type": "error",
     "traceback": [
      "\u001b[1;31m---------------------------------------------------------------------------\u001b[0m",
      "\u001b[1;31mAttributeError\u001b[0m                            Traceback (most recent call last)",
      "Cell \u001b[1;32mIn[1], line 15\u001b[0m\n\u001b[0;32m     13\u001b[0m remote1\u001b[38;5;241m=\u001b[39mRemote()\n\u001b[0;32m     14\u001b[0m player1\u001b[38;5;241m=\u001b[39mPlayer()\n\u001b[1;32m---> 15\u001b[0m \u001b[38;5;28;01mif\u001b[39;00m(\u001b[43mremote1\u001b[49m\u001b[38;5;241;43m.\u001b[39;49m\u001b[43misLeftPresssed\u001b[49m()):\n\u001b[0;32m     16\u001b[0m     player1\u001b[38;5;241m.\u001b[39mmoveLeft()\n",
      "\u001b[1;31mAttributeError\u001b[0m: 'Remote' object has no attribute 'isLeftPresssed'"
     ]
    }
   ],
   "source": [
    "#game example using class\n",
    "class Remote():\n",
    "    pass\n",
    "\n",
    "\n",
    "class Player:\n",
    "    def moveRight(self):\n",
    "        pass\n",
    "    def moveLeft(self):\n",
    "        pass\n",
    "    def moveTop(self):\n",
    "        pass\n",
    "remote1=Remote()\n",
    "player1=Player()\n",
    "if(remote1.isLeftPresssed()):\n",
    "    player1.moveLeft()\n",
    "    "
   ]
  },
  {
   "cell_type": "markdown",
   "id": "83371c92",
   "metadata": {},
   "source": [
    "# Modelling a problemin OOPs\n",
    "we identify the following in our problem\n",
    "     Name----> class---> Ex: Employee\n",
    "     Adjective----> Attributes---> name ,age,salary\n",
    "     Verbs--->Methods---> ex: getsalary(), increment()\n",
    "#class attributes:\n",
    "     An attribute that belongs to the class rather then a perticular object.\n",
    "     Ex: \n",
    "# Instance attributes:\n",
    "\n"
   ]
  },
  {
   "cell_type": "code",
   "execution_count": 5,
   "id": "601a57da",
   "metadata": {},
   "outputs": [
    {
     "name": "stdout",
     "output_type": "stream",
     "text": [
      "Google\n",
      "Google\n",
      "Youtube\n",
      "Youtube\n",
      "300\n",
      "400\n"
     ]
    }
   ],
   "source": [
    "class Employee:\n",
    "    company=\"Google\"\n",
    "    salary=100\n",
    "\n",
    "Vikrant=Employee()\n",
    "sheetal=Employee()\n",
    "Vikrant.salary=300\n",
    "sheetal.salary=400\n",
    "\n",
    "\n",
    "print(Vikrant.company)\n",
    "print(sheetal.company)\n",
    "Employee.company=\"Youtube\"\n",
    "print(Vikrant.company)\n",
    "print(sheetal.company)\n",
    "\n",
    "print(Vikrant.salary)\n",
    "print(sheetal.salary)"
   ]
  },
  {
   "cell_type": "code",
   "execution_count": 8,
   "id": "b8f351ff",
   "metadata": {},
   "outputs": [
    {
     "name": "stdout",
     "output_type": "stream",
     "text": [
      "45\n",
      "100\n"
     ]
    }
   ],
   "source": [
    "#instance Attributes\n",
    "class Employee:\n",
    "    company=\"Google\"\n",
    "    salary=100\n",
    "\n",
    "Vikrant=Employee()\n",
    "sheetal=Employee()\n",
    "# Creating instance attribute salary for both the objects\n",
    "# Vikrant.salary=300\n",
    "# sheetal.salary=400\n",
    "Vikrant.salary=45\n",
    "print(Vikrant.salary)\n",
    "print(sheetal.salary)\n",
    "# # Below line throws an error as address is not present in instance/class\n",
    "# print(sheetal.address)"
   ]
  },
  {
   "cell_type": "code",
   "execution_count": 21,
   "id": "9c0e4496",
   "metadata": {},
   "outputs": [
    {
     "name": "stdout",
     "output_type": "stream",
     "text": [
      "Salary of this employee working in Google is 100000\n"
     ]
    }
   ],
   "source": [
    "## 'self' Parameter--it will pass automatically\n",
    "class Employee:\n",
    "    company=\"Google\"\n",
    "    def getSalary(self):\n",
    "        print(f\"Salary of this employee working in {self.company} is {self.salary}\")\n",
    "        \n",
    "        \n",
    "vikrant=Employee()\n",
    "vikrant.salary=100000\n",
    "\n",
    "vikrant.getSalary()    #Employee.getSalary(vikrant)"
   ]
  },
  {
   "cell_type": "code",
   "execution_count": 29,
   "id": "8c9a2fd0",
   "metadata": {},
   "outputs": [
    {
     "name": "stdout",
     "output_type": "stream",
     "text": [
      "Salary of this employee working in Google is 100000\n",
      " Thanks!\n",
      "Good morning, sir\n"
     ]
    }
   ],
   "source": [
    "# Static Method\n",
    "class Employee:\n",
    "    company=\"Google\"\n",
    "    def getSalary(self, signature):\n",
    "        print(f\"Salary of this employee working in {self.company} is {self.salary}\\n {signature}\")\n",
    "    @staticmethod    \n",
    "    def greet():\n",
    "        print(\"Good morning, sir\")\n",
    "        \n",
    "vikrant=Employee()\n",
    "vikrant.salary=100000\n",
    "\n",
    "vikrant.getSalary(\"Thanks!\") #Employee.getSalary(vikrant)\n",
    "vikrant.greet()    #Employee.greet()"
   ]
  },
  {
   "cell_type": "code",
   "execution_count": 1,
   "id": "4f0d505e",
   "metadata": {},
   "outputs": [
    {
     "name": "stdout",
     "output_type": "stream",
     "text": [
      "Employee is created!\n",
      "The name of the employee is vikrant\n",
      "The salary of the employee is 1000\n",
      "The subunit of the employee is youtube\n"
     ]
    }
   ],
   "source": [
    "#  Constructor---    __init__()\n",
    "class Employee:\n",
    "    company=\"Google\"\n",
    "    def __init__(self, name, salary, subunit):#constructor\n",
    "        self.name=name\n",
    "        self.salary=salary\n",
    "        self.subunit=subunit\n",
    "        \n",
    "        print(\"Employee is created!\")\n",
    "    def getDetails(self):\n",
    "        print(f\"The name of the employee is {self.name}\")\n",
    "        print(f\"The salary of the employee is {self.salary}\")\n",
    "        print(f\"The subunit of the employee is {self.subunit}\")\n",
    "    \n",
    "    \n",
    "    def getSalary(self, signature):\n",
    "        print(f\"Salary of this employee working in {self.company} is {self.salary}\\n {signature}\")\n",
    "    @staticmethod    \n",
    "    def greet():\n",
    "        print(\"Good morning, sir\")\n",
    "        \n",
    "vikrant=Employee(\"vikrant\", 1000, \"youtube\")\n",
    "#vikrant=Employee() -----> this throws an error(missing 3 required positional arguments)\n",
    "vikrant.getDetails()"
   ]
  },
  {
   "cell_type": "code",
   "execution_count": 4,
   "id": "e92975bc",
   "metadata": {},
   "outputs": [
    {
     "name": "stdout",
     "output_type": "stream",
     "text": [
      "the name of teh programmer is vikrant and the product is skype.\n",
      "the name of teh programmer is sheetal and the product is GitHub.\n"
     ]
    }
   ],
   "source": [
    "#practice set\n",
    "class Programmer:\n",
    "    company=\"Microsoft\"\n",
    "    def __init__(self, name, product):\n",
    "        self.name=name\n",
    "        self.product=product\n",
    "    def getinfo(self):\n",
    "        print(f\"the name of teh programmer is {self.name} and the product is {self.product}.\")\n",
    "    \n",
    "vikrant=Programmer(\"vikrant\",\"skype\")\n",
    "sheetal=Programmer(\"sheetal\",\"GitHub\")\n",
    "vikrant.getinfo()\n",
    "sheetal.getinfo()\n",
    "         "
   ]
  },
  {
   "cell_type": "code",
   "execution_count": 22,
   "id": "9929e75a",
   "metadata": {},
   "outputs": [
    {
     "name": "stdout",
     "output_type": "stream",
     "text": [
      "hello, Sir\n",
      "The value of 9 square is 81\n",
      "The value of 9 cube is 729\n",
      "The value of 9 square-root is 3.0\n"
     ]
    }
   ],
   "source": [
    "#calculator\n",
    "class Calculator:\n",
    "    def __init__(self,num):\n",
    "        self.num=num\n",
    "    def square(self):\n",
    "        print(f\"The value of {self.num} square is {self.num**2}\" )\n",
    "    def cube(self):\n",
    "        print(f\"The value of {self.num} cube is {self.num**3}\" )\n",
    "    def square_root(self):\n",
    "        print(f\"The value of {self.num} square-root is {self.num**0.5}\" )\n",
    "    @staticmethod\n",
    "    def greet():\n",
    "        print(\"hello, Sir\")\n",
    "\n",
    "a=Calculator(9)\n",
    "a.greet()\n",
    "a.square()\n",
    "a.cube()\n",
    "a.square_root()\n",
    "\n",
    "    "
   ]
  },
  {
   "cell_type": "code",
   "execution_count": 14,
   "id": "c23b6168",
   "metadata": {},
   "outputs": [
    {
     "name": "stdout",
     "output_type": "stream",
     "text": [
      "punnu\n",
      "vicky\n"
     ]
    }
   ],
   "source": [
    "class Sample:\n",
    "    a=\"vikrant\"\n",
    "    \n",
    "obj=Sample()\n",
    "obj.a=\"vicky\"  #it doesn't change the class attribute\n",
    "               #it will set a new instance attribute\n",
    "Sample.a=\"punnu\" #it will change the class attribute\n",
    "print(Sample.a) \n",
    "print(obj.a)"
   ]
  },
  {
   "cell_type": "code",
   "execution_count": 31,
   "id": "3e5adb4f",
   "metadata": {},
   "outputs": [
    {
     "name": "stdout",
     "output_type": "stream",
     "text": [
      "The name of the train is Intercity Express.\n",
      "The seats available in the train are 2.\n",
      "Your ticket has been booked! Your seat no is 2 \n",
      "The name of the train is Intercity Express.\n",
      "The seats available in the train are 1.\n",
      "Your ticket has been booked! Your seat no is 1 \n",
      "The name of the train is Intercity Express.\n",
      "The seats available in the train are 0.\n",
      "Sorry train is full, Kindly try in Tatkal\n",
      "The name of the train is Intercity Express.\n",
      "The seats available in the train are 0.\n"
     ]
    }
   ],
   "source": [
    "'''\n",
    "hello\n",
    "'''\n",
    "\n",
    "\n",
    "class Train:\n",
    "    def __init__(self, name, fare, seats):\n",
    "        self.name=name\n",
    "        self.fare=fare\n",
    "        self.seats=seats\n",
    "    def getStatus(self):\n",
    "        print(f\"The name of the train is {self.name}.\")\n",
    "        print(f\"The seats available in the train are {self.seats}.\")\n",
    "    def getFareInfo(self):\n",
    "        print(f\"The price of the ticket is Rs.{self.fare}.\")\n",
    "        \n",
    "    def bookTicket(self):\n",
    "        \n",
    "        if (self.seats>0):\n",
    "            print(f\"Your ticket has been booked! Your seat no is {self.seats} \")\n",
    "            self.seats=self.seats-1\n",
    "        else:\n",
    "            print(\"Sorry train is full, Kindly try in Tatkal\")\n",
    "\n",
    "    def cancelTicket(self, seatNo):\n",
    "        pass\n",
    "            \n",
    "            \n",
    "    \n",
    "    \n",
    "intercity=Train(\"Intercity Express\", 90, 2)\n",
    "intercity.getStatus()\n",
    "\n",
    "intercity.bookTicket()\n",
    "intercity.getStatus()\n",
    "intercity.bookTicket()\n",
    "intercity.getStatus()\n",
    "intercity.bookTicket()\n",
    "intercity.getStatus()\n",
    "\n"
   ]
  },
  {
   "cell_type": "code",
   "execution_count": 34,
   "id": "5167b766",
   "metadata": {},
   "outputs": [
    {
     "name": "stdout",
     "output_type": "stream",
     "text": [
      "vikrant\n"
     ]
    }
   ],
   "source": [
    "class Sample:\n",
    "    a=\"vikrant\"\n",
    "    def __init__(slf, name):\n",
    "        slf.name=name\n",
    "obj=Sample(\"vikrant\")\n",
    "\n",
    "print(obj.name)"
   ]
  },
  {
   "cell_type": "code",
   "execution_count": null,
   "id": "34b806a0",
   "metadata": {},
   "outputs": [],
   "source": []
  }
 ],
 "metadata": {
  "kernelspec": {
   "display_name": "Python 3 (ipykernel)",
   "language": "python",
   "name": "python3"
  },
  "language_info": {
   "codemirror_mode": {
    "name": "ipython",
    "version": 3
   },
   "file_extension": ".py",
   "mimetype": "text/x-python",
   "name": "python",
   "nbconvert_exporter": "python",
   "pygments_lexer": "ipython3",
   "version": "3.10.9"
  }
 },
 "nbformat": 4,
 "nbformat_minor": 5
}
