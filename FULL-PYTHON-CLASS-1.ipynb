{
 "cells": [
  {
   "cell_type": "code",
   "execution_count": 2,
   "id": "683c505c",
   "metadata": {},
   "outputs": [
    {
     "name": "stdout",
     "output_type": "stream",
     "text": [
      "Hello World\n"
     ]
    }
   ],
   "source": [
    "print(\"Hello World\")"
   ]
  },
  {
   "cell_type": "code",
   "execution_count": 3,
   "id": "e7ded73e",
   "metadata": {},
   "outputs": [
    {
     "ename": "NameError",
     "evalue": "name 'Print' is not defined",
     "output_type": "error",
     "traceback": [
      "\u001b[1;31m---------------------------------------------------------------------------\u001b[0m",
      "\u001b[1;31mNameError\u001b[0m                                 Traceback (most recent call last)",
      "Cell \u001b[1;32mIn[3], line 1\u001b[0m\n\u001b[1;32m----> 1\u001b[0m \u001b[43mPrint\u001b[49m(\u001b[38;5;124m\"\u001b[39m\u001b[38;5;124mHello World\u001b[39m\u001b[38;5;124m\"\u001b[39m)\n",
      "\u001b[1;31mNameError\u001b[0m: name 'Print' is not defined"
     ]
    }
   ],
   "source": [
    "Print(\"Hello World\")"
   ]
  },
  {
   "cell_type": "code",
   "execution_count": 3,
   "id": "3a0fd43d",
   "metadata": {},
   "outputs": [
    {
     "name": "stdout",
     "output_type": "stream",
     "text": [
      "Hello World\n"
     ]
    }
   ],
   "source": [
    "print(\"Hello World\")"
   ]
  },
  {
   "cell_type": "code",
   "execution_count": 6,
   "id": "cfe5a4d0",
   "metadata": {},
   "outputs": [
    {
     "name": "stdout",
     "output_type": "stream",
     "text": [
      "vikrant\n",
      "22\n"
     ]
    }
   ],
   "source": [
    "#variables\n",
    "name=\"vikrant\"\n",
    "age=22\n",
    "print(name)\n",
    "print(age)"
   ]
  },
  {
   "cell_type": "code",
   "execution_count": 7,
   "id": "48016d62",
   "metadata": {},
   "outputs": [
    {
     "name": "stdout",
     "output_type": "stream",
     "text": [
      "vikrant\n",
      "22\n",
      "naman\n",
      "34\n"
     ]
    }
   ],
   "source": [
    "#variables\n",
    "name=\"vikrant\"\n",
    "age=22\n",
    "print(name)\n",
    "print(age)\n",
    "name=\"naman\"\n",
    "age=34\n",
    "print(name)\n",
    "print(age)"
   ]
  },
  {
   "cell_type": "code",
   "execution_count": 8,
   "id": "56673fb1",
   "metadata": {},
   "outputs": [
    {
     "data": {
      "text/plain": [
       "str"
      ]
     },
     "execution_count": 8,
     "metadata": {},
     "output_type": "execute_result"
    }
   ],
   "source": [
    "type(name)"
   ]
  },
  {
   "cell_type": "code",
   "execution_count": 9,
   "id": "463fecde",
   "metadata": {},
   "outputs": [
    {
     "data": {
      "text/plain": [
       "int"
      ]
     },
     "execution_count": 9,
     "metadata": {},
     "output_type": "execute_result"
    }
   ],
   "source": [
    "type(age)"
   ]
  },
  {
   "cell_type": "code",
   "execution_count": 13,
   "id": "12f56fa6",
   "metadata": {},
   "outputs": [
    {
     "name": "stdout",
     "output_type": "stream",
     "text": [
      "Tony Stark\n",
      "34\n",
      "Tony is a genius\n"
     ]
    }
   ],
   "source": [
    "first_name=\"Tony\"\n",
    "last_name=\"Stark\"\n",
    "Age=51\n",
    "d=\"Tony is a genius\"\n",
    "print(first_name+\" \"+last_name)\n",
    "print(age)\n",
    "print(d)"
   ]
  },
  {
   "cell_type": "code",
   "execution_count": 17,
   "id": "b92be6b3",
   "metadata": {},
   "outputs": [
    {
     "name": "stdout",
     "output_type": "stream",
     "text": [
      "what is your name?vikrant\n",
      "Hello vikrant\n"
     ]
    }
   ],
   "source": [
    "#taking input from users\n",
    "name=input(\"what is your name?\")\n",
    "print(\"Hello \" +name) #concatenation"
   ]
  },
  {
   "cell_type": "code",
   "execution_count": 18,
   "id": "edbd6003",
   "metadata": {},
   "outputs": [
    {
     "name": "stdout",
     "output_type": "stream",
     "text": [
      "what is your superhero name tony?cm\n",
      "cm\n"
     ]
    }
   ],
   "source": [
    "Question=input(\"what is your superhero name tony?\")\n",
    "print(Question)"
   ]
  },
  {
   "cell_type": "code",
   "execution_count": 19,
   "id": "4b0f360e",
   "metadata": {},
   "outputs": [
    {
     "name": "stdout",
     "output_type": "stream",
     "text": [
      "enter your old age:22\n"
     ]
    },
    {
     "ename": "TypeError",
     "evalue": "can only concatenate str (not \"int\") to str",
     "output_type": "error",
     "traceback": [
      "\u001b[1;31m---------------------------------------------------------------------------\u001b[0m",
      "\u001b[1;31mTypeError\u001b[0m                                 Traceback (most recent call last)",
      "Cell \u001b[1;32mIn[19], line 3\u001b[0m\n\u001b[0;32m      1\u001b[0m \u001b[38;5;66;03m#type conversion\u001b[39;00m\n\u001b[0;32m      2\u001b[0m old_age\u001b[38;5;241m=\u001b[39m\u001b[38;5;28minput\u001b[39m(\u001b[38;5;124m\"\u001b[39m\u001b[38;5;124menter your old age:\u001b[39m\u001b[38;5;124m\"\u001b[39m)\n\u001b[1;32m----> 3\u001b[0m new_age\u001b[38;5;241m=\u001b[39m\u001b[43mold_age\u001b[49m\u001b[38;5;241;43m+\u001b[39;49m\u001b[38;5;241;43m2\u001b[39;49m\n\u001b[0;32m      4\u001b[0m \u001b[38;5;28mprint\u001b[39m(new_age)\n",
      "\u001b[1;31mTypeError\u001b[0m: can only concatenate str (not \"int\") to str"
     ]
    }
   ],
   "source": [
    "#type conversion\n",
    "old_age=input(\"enter your old age:\")\n",
    "new_age=old_age+2\n",
    "print(new_age)"
   ]
  },
  {
   "cell_type": "code",
   "execution_count": 22,
   "id": "421e444e",
   "metadata": {},
   "outputs": [
    {
     "name": "stdout",
     "output_type": "stream",
     "text": [
      "enter your old age:22\n",
      "24\n"
     ]
    }
   ],
   "source": [
    "#type conversion\n",
    "old_age=input(\"enter your old age:\")\n",
    "\n",
    "new_age=int(old_age)+2\n",
    "print(new_age)"
   ]
  },
  {
   "cell_type": "code",
   "execution_count": 23,
   "id": "7b7d4d6f",
   "metadata": {},
   "outputs": [
    {
     "name": "stdout",
     "output_type": "stream",
     "text": [
      "enter first number:2\n",
      "enter second number:3\n",
      "23\n"
     ]
    }
   ],
   "source": [
    "first=input(\"enter first number:\")\n",
    "second=input(\"enter second number:\")\n",
    "sum=first+second\n",
    "print(sum) # bcoz both are string thts y here concatination happens "
   ]
  },
  {
   "cell_type": "code",
   "execution_count": 26,
   "id": "8a822743",
   "metadata": {},
   "outputs": [
    {
     "name": "stdout",
     "output_type": "stream",
     "text": [
      "enter first number:2\n",
      "enter second number:3\n",
      "The sum is 5\n"
     ]
    }
   ],
   "source": [
    "first=input(\"enter first number:\")\n",
    "second=input(\"enter second number:\")\n",
    "sum=int(first)+int(second)\n",
    "print(\"The sum is \"+str(sum))"
   ]
  },
  {
   "cell_type": "code",
   "execution_count": 34,
   "id": "fee734e5",
   "metadata": {},
   "outputs": [
    {
     "name": "stdout",
     "output_type": "stream",
     "text": [
      "TONY STARK\n",
      "tony stark\n",
      "tony stark\n",
      "5\n",
      "iron man\n",
      "tony iron man\n",
      "tony stark\n"
     ]
    }
   ],
   "source": [
    "#string\n",
    "name=\"tony stark\"\n",
    "print(name.upper()) #it will give new string .it dose not changes old string\n",
    "print(name)\n",
    "print(name.lower())\n",
    "print(name.find('s'))#it will give the characters first occurence place. if not find returns -1.\n",
    "\n",
    "print(name.replace(\"tony stark\",\"iron man\")) # but it will not change the original string\n",
    "print(name.replace(\"stark\",\"iron man\"))\n",
    "print(name)\n",
    "  "
   ]
  },
  {
   "cell_type": "code",
   "execution_count": 5,
   "id": "afd86642",
   "metadata": {},
   "outputs": [
    {
     "name": "stdout",
     "output_type": "stream",
     "text": [
      "True\n",
      "False\n",
      "True\n"
     ]
    }
   ],
   "source": [
    "#keywords\n",
    "name=\"tony stark\"\n",
    "print(\"t\" in name) #output is boolean\n",
    "print(\"p\" in name)\n",
    "print(\"stark\" in name)"
   ]
  },
  {
   "cell_type": "code",
   "execution_count": 12,
   "id": "af372146",
   "metadata": {},
   "outputs": [
    {
     "name": "stdout",
     "output_type": "stream",
     "text": [
      "7\n",
      "3\n",
      "10\n",
      "2.5\n",
      "2\n",
      "1\n",
      "25\n"
     ]
    }
   ],
   "source": [
    "#operators\n",
    "print(5+2)\n",
    "print(5-2)\n",
    "print(5*2)\n",
    "print(5/2)\n",
    "print(5//2)#remove decimal part\n",
    "print(5%2)# modular-remainder operator\n",
    "print(5**2) #power operator"
   ]
  },
  {
   "cell_type": "code",
   "execution_count": 17,
   "id": "81f0b486",
   "metadata": {},
   "outputs": [
    {
     "name": "stdout",
     "output_type": "stream",
     "text": [
      "7\n",
      "5\n"
     ]
    }
   ],
   "source": [
    "i=5 #i=i+2\n",
    "i+=2\n",
    "print(i)\n",
    "i-=2 # i=i-2\n",
    "print(i)\n"
   ]
  },
  {
   "cell_type": "code",
   "execution_count": 22,
   "id": "b6f14f7a",
   "metadata": {},
   "outputs": [
    {
     "name": "stdout",
     "output_type": "stream",
     "text": [
      "17\n",
      "25\n"
     ]
    }
   ],
   "source": [
    "#operator precedence\n",
    "result=2+3*5\n",
    "print(result)\n",
    "result=(2+3)*5\n",
    "print(result)"
   ]
  },
  {
   "cell_type": "code",
   "execution_count": 27,
   "id": "fc4a4221",
   "metadata": {},
   "outputs": [
    {
     "name": "stdout",
     "output_type": "stream",
     "text": [
      "True\n",
      "False\n",
      "False\n",
      "False\n",
      "True\n"
     ]
    }
   ],
   "source": [
    "#comaprison operators\n",
    "print(3>2) #result in boolean\n",
    "print(3<=2)\n",
    "print(3==2)\n",
    "print(3==2)\n",
    "print(3!=2)"
   ]
  },
  {
   "cell_type": "code",
   "execution_count": 30,
   "id": "263e203e",
   "metadata": {},
   "outputs": [
    {
     "name": "stdout",
     "output_type": "stream",
     "text": [
      "True\n",
      "False\n",
      "True\n"
     ]
    }
   ],
   "source": [
    "#logical operators\n",
    "#OR opertors\n",
    "print(2>3 or 2>1)\n",
    "#and operator\n",
    "print(2>3 and 2>1)\n",
    "#not operator\n",
    "print(not 2>3)"
   ]
  },
  {
   "cell_type": "code",
   "execution_count": 5,
   "id": "42448f87",
   "metadata": {},
   "outputs": [
    {
     "name": "stdout",
     "output_type": "stream",
     "text": [
      "Enter your age:12\n",
      "you are in school.\n",
      "Thank You\n"
     ]
    }
   ],
   "source": [
    "#if else statements\n",
    "age=int(input(\"Enter your age:\"))\n",
    "if age>=18:\n",
    "    print(\"You are an adult.\") #space is indentation\n",
    "    print(\"You can vote.\")\n",
    "elif age<18 and age>3:\n",
    "    print(\"you are in school.\")\n",
    "    \n",
    "else:\n",
    "    print(\"you r a child.\")\n",
    "    \n",
    "print(\"Thank You\")\n"
   ]
  },
  {
   "cell_type": "code",
   "execution_count": 41,
   "id": "9588a9db",
   "metadata": {},
   "outputs": [
    {
     "name": "stdout",
     "output_type": "stream",
     "text": [
      "enter first number:2\n",
      "enter operator(+,-,*,/,%):*\n",
      "enter second number:2\n",
      "4\n",
      "Thank You\n"
     ]
    }
   ],
   "source": [
    "#lets build a calculator\n",
    "first=input(\"enter first number:\")\n",
    "operator=input(\"enter operator(+,-,*,/,%):\")\n",
    "second=input(\"enter second number:\")\n",
    "\n",
    "first=int(first)\n",
    "second=int(second)\n",
    "if operator==\"+\":\n",
    "    print(first+second)\n",
    "elif operator==\"-\":\n",
    "    print(first-second)\n",
    "elif operator==\"*\":\n",
    "    print(first*second)\n",
    "elif operator==\"/\":\n",
    "    print(first/second)\n",
    "elif operator==\"%\":\n",
    "    print(first%second)\n",
    "else:\n",
    "    print(\"invalid operations\")\n",
    "    \n",
    "print(\"Thank You\")\n"
   ]
  },
  {
   "cell_type": "code",
   "execution_count": 43,
   "id": "6abe60bc",
   "metadata": {},
   "outputs": [
    {
     "name": "stdout",
     "output_type": "stream",
     "text": [
      "enter first number:2\n",
      "enter operator(+,-,*,/,%):*\n",
      "enter second number:3\n",
      "6\n",
      "invalid operations\n",
      "Thank You\n"
     ]
    }
   ],
   "source": [
    "first=input(\"enter first number:\")\n",
    "operator=input(\"enter operator(+,-,*,/,%):\")\n",
    "second=input(\"enter second number:\")\n",
    "\n",
    "first=int(first)\n",
    "second=int(second)\n",
    "if operator==\"+\":\n",
    "    print(first+second)\n",
    "if operator==\"-\":\n",
    "    print(first-second)\n",
    "if operator==\"*\":\n",
    "    print(first*second)\n",
    "if operator==\"/\":\n",
    "    print(first/second)\n",
    "if operator==\"%\":\n",
    "    print(first%second)\n",
    "else:\n",
    "    print(\"invalid operations\")\n",
    "    \n",
    "print(\"Thank You\")"
   ]
  },
  {
   "cell_type": "code",
   "execution_count": 46,
   "id": "11335911",
   "metadata": {},
   "outputs": [
    {
     "name": "stdout",
     "output_type": "stream",
     "text": [
      "range(0, 5)\n"
     ]
    }
   ],
   "source": [
    "#range\n",
    "number=range(5) #0,1,2,3,5\n",
    "print(number)"
   ]
  },
  {
   "cell_type": "code",
   "execution_count": 47,
   "id": "f4486dbb",
   "metadata": {},
   "outputs": [
    {
     "name": "stdout",
     "output_type": "stream",
     "text": [
      "1\n",
      "2\n",
      "3\n",
      "4\n",
      "5\n",
      "6\n"
     ]
    }
   ],
   "source": [
    "#loop\n",
    "print(1)\n",
    "print(2)\n",
    "print(3)\n",
    "print(4)\n",
    "print(5)\n",
    "print(6)"
   ]
  },
  {
   "cell_type": "code",
   "execution_count": 50,
   "id": "93f645a1",
   "metadata": {},
   "outputs": [
    {
     "name": "stdout",
     "output_type": "stream",
     "text": [
      "1\n",
      "2\n",
      "3\n",
      "4\n",
      "5\n"
     ]
    }
   ],
   "source": [
    "#while loop-jab tak\n",
    "i=1\n",
    "while i<=5:\n",
    "    print(i)\n",
    "    i=i+1"
   ]
  },
  {
   "cell_type": "code",
   "execution_count": 54,
   "id": "92a430d2",
   "metadata": {},
   "outputs": [
    {
     "name": "stdout",
     "output_type": "stream",
     "text": [
      "*\n",
      "**\n",
      "***\n",
      "****\n",
      "*****\n"
     ]
    }
   ],
   "source": [
    "#while loop-jab tak\n",
    "i=1\n",
    "while i<=5:\n",
    "    print(i*\"*\")# string num with multiply\n",
    "    i=i+1"
   ]
  },
  {
   "cell_type": "code",
   "execution_count": 55,
   "id": "9916142f",
   "metadata": {},
   "outputs": [
    {
     "name": "stdout",
     "output_type": "stream",
     "text": [
      "*****\n",
      "****\n",
      "***\n",
      "**\n",
      "*\n",
      "\n"
     ]
    }
   ],
   "source": [
    "#while loop-jab tak\n",
    "i=5\n",
    "while i>=0:\n",
    "    print(i*\"*\")# string num with multiply\n",
    "    i=i-1"
   ]
  },
  {
   "cell_type": "code",
   "execution_count": 58,
   "id": "56cec2d9",
   "metadata": {},
   "outputs": [
    {
     "name": "stdout",
     "output_type": "stream",
     "text": [
      "1\n",
      "2\n",
      "3\n",
      "4\n",
      "5\n"
     ]
    }
   ],
   "source": [
    "#for loop-used for iteration on list \n",
    "range(5)\n",
    "for i in range(5):\n",
    "    print(i+1)\n"
   ]
  },
  {
   "cell_type": "code",
   "execution_count": 68,
   "id": "dad2388b",
   "metadata": {},
   "outputs": [
    {
     "name": "stdout",
     "output_type": "stream",
     "text": [
      "[95, 67, 78]\n",
      "<class 'list'>\n",
      "78\n",
      "78\n",
      "[95, 67]\n",
      "95\n",
      "67\n",
      "78\n"
     ]
    }
   ],
   "source": [
    "#list-collection of items\n",
    "marks=[95,67,78]\n",
    "print(marks)\n",
    "print(type(marks))\n",
    "print(marks[2])\n",
    "print(marks[-1])\n",
    "print(marks[0:2])#2 will not include\n",
    "for score in marks:\n",
    "    print(score)\n",
    "    "
   ]
  },
  {
   "cell_type": "code",
   "execution_count": 6,
   "id": "e1254141",
   "metadata": {},
   "outputs": [
    {
     "name": "stdout",
     "output_type": "stream",
     "text": [
      "[95, 67, 78, 99]\n",
      "[99, 95, 67, 77, 78, 99]\n",
      "True\n",
      "False\n",
      "6\n"
     ]
    }
   ],
   "source": [
    "marks=[95,67,78]\n",
    "#append operation\n",
    "marks.append(99) #marks append on last place\n",
    "print(marks)\n",
    "marks.insert(0,99)\n",
    "marks.insert(3,77)\n",
    "print(marks)\n",
    "print(99 in marks)\n",
    "print(93 in marks)\n",
    "print(len(marks))"
   ]
  },
  {
   "cell_type": "code",
   "execution_count": 76,
   "id": "16fe90d7",
   "metadata": {},
   "outputs": [
    {
     "name": "stdout",
     "output_type": "stream",
     "text": [
      "99\n",
      "95\n",
      "67\n",
      "78\n",
      "99\n",
      "[]\n"
     ]
    }
   ],
   "source": [
    "i=0\n",
    "while i<len(marks):\n",
    "    print(marks[i])\n",
    "    i=i+1\n",
    "marks.clear()\n",
    "print(marks)"
   ]
  },
  {
   "cell_type": "code",
   "execution_count": 7,
   "id": "ee43b788",
   "metadata": {},
   "outputs": [
    {
     "name": "stdout",
     "output_type": "stream",
     "text": [
      "ram\n",
      "shyam\n",
      "kishan\n"
     ]
    }
   ],
   "source": [
    "#break and continue\n",
    "students=[\"ram\",\"shyam\",\"kishan\",\"radha\"]\n",
    "for student in students:\n",
    "    if student==\"radha\":\n",
    "        break;\n",
    "    print(student)\n"
   ]
  },
  {
   "cell_type": "code",
   "execution_count": 83,
   "id": "6ead6fa2",
   "metadata": {},
   "outputs": [
    {
     "name": "stdout",
     "output_type": "stream",
     "text": [
      "ram\n",
      "shyam\n",
      "radha\n"
     ]
    }
   ],
   "source": [
    "#continue\n",
    "#break and continue\n",
    "students=[\"ram\",\"shyam\",\"kishan\",\"radha\"]\n",
    "for student in students:\n",
    "    if student==\"kishan\":\n",
    "        continue;\n",
    "    print(student)\n"
   ]
  },
  {
   "cell_type": "code",
   "execution_count": 84,
   "id": "f8425b3a",
   "metadata": {},
   "outputs": [
    {
     "ename": "TypeError",
     "evalue": "'tuple' object does not support item assignment",
     "output_type": "error",
     "traceback": [
      "\u001b[1;31m---------------------------------------------------------------------------\u001b[0m",
      "\u001b[1;31mTypeError\u001b[0m                                 Traceback (most recent call last)",
      "Cell \u001b[1;32mIn[84], line 3\u001b[0m\n\u001b[0;32m      1\u001b[0m \u001b[38;5;66;03m#tuple-like list but immutable\u001b[39;00m\n\u001b[0;32m      2\u001b[0m marks\u001b[38;5;241m=\u001b[39m(\u001b[38;5;241m89\u001b[39m,\u001b[38;5;241m87\u001b[39m,\u001b[38;5;241m98\u001b[39m)\n\u001b[1;32m----> 3\u001b[0m marks[\u001b[38;5;241m0\u001b[39m]\u001b[38;5;241m=\u001b[39m\u001b[38;5;241m99\u001b[39m\n",
      "\u001b[1;31mTypeError\u001b[0m: 'tuple' object does not support item assignment"
     ]
    }
   ],
   "source": [
    "#tuple-like list but immutable\n",
    "marks=(89,87,98)\n",
    "marks[0]=99"
   ]
  },
  {
   "cell_type": "code",
   "execution_count": 90,
   "id": "4aaa824e",
   "metadata": {},
   "outputs": [
    {
     "name": "stdout",
     "output_type": "stream",
     "text": [
      "2\n",
      "2\n",
      "3\n",
      "(89, 87, 98, 97, 89, 97)\n",
      "<class 'tuple'>\n"
     ]
    }
   ],
   "source": [
    "marks=(89,87,98,97,89,97) #paranthesis is not important bydefault it is tuple\n",
    "\n",
    "print(marks.count(97))\n",
    "print(marks.count(89))\n",
    "print(marks.index(97))\n",
    "marks=89,87,98,97,89,97\n",
    "print(marks)\n",
    "print(type(marks))"
   ]
  },
  {
   "cell_type": "code",
   "execution_count": 8,
   "id": "628b2846",
   "metadata": {},
   "outputs": [
    {
     "name": "stdout",
     "output_type": "stream",
     "text": [
      "{2, 3, 4, 5, 6, 7}\n",
      "2\n",
      "3\n",
      "4\n",
      "5\n",
      "6\n",
      "7\n"
     ]
    }
   ],
   "source": [
    "#sets-unique elements\n",
    "marks={2,3,4,5,6,7,2,2,2,2}\n",
    "print(marks) #sequence is not unique-index does not exist in sets\n",
    "#sets are unordered\n",
    "for score in marks:\n",
    "    print(score)\n"
   ]
  },
  {
   "cell_type": "code",
   "execution_count": 9,
   "id": "caad1568",
   "metadata": {},
   "outputs": [
    {
     "name": "stdout",
     "output_type": "stream",
     "text": [
      "93\n",
      "{'english': 95, 'chemistery': 93, 'physics': 97}\n",
      "{'english': 95, 'chemistery': 93, 'physics': 99}\n"
     ]
    }
   ],
   "source": [
    "#dictonary-key value pair \n",
    "marks={\"english\": 95,\"chemistery\": 93}\n",
    "print(marks[\"chemistery\"])\n",
    "marks[\"physics\"]=97;\n",
    "print(marks)\n",
    "\n",
    "marks[\"physics\"]=99;\n",
    "print(marks)"
   ]
  },
  {
   "cell_type": "code",
   "execution_count": 99,
   "id": "df7ed51b",
   "metadata": {},
   "outputs": [
    {
     "name": "stdout",
     "output_type": "stream",
     "text": [
      "['__doc__', '__loader__', '__name__', '__package__', '__spec__', 'acos', 'acosh', 'asin', 'asinh', 'atan', 'atan2', 'atanh', 'ceil', 'comb', 'copysign', 'cos', 'cosh', 'degrees', 'dist', 'e', 'erf', 'erfc', 'exp', 'expm1', 'fabs', 'factorial', 'floor', 'fmod', 'frexp', 'fsum', 'gamma', 'gcd', 'hypot', 'inf', 'isclose', 'isfinite', 'isinf', 'isnan', 'isqrt', 'lcm', 'ldexp', 'lgamma', 'log', 'log10', 'log1p', 'log2', 'modf', 'nan', 'nextafter', 'perm', 'pi', 'pow', 'prod', 'radians', 'remainder', 'sin', 'sinh', 'sqrt', 'tan', 'tanh', 'tau', 'trunc', 'ulp']\n",
      "7.0\n"
     ]
    }
   ],
   "source": [
    "#functions-\n",
    "#in-build functions-int(),str(),bool()\n",
    "#module functions-example-math module\n",
    "import math\n",
    "print(dir(math))\n",
    "#user defined functions\n",
    "from math import sqrt\n",
    "print(sqrt(49))"
   ]
  },
  {
   "cell_type": "code",
   "execution_count": 101,
   "id": "9bb4ca96",
   "metadata": {},
   "outputs": [
    {
     "ename": "SyntaxError",
     "evalue": "invalid syntax (3347600815.py, line 2)",
     "output_type": "error",
     "traceback": [
      "\u001b[1;36m  Cell \u001b[1;32mIn[101], line 2\u001b[1;36m\u001b[0m\n\u001b[1;33m    /// def function_name(parameters):\u001b[0m\n\u001b[1;37m    ^\u001b[0m\n\u001b[1;31mSyntaxError\u001b[0m\u001b[1;31m:\u001b[0m invalid syntax\n"
     ]
    }
   ],
   "source": [
    "#user defined functions\n",
    "/// def function_name(parameters):\n",
    "     do something///"
   ]
  },
  {
   "cell_type": "code",
   "execution_count": 102,
   "id": "99bf24ba",
   "metadata": {},
   "outputs": [
    {
     "name": "stdout",
     "output_type": "stream",
     "text": [
      "3\n"
     ]
    }
   ],
   "source": [
    "def print_sum(first,second):\n",
    "    print(first+second)\n",
    "\n",
    "print_sum(1,2)"
   ]
  },
  {
   "cell_type": "code",
   "execution_count": 103,
   "id": "bb79e033",
   "metadata": {},
   "outputs": [
    {
     "name": "stdout",
     "output_type": "stream",
     "text": [
      "5\n"
     ]
    }
   ],
   "source": [
    "def print_sum(first,second=4):\n",
    "    print(first+second)\n",
    "\n",
    "print_sum(1)"
   ]
  },
  {
   "cell_type": "code",
   "execution_count": null,
   "id": "32ec8d35",
   "metadata": {},
   "outputs": [],
   "source": []
  }
 ],
 "metadata": {
  "kernelspec": {
   "display_name": "Python 3 (ipykernel)",
   "language": "python",
   "name": "python3"
  },
  "language_info": {
   "codemirror_mode": {
    "name": "ipython",
    "version": 3
   },
   "file_extension": ".py",
   "mimetype": "text/x-python",
   "name": "python",
   "nbconvert_exporter": "python",
   "pygments_lexer": "ipython3",
   "version": "3.10.9"
  }
 },
 "nbformat": 4,
 "nbformat_minor": 5
}
